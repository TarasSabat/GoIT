{
  "nbformat": 4,
  "nbformat_minor": 0,
  "metadata": {
    "colab": {
      "provenance": [],
      "include_colab_link": true
    },
    "kernelspec": {
      "name": "python3",
      "display_name": "Python 3"
    },
    "language_info": {
      "name": "python"
    }
  },
  "cells": [
    {
      "cell_type": "markdown",
      "metadata": {
        "id": "view-in-github",
        "colab_type": "text"
      },
      "source": [
        "<a href=\"https://colab.research.google.com/github/TarasSabat/GoIT/blob/main/web16_alg.ipynb\" target=\"_parent\"><img src=\"https://colab.research.google.com/assets/colab-badge.svg\" alt=\"Open In Colab\"/></a>"
      ]
    },
    {
      "cell_type": "markdown",
      "source": [
        "## Приклади коду на додаткових заняттях\n",
        "\n",
        "$$ \\begin{pmatrix}\n",
        "   a & b \\\\\n",
        "   c & d\n",
        "\\end{pmatrix} $$\n"
      ],
      "metadata": {
        "id": "kdsiE5OtQSYm"
      }
    },
    {
      "cell_type": "markdown",
      "source": [
        "## Масив"
      ],
      "metadata": {
        "id": "clXuzg92SEjg"
      }
    },
    {
      "cell_type": "code",
      "execution_count": null,
      "metadata": {
        "colab": {
          "base_uri": "https://localhost:8080/"
        },
        "id": "2PD4qpbBPfsx",
        "outputId": "7c77634b-3627-4e3c-b5c6-8c21233d3ac1"
      },
      "outputs": [
        {
          "output_type": "stream",
          "name": "stdout",
          "text": [
            "[1 2 3 4 5]\n",
            "[3 4 5 6 7]\n",
            "7.0\n"
          ]
        }
      ],
      "source": [
        "import numpy as np\n",
        "\n",
        "arr = np.array([1, 2, 3, 4, 5])\n",
        "print(arr)\n",
        "print(arr + 2)\n",
        "arr2 = np.array([2, 3, 4, 5, 6])\n",
        "new_arr = arr + arr2\n",
        "print(np.mean(new_arr))"
      ]
    },
    {
      "cell_type": "markdown",
      "source": [
        "## Множини"
      ],
      "metadata": {
        "id": "fHppibmOSail"
      }
    },
    {
      "cell_type": "code",
      "source": [
        "my_set = {1, 2, 3, 4, 5}\n",
        "new_set = {2, 3, 6, 7}\n",
        "\n",
        "print(my_set.union(new_set))\n",
        "print(my_set.intersection(new_set))\n",
        "print(my_set.difference(new_set))"
      ],
      "metadata": {
        "colab": {
          "base_uri": "https://localhost:8080/"
        },
        "id": "FUgN0so9STfF",
        "outputId": "e91e3af4-fe1f-46dc-b31a-6f05ae2a097f"
      },
      "execution_count": null,
      "outputs": [
        {
          "output_type": "stream",
          "name": "stdout",
          "text": [
            "{1, 2, 3, 4, 5, 6, 7}\n",
            "{2, 3}\n",
            "{1, 4, 5}\n"
          ]
        }
      ]
    },
    {
      "cell_type": "markdown",
      "source": [
        "## Стек"
      ],
      "metadata": {
        "id": "k7l2Ofg6TE_A"
      }
    },
    {
      "cell_type": "code",
      "source": [
        "stack = []\n",
        "stack.append('a')\n",
        "stack.append('b')\n",
        "stack.append('c')\n",
        "print(stack)\n",
        "stack.pop()\n",
        "print(stack)\n",
        "\n",
        "def peek(stack):\n",
        "  return stack[-1]\n",
        "\n",
        "def is_empty(stack):\n",
        "  return len(stack) == 0\n",
        "\n",
        "print(peek(stack))\n",
        "print(is_empty(stack))"
      ],
      "metadata": {
        "colab": {
          "base_uri": "https://localhost:8080/"
        },
        "id": "777d-ENtTGvN",
        "outputId": "59f21959-b99d-4d9f-a319-c150798ab83e"
      },
      "execution_count": null,
      "outputs": [
        {
          "output_type": "stream",
          "name": "stdout",
          "text": [
            "['a', 'b', 'c']\n",
            "['a', 'b']\n",
            "b\n",
            "False\n"
          ]
        }
      ]
    },
    {
      "cell_type": "markdown",
      "source": [
        "## Черги"
      ],
      "metadata": {
        "id": "xDOfiwCSUGuC"
      }
    },
    {
      "cell_type": "code",
      "source": [
        "from queue import Queue\n",
        "\n",
        "q = Queue(maxsize=3)\n",
        "\n",
        "q.put('a')\n",
        "q.put('b')\n",
        "print(q.full())\n",
        "q.put('c')\n",
        "print(q.full())\n",
        "\n",
        "print(q.queue)\n",
        "q.get()\n",
        "print(q.queue)\n",
        "print(q.empty())"
      ],
      "metadata": {
        "colab": {
          "base_uri": "https://localhost:8080/"
        },
        "id": "OgLJr9zIUIiN",
        "outputId": "031fb036-c253-47d9-b376-5ef9191363eb"
      },
      "execution_count": null,
      "outputs": [
        {
          "output_type": "stream",
          "name": "stdout",
          "text": [
            "False\n",
            "True\n",
            "deque(['a', 'b', 'c'])\n",
            "deque(['b', 'c'])\n",
            "False\n"
          ]
        }
      ]
    },
    {
      "cell_type": "code",
      "source": [
        "from collections import deque\n",
        "\n",
        "d = deque()\n",
        "\n",
        "d.append(4)\n",
        "d.appendleft(-3)\n",
        "\n",
        "print(d)\n",
        "\n",
        "d.pop()\n",
        "d.popleft()\n",
        "\n",
        "print(d)"
      ],
      "metadata": {
        "colab": {
          "base_uri": "https://localhost:8080/"
        },
        "id": "jhezXCY9VM6N",
        "outputId": "6b29cf19-5258-4f68-c81f-46e0dade6f0d"
      },
      "execution_count": null,
      "outputs": [
        {
          "output_type": "stream",
          "name": "stdout",
          "text": [
            "deque([-3, 4])\n",
            "deque([])\n"
          ]
        }
      ]
    },
    {
      "cell_type": "code",
      "source": [
        "d = deque()\n",
        "d.extend([34, 42, 54, 54])\n",
        "d.extendleft([-13, -16, -28])\n",
        "print(d)\n",
        "d.rotate(-3)\n",
        "print(d)\n",
        "print(d.count(54))"
      ],
      "metadata": {
        "colab": {
          "base_uri": "https://localhost:8080/"
        },
        "id": "Mict2Ax4Vxbj",
        "outputId": "ee8b4626-f5bd-4d37-f4cd-a426bfa1e856"
      },
      "execution_count": null,
      "outputs": [
        {
          "output_type": "stream",
          "name": "stdout",
          "text": [
            "deque([-28, -16, -13, 34, 42, 54, 54])\n",
            "deque([34, 42, 54, 54, -28, -16, -13])\n",
            "2\n"
          ]
        }
      ]
    },
    {
      "cell_type": "markdown",
      "source": [
        "## Зв'язні списки"
      ],
      "metadata": {
        "id": "rXVjpPfdXNmv"
      }
    },
    {
      "cell_type": "code",
      "source": [
        "class Node:\n",
        "  def __init__(self, data=None):\n",
        "    self.data = data\n",
        "    self.next = None\n",
        "\n",
        "\n",
        "class LinkedList:\n",
        "  def __init__(self) -> None:\n",
        "    self.head = None\n",
        "\n",
        "  def insert_at_end(self, data):\n",
        "    if not self.head:\n",
        "      self.head = Node(data)\n",
        "    else:\n",
        "      current = self.head\n",
        "      while current.next:\n",
        "        current = current.next\n",
        "      current.next = Node(data)\n",
        "\n",
        "  def insert_at_beginning(self, data):\n",
        "    new_node = Node(data)\n",
        "    new_node.next = self.head\n",
        "    self.head = new_node\n",
        "\n",
        "\n",
        "  def insert_after(self, prev_node: Node, data):\n",
        "    if prev_node is None:\n",
        "      return\n",
        "    new_node = Node(data)\n",
        "    new_node.next = prev_node.next\n",
        "    prev_node.next = new_node\n",
        "\n",
        "  def search(self, data):\n",
        "    current = self.head\n",
        "    while current:\n",
        "      if current.data == data:\n",
        "        return current\n",
        "      current = current.next\n",
        "    return None\n",
        "\n",
        "  def delete(self, data):\n",
        "    current = self.head\n",
        "    if current and current.data == data:\n",
        "      self.head = current.next\n",
        "      current = None\n",
        "      return\n",
        "    previous = None\n",
        "    while current and current.data != data:\n",
        "      previous = current\n",
        "      current = current.next\n",
        "    if current is None:\n",
        "      return\n",
        "    previous.next = current.next\n",
        "    current = None\n",
        "\n",
        "  def print_list(self):\n",
        "    current = self.head\n",
        "    while current:\n",
        "      print(current.data, end=\" -> \")\n",
        "      current = current.next\n",
        "    print('')\n",
        "\n",
        "\n",
        "llist = LinkedList()\n",
        "\n",
        "llist.insert_at_beginning(5)\n",
        "llist.print_list()\n",
        "llist.insert_at_beginning(15)\n",
        "llist.print_list()\n",
        "llist.insert_at_beginning(25)\n",
        "llist.print_list()\n",
        "llist.insert_at_end(50)\n",
        "llist.print_list()\n",
        "llist.insert_at_end(60)\n",
        "llist.print_list()\n",
        "llist.delete(5)\n",
        "llist.print_list()\n",
        "print(llist.search(15).data)\n",
        "print(llist.search(5))"
      ],
      "metadata": {
        "colab": {
          "base_uri": "https://localhost:8080/"
        },
        "id": "9r805wpGXVDd",
        "outputId": "b94c7036-fc6f-4a67-bb3d-edd235f726c9"
      },
      "execution_count": null,
      "outputs": [
        {
          "output_type": "stream",
          "name": "stdout",
          "text": [
            "5 -> \n",
            "15 -> 5 -> \n",
            "25 -> 15 -> 5 -> \n",
            "25 -> 15 -> 5 -> 50 -> \n",
            "25 -> 15 -> 5 -> 50 -> 60 -> \n",
            "25 -> 15 -> 50 -> 60 -> \n",
            "15\n",
            "None\n"
          ]
        }
      ]
    },
    {
      "cell_type": "code",
      "source": [
        "class Node:\n",
        "    def __init__(self, data):\n",
        "        self.data = data\n",
        "        self.next = None\n",
        "        self.prev = None\n",
        "\n",
        "class DoublyLinkedList:\n",
        "    def __init__(self):\n",
        "        self.head = None\n",
        "        self.tail = None\n",
        "\n",
        "    # Додавання вузла на початок списку\n",
        "    def push(self, data):\n",
        "        new_node = Node(data)\n",
        "        new_node.next = self.head\n",
        "        if self.head:\n",
        "            self.head.prev = new_node\n",
        "        else:\n",
        "            self.tail = new_node\n",
        "        self.head = new_node\n",
        "\n",
        "    # Додавання вузла після заданого вузла\n",
        "    def insert_after(self, prev_node, data):\n",
        "        if not prev_node:\n",
        "            return\n",
        "        new_node = Node(data)\n",
        "        new_node.next = prev_node.next\n",
        "        prev_node.next = new_node\n",
        "        new_node.prev = prev_node\n",
        "        if new_node.next:\n",
        "            new_node.next.prev = new_node\n",
        "        else:\n",
        "            self.tail = new_node\n",
        "\n",
        "    # Додавання вузла перед заданим вузлом\n",
        "    def insert_before(self, next_node, data):\n",
        "        if not next_node:\n",
        "            return\n",
        "        new_node = Node(data)\n",
        "        new_node.prev = next_node.prev\n",
        "        next_node.prev = new_node\n",
        "        new_node.next = next_node\n",
        "        if new_node.prev:\n",
        "            new_node.prev.next = new_node\n",
        "        else:\n",
        "            self.head = new_node\n",
        "\n",
        "    def search(self, target_data):\n",
        "        current_node = self.head\n",
        "        while current_node:\n",
        "            if current_node.data == target_data:\n",
        "                return current_node\n",
        "            current_node = current_node.next\n",
        "        return None\n",
        "\n",
        "    def search_from_tail(self, target_data):\n",
        "        current_node = self.tail\n",
        "        while current_node:\n",
        "            if current_node.data == target_data:\n",
        "                return current_node\n",
        "            current_node = current_node.prev\n",
        "        return None\n",
        "\n",
        "    def remove(self, data):\n",
        "        current_node = self.head\n",
        "        while current_node:\n",
        "            if current_node.data == data:\n",
        "                if current_node.prev:\n",
        "                    current_node.prev.next = current_node.next\n",
        "                else:\n",
        "                    self.head = current_node.next\n",
        "                if current_node.next:\n",
        "                    current_node.next.prev = current_node.prev\n",
        "                else:\n",
        "                    self.tail = current_node.prev\n",
        "                current_node.prev = None\n",
        "                current_node.next = None\n",
        "                return True\n",
        "            current_node = current_node.next\n",
        "        return False\n",
        "\n",
        "    def print_list(self):\n",
        "      current = self.head\n",
        "      print('None <->', end=\" \")\n",
        "      while current:\n",
        "        print(current.data, end=\" <-> \")\n",
        "        current = current.next\n",
        "      print('None')\n",
        "\n",
        "# Використовуємо класи Node і DoublyLinkedList, що наведені вище\n",
        "\n",
        "# 1. Створюємо двохзв'язний список\n",
        "dll = DoublyLinkedList()\n",
        "\n",
        "# 2. Додаємо кілька елементів до списку\n",
        "dll.push(1)\n",
        "dll.push(2)\n",
        "dll.push(3)\n",
        "dll.push(4)\n",
        "dll.push(5)\n",
        "\n",
        "print(\"Список після додавання елементів:\")\n",
        "dll.print_list()\n",
        "\n",
        "# 3. Проводимо пошук елементів\n",
        "search_item = 3\n",
        "found_node_from_head = dll.search(search_item)\n",
        "found_node_from_tail = dll.search_from_tail(search_item)\n",
        "\n",
        "if found_node_from_head:\n",
        "    print(f\"Знайдено {search_item} починаючи з голови списку!\")\n",
        "else:\n",
        "    print(f\"{search_item} не знайдено, починаючи з голови списку.\")\n",
        "\n",
        "if found_node_from_tail:\n",
        "    print(f\"Знайдено {search_item} починаючи з хвоста списку!\")\n",
        "else:\n",
        "    print(f\"{search_item} не знайдено, починаючи з хвоста списку.\")\n",
        "\n",
        "# 4. Видаляємо деякі елементи\n",
        "dll.remove(1)  # Видаляємо перший елемент\n",
        "dll.remove(5)  # Видаляємо останній елемент\n",
        "dll.remove(3)  # Видаляємо елемент у середині\n",
        "\n",
        "print(\"\\nСписок після видалення елементів:\")\n",
        "dll.print_list()"
      ],
      "metadata": {
        "colab": {
          "base_uri": "https://localhost:8080/"
        },
        "id": "nwQcjFSeeGb_",
        "outputId": "7913c808-2fde-46e7-caba-2bd3baba26ab"
      },
      "execution_count": null,
      "outputs": [
        {
          "output_type": "stream",
          "name": "stdout",
          "text": [
            "Список після додавання елементів:\n",
            "None <-> 5 <-> 4 <-> 3 <-> 2 <-> 1 <-> None\n",
            "Знайдено 3 починаючи з голови списку!\n",
            "Знайдено 3 починаючи з хвоста списку!\n",
            "\n",
            "Список після видалення елементів:\n",
            "None <-> 4 <-> 2 <-> None\n"
          ]
        }
      ]
    },
    {
      "cell_type": "markdown",
      "source": [
        "## Графи"
      ],
      "metadata": {
        "id": "xSu9ie46niZv"
      }
    },
    {
      "cell_type": "code",
      "source": [
        "import networkx as nx\n",
        "import matplotlib.pyplot as plt\n",
        "\n",
        "graph = nx.Graph()\n",
        "\n",
        "graph.add_node(\"Oleksandr\")\n",
        "graph.add_node(\"Krabaton\")\n",
        "graph.add_node(\"Nataliya\")\n",
        "graph.add_node(\"Valdemar\")\n",
        "graph.add_node(\"Bogdan\")\n",
        "graph.add_node(\"Anastasiya\")\n",
        "\n",
        "graph.add_edge(\"Oleksandr\", \"Krabaton\")\n",
        "graph.add_edge(\"Nataliya\", \"Anastasiya\")\n",
        "graph.add_edge(\"Valdemar\", \"Bogdan\")\n",
        "graph.add_edge(\"Bogdan\", \"Krabaton\")\n",
        "graph.add_edge(\"Bogdan\", \"Anastasiya\")\n",
        "\n",
        "nx.draw(graph, with_labels=True)\n",
        "plt.axis('off')\n",
        "plt.show()"
      ],
      "metadata": {
        "colab": {
          "base_uri": "https://localhost:8080/",
          "height": 516
        },
        "id": "fKH3lCDxnD85",
        "outputId": "15a45ee6-1608-429b-97e2-0baaab4f76ff"
      },
      "execution_count": null,
      "outputs": [
        {
          "output_type": "display_data",
          "data": {
            "text/plain": [
              "<Figure size 640x480 with 1 Axes>"
            ],
            "image/png": "[encoded data removed]"
          },
          "metadata": {}
        }
      ]
    },
    {
      "cell_type": "code",
      "source": [
        "\n",
        "import hashlib\n",
        "\n",
        "names = {\"Nata\": 16, \"Bogdan\": 24, \"Nastya\": 20}\n",
        "\n",
        "print(hash(\"Nata\"))\n",
        "print(hash(\"Bogdan\"))\n",
        "print(hash(\"Nastya\"))\n",
        "\n",
        "hashed_nata = hashlib.md5('Nata'.encode())\n",
        "print(hashed_nata.digest())\n",
        "print(hashed_nata.hexdigest())"
      ],
      "metadata": {
        "colab": {
          "base_uri": "https://localhost:8080/"
        },
        "id": "PxLcaD7BAr0-",
        "outputId": "98de2646-0c10-4652-b68d-e30bd8291071"
      },
      "execution_count": null,
      "outputs": [
        {
          "output_type": "stream",
          "name": "stdout",
          "text": [
            "4236177188696810798\n",
            "-7623829010303344317\n",
            "-8764563968090385071\n",
            "b'\\xad\\xb8\\x87\\xdf\\n\\xdf\\x18\\x94\\xf8\\xafPs\\xa5\\xc6\\xbc:'\n",
            "adb887df0adf1894f8af5073a5c6bc3a\n"
          ]
        }
      ]
    }
  ]
}