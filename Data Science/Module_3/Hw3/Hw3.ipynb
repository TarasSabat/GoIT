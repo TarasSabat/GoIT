{
 "cells": [
  {
   "cell_type": "markdown",
   "metadata": {},
   "source": [
    "напишіть функцію гіпотези лінійної регресії у векторному вигляді;"
   ]
  },
  {
   "cell_type": "code",
   "execution_count": 5,
   "metadata": {},
   "outputs": [],
   "source": [
    "import numpy as np\n",
    "\n",
    "def hypothesis(X, theta):\n",
    "    \"\"\"\n",
    "    Обчислює гіпотезу лінійної регресії у векторному вигляді.\n",
    "\n",
    "    Args:\n",
    "        X (numpy.ndarray): Матриця ознак розмірності (m, n+1), де m - кількість прикладів, n - кількість ознак.\n",
    "        theta (numpy.ndarray): Вектор параметрів розмірності (n+1,).\n",
    "\n",
    "    Returns:\n",
    "        numpy.ndarray: Вектор прогнозів розмірності (m,).\n",
    "    \"\"\"\n",
    "    return np.dot(X, theta)"
   ]
  },
  {
   "cell_type": "markdown",
   "metadata": {},
   "source": [
    "створіть функцію для обчислення функції втрат у векторному вигляді;"
   ]
  },
  {
   "cell_type": "code",
   "execution_count": 7,
   "metadata": {},
   "outputs": [],
   "source": [
    "import numpy as np\n",
    "\n",
    "def compute_cost(X, y, theta):\n",
    "    \"\"\"\n",
    "    Обчислює функцію втрат для лінійної регресії у векторному вигляді.\n",
    "\n",
    "    Args:\n",
    "        X (numpy.ndarray): Матриця ознак розмірності (m, n+1), де m - кількість прикладів, n - кількість ознак.\n",
    "        y (numpy.ndarray): Вектор фактичних значень розмірності (m,).\n",
    "        theta (numpy.ndarray): Вектор параметрів розмірності (n+1,).\n",
    "\n",
    "    Returns:\n",
    "        float: Значення функції втрат.\n",
    "    \"\"\"\n",
    "    m = len(y)  # Кількість прикладів\n",
    "    predictions = np.dot(X, theta)  # Обчислюємо прогнози\n",
    "    errors = predictions - y  # Відхилення прогнозів від фактичних значень\n",
    "    cost = (1 / (2 * m)) * np.dot(errors.T, errors)  # Функція втрат\n",
    "    return cost"
   ]
  },
  {
   "cell_type": "markdown",
   "metadata": {},
   "source": [
    "реалізуйте один крок градієнтного спуску;"
   ]
  },
  {
   "cell_type": "code",
   "execution_count": 8,
   "metadata": {},
   "outputs": [],
   "source": [
    "import numpy as np\n",
    "\n",
    "def gradient_descent_step(X, y, theta, alpha):\n",
    "    \"\"\"\n",
    "    Виконує один крок градієнтного спуску для лінійної регресії.\n",
    "\n",
    "    Args:\n",
    "        X (numpy.ndarray): Матриця ознак розмірності (m, n+1), де m - кількість прикладів, n - кількість ознак.\n",
    "        y (numpy.ndarray): Вектор фактичних значень розмірності (m,).\n",
    "        theta (numpy.ndarray): Вектор параметрів розмірності (n+1,).\n",
    "        alpha (float): Швидкість навчання.\n",
    "\n",
    "    Returns:\n",
    "        numpy.ndarray: Оновлений вектор параметрів.\n",
    "    \"\"\"\n",
    "    m = len(y)  # Кількість прикладів\n",
    "    predictions = np.dot(X, theta)  # Обчислюємо прогнози\n",
    "    errors = predictions - y  # Відхилення прогнозів від фактичних значень\n",
    "    gradient = (1 / m) * np.dot(X.T, errors)  # Градієнт\n",
    "    theta = theta - alpha * gradient  # Оновлюємо параметри\n",
    "    return theta"
   ]
  },
  {
   "cell_type": "markdown",
   "metadata": {},
   "source": [
    "знайдіть найкращі параметри w⃗ для датасету прогнозуючу ціну на будинок залежно від площі, кількості ванних кімнат та кількості спалень;"
   ]
  },
  {
   "cell_type": "code",
   "execution_count": 12,
   "metadata": {},
   "outputs": [
    {
     "name": "stdout",
     "output_type": "stream",
     "text": [
      "      price  area  bedrooms  bathrooms  stories mainroad guestroom basement  \\\n",
      "0  13300000  7420         4          2        3      yes        no       no   \n",
      "1  12250000  8960         4          4        4      yes        no       no   \n",
      "2  12250000  9960         3          2        2      yes        no      yes   \n",
      "3  12215000  7500         4          2        2      yes        no      yes   \n",
      "4  11410000  7420         4          1        2      yes       yes      yes   \n",
      "\n",
      "  hotwaterheating airconditioning  parking prefarea furnishingstatus  \n",
      "0              no             yes        2      yes        furnished  \n",
      "1              no             yes        3       no        furnished  \n",
      "2              no              no        2      yes   semi-furnished  \n",
      "3              no             yes        3      yes        furnished  \n",
      "4              no             yes        2       no        furnished  \n",
      "Mean Squared Error: 2750040479309.052\n",
      "R^2 Score: 0.45592991188724463\n",
      "Coefficients: [3.45466570e+02 1.42231966e+06 3.60197650e+05]\n",
      "Intercept: 59485.37920871563\n"
     ]
    }
   ],
   "source": [
    "import pandas as pd\n",
    "import numpy as np\n",
    "from sklearn.model_selection import train_test_split\n",
    "from sklearn.linear_model import LinearRegression\n",
    "from sklearn.metrics import mean_squared_error, r2_score\n",
    "\n",
    "# Завантаження даних\n",
    "data = pd.read_csv('Housing.csv')\n",
    "\n",
    "# Перевірка даних\n",
    "print(data.head())\n",
    "\n",
    "# Вибір ознак та цільової змінної\n",
    "X = data[['area', 'bathrooms', 'bedrooms']]\n",
    "y = data['price']\n",
    "\n",
    "# Розділення даних на навчальну та тестову вибірки\n",
    "X_train, X_test, y_train, y_test = train_test_split(X, y, test_size=0.2, random_state=42)\n",
    "\n",
    "# Ініціалізація та навчання моделі лінійної регресії\n",
    "model = LinearRegression()\n",
    "model.fit(X_train, y_train)\n",
    "\n",
    "# Прогнозування цін на тестовій вибірці\n",
    "y_pred = model.predict(X_test)\n",
    "\n",
    "# Оцінка якості моделі\n",
    "mse = mean_squared_error(y_test, y_pred)\n",
    "r2 = r2_score(y_test, y_pred)\n",
    "\n",
    "print(f'Mean Squared Error: {mse}')\n",
    "print(f'R^2 Score: {r2}')\n",
    "\n",
    "# Найкращі параметри (вагові коефіцієнти)\n",
    "print(f'Coefficients: {model.coef_}')\n",
    "print(f'Intercept: {model.intercept_}')"
   ]
  },
  {
   "cell_type": "markdown",
   "metadata": {},
   "source": [
    "знайдіть ці ж параметри за допомогою аналітичного рішення;"
   ]
  },
  {
   "cell_type": "code",
   "execution_count": 13,
   "metadata": {},
   "outputs": [
    {
     "name": "stdout",
     "output_type": "stream",
     "text": [
      "Coefficients: [3.78762754e+02 1.38604950e+06 4.06820034e+05]\n",
      "Intercept: -173171.60763263045\n"
     ]
    }
   ],
   "source": [
    "import numpy as np\n",
    "import pandas as pd\n",
    "\n",
    "# Завантаження даних\n",
    "data = pd.read_csv('Housing.csv')\n",
    "\n",
    "# Вибір ознак та цільової змінної\n",
    "X = data[['area', 'bathrooms', 'bedrooms']].values\n",
    "y = data['price'].values\n",
    "\n",
    "# Додавання стовпця одиниць для вільного члена\n",
    "X = np.hstack([np.ones((X.shape[0], 1)), X])\n",
    "\n",
    "# Розрахунок параметрів за допомогою нормальних рівнянь\n",
    "w = np.linalg.inv(X.T @ X) @ X.T @ y\n",
    "\n",
    "# Виведення параметрів\n",
    "print(f'Coefficients: {w[1:]}')\n",
    "print(f'Intercept: {w[0]}')"
   ]
  },
  {
   "cell_type": "markdown",
   "metadata": {},
   "source": [
    "порівняйте отримані результати."
   ]
  },
  {
   "cell_type": "code",
   "execution_count": 14,
   "metadata": {},
   "outputs": [
    {
     "name": "stdout",
     "output_type": "stream",
     "text": [
      "Coefficients (scikit-learn): [3.45466570e+02 1.42231966e+06 3.60197650e+05]\n",
      "Intercept (scikit-learn): 59485.37920871563\n",
      "Coefficients (analytical): [3.45466570e+02 1.42231966e+06 3.60197650e+05]\n",
      "Intercept (analytical): 59485.379208710554\n"
     ]
    }
   ],
   "source": [
    "import pandas as pd\n",
    "import numpy as np\n",
    "from sklearn.model_selection import train_test_split\n",
    "from sklearn.linear_model import LinearRegression\n",
    "from sklearn.metrics import mean_squared_error, r2_score\n",
    "\n",
    "# Завантаження даних\n",
    "data = pd.read_csv('Housing.csv')\n",
    "\n",
    "# Вибір ознак та цільової змінної\n",
    "X = data[['area', 'bathrooms', 'bedrooms']]\n",
    "y = data['price']\n",
    "\n",
    "# Розділення даних на навчальну та тестову вибірки\n",
    "X_train, X_test, y_train, y_test = train_test_split(X, y, test_size=0.2, random_state=42)\n",
    "\n",
    "# Ініціалізація та навчання моделі лінійної регресії\n",
    "model = LinearRegression()\n",
    "model.fit(X_train, y_train)\n",
    "\n",
    "# Прогнозування цін на тестовій вибірці\n",
    "y_pred = model.predict(X_test)\n",
    "\n",
    "# Оцінка якості моделі\n",
    "mse = mean_squared_error(y_test, y_pred)\n",
    "r2 = r2_score(y_test, y_pred)\n",
    "\n",
    "# Найкращі параметри (вагові коефіцієнти)\n",
    "coeff_sklearn = model.coef_\n",
    "intercept_sklearn = model.intercept_\n",
    "\n",
    "print(f'Coefficients (scikit-learn): {coeff_sklearn}')\n",
    "print(f'Intercept (scikit-learn): {intercept_sklearn}')\n",
    "\n",
    "# Підготовка даних для аналітичного рішення\n",
    "X_train_np = X_train.values\n",
    "X_train_np = np.hstack([np.ones((X_train_np.shape[0], 1)), X_train_np])\n",
    "y_train_np = y_train.values\n",
    "\n",
    "# Розрахунок параметрів за допомогою нормальних рівнянь\n",
    "w_analytical = np.linalg.inv(X_train_np.T @ X_train_np) @ X_train_np.T @ y_train_np\n",
    "\n",
    "# Розділення параметрів\n",
    "intercept_analytical = w_analytical[0]\n",
    "coeff_analytical = w_analytical[1:]\n",
    "\n",
    "print(f'Coefficients (analytical): {coeff_analytical}')\n",
    "print(f'Intercept (analytical): {intercept_analytical}')"
   ]
  }
 ],
 "metadata": {
  "kernelspec": {
   "display_name": "venv",
   "language": "python",
   "name": "python3"
  },
  "language_info": {
   "codemirror_mode": {
    "name": "ipython",
    "version": 3
   },
   "file_extension": ".py",
   "mimetype": "text/x-python",
   "name": "python",
   "nbconvert_exporter": "python",
   "pygments_lexer": "ipython3",
   "version": "3.11.4"
  }
 },
 "nbformat": 4,
 "nbformat_minor": 2
}
