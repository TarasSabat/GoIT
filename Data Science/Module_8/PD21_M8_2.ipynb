{
  "cells": [
    {
      "cell_type": "markdown",
      "source": [
        "# Introduction to TensorFlow"
      ],
      "metadata": {
        "id": "OeTcvc2HzoKd"
      }
    },
    {
      "cell_type": "markdown",
      "source": [
        "TensorFlow — це комплексна платформа для машинного навчання. Вона підтримує наступне:\n",
        "\n",
        "- Числові обчислення на основі багатовимірних масивів (подібно до NumPy).\n",
        "- Обробку на графічних процесорах (GPU) та розподілену обробку.\n",
        "- Автоматичне диференціювання.\n",
        "- Побудову, навчання та експорт моделей.\n",
        "- ...\n"
      ],
      "metadata": {
        "id": "3xq_LgDNAGLB"
      }
    },
    {
      "cell_type": "markdown",
      "source": [
        "## Від NumPy до TensorFlow\n",
        "\n",
        "Досі ми завжди використовували NumPy для побудови нейронних мереж, але цього разу ми розглянемо фреймворк глибокого навчання, який дозволяє будувати нейронні мережі набагато простіше. Фреймворки машинного навчання, такі як TensorFlow, PaddlePaddle, Torch, Caffe, Keras та багато інших, можуть значно пришвидшити розробку вашого машинного навчання. TensorFlow 2.3 вніс значні покращення в порівнянні з попередником, з деякими з яких ви зіткнетеся і які реалізуєте тут!\n",
        "\n",
        "Після завершення цього заняття ви зможете робити наступне в TensorFlow 2:\n",
        "\n",
        "* Використовувати `tf.Variable` для зміни стану змінної.\n",
        "* Пояснювати різницю між змінною та константою.\n",
        "* Навчати нейронну мережу на наборі даних TensorFlow.\n",
        "\n",
        "Програмні фреймворки, такі як TensorFlow, не лише скорочують час, витрачений на кодування, але й можуть виконувати оптимізації, що пришвидшують сам код.\n",
        "\n",
        "\n"
      ],
      "metadata": {
        "id": "CbmgzdKfFh7O"
      }
    },
    {
      "cell_type": "markdown",
      "metadata": {
        "id": "gvLegMMvBZYg"
      },
      "source": [
        "## Tensors\n",
        "\n",
        "TensorFlow працює з багатовимірними масивами, або _тензорами_, що представлені як об'єкти `tf.Tensor`. Ось двовимірний тензор:"
      ]
    },
    {
      "cell_type": "code",
      "execution_count": null,
      "metadata": {
        "id": "6ZqX5RnbBS1f",
        "colab": {
          "base_uri": "https://localhost:8080/"
        },
        "outputId": "ca33d310-e798-46fc-ab38-1b31024f3c85"
      },
      "outputs": [
        {
          "output_type": "stream",
          "name": "stdout",
          "text": [
            "tf.Tensor(\n",
            "[[1. 2. 3.]\n",
            " [4. 5. 6.]], shape=(2, 3), dtype=float32)\n",
            "(2, 3)\n",
            "<dtype: 'float32'>\n"
          ]
        }
      ],
      "source": [
        "import tensorflow as tf\n",
        "\n",
        "x = tf.constant([[1., 2., 3.],\n",
        "                 [4., 5., 6.]], dtype=tf.float64)\n",
        "\n",
        "print(x)\n",
        "print(x.shape)\n",
        "print(x.dtype)"
      ]
    },
    {
      "cell_type": "markdown",
      "metadata": {
        "id": "k-AOMqevQGN4"
      },
      "source": [
        "Найважливішими атрибутами `tf.Tensor` є його `shape` та `dtype`:\n",
        "\n",
        "* `Tensor.shape`: повідомляє розмір тензора вздовж кожної з його осей.\n",
        "* `Tensor.dtype`: повідомляє тип усіх елементів у тензорі.\n"
      ]
    },
    {
      "cell_type": "markdown",
      "metadata": {
        "id": "bUkKeNWZCIJO"
      },
      "source": [
        "TensorFlow реалізує стандартні математичні операції над тензорами, а також багато операцій, спеціалізованих для машинного навчання.\n",
        "\n",
        "Наприклад:\n"
      ]
    },
    {
      "cell_type": "code",
      "execution_count": null,
      "metadata": {
        "id": "BM7xXNDsBfN5",
        "colab": {
          "base_uri": "https://localhost:8080/"
        },
        "outputId": "d8552b37-6e9c-4438-f2ef-02199533d782"
      },
      "outputs": [
        {
          "output_type": "execute_result",
          "data": {
            "text/plain": [
              "<tf.Tensor: shape=(2, 3), dtype=float32, numpy=\n",
              "array([[ 2.,  4.,  6.],\n",
              "       [ 8., 10., 12.]], dtype=float32)>"
            ]
          },
          "metadata": {},
          "execution_count": 7
        }
      ],
      "source": [
        "x + x"
      ]
    },
    {
      "cell_type": "code",
      "execution_count": null,
      "metadata": {
        "id": "ZLGqscTxB61v",
        "colab": {
          "base_uri": "https://localhost:8080/"
        },
        "outputId": "6cc76e4e-5559-473c-f601-9b53b06ff98a"
      },
      "outputs": [
        {
          "output_type": "execute_result",
          "data": {
            "text/plain": [
              "<tf.Tensor: shape=(2, 3), dtype=float32, numpy=\n",
              "array([[ 5., 10., 15.],\n",
              "       [20., 25., 30.]], dtype=float32)>"
            ]
          },
          "metadata": {},
          "execution_count": 8
        }
      ],
      "source": [
        "5 * x"
      ]
    },
    {
      "cell_type": "code",
      "source": [
        "tf.transpose(x)"
      ],
      "metadata": {
        "colab": {
          "base_uri": "https://localhost:8080/"
        },
        "id": "1I26oYK0GqJK",
        "outputId": "4cadaeff-b768-44c2-9ce8-e8f16d60fa66"
      },
      "execution_count": null,
      "outputs": [
        {
          "output_type": "execute_result",
          "data": {
            "text/plain": [
              "<tf.Tensor: shape=(3, 2), dtype=float32, numpy=\n",
              "array([[1., 4.],\n",
              "       [2., 5.],\n",
              "       [3., 6.]], dtype=float32)>"
            ]
          },
          "metadata": {},
          "execution_count": 11
        }
      ]
    },
    {
      "cell_type": "code",
      "execution_count": null,
      "metadata": {
        "id": "2ImJHd8VfnWq",
        "colab": {
          "base_uri": "https://localhost:8080/"
        },
        "outputId": "27fc3437-e054-45dc-b1f8-dfcf3ad76ea8"
      },
      "outputs": [
        {
          "output_type": "execute_result",
          "data": {
            "text/plain": [
              "<tf.Tensor: shape=(3, 3), dtype=float32, numpy=\n",
              "array([[17., 22., 27.],\n",
              "       [22., 29., 36.],\n",
              "       [27., 36., 45.]], dtype=float32)>"
            ]
          },
          "metadata": {},
          "execution_count": 13
        }
      ],
      "source": [
        "tf.transpose(x) @ x"
      ]
    },
    {
      "cell_type": "code",
      "source": [
        "x"
      ],
      "metadata": {
        "colab": {
          "base_uri": "https://localhost:8080/"
        },
        "id": "o-pffyXfG8Pz",
        "outputId": "880ee9fb-e877-4e6f-de48-ee9dbb9a3208"
      },
      "execution_count": null,
      "outputs": [
        {
          "output_type": "execute_result",
          "data": {
            "text/plain": [
              "<tf.Tensor: shape=(2, 3), dtype=float32, numpy=\n",
              "array([[1., 2., 3.],\n",
              "       [4., 5., 6.]], dtype=float32)>"
            ]
          },
          "metadata": {},
          "execution_count": 14
        }
      ]
    },
    {
      "cell_type": "code",
      "execution_count": null,
      "metadata": {
        "id": "U9JZD6TYCZWu",
        "colab": {
          "base_uri": "https://localhost:8080/"
        },
        "outputId": "818102ac-d2e9-47e6-c7c5-c62f3da7b018"
      },
      "outputs": [
        {
          "output_type": "execute_result",
          "data": {
            "text/plain": [
              "<tf.Tensor: shape=(2, 9), dtype=float32, numpy=\n",
              "array([[1., 2., 3., 1., 2., 3., 1., 2., 3.],\n",
              "       [4., 5., 6., 4., 5., 6., 4., 5., 6.]], dtype=float32)>"
            ]
          },
          "metadata": {},
          "execution_count": 15
        }
      ],
      "source": [
        "tf.concat([x, x, x], axis=1)"
      ]
    },
    {
      "cell_type": "code",
      "execution_count": null,
      "metadata": {
        "id": "seGBLeD9P_PI",
        "colab": {
          "base_uri": "https://localhost:8080/"
        },
        "outputId": "cbaf6b46-c96f-4b70-eedc-08f3a1c2b58a"
      },
      "outputs": [
        {
          "output_type": "execute_result",
          "data": {
            "text/plain": [
              "<tf.Tensor: shape=(2, 3), dtype=float32, numpy=\n",
              "array([[0.09003057, 0.24472848, 0.66524094],\n",
              "       [0.09003057, 0.24472848, 0.66524094]], dtype=float32)>"
            ]
          },
          "metadata": {},
          "execution_count": 16
        }
      ],
      "source": [
        "tf.nn.softmax(x, axis=-1)"
      ]
    },
    {
      "cell_type": "code",
      "execution_count": null,
      "metadata": {
        "id": "YZNZRv1ECjf8",
        "colab": {
          "base_uri": "https://localhost:8080/"
        },
        "outputId": "3d8d108d-5281-438f-e536-f581c2ef6c1c"
      },
      "outputs": [
        {
          "output_type": "execute_result",
          "data": {
            "text/plain": [
              "<tf.Tensor: shape=(), dtype=float32, numpy=21.0>"
            ]
          },
          "metadata": {},
          "execution_count": 21
        }
      ],
      "source": [
        "tf.reduce_sum(x)"
      ]
    },
    {
      "cell_type": "markdown",
      "metadata": {
        "id": "TNHnIjOVLJfA"
      },
      "source": [
        "Примітка: Як правило, коли функція TensorFlow очікує `Tensor` на вході, вона також прийме будь-що, що можна перетворити на `Tensor` за допомогою `tf.convert_to_tensor`. Дивіться приклад нижче.\n",
        "\n",
        "\n"
      ]
    },
    {
      "cell_type": "code",
      "execution_count": null,
      "metadata": {
        "id": "i_XKgjDsL4GE",
        "colab": {
          "base_uri": "https://localhost:8080/"
        },
        "outputId": "51397cae-65a8-4a26-e71e-c37337d30e9e"
      },
      "outputs": [
        {
          "output_type": "execute_result",
          "data": {
            "text/plain": [
              "<tf.Tensor: shape=(3,), dtype=int32, numpy=array([1, 2, 3], dtype=int32)>"
            ]
          },
          "metadata": {},
          "execution_count": 18
        }
      ],
      "source": [
        "tf.convert_to_tensor([1,2,3])"
      ]
    },
    {
      "cell_type": "code",
      "execution_count": null,
      "metadata": {
        "id": "wTBt-JUqLJDJ",
        "colab": {
          "base_uri": "https://localhost:8080/"
        },
        "outputId": "c6e53969-dc57-44c7-e391-e2e79eeecde5"
      },
      "outputs": [
        {
          "output_type": "execute_result",
          "data": {
            "text/plain": [
              "<tf.Tensor: shape=(), dtype=int32, numpy=6>"
            ]
          },
          "metadata": {},
          "execution_count": 19
        }
      ],
      "source": [
        "tf.reduce_sum([1,2,3])"
      ]
    },
    {
      "cell_type": "markdown",
      "metadata": {
        "id": "8-mi5031DVxz"
      },
      "source": [
        "Виконання великих обчислень на центральному процесорі (CPU) може бути повільним. При правильній конфігурації TensorFlow може використовувати апаратне прискорення, таке як графічні процесори (GPU), для дуже швидкого виконання операцій.\n"
      ]
    },
    {
      "cell_type": "code",
      "execution_count": null,
      "metadata": {
        "id": "m97Gv5H6Dz0G",
        "colab": {
          "base_uri": "https://localhost:8080/"
        },
        "outputId": "be49f713-fa3c-433d-9ea8-e301a41f55b7"
      },
      "outputs": [
        {
          "output_type": "stream",
          "name": "stdout",
          "text": [
            "TensorFlow **IS NOT** using the GPU\n"
          ]
        }
      ],
      "source": [
        "if tf.config.list_physical_devices('GPU'):\n",
        "  print(\"TensorFlow **IS** using the GPU\")\n",
        "else:\n",
        "  print(\"TensorFlow **IS NOT** using the GPU\")"
      ]
    },
    {
      "cell_type": "markdown",
      "metadata": {
        "id": "ln2FkLOqMX92"
      },
      "source": [
        "Refer to the [Tensor guide](tensor.ipynb) for details."
      ]
    },
    {
      "cell_type": "markdown",
      "metadata": {
        "id": "oVbomvMyEIVF"
      },
      "source": [
        "## Variables\n",
        "\n",
        "Звичайні об'єкти tf.Tensor є незмінними. Для зберігання ваг моделі (або іншого змінного стану) у TensorFlow використовуйте tf.Variable.\n"
      ]
    },
    {
      "cell_type": "code",
      "execution_count": null,
      "metadata": {
        "id": "SO8_bP4UEzxS"
      },
      "outputs": [],
      "source": [
        "var = tf.Variable([0.0, 0.0, 0.0])"
      ]
    },
    {
      "cell_type": "code",
      "execution_count": null,
      "metadata": {
        "id": "aDLYFvu5FAFa",
        "colab": {
          "base_uri": "https://localhost:8080/"
        },
        "outputId": "2e53ac81-4fd1-4c46-91c6-2b7165303b66"
      },
      "outputs": [
        {
          "output_type": "execute_result",
          "data": {
            "text/plain": [
              "<tf.Variable 'UnreadVariable' shape=(3,) dtype=float32, numpy=array([1., 2., 3.], dtype=float32)>"
            ]
          },
          "metadata": {},
          "execution_count": 25
        }
      ],
      "source": [
        "var.assign([1, 2, 3])"
      ]
    },
    {
      "cell_type": "code",
      "execution_count": null,
      "metadata": {
        "id": "9EpiOmxXFDSS",
        "colab": {
          "base_uri": "https://localhost:8080/"
        },
        "outputId": "65cac030-108b-440d-9e0e-326a1c9c3e13"
      },
      "outputs": [
        {
          "output_type": "execute_result",
          "data": {
            "text/plain": [
              "<tf.Variable 'UnreadVariable' shape=(3,) dtype=float32, numpy=array([2., 3., 4.], dtype=float32)>"
            ]
          },
          "metadata": {},
          "execution_count": 26
        }
      ],
      "source": [
        "var.assign_add([1, 1, 1])"
      ]
    },
    {
      "cell_type": "markdown",
      "metadata": {
        "id": "tlvTpi1CMedC"
      },
      "source": [
        "Refer to the [Variables guide](variable.ipynb) for details."
      ]
    },
    {
      "cell_type": "markdown",
      "metadata": {
        "id": "rG1Dhv2QFkV3"
      },
      "source": [
        "## Automatic differentiation\n",
        "\n",
        "<a href=\"https://uk.wikipedia.org/wiki/%D0%93%D1%80%D0%B0%D0%B4%D1%96%D1%94%D0%BD%D1%82%D0%BD%D0%B8%D0%B9_%D1%81%D0%BF%D1%83%D1%81%D0%BA\" class=\"external\">_Градієнтний спуск_</a> та пов'язані з ним алгоритми є основою сучасного машинного навчання.\n",
        "\n",
        "Щоб забезпечити це, TensorFlow реалізує автоматичне диференціювання (autodiff), яке використовує математичний аналіз для обчислення градієнтів. Зазвичай ви будете використовувати це для обчислення градієнта _помилки_ або _втрат_ моделі щодо її ваг.\n",
        "\n",
        "\n"
      ]
    },
    {
      "cell_type": "code",
      "execution_count": null,
      "metadata": {
        "id": "cYKOi-z4GY9Y"
      },
      "outputs": [],
      "source": [
        "x = tf.Variable(1.0)\n",
        "\n",
        "def f(x):\n",
        "  y = x**2 + 2*x - 5\n",
        "  return y"
      ]
    },
    {
      "cell_type": "code",
      "execution_count": null,
      "metadata": {
        "id": "IQz99cxMGoF_",
        "colab": {
          "base_uri": "https://localhost:8080/"
        },
        "outputId": "420fda92-946c-427c-a7a9-e3ae58972a0b"
      },
      "outputs": [
        {
          "output_type": "execute_result",
          "data": {
            "text/plain": [
              "<tf.Tensor: shape=(), dtype=float32, numpy=-2.0>"
            ]
          },
          "metadata": {},
          "execution_count": 29
        }
      ],
      "source": [
        "f(x)"
      ]
    },
    {
      "cell_type": "markdown",
      "metadata": {
        "id": "ozLLop0cHeYl"
      },
      "source": [
        "При `x = 1.0`, `y = f(x) = (1**2 + 2*1 - 5) = -2`.\n",
        "\n",
        "Похідна від `y` це `y' = f'(x) = (2*x + 2) = 4`. TensorFlow може порахувати це автоматично:"
      ]
    },
    {
      "cell_type": "code",
      "execution_count": null,
      "metadata": {
        "id": "N02NfWpHGvw8",
        "colab": {
          "base_uri": "https://localhost:8080/"
        },
        "outputId": "ff70d170-25cc-446a-83b8-0a258749ef6a"
      },
      "outputs": [
        {
          "output_type": "execute_result",
          "data": {
            "text/plain": [
              "<tf.Tensor: shape=(), dtype=float32, numpy=4.0>"
            ]
          },
          "metadata": {},
          "execution_count": 40
        }
      ],
      "source": [
        "with tf.GradientTape() as tape:\n",
        "  y = f(x)\n",
        "\n",
        "g_x = tape.gradient(y, x)  # g(x) = dy/dx\n",
        "\n",
        "g_x"
      ]
    },
    {
      "cell_type": "markdown",
      "metadata": {
        "id": "s-DVYJfcIRPd"
      },
      "source": [
        "Цей спрощений приклад обчислює похідну лише за однією скалярною величиною (`x`), але TensorFlow може одночасно обчислювати градієнт за будь-якою кількістю нескалярних тензорів.\n"
      ]
    },
    {
      "cell_type": "markdown",
      "metadata": {
        "id": "ECK3I9bUMk_r"
      },
      "source": [
        "Refer to the [Autodiff guide](autodiff.ipynb) for details."
      ]
    },
    {
      "cell_type": "markdown",
      "source": [
        "## Graphs and tf.function"
      ],
      "metadata": {
        "id": "-TxRGKYW1YjJ"
      }
    },
    {
      "cell_type": "markdown",
      "metadata": {
        "id": "v0DdlfacAdTZ"
      },
      "source": [
        "### Що таке графи?\n",
        "\n",
        "\n"
      ]
    },
    {
      "cell_type": "markdown",
      "source": [
        "Граф — це сукупність об'єктів із зв'язками між ними.\n",
        "\n",
        "Об'єкти розглядаються як вершини, або вузли графа, а зв'язки — як дуги, або ребра. Для різних галузей види графів можуть відрізнятися орієнтованістю, обмеженнями на кількість зв'язків і додатковими даними про вершини або ребра."
      ],
      "metadata": {
        "id": "rGfIqK75w9VD"
      }
    },
    {
      "cell_type": "markdown",
      "source": [
        "![image.png](data:image/png;base64,iVBORw0KGgoAAAANSUhEUgAAAQYAAAPxEAYAAABIrd/3AAAAAXNSR0IArs4c6QAAAERlWElmTU0AKgAAAAgAAYdpAAQAAAABAAAAGgAAAAAAA6ABAAMAAAABAAEAAKACAAQAAAABAAABBqADAAQAAAABAAAD8QAAAAD4QnWnAABAAElEQVR4AeydCZgcV3muP9kyeJGsFhgcs1gtG2uxQ9TiBkjYVAJMcICrUQgBgo1mAmEHaQBzCYTMiLCGRRJbgCRojNlCCBqRsAa7S9gEQhLUAmxZNrZaBowXbLU2L3g5t74aHf1S1/T0LN1V1d1fvc/j+utUdZ1z3mqr/6nl1Cx3eIImGZABGZABGZABGWhg4LgG5SqWARmQARmQARmQgSMGlDAcUaFABmRABmRABmSgkQElDI3MqFwGZEAGZEAGZOCIASUMR1QokAEZkAEZkAEZaGRACUMjMyqXARmQARmQARk4YkAJwxEVCmRABmRABmRABhoZUMLQyIzKZUAGZEAGZEAGjhiYfSRSIAMyIAMyMK6BvSDAoSqJ5jHAwSpBvJbrT4kB5sREy0UCzC8SW/8gEE0y0FkGlDB01vFSa2VABlpg4JdVAlxZJcDObQTYVSHAtTUSzWOiBCEkM6/4+IAAxRoBFhcIsKREgEXzCPD4gAClgADHxcy8fu1BBmZiYJZGepyJPn1WBmQgjwZqIMB3QgJcvpUA5RFiCUEe2350mx5SIsCKIgFWLiPAH/WTKMEokqM/oVgG2mdACUP73GrPMiADbTZwLwjwrZAAl24iwL+FBLi7Rpo3wv/lvwDkqL/8i0sigDPnkehSQ5EA84oEmBsDnBSDuDVsz74Yu2ThL2XcPIscdSajem1EtDxMgLv6SLSDSU5PKBHgolUEeNEwAU6LmeROtJkMTNKAEoZJitJmMiAD2Ru4uUqAD19CgEtGCHBrlTRu3ykBAZ4SAzx9BQGCeAKWBQR4cEzj/bRrjQMBdlcJ8L2Q2JmRyysE+FWVRBs2mE4YIcBzRwlw8VoC/GFAoEkGZmbAX5LQXAZkQAbyZiD+/dzt3Gv7iXMnFojjb2s0JedzRolz/fHk3GVl4txvY/LWu6m3Z2eZODccT849pkCSHur9rOwjzn23TKZerz4hAzQQ/S+nSQZkQAbyYeB2R5x71Tri3OwqafyD6H8IP1cmzh2KyUdf0mjFA444d2WZOPeKfhIlVlXS2NuTSsS5/y6TNFqqOrrBgBKGbjiK6oMMdKgB/4N3yWbi3MOLpPEP3TP7iHP/WSYd2ukUmn2rI84NDRPn5vWRpNdZI8S5i/qIc7fFpNBAVdGRBpQwdORhU6NloLMNXF0mzvm/dOtPofvlPw6Ic9vLpLP7nGXr/Zmbt60jzj04IMkEwidsn99Msmyx6s6jASUMeTwqapMMdKkBfyZh7CbE5A/WI4vEOb9dl2rIvFs/302cu6CPJI+DT9j8mYeDjmjqdQNKGHr9G6D+y0AbDfgfGn8Tov8h8vOxxxmde8s64uKfJf0wtfGANNj1v5SJc6fXSDKBOLdEnPtZmTTYiYq73oAeqxz7l0v/lQEZaKGBX1QJ8McrCfCzKrEKzigR4PMbSDQgUUBsvaJsDNxSJcCFgwT47iixtpw0SqLjNo8AqwNi6xV1uYGuT4nUQRmQgdQM+HsTziyQ5F+q/qmGm3aT1JqliqZowN+MunGIJJ9W8WeG/n4zmeLOtXnHGtAliY49dGq4DOTHwA/KxLmHBiSZKLxpHXHu/pj8tFstmZyB75SJc36ci7G/o+04v3OITG5f2qpzDShh6Nxjp5bLQOYGrigT5xI3MVYQ4dz7h0jmzVQDWmTAj9vgn6aoTxz8vSgtqk67yZkBJQw5OyBqjgx0ggF/89vYy5HsL01/qvofNpNO6InaOB0D1+8mjUea/MAQmc6e9Zk8G9BNj11+j4q6JwOtNOBvZnzyQgL8IiaqIT6jAGzeToCxpyJaWbP2lUcD/jXhT15OgBtrxL4Pn9lOgIF+ksceqE1TMXDcVDbWtjIgA71pwL8u+vyV5KhE4bCOD28hShR67dvxqCIBvrGFAP513CjF4BUrCfAfIek1O93XXyUM3XdM1SMZaLmBlw2Q6DXMVWK7/6t1BBgcJlauqLcMnBeQKHHYQAD/dtD7igR4ySBp/rbN3rLWeb3VJYnOO2ZqsQykZuCjwwR4w3pi1a7uI8C/biHArBhbr6i3DfxzSIAXrSTm4mklAly2nQCzY2y9onwbOH7sNanDw/luplonAzKQpoEdIQFeOEiA++4mwNj4CtFfktsJcHJMmi1TXZ1g4HeLBLh5HwH+94cE2HMziV5MPosATw9IJ/RIbaQBnWHQ90AGZOCIgd+CAKXlBNhZIcAJIwS4cgEBnhAQaJKBCQ3cDQL8wXwC7KiR6IcnekfmrBHgBwsI8MSATLgrrcyBAd3DkIODoCbIQF4MfHiYWKLg2/Wu3USJgveh+eQMnAgC/PN2ApxYINEZhn4CvGY9Ae6Pmdw+tVV2BpQwZOdeNctAbgz4xyXftY1Ys/ypZd3UaE4UTd3A4iIB3rqO2Od/HBLgk8PEyhXl04AuSeTzuKhVMpCqgdUDBBgdIVHVh8dVuGIvAZ4SkFSbpMq60IC/RPHY+QT4eY0A82okegpnLwFOL5IuFNDhXdIZhg4/gGq+DMzEwI9CclSicHhnAyNEicJM3OqzSQP+EsXHtxBbv69AgPdvIlauKF8GlDDk63ioNTKQqoF3byJWpb/G/K61xMoVyUArDTwrIMCz+ojt+dMVAtwWY+WK8mFACUM+joNaIQOpGrgqJMC/9RGr2g/h+4gisXJFMtAOA29bS2zPh0ICbBwkVq4oHwZ0D0M+joNaIQOpGnjxAAG+NEKiAXSqBLjOEaAYT6k2SZX1sIGnLSfAFRUS3dPQR4DqFgIUYnpYUE66rjMMOTkQaoYMpGHglioBvjJKrMaXDBMlCmZEUZoG3r6BWI37Rgnw+WFi5YqyNaCEIVv/ql0GUjXwhRESjdxYI1b1a9YQW1YkA2ka8Pc0nF0iVvPnthFbVpStASUM2fpX7TKQqoFLtxGr8pwSAR4fECtXJANpGvDvIrmwj1jNPwwJcE1IrFxRNgaUMGTjXbXKQKoGrg4JsD0kVvWaVUQvjzIjirI0cNEaErXg8Dggvi2f30b8kuZZGVDCkJV51SsDKRr4l23kqAoP/4N8YT85qlyhDGRo4OwiAZ7UT6wh9ffc2BpFaRpQwpCmbdUlAxkZuGyUWOWlfgIsKBIrVyQDeTDw3FXEWnJNhQC/qhIrV5SuASUM6fpWbTKQqoE7QYAfFYhVvTIgtqxIBvJkoNFrr8shyVNLe6stShh663irtz1m4MqQAPeExDq/chWxZUUzM1ADAS4eJMAHhsnM9tnLn/79gNg7JryL8jbilzRP24AShrSNqz4ZSNHAtq3EKjw+IMDTAmLliqZm4AEQ4LMjBFi8kAAf3EiAq/eQqe1TW5uB40Gi72k/sfKwSmxZUboGlDCk61u1yUCqBq6qEKtySY1Ef7nFWLmiyRm4PCTA8ngC1gwQ4NYqmdw+tNXkDTxhGbHtb9hIgEMxVq4oHQNKGNLxrFpkIBMD11SJVb24RGxZ0cQGrqsSoG8lAZ4xnwBzY4CBdWTifWjt9A0sDshRny+B4OchOapcYSoGlDCkolmVyEC6Bu4DAa4PidW9uEBsWdHEBl4xQKIzCgGJfqjmEeDK7QT4k1Vk4n1o7fQNLAJJTrtANKVtYHbaFao+GZCB9hu4oUqiIaAXEqtv8TJiy4omNlCOp4m30dr2GVgUkGhgsRECuH4C7AoJgCAmCjSlYUBnGNKwrDpkIGUDN1ZJstKziiRZrhIZyKOBk0CARwwTa+GNe4gtK0rHgBKGdDyrFhlI1cABkOSk1wQnnagk/wbmFYi180CN2LKidAwoYUjHs2qRgVQNHKiSZJVziyRZrhIZyLOBuTViLdwPoiltA0oY0jau+mQgBQMHqyRZkRKGpBOV5N/A3BKxduoMg7lIM1LCkKZt1SUDKRk4CJKc5oBokoHOMnBqgVibD1SILStKx4AShnQ8qxYZSNXAcSDJyY9QmFyjEhnIr4H7q8Tad3yJ2LKidAyM929KOjWrFhmQgbYZmFMkyd03uhkyuaVKZCA/Buq/t3MLJD/t65WWKGHolSOtfvaUgUb3KjS6GbKn5KizHWeg/iZHP9Jmx3WkwxushKHDD6CaLwPjGWj0D6oShvFsqSzvBuq/t/X3NOS9/d3SPiUM3XIk1Q8ZOMpAo5dL3Q6iSQY6y8AdBWJtVsJgLtKMlDCkaVt1yUBKBhqN6OhfppRSM1SNDMzIQA0EuK1CbFdnzyO2rCgdA0oY0vGsWmQgVQOPKhLED1Ee/Rjlrh0k1aaoMhmYtoEj74yo24N/x0RdsRbbbEAJQ5sFa/cykIWBWSDAY0rEWrCrSmxZkQzk2UCj7+viIslzy7uzbUoYuvO4qlcyEBtYUiIm45qQ2LIiGcizgfozYrMLBGh0yS3PfemGtilh6IajqD7IQAMDyxYQW7m7RoCbqsTKFclAHg1cGRJr2XkgwAkxVq4oHQNKGNLxrFpkIBMDKwOSrLpcJclylchAHgzcCQL8V4FYi57eT2xZUboGZqdbnWqTARlI08D/CQjgH0PbXyNA+RICvCQgabaos+p64yABbqwS4OYqAX5VJdFyTLJPlwQE+PZyApxRIMAjCsSWB9cQYGlAkvvp1RJ/ZuGekJiFlauILStK14AShnR9qzYZSNXAbBDgaQEB/n2UAJeNkmjF5phU29RJlZ27jABLlpEptNyBAGtjGn7w5CJpuLpnV5S3Euv+8QGx77GtUZSmASUMadpWXTKQkYFnLiOWMFRrBPjfkAD+TERGzctttS/vJ7ltXtc27KsjxLr3eBCg0YBktqWidhrQPQzttKt9y0BODLygnwD+LzXfrM9tJX5JcxnI1sAPQgJcWyPWlhevILasKBsDShiy8a5aZSBVA48oEuAZBWJVf2GUAPfGWLkiGcjCwKVbidXsH6N8YT+xckXZGFDCkI131SoDmRh46VpiVd9aJdHNeSGxckUykKaB34IAX64Qq/nZAQFOLxIrV5SNASUM2XhXrTKQiYHVAYmGjB4l1oRN8WTLimQgTQOXjhDg9pBYzRetJbasKFsDShiy9a/aZSBVAyeDAK8IiVX93VEC/GdIrFyRDLTTwP0gwPs3EavpzAIB+gJi5YqyNaCEIVv/ql0GMjFw8VoCnFgl1oT3bSK2rEgG2mngSyEBrqsQq+mtawnwoBgrV5StgVnu8JRtM1S7DMhAFgZeO0CAT4yQqAWVGGzfS4BSQLJomersZgP+zMKy5QS4qkKiAa1KBLhhO4kS2phuNtFZfdMZhs46XmqtDLTUwFuGCDC7SqJdl2LwhkGCePQhjj+kSQZaaeCTw8QSBb/vN68iShS8j7zNdYYhb0dE7ZGBDAxcPEiAD24k1oBLNhPgpf3EyhXJwHQM3FIlwOL5BNhXIMDZJQL8bDtRwjAdt2l8RglDGpZVhwzk3IB/2c+58wmwp0aAhxcJcM1uAsyPyXln1LzcGnjpagJcOkqsmf9eJsBzAmLlivJlQJck8nU81BoZyMSAf3riA1uINcGP0/CmQWLlimRgKgb8OB+XDhP75J/0EyUKZiTfkc4w5Pv4qHUykImBC1YS4FshsSZcupkAF/YTK1ckA+MZuKlKgOUrCeATUD8OyNXLCPDoIhlvDyrLkwGdYcjT0VBbZCAnBkY2E7tr3TfrVZcQYGdIfKnmMnCsgQdAontfBoglCn6rv99LlCh4H50y1xmGTjlSaqcMZGDguyEBnrWHRE9N9BNgWYEA399LgFNiMmigqsylgb8eJMC7NxJr4iv6CfCpzcTKFXWGAZ1h6IzjpFbKQCYGnhkQ4K+rxJqwo0aikfhWE8RvAuC7ADT1toHPjpAoUegn5uKxBQJs3EysXFFnGVDC0FnHS62VgUwMDMVT8uY0P6T0y1cTjduQycHJQaVbQwL8xSUkatDh8TweViLAV7cT4KSYHDRYTZiWAV2SmJY2fUgGetOAf/zy/OUkevdEhZiLN64jwIc2ECtX1J0GvhcS4I8WEuDuIolebhYDlOMJ+P2AdKeDXuqVzjD00tFWX2Vghgb845ff2E6A3ysR2+mHNxLgZQMEuC/G1ivqDgP+3pbn7COWKPgRQ79SJkoUuuNoWy+UMJgLRTIgA5M0MA8E+PoWYiP1+Y9/ZoQAL15NgHti/FrNO9XAJSMEuGA1AQ72ERta/HO7SXTGISCd2ku1u5EBJQyNzKhcBmSgqYFHFQlw5RYSXbqOJ/vYV0aJ/cDcDqKpUwy4+G0iwHuGCdC/nERnjmokejomIMDW3QR4YUA6pXdq55QN+LdVai4DMiADMzVwwBHnzu8jzo39g2TzRwXEuSvKZKa16fPtMvAbR5x7bh+x4+eP5/wCce7KMmlXK7TfvBlA3hqk9siADHS+gbscce7FfST5gzO7QJx73xBx7oGYzu93p/fAJwCPBkket3NKxLmdZdLpvVX7p2pACcNUjWl7GZCBKRv45BBx7sQCSf4Qregjzl1VJlPevT4wTQP+jNCb1hHnfCLnzyT4+Yv6iXP7Y6ZZmT7W8QaUMHT8IVQHZKBzDPiE4LwSSSYOY3fZO/eGdUQ/UO06sl8rE+fOLJDkcfCJ3cYh0q5WaL+dZkAJQ6cdMbVXBrrAgP9LdV08Nf7L1p8a92co7nZE01QNfK9MnHtGQJIJgj+T8NQSce5nZTLVWrR9txtQwtDtR1j9k4EOMLCjTJx7cok0/kE7vUDs3odDjmiqN+BvKm1006JPEB5SIs6NvdtB95LUe9TysQY00uPY/zn6rwzIQA4M+Mf4/DsJ3nkJAW4ISbKBpwUE+PMSAS5aRXpnwKCbqwT44ggBLtlEAP+uj3pjJ40S4NUhAd6xgQCFmPqttSwDxxpQwnCsDy3JgAzkyIAfKdL/IL53E4ler10hjRu6tESAC1cR4NkBicaJCAhwXEzjz+dtzS+rBPAjLH55KwG+UyPA/SFJtvrUAgFe20+AwQ0EeFhMcnuVyMBEBpQwTGRH62RABnJl4AEQYEtIgH9cT4D/iGn8w+k7MXYKHlhRJMDTlxFgeUCAxQEBTovxn2rf/C4Q4NqQAFdXCfC9HQS4fIRE62sk2rDJ5BOlNasI8MphojMITbRp9SQNKGGYpChtJgMykF8Dv64SOzX/2U2k8an5Zj3xicWiAgHGniaIfnjjCZhbIDY/0RHE6QwTmn2zSDSvkWgI5SoBbomxBGFPSKIPHH67YxRNavJvgXxRiUSXYtYQ4PEBmdQutJEMTNmAEoYpK9MHZEAGOsXAniqJ3poYkugv9q0kmlcI8KsqyV9v/JDLTwEBVq4g0RmRgACPCwhwfEy0gSYZSMGAEoYUJKsKGZCBfBrYXSXANVUSzUMSnQHYR6J5hQA31Uh0pqBAgAOjJDqDUCDJvvmbC+euI9HrnosEeHgMcFaRAEsWEGBRQKJ5DHBeQIAHxUCTDOTCgBKGXBwGNUIGZKATDawdJMBHNpLo3ofomQ0+tXFbmXRij9RmGWhs4LjGq7RGBmRABmRABmRABsYMKGHQN0EGZEAGZEAGZKCpASUMTRVpAxmQARmQARmQASUM+g7IgAzIgAzIgAw0NaCEoakibSADMiADMiADMqCEQd8BGZABGZABGZCBpgaUMDRVpA1kQAZkQAZkQAaUMOg7IAMyIAMyIAMy0NSAEoamirSBDMiADMiADMiAEgZ9B2RABmRABmRABpoaUMLQVJE2kAEZkAEZkAEZUMKg74AMyIAMyIAMyEBTA0oYmirSBjIgAzIgAzIgA0oY9B2QARmQARmQARloakAJQ1NF2kAGZEAGZEAGZEAJg74DMiADMiADMiADTQ0oYWiqSBvIgAzIgAzIgAwoYdB3QAZkQAZkQAZkoKkBJQxNFWkDGZABGZABGZABJQz6DsiADMiADMiADDQ1oIShqSJtIAMyIAMyIAMyoIRB3wEZkAEZkAEZkIGmBpQwNFWkDWRABmRABmRABpQw6DsgAzIgAzIgAzLQ1IAShqaKtIEMyIAMyIAMyIASBn0HZEAGZEAGZEAGmhpQwtBUkTaQARmQARmQARlQwqDvgAzIgAzIgAzIQFMDShiaKtIGMiADMiADMiADShj0HZABGZABGZABGWhqQAlDU0XaQAZkQAZkQAZkQAmDvgMyIAMyIAMyIANNDShhaKpIG8iADMiADMiADChh0HdABmRABmRABmSgqQElDE0VaQMZkAEZkAEZkAElDPoOyIAMyIAMyIAMNDWghKGpIm0gAzIgAzIgAzKghEHfARmQARmQARmQgaYGlDA0VaQNZEAGZEAGZEAGlDDoOyADMiADMiADMtDUgBKGpoq0gQzIgAzIgAzIgBIGfQdkQAZkQAZkQAaaGlDC0FSRNpABGZABGZABGVDCoO+ADMiADMiADMhAUwNKGJoq0gYyIAMyIAMyIANKGPQdkAEZkAEZkAEZaGpACUNTRdpABmRABmRABmRACYO+AzIgAzIgAzIgA00NKGFoqkgbyIAMyIAMyIAMKGHQd0AGZEAGZEAGZKCpASUMTRVpAxmQARmQARmQASUM+g7IgAzIgAzIgAw0NaCEoakibSADMiADMiADMqCEQd8BGZABGZABGZCBpgaUMDRVpA1kQAZkQAZkQAaUMOg7IAMyIAMyIAMy0NSAEoamirSBDMiADMiADMiAEgZ9B2RABmRABmRABpoaUMLQVJE2kAEZkAEZkAEZUMKg74AMyIAMyIAMyEBTA0oYmirSBjIgAzIgAzIgA0oY9B2QARmQARmQARloakAJQ1NF2kAGZEAGZEAGZEAJg74DMiADMiADMiADTQ0oYWiqSBvIgAzIgAzIgAwoYdB3QAZkQAZkQAZkoKkBJQxNFWkDGZABGZABGZABJQz6DsiADMiADMiADDQ1oIShqSJtIAMyIAMyIAMyoIRB3wEZkAEZkAEZkIGmBpQwNFWkDWRABmRABmRABpQw6DsgAzIgAzIgAzLQ1IAShqaKtIEMyIAMyIAMyIASBn0HZEAGZEAGZEAGmhpQwtBUkTaQARmQARmQARlQwqDvgAzIgAzIgAzIQFMDShiaKtIGMiADMiADMiADShj0HZABGZABGZABGWhqQAlDU0XaQAZkQAZkQAZkQAmDvgMyIAMyIAMyIANNDShhaKpIG8iADMiADMiADChh0HdABmRABmRABmSgqQElDE0VaQMZkAEZkAEZkAElDPoOyIAMyIAMyIAMNDWghKGpIm0gAzIgAzIgAzKghEHfARmQARmQARmQgaYGZjfdQhvIgAzIQI8YuBcEuKFKgF1VAtxcJcC+KgEOzSLAlRWCI9PBEQK8bZAA8+IJmBsDFIoEWFQk0TwgwKkx0CQDuTYwyx2ect1KNU4GZEAGZmDgARCgEhKgHJLoB38PAa4eJVGiUCHAfUUSfSCl6YwSAZYUCfD7JQI8fQUBnhIQYE5MSo1SNTJQZ0AJQ50QLcqADHSugQMgwL+OEOBrWwmwrUqAOyqkdf2bXyDAKSUSnXmoEODgRgLc209mXt/sKgGe2EeAP1pFgD/vJ8DZRTLzerQHGZjIgBKGiexonQzIQC4N3A8CfDckwKVbCfDVgAB39ZHmTT+7RIDlRWKXChYvI8DiIgEWFEn0F36RTP4v/d+CRAlEDPDrkADXxkSXPEISLe8jwFUhAX5cJdGZjhpB46kCgif3E+ClawnwZ/0kugQS0/jjWiMDUzGghGEqtrStDMhAJgbuAQE2jxDg7wYJsLtGGjfp9BoBntVPolP8qwiwMiCWCDTeQzZr/JmSK0ICXL6VAJeFJLq0Ek+N23bSKAH+MiTAxWsJ8Kgiafw5rZGBCQ34exg0lwEZkIG8GDjoiHMfHiLOPQLEubF/zJLzsR9I516yjjj3rTJx7r6YvPSqde3YWSbOvX0dcW5BgSS9eF8njBDnXt5PnPv5btK69mhPvWEg+l9QkwzIgAzkw8A/l4lzjyySxj+AY5cSnPvkEHFuf0w++pBFK+53xLnLysS5C/pIY39j90Q495Z1xMXpGRM0TTIwkQElDBPZ0ToZkIG2GrhuN3Hu2QFp/AN3Xok4d8lm4ty9MW1tWlfsfEeZOHdRH3Hu+IAkPfszON5vV3RenWi5ASUMLVeqHcqADDQy8IAjzr1/iDj34IAkf8BOLxBLEPxf0I32q/LJGaiUiXNjj2kmvftLGM/rI87dFjO5fWur7jeghKH7j7F6KAOZG/A/PM8JSPKHatYIsb+Ef+OIpnYZ8ImbP6Pw8CJJHpdHBcS575VJu1qj/XaKAXRKQ9VOGZCBzjNwRZk45394/F+wfr6oQJz77zLpvP51S4vvcMS5F/eRZOIwu0Cce88QcfF5Ip4p0tRbBvRY5di/XPqvDMhACw18NSTAS1YT4O4asQqe30eAf9xCNF6AmclH9NkRArxqPkmOa+EHjIqfct0MnBCTj7arFe0zoJdPtc+t9iwDPWfgI8ME+NM9xBKFEwsE+IfNBPjKFqJEIa9fkJf2E+CH84gNYOXb+4URAjxvJbGBqfx6zbvTgM4wdOdxVa9kIFUDbx8kwHs2Eqt6Xo0A/7adAE8NiK1X1BkG7gCJEoTlBPjPCrG2P6FEgK9vJ8BpMbZeUXcY0BmG7jiO6oUMZGLgHetJMlHwIyyG24kShUwOTgsrfQhINOLkdgL8ST+xCn5UIcAzlhOgFmPrFXWHASUM3XEc1QsZSNXAx4YJ8K5hYlWfFRDgB3sJUAqIrVfU2QYeDAL882YSvbuij1ifflIh0SWplQTxgN4c0ltTdxhQwtAdx1G9kIFUDHwpJMAbFhKr8mElAnxzMwEWFomtV9RdBmaDAJ/ZQqIEoY9YH/07L140QBC/KowvC9PU2QaUMHT28VPrZSAVAz8KSfQX5R4CuH4CzOsjwHc2EHvbYyqNUiWZGzgeJHpb6BYCrOgj1qzREQK8Y5BYuaLONKCbHjvzuKnVMpCKAX8tevl8AlRrBBgboRH41hABgnhKpUmqJMcG9oEAT1tOAH+JYmxgruimyAUEuCAgOe6ImjauAZ1hGFeLCmVABmjgZQPEEgVv5YMriBIF70PzMQPzQICvbiF2BsqfkbpwkAA3VomsdZoBJQyddsTUXhlIwcBHh0n0D/8IsQr93fGvGyZWrkgGjjZwdpEAn15LbM0dFQJcuJro3gYz0xnR8cOHp85orlopAzLQTgO/qJLosbnVBPhtDHBmgUSnlH9AgJNi2tkS7bsbDJxXJMAt+wjwPz8k0RmGmwlwegzw+IB0Q4+7uw+6h6G7j696JwNTMvD8AXLUmYUKCLbtJdG16YBMaZfaWAZwVwzw2OUEuL5CoksWhwf22rWXRAlEkUhYXg3okkRej4zaJQMpGvh2SI5KFA7XvWYjUaKQ4qHoyqr8GamPbyDWxX0FAvy/9cTKFeXTgM4w5PO4qFUykIqBe0GAc+cT4Oc1AswvEOCavQR4eEwqTVIlPWCg0Zms7+8lwJMC0gMiOqyLOsPQYQdMzZWBVhr43AixRMHv+2/XEiUK3ofmrTWwYYhE98KMkmjfpRis30RaW5f21joDOsPQOpfakwx0jIH747H3gPMWEmBXlQCPjokSCEeAB8V0TLfU0A4zMBhPwMZ4ssb/qEx0M6QZyUekMwz5OA5qhQykauArIbFEwVf+liGiRMH70Ly9Bt6ylgD+9ee+tvdcQvyS5nkxoDMMeTkSaocMpGhgeTwBlXiK7k6vEWD3PKLHJlM8FKoqMvCqQQJ8aiOJCg4/nXPVXhLdYxMQqcragM4wZH0EVL8MpGjgxyGxRMFXvW4DUaLgfWiergF/psEPIe3vadi8laTbFtXW2IAShsZutEYGus7AZ7cS65b/B/qifmLlimQgTQNnFUk01PgosZq/sJFoREgzkm2khCFb/6pdBlIxcB8I8KURYlU+a4QAjywSK1ckA1kYuGgVsZpvAgH867JtjaIsDChhyMK66pSBlA18KyTREL01YpVfNERsWZEMZGngT/vJUY9bHm7MpZtIli1T3TSghEHfAxnoAQPf2Eqso/7599UBsXJFMpClgbkgwKpRYi35Zo0AD8RYuaJ0DShhSNe3apOBTAxcPkqs6qeOEODkGCtXJAN5MHD+CmItuT0kwI6QWLmidA0oYUjXt2qTgVQN3FQlyfEWVi4jqTalqyrz94TsBQHujOmqLmbamWcGJNmEy0OSLFdJOgaUMKTjWbXIQCYGGt0s9vSAZNKkjqj0qyGx8QGeuJwAD5lPgBNmkWh5FgFOmUWity/OJ9HLupaTaATDYQLsi+mIrueikWcWCXBWQKxJ5W3ElhWla2B2utWpNhmQgTQN/GAHsRpPLRDgcQGxckXHGtg0SIDvVYiNRNgXT5G/BQQ4MyDAgSoB4jPmke8vlwhwRT8BPrCeAP9SJnq5EiY5rSwS4IYY4D8rZJIf1mYtN6CEoeVKtUMZyI+Ba6rE2nNeQIDZMVauaHwDpxcIsHMvid7iGTP+tix9eQzwipAAz6gS4KYiAf54EwF+WiTRuzuKBJoaGHjsAmIr99YIcGuMXo5mZtKJjkunGtUiAzKQhYFdo8RqXlwgtqxoYgNPDEjzRKF+L08LSJRAbCS2dt8oAd67iVi5ovENLA5Ict2ukCTLVdJeA0oY2utXe5eBTAwcAIn+sq0Qa8KiBcSWFU1s4AnLyMTbTLR2xSqS3OLrIyRZrpJjDSwukmPLuOTfrppco5J2GtAliXba1b5lICMD14YkqnxlzJFWNPqL7cgGCmID27aTmctYCJKcflUiNq7AcdGQOPrrLelpQZHYPSR31whw7R6S3F4l7TWg72h7/WrvMpCJgdtAktOjQDRlbeCEEcKR85QoYILJ+zkDxKZbq8SWFaVjQAlDOp5ViwykasBfkqiv1I+kV1+u5fYYuAMkOT26jyTLVTK+gblFYusafb9tC0XtMKCEoR1WtU8ZyNiAf8yvvhn1//DWr9dyaw3sDElynxoHI+lkohL/OLDf5kCN+CXN0zKghCEt06pHBlI0oIQhRdkTVLVtB0lu8GerSLJcJeMbmFsgtk4Jg7lIM1LCkKZt1SUDKRm4CyQ56d0RSSftKPlllQDfrhGr4RkBAXSGwZxMJjoFxKZDFWLLitIxoIQhHc+qRQZSNXAiSHK6G0RTuw28bz0B7glJNI5DgQCf2kzaXXv37f/OGrF+nVwgtqwoHQNKGNLxrFpkIFUDje5VaHSpItXGdXFl3w0J8ImAAMcHBPjCFgKcXSTQNEUD9Zcg5pbIFHeizWdsQAnDjBVqBzKQPwNziiTZLt1dnnTSipLrqwS4cDmJHpccIcClawjw7IC0oqbe3Ef991ZP+2TzPdDATdl4V60y0FYDjf5BPXKGoQiiaYYG9lRJdE/CcgLcHgN8fgsBXhiQGVaij2N/gZiIRt9v20JROwzoDEM7rGqfMpCxgdNAktOvQDTN1MDPqyQaSHM5iRKFEgG2biFKFGbq13/egQC/Xkd8KXBakdiyonQMKGFIx7NqkYFUDSwKSLLKI0NGJ1epZBIGrgoJsGIhAfaXCPCdIRK9jTIgk9iRNpmUgV9UCXBXH7GPLJpHbFlROgaUMKTjWbXIQKoGCiDR63+LxKretYfYsqLJGbgiJMCTlxPA36X/w80EeFJAJrcvbTV5A41eMqV3okzeYSu3VMLQSpvalwzkzED966wb/QOcs2bnpjlfCwnwrIUEWNRHgO/vJcBjiiQ3ze26hjQ6I9boLZZdJyBnHVLCkLMDoubIQCsNLCkR2+NVFWJvSbQ1io42MBJPwPNXE+Cp6whwWZlEZ25ijv6E4nYY+Nk+YnueM0qA3ykSK1eUjoFZ7vCUTnWqRQZkIE0DnxkhwMsGiNW8vUyAUkCsvNcjnygMxBPw4IAALykSYHZM6yw9dw0BnheQ1u23W/a0ZCEB/JmxZ/WRaATNLaRbetk5/dBjlZ1zrNRSGZiyAT8Ucf0HLw+JEoZ6L9fsIVbqR2r8DEjrpzOKRAlDvdmbqsQSBb9+5TLilzRP24AuSaRtXPXJQIoGFhQJsLBArOLyDmLLimQgTwYuC0myRXoHR9JJmiW6JJGmbdUlAxkZePkAAf5phAD+dcG37iXRqfeYjBqnamWgzsCa1QT47CgB5vUR4DdbSOsvDdVVr8UGBnSGoYEYFctANxm4YA2xHu2vEeDfQ2LlimQgSwP+LaujIbGWnA+iRMGMZBMpYcjGu2qVgVQNPCcg9tZEX/ml64lf0lwGsjUwOkKiAbEOJ7S+NRetJX5J86wMKGHIyrzqlYEUDfjXXb+gj1jFXx8h0aneGCtXJANZGLh0K7GaHxoQvbzLjGQbKWHI1r9ql4FUDbx0DbEq7yuS6GVJw8TKFclAmgb8UxH/ERKr+cVFAjwoxsoVZWNACUM23lWrDGRiwA9hXD9S3oZNBLg3JpOmqdIeNvChTQS4r0ZMRP8aYsuKsjWghCFb/6pdBlI1MAsEuHiIWNV7agT43AixckUy0E4D/nXgn95IrKbz+wjwfwJi5YqyNaCEIVv/ql0GMjHw0n4CLCgQa8K7NxHg/hgrVyQD7TDw4UECHIyxGt6+ltiyonwYUMKQj+OgVshAqgZOAInONKwlVvX1FaIzDWZEUTsM3AoCfLxKrIanBCR6fXhArFxRPgxo4KZ8HAe1QgYyMXA3CHDOSgL8MiTA6QUCXLOXIH5Z9lEnIjJpqyrtHgP9AwS4ZIRYv75TJsD5AbFyRfkwoDMM+TgOaoUMZGLAP275oSFiTbilRoB3DBArVyQDMzFwZUiiRGEdsT39ST9RomBG8hnpDEM+j4taJQOZGHjWagL8xygBjg8I8F9DRDehZXJQuqBS//TN4xYS4GdVApwSEODqzQQ4s0i6oMNd2gWdYejSA6tuycB0DHx8A7HXOt8fEmDNIAHujJnOnvWZXjbwN4PEEgXv4h0riBIF7yPvcyUMeT9Cap8MpGjgnCIB3r6CWMVXVQjw+gFi5YpkYCID3w4J8P4SsS2XBwQYHCZWrijfBnRJIt/HR62TgUwMPAASDcm7mtglCt+Yz24mwEX9xJdqLgNjBm6pEmDZfALcUiDAnBjgv8sEWBIQWesUA0oYOuVIqZ0ykIGBm6sEKM0nyX/4v1cmgP+LMYMmqsocGfBvmzx/OQG+XyHWwC+VCfDCgFi5os4woEsSnXGc1EoZyMTA7xRJ9K6J7cRugvQD7VywnADXV0kmTVSlOTDgB/p68UqSTBRetY4oUcjBoZpRE5QwzEifPiwDvWHgGQGJBtpZQazP/lTzswYI4M9I2BaKutmAAwFeNUCArSGxHj89IMDGDcTKFXWoAadJBmRABqZoYGiYOP5WRJPNS/Hk3K0xU9ypNu8YAw844tzFw8SOv/8+/H5AnNsf0zHdUkObGIj+V9ckAzIgA9Mz8IZ1JPmDcVZAnLtuN5nevvWp/Bm4zxHn/rKfJI/72SXi3M27Sf7arxbNzIBuehxLifVfGZCBaRjw165fOUCAfxohtqNHgADfLBPg9wJi6xV1hgF/M+MLVxPg30aJtd2/Lv3bZRK91KxIbL2i7jCgexi64ziqFzKQiYHjQYB/2EyAv1pHrCk3gQBPW06S17htS0V5NLCnSoCVC0kyUXhCiQBX7iZKFPJ4DFvZJiUMrbSpfclAjxqYBQK8ZwMBPjpEgFkjBNhXIEDffAKsHSTAb2N6VFqOu/1vIQEet5pEQ4NXiTXY3wT73e0EOC3G1ivqUgMzu6KhT8uADMhAYwNbysS5+QWSvOY99heqcz/fTRrvR2vaa+AuR5xbF0/RcaqQo47X4WW//reOaOo1A7rpsdeOuPorAxkY2LObOPekEjnqhyj+Q8y5E6vEOf/0hf8By6CpPVXlZWXi3JISSR6XUwvEuS+XSU+pUWfHMaCEYRwpKpIBGWiPgavKxLnZBZL8gRo7kevcOSXi3NhNdO1pSy/u9cbdxLmx10k39v/EInFudzz1oin1eTwDShjGs6IyGZCBlhq43xHnnlYi9kM1do+Dc0tLxMp94uDnTy4R575WJi1tWlfvzJ/Z8Y+/+jM53qufz6sR5zYOERc/PMnHJzXJwNEGlDAcbUOxDMhAWwyM3QSZTAj8NXH/fP+mIeLcvD6S3N7/wP1BQJzbWib6gfMH7eoyce4v+kl0JqdKxvF4+J6El/YRjZvg/Wk+sQElDBP70VoZkIEZGKjuJs7NGSX2w1UsEOcOxCQruMURG0mw/vM+cfDzM0rEuTetI87tKJPkfrul5DZHnPOJmL951PtIzA8nCM/rI879V5l0iw31Iy0DShjSMq16ZKCHDPihg/8oIJYo+Lvvv1MmkxdyuyN2U2Sjpy7qfygfWyCWeIwNIOXcwZjJ15/2lv4Szv+WiXMfHCLOPTsgE5w5iAU45y/1/Fkfca5SJmn3QvV1mwGN9Dj2L4z+KwMy0EIDfsTHlw8Q2/Er1xHgkxuIlU818m/L/NcRAnz2EgKU+0n0dot+0nivY6fqgSf2kej13fEELFlAgEUBAfwIhmcWSTSuxOHxJhrveeI1d4AA14YEuKZKouUdBLi6QoAragS4o0Im3ifXPqZAgAvXEeCiNQQ4q0iaf15byMBkDChhmIwlbSMDMjApA7+uEuC85QTYWyOIB4jmENFXOQIUYia1yylt9IsqiV7HPUKAr+0gwH+HBLivRjDtaezeCmBOhUTzmGheJNFAVBUC+ISmBgLsLxHg/pBMu3qMvasBeFZAogRhFQH+MCAzT2im3zJ9shcMKGHohaOsPspASgZWDxBgdIRYpWM3JwL/NyBWnlZ0AAT4XkiiMxFxg6K/5ENif+nvr5G0WmX1+BExz+gnwDP6SDQk8yoC+NdE6x0N5kxR+gaUMKTvXDXKQNcZ+MIIAV4yQKx7Y3fhA5dsIVae1+jmKrEE4toqsUsGH9pIrPX+XQq/UyTAg2OAsQGPojMPBWJnIh46j0SXEAICDKwnwO0hiZbXEeAzG4jVo0gG8mBACUMejoLaIAMdauA3INEliIUEuLVKgIeVSHQJYjuJlmM6tJNRs3dVSXSPw0Ji/fhimQAvCoiVTzY6fzUBvjtKonc3BAQYu9lxsnvRdjKQjgG9fCodz6pFBrrSwGtXE0sUfCf/fgPp/ETB9+fOKvFLNj8FZPrTsiKxz18FAtwbY+WKZCAPBpQw5OEoqA0y0GEGvhYS4MujxBr/p30EeH5ArLzToztBktPJINOflsWTff6ekNhTFLZGkQxkb0AJQ/bHQC2QgY4xsB8EeO16Ys1+SIkAH9tArLxbokMgyWnGCUPdGQZfw44q8Uuay0A+DChhyMdxUCtkoCMMvG2AAL8MiTX5g2sJcHqRWHm3RI3OMMz0ksTSgAAnjBAcmXbE05FFBTKQCwNKGHJxGNQIGci3gR+FJBpwqUqsrSv6CNAfT1bebVGjexhOLpLp9/YEEODcdcT2s6NCbFmRDOTBgBKGPBwFtUEGcmrgPhDglYPEBh56cECiBGIt6f4Bg9p1ScIf9mUB8UtAZZTYsiIZyIMBJQx5OApqgwzk1MD7hkn0AxZP1sihFSR6zDAgVt6tUbvOMHhf9Tc/3lIgwC1V4rfSXAayNaCEIVv/ql0GcmnguioB3r2JWBPHXuYEvHmYWHm3R+26h8F7qz/D4Mt/UiV+SXMZyNaAEoZs/at2GciVAQcCvHqAAHfXSHTJYYQAn9pCopv0YnLV9LY25s5ZxKqYXSCt81AKiO3fRztC4pc0l4FsDShhyNa/apeBXBnwb5m8LCTWtNdXiL3kyNb0RnRnjVhfTwmILc80eiiIvaTL709PS3gTmufBgBKGPBwFtUEGMjbgr5W/ZZBYYx4NArxrA7HyXovqb3o8uUpab2FZH7H96gyDuVCUvQElDNkfA7VABjI38IZBYq+j9g36aJkAc2N8ae/N6296PKVKWu+hfqjonSDAPTGtr097lIGpGFDCMBVb2lYGuszAN0OSHOL5z/oIsCogXdbpaXSn/qbHmY6/0KgJy1YRW3tfjQA7Q2LlimQgCwNKGLKwrjplIGMDB0GAV60m1pj5BQJs2kCsvNejQzViFk4uEFtuVbQMJDlVqiRZrhIZSNOAEoY0basuGciJgaFBAtxYI9aov9tAgN8pEivv9Shx0+MM31LZyOeigAAnjRLbSjc/mgtF2RlQwpCde9UsA6kbqIQE+MgIseqfWiLAy/qJlSsaM3BngZiNdp1hOB4EOG8jsfr0MipzoSg7A0oYsnOvmmUgNQMPgACv2UQAf23cjyfg3zI5C0RTvYHEJYkZvta6fv/1y/U3PyphqDek5SwMKGHIwrrqlIGUDXx6hAA/GCVW+cX9BPi9gFi5omMNJJ6SKJwScew2rVxatoDYHu+okOgtoVVi5YpkIE0DShjStK26ZCBlA358hbcNEqv8zAIB3r6BWLmi8Q3cWSS27uQ2n2H43YBYfT66ukr8kuYykK4BJQzp+lZtMpCqgTdtIsnxFT62hSC+de+UVFvUmZUdHCbW9nbdw+BrOLdI/JLNrwqJLSuSgTQNKGFI07bqkoGUDGwLCfD5fmKVPr+PAM8LiJUrGt+Af7fGXUVi27Q7YTi9SIDTAmL17txDbFmRDKRpYHaalakuGZCB9hr4LUg0vsIgiYJKDOaMEmDjMtLeNnTT3u8CiaZSzJGunezIkcW2BUtrBLgiBri6QtpWnXYsAxMa0BmGCfVopQx0loH3rifANRVibX/ndgI8qkisXNHEBupHePRbn9KmcRj8/v38vID4JeBnIbFlRTKQpgElDGnaVl0y0CYDP68S4H0biVXy2AIBXjdMrFzR5AwcqpLktu0aGrq+pqXziJXuKxDg11Vi5YpkIA0DShjSsKw6ZKDNBtYOEODuGgFmjRDgU1sIcEJMmxvRhbuvf5zSdzGthKH+DIOv/6oq8Uuay0A6BpQwpONZtchAWwx8cYQA3wiJVfGqCgH+MCBWrmhqBrK+JNHoaYmrQzK1vmhrGZipASUMMzWoz8tABgb2gwBvHiDWgNMLBHj3BmLliqZn4BBIcmr3OAy+xjOKBHhIifjS6O2V+4gtK5KBNAwoYUjDsuqQgRYbeNsAAW6KsZ1/aAsB5sdYuaLpGfBv9az/9ByQ9KalIDZpPAZzoSg9A0oY0nOtmmRgxgb+JyTAJ6vEdreijwB/HhArVzQzA3lJGM4tEevL1QViy4pkIA0DShjSsKw6ZGCGBvzLo147SID7QwI8OCBRArGWRDc76uVRMzR97McPVsmxZVyaUyTJ8naVnLuA2N5vDwngh/62NYpkoH0GlDC0z632LAMtM/DRYQL8qEJst28NCLAkIFauqDUGcpMwBOdGJPukd0sknaikfQaUMLTPrfYsAzM2cHOVAEM7iO3uMQUCvHWIWLmi1hrIyyWJ84ok2Tc9LZF0opL2GVDC0D632rMMzNjAGwYJsG+U2O4+soUAJ8ZYuaLWGji0j9g+Txgh6Y9r8cgiAebVCI5MV+8hRxYVyEBbDShhaKte7VwGpmfg2yEB/mWU2D7+vJ8AFwTEyhW1x0D9GYa5G0l76prMXs/tJ7alLkmYC0XtN6CEof2OVYMMTNqAf9mRv7nRf/DUAgE+MER8qebtNnCwRqyWOVViy2lH5xaI1aqEwVwoar8BJQztd6waZGDSBt49SIDrK8Q+9t61BHhEkVi5ovYaSCQMKT8dUd+7+qclbq0S4LaY+q21LAOtNaCEobU+tTcZmJaBa6sE+GCF2C5+PyDAK4eJlStKx0AiYUh5wKb6XvJZiXGfltBQ0fWqtNwGA0oY2iBVu5SByRpwIMCrBwhwT0iA4wMSvTxqiETLMZPdq7ZrlYFDBWJ7m1Mgtpx2pHdLpG1c9R1tQAnD0TYUy0DKBj47QoDLQ2KVv75EgMcFxMoVpWsgcYYh44Th0UUSPS3RR8zFzj3ElhXJQDsMKGFoh1XtUwaaGLgDBHjLemIbn1EiwPAGYuWKsjFQP3BT1mcY/EieSyrEnOjmR3OhqH0GlDC0z632LAMNDbx1gAD+pjW/4Uc2kOgvyBhfqnlWBuofq0z7pVON+n1uH7G1PxsltqxIBtphQAlDO6xqnzLQwMB/hwT4x4DYRn8UEOBPA2LlirI1cLBErA1Zn2HwLVk6j/il6J0SBQLsjbFyRTLQSgNKGFppU/uSgQYG7geJnnZYTwDXT6KRGqsE+MRm0uDDKs7MwKGQWPW5SRiCpRHWLh9dExK/pLkMtNaAEobW+tTeZGBcAx8fJsD2kNgmb9tMgLOKxMoVZWvAD6B1X41YW05xxJazipYWSbL2nVWSLFeJDLTCgBKGVljUPmSggQH/+uG/GSS2kX951MXDxMoV5cNA/b0LvlWngGQ/LSwSO0PlW7RzB/FLmstAaw0oYWitT+1NBo4x8KZNJHp5VIHYqk1biF4eZUbyFdU/HeFbNyfjkR59O44DARb1EV8K7KwQW1YkA600oIShlTa1Lxk4bOCKkACf7yem5QV9BPjjgFi5onwZyHvC4G3VX5rYCaJJBtpjYHZ7dqu9ykBvGrgPBHjtahIFtRicNEqil0ctI73pppN63eiSRF4eq/Qul5ZItDQag939BPD3YJwEokkGWmNAZxha41F7kYHYwIeGCfDTGjEp79xOgAVFYuWK8mngEEhyyl3CsGJphLXTP31zbUisXJEMtMKAEoZWWNQ+et7AL6oEeNd6YjrOKxFg7TCxckX5NtApZxiWgCQnXZpIOlHJzA0oYZi5Q+1BBrBuPQGO/NBUQPDRDQQ4IUaiOsVAp9zDsCgg9rIy73fnNuKXNJeB1hhQwtAaj9pLjxr4TkiAr44Qk/DSYQKsDIiVK+oMA0cSv7rm5u2SxIkgQLFGrLF6WsJcKGqdASUMrXOpPfWQgXtAgNevJtbxUwsEeN8GYuWKOstAp5xh8FYTT0vo8UqvRvMWGlDC0EKZ2lXvGHjvegJcWyPW7/esJcAZRWLlijrLwMFZxNo8a4QAJ8dYeV6iI09LHG7QrmGC+JkdPrWjSQZaYUAJQyssah89Y+D6KgHev5FYtx8XEOBVw8TKFXWmgUM1Ym0/pUAA/3ppW5OPaOkCYm25t58A1XiyckUyMBMDGodhJvb02Z4zsHaAAHfXSPQDcvgvz48vINHNZzE9p6XrOlx/D8MpAclvN+svSfiW+ndLPKZIfKnmMjA9AzrDMD1v+lSPGfhqSICvh8Q6/4oKAf4gIFauqLMN1N/DMLdI8tuncwOSbN/OkCTLVSID0zGghGE61vSZnjFwJwjwptXEuv3QgETjLmwgVq6oOwwcLBDrS17eIWEtOjY6FSS6d6ZEbN3OPcSWFcnATAwoYZiJPX226w28cz2JrgXXiHX379YQ4LQYK1fUHQYO1oj1ZU6B2HJeo6UFYq3TGQZzoWjmBpQwzNyh9tCFBq6tEmBjSKyDTyoRYKCfWLmi7jKQSBjAERjyP9Xfy7CzRgAXk//2q4X5NqCEId/HR63LyMCrBwhwT0hsJL2PbyD5vVs+I11dV+3+GrFu+fE1rCSfUf3TEr4fv66SfLZZreocA0oYOudYqaUpGPh8SIDLQ2IVvr5EgFJArFxRdxo4UCHWt7kFYst5jZYGJNk6/7REco1KZGDyBpQwTN6VtuxiA/tBgLesJNbR02sEGN5ArFxRdxvY30esjx1zhqHIixLWbh/pXgZvQvOZGFDCMBN7+mzXGHjHIAFuirFubdxOgHkxVq6oOw34a/319zB0yhkGP8Lo/AKxY6SnJcyFoukbUMIwfXf6ZBcY+GlIgE+MEOvQij4CvDAgVq6ouw0cAgHuD4n1da4jtpz3aHGJWCv9zY9WokgGpm5ACcPUnekTXWDA/yX5yk0kGnO/RqLXUI8Q4O/XEt3ciB6bDlRJstOnFkmyPK8l9e+WuHqE5LW1alenGFDC0ClHSu1sqYF/GiHAD0aJ7frNFQI0unnMtlTUjQb8vSz1fZsL0jnT0nnE2ntLgQB7Y6xckQxMxYAShqnY0rYdb+AOsZOZMgAAQABJREFUEOBtm4h158wCAd6+gVi5ot4y0DVnGBo8LXFNSHrrmKq3rTOghKF1LrWnDjDw1gEC3FYh1uBNWwhwSoyVK+otA11zhqHR0xJVPmDZW8dUvW2dASUMrXOpPeXYwA9DAvxjQKyhzwkI0BcQK1fUmwYOgCQn/66G5Jp8liwsEuDEKrE27txBbFmRDEzFgF5vPRVb2rbjDNwPArxmPYmGyA2J/UP6EUc6rltqcJsM7K+S5M7z/rbK+hYfBwIs6iPAT2KAnRVSv7WWZWByBnSGYXKetFWHGvjYMAG2h8Q68fbNBDirSKxcUW8b6JZ7GPxRTLxbAjsjNMnA9AwoYZieN30q5wZurhJgaJBYY88pEeDNw8TKFckADXTLPQz+aNY/Xrm7nyB+aTtf265JBqZiQAnDVGxp244x8MZBAuwrEGv2pg0kuiQRY+WKZIAGDuwj5sKPy9Gp35elK4j1x/UT4LqQWLkiGZiMASUMk7GkbTrGwLaQAF8cJtbsF/YR4IKAWLkiGTjawIEasZJTR4gtd1q0BCQ58cKELk0kvahkYgNKGCb2o7UdYuC3IMCrB0kUlGIwZ5QAH9pAOqQzamZmBuovSZxaIZk1Z8YVLwqIvZ7d73DnNuKXNJeByRlQwjA5T9oq5wY+OEySd4G/czsBHlkkOe+Empe5gfrHKjvt6Yh6gf5SSrFGbK2eljAXiiZvQAnD5F1pyxwauLFKgPdsI9bA3y0S4HXDxMoVycBEBvbXiG3RKa+1thaPHyWeltDjleOLUumEBpQwTKhHK/Nu4PWDBDgUkqi1lRh8bDOJXiYVk/deqH15MXCgQqw1nfJaa2vx+FH90xK7hkn00rWY8T+jUhmoN6CEod6IljvCwDdDAnxtlFiTX7aRACsCYuWKZGAyBvYXiG3ZaSM8WsuPjZYuIFZ2bz8BdleJlSuSgYkMKGGYyI7W5c7AXSDAa1cTa95DSgR472Zi5YpkYCoGDhSIfaJrzjDo3RJ2UBVN24AShmmr0wezMPCuQRL9ZVQj1oL3rSXAw2KsXJEMTMXA/gqxT3TLPQznBsT65aOdIfFLmsvAxAaUMEzsR2tzYuC6Kokej6wQa9TjAwK8rJ9YuSIZmIoBBxIN3LSR2Ce75QyDv7RyRolY/3buIbasSAYmMqCEYSI7WpcbA68eIMA9IbHnyj81RBC/akdf5twcro5ryCGQ6OVk0TiIHAnRT3Md8UudP19aINYPPV5pLhQ1N6B/Y5s70hYZGvjCCAEuC4k15HUlAiwPiJUrkoHpGGj0lspTi2Q6e8znZ+ofr7ymSqJEKSafbVar8mNAr7fOz7FQS44y4Efcu3iA2IrTawQYnkesXJEMzMRAo4Sh0wduqndS/7SEH3fipirRAGf1vrR8rAElDMf6aNuSH7r4hpAA18QA14Ykmu8hwI01Er017/DNVwcLJBpnoEqilynFRKfgSwSYFwPMrRDglCKJyosken1zgQCLF5BoHhBgUZEAZxZJ/k7pv2OQADfF4Mi0YQsBCv3kSLECGZiRgfoRHv3O/LV/v9zp86UBiXqxPuZId3ZWiRKGI0IUjGtACcO4WqZe6AdA+VFIgMtDApS3EeA/KwS4u0amvv/EJ0IQ3B5z1NrDAxf5AYyOWjMW1v1D4R9HXFEkwMplBHh6QIDzAoLUpp+GBPjECLFqn1YiwIv6iZUrkoFWGPBntOr3NReke6YlRZLsz66QAM8MSHK9SmSABpQwTPF7cD+IXVO/dBMBRvsJcLCPTHGn0eYPLxL7y38OSHTmoECiMwYFAswpkGiEthqJ6ouJzkDUCLA3BqjFU/Qa2wKJzkyMkmS77qgQYEuFRPNREm13OLHwd1W/KCDARatI6+8deAAEeOUmYv3zrxf+5AICzIpJ9kMlMjATA71yhuGMIgFOGiXAXX0kekx5H5mJQX22Jww4TRMa+Plu4tzFw8S5R4A4N/blaD4/r0Sce10/ce6zm4lz/1Umzu2NmbAJLVn5693EubBMnPvUZuLcRX3EuUcFpHl/fL/H3tXg3AeGiHO3x7hpT749fv9+/rZ1ZNq71QdlYFIGLtlMkt//63eTSe2iozY6t0Ssv6v7SEd1QY3NwED006fpaAM/LRPn/ryfOHd8QOx/LP9D5udjmbpt/8Uyce7m3eToPXdGvGs3ce6TQ8S58/tIcw9jr5F27i3ryOT7/xtHnDstIOb5zAJx7mBMZ7hTKzvXwMeGiH3//P/ftznSfdNz+4j1txRP3ddP9ai1Bno+YfAJgs+wZ40Q+x/J/8Phy4N4cu4zm4lz+2Nae1DyuLdf7ibOvX+IOOfPMHg/9fMTq8S51/cT526NSfbsL/pJ0vfWMklurxIZaIeB9wyR5Pfwbke6b3rDOmL99Ql/9/VUPWqlAbRyZ52wr0OOODc0TJwbu0Zu/+P4Hz6fILygjzh3VZl0Qg/TbeMVZeJc/V8s3qOfz6sR5zYOEed+UCbOec9+uwv6SLp9UG0y8FfriP074P9d6FYzG4aI9df//9etZ1S69Tim3a+eSRi+XCaNr9XPrhLn/rKfONet1y7b/QW7skyce3ZAkv8g+X+Y/KUcv+zPSNywm7S7ldq/DBxrwN9j5L+P/hLZsVt1z5I/g+f76+f+3qru6al60koDXTvSo3964MJBAvzZSgL8MiRj/3vwv08tEeDHuwnw6c0kGr+gSGw7RZMz8OSAAN8sE+C7ZRKN/1Aktg9/d7YveVI/ARYUiS/VXAbSMeAHMPK1+XFN/HK3zc8CSU43gGiSgfENdF3CcHVIgD9YToDPbyTWeT/uwNipcSDcToDHBsS2U9QaA88ICLB9NwHGLgUBJxaI1eHHrTh/JQFurhJbr0gG2mmg/rHKbhuwqd7dWQGJSv24LYc38APLHV7UTAaONdDK0xVZ7svfhOhPbY/10k6J+2vjjW6+y7LtvVj3T8rEuSUlYsfJHzf/+Or3y6QXDanPaRoYS2ztezh25jHNFmRT1+kFYv1+eT/Jpi2qNf8GOv4Mw/uHCfAXy0k0kmKRRCNSFYj9RfvvWwjwsJixnyX9NzsD/ozOj7cTYOwfKmuPHxL66esJ8K8hsfWKZKCVBg7UiO3RD5hmJd0ZHTnTcLh7N1RJd/ZVvWqBgfznNMe28H5HbCCkMQWWIY+NmOicv/nu2E9rKe8G/mEzcc7fhOqP71gCaI+z5r0fal9nGag/0zU2BHln9WE6rX3JOmL/fhYLZDp70md6wUDHnGHwQzJfuJoAHxshljEtLBBgLFEA/M13toWiTjDgzzR8bTeJXqYVEBsq2p9J+tAw6YQeqY2dYCBxhqHL3iHR6Bj4l9P59b8oEeDeGF+quQyMGch9wuDf0/7qAQJ8cZTY4Rsb4hT43nYCnFMktl5RZxq4ICDRy7uGSHQpqUSivpRi8ObVBPjHEdKZfVSr82Ng30Zi7Tm1QGy5W6OFC4j17v6QRG/NrRIrVyQDNJD7hMG/5vgfRogdtMcFBPj+dgI8qkhsvaLuMPD4gERPs2wgwNjz8VHfDicOrx4kwNdC0h19Vi/SM+BfeuZf3uZr7pl7GBo8Pq57Gfw3QfOjDeQ2YfjoMAHevZFYkx9TIMA3NhOgEGPrFXWngXMDAnx9iERv7Tz8Nk//1s4XLiTRJamQdKcD9ar1Bg6BAK6f2P7nOmLL3Ro1Gm9Gj1d26xGfWb9ylzBcERLgjZuIdc6//vkb2wlwepHYekW9YeAJAQHGRqoDHhwQezrm+QMEuKlKesOJejl9A/urJPn5U4skWd5tJY8sEvv/yPdv9yzilzSXgTEDuUkYbgMBXjxA7CY3/972b28mukdBX9wxA08PSDQy5xpiVm6tEuCiAQL4m2VtC0UyYAYOVIkt+2hukfil7p0fF12V5o9AsUqsnzdUiC0rkgEayDxh8Dc1vnw1AX5VJXZwPrqXRJesA2LlimSABl7aT4CX9ZOo4PDkR4782/XEl2ouA8ca2A+SnLp9pMf6Hp9VIlZ6Q43YsiIZoIHME4ZNwyS6aW2U2EEZez44+UNgWyiSATPwkc0EGHvttpW/KyS6t8GMKDraQKOEYW6PPFbpXdQ/XvnzUeLXai4DYwYySxh+WSXAO5YTOxyLCgT45AZi5YpkYCIDJ4MAX95MAH8pyz8m9prVJLrUFTPRnrSulwzUv0PC973XzjDUP165r0CAvTHeiua9biCzhOGNgwQ42EfsMPz9FmJ3wdsaRTLQ3MDSgESJ6HZi2/+0RoCPDBMrV9TbBhrd9Ngr9zD4o78wIH7J5rtDYsuKettA6gnDf4QE+JdRYvIv7COAv5nN1iiSgakbeNMwAZaWiH1+aDlJ3itjWyjqJQONbnrslack/LHW6669Cc0nMpBawuAHSFk3SKxJ8/oI8IENxMoVycBMDDwIBPj4BhIFh1/j689o/fV6MpMa9NluMKB7GMaO4tkBSR5RjceQdNLLJaklDFtCAlxdIab8HcsI8DtFYuWKZKAVBlYGBPjTYWJ7/NwwAarxZOWKesvAgX3E+uzH9fAJp63p7sjf5HlkJNXD3d29j3R339W7yRtILWF433piDXtoQIBXDhMrVyQD7TDw12tJtOfDZxruKxLg7zaRdtSofXaCgfqXTp1aI53Q8va08awasX1riGhzoSiFxyq/GRLgf0Jiyt+4gujmRjOiqJ0GlgUEeN4wsZo+UyEaGdKM9Fa0v0asz73yDgnr8bFRYjyGkBcljt1GS71roO1nGD68iZjgeTUCvHaYWLkiGUjDwJEzDYcruyckwCc2kTRaoDryZOBAgViLev4MQ4EjMpiPaoXocWQz0ttR2xKGX1QJcFkfMckvGybAvBgrVyQDaRjw76J4SkCsxktHCOBvzrU1irrZQP1jlf5afjf3eaK+PWYZsS38pTvd62NOejlqW8LwuRGSfAvcmlWkl5Wr73kwcNEaYi25sUaA74XEyhV1t4H6gZtOLZDu7vNEvTunSJJbXFslyXKV9JaBtiUMX7iEmMxlBQL8XkCsXJEMZGHghf0EOLFKrAWXXkJsWVF3G0icYeiRl041OqqLApJce21IkuUq6S0DLU8YKiEBflYlJvOitcSWFclAlgb8JbHnriPWkq+MEuC3MVauqDsN1A/c1GtDQtcf1YeDAPMLxNZet4fYsqLeNNDyhMGP5Fiv8wX9pL5UyzKQrYEXrCXWBn/X/H+FxMoVdaeB+oGbev0pCX+U6y9NXFsjfq3mvWqg5QnD5duI6TynRIAzi8TKFclAHgw8IyDArBFiLar/HtsaRd1gwN/cerBCrEdKGMZcLCoS86JLEuail6PZreq8fwvgletItNcwBitLpFW1dP9+bqkS4KdVAvwmBqi/1urHul8MEr3WOSDACTFRgaZJGXgoCPDYjQT4SQxQrhBgKGZSu9JGHWTgIEg0lWKOtPxUR44s9mxwzjISdX80BjeGBLgzBvG7Yfl2WE29ZaBlCcOPQpJ8++TKNaS3pE6lt18KCXDxegL8MiRT2cPYtn7kzIESid7WuIEAvX5NdrIm/UvPflIhwA9rRP9ATtZfp21Xn4D79vtE3C/36vzIzY/rQY4kVteXSZRgB6RX7fRuv1t2SeLHIUmKfGqRJMtVMmbAZ+4+Ufi9EolewzxEoptHywS42xHgfkeiv4TLBOiPJ+D2kAAf3EiAJy8kUXmMbDcz8NRVxLbyAzpdFRIrV9QdBupvdvS96rXXWvt+188XgSSna0E09aqBliUMu/YQ0+ifZ35kkVi5ookNjG4hwOuHCXBeQIAHx3Asb2IZ/uZ4Ai7qI7Zv/5TKXw0QK1c0voElIMlJ/0AmnXRDSf3Njr5POiM3ZuLIGYbD717xfnQvgzfRm/PWJQy1XREmcXGJ2LKiiQ08rESAhUUy8bbjrX39WpJc88URAtwTk1yvkjEDjwkIMLtAzMqubcSWFXWHgUYJQ6+P9OiP7hwQ4Ix+4kuB6/YRW1bUWwZalzCEuyJM3uICsWVF4xtYEhDgdavI+NtMpvTIXwR1G/ubu/ZUSd1KLR4x4F9nvKBIjhRjV4XYsqLuMFA/wqPvlc4weBNjcz0tcayPXl+accLg/3L9xUZiOo/cZWtFisYx8H8DAvzNMBlng0kW+YGIThghSEx3VUmiWAV1Bur/gby+Ruo20mLHG2h006PuYTj20C4qECvTJTpz0YvRjBMGf2rP9RNT+DAQTWkZuA0EuLefHFXr4WuQjw7IUeUKxzVwGohNtXiyZUXdYaDRTY96SuLY43vOAmJlt1UIcEeMlSvqDQMzThga/Y+nTD3dL9COkCTr/MNhAjwkJrleJcca8Dfr+tIDNeKXNO8WA/4Pnfr++Gv39eW9utzoUud1IelVK73b7xknDAerJClQCUPSSTtK/DsP/naQWA3HBwR4/1pi5YomNlA/0t/+kEz8Ga3tPAMHZhFr94kFAvh7WWxNb0cNH6/U2yt78osx44Sh0c1Dutu4td8n7/m6KgEuHSHAipUkei1zhQCnBQT41yECPDUg0DRJA3PnEdv47iKJLvXEWLmizjZQf2a0/sxSZ/euda0/OyDJp4f0MqrWOe6kPc14pEc/JHR9p2eDaJqugRuqBFg0QKIBm0KS3NujQYD3DBHgNcME8DdBJj+hkokMNPoL0ycMGnp7Inuds86/ZMy3uP7Mki/v9bn//8E/PXR9hQDXVkiv2+m9/s/4N/0UkOTkH+dLrlHJZAzMLxJg/QoCHAgIsLdKAP+Y5PdDArxtNYmGfl9OgNeuJcCF/cQGfIKmCQ3Un6r2l3ZOjkfPn/CjWtlBBmogNhXiyZYVHWvgnAIBro+JEga9vfJYQT2yNOOEodG9Cv4Ueo94bHk354MAbx8mjXfvE7N3DxLgfRUC/GiARJcmthLgK1uIXk7V2OTYmvq/POeMkmaf0vpOM7CvSqzVOiNnLsaLFpUI8K2QRAnD4SGiHUj0tteY8T6psm4yMON7GBrdq1B/jbCbpOWpL/6u7vduIMCr1xFr4ddGSfTWxUFi5YrGN1D/VISubY/vqdNL94HYVCgSW1Z0rIFz5hErOxQS4KYqsXJF3W1g5glDkecYkpLqM/jkFipph4G3rCXJPX98hOjmvaSZY0vqzzDMLZFjt9FS5xuoVYn1Y16B2LKiYw00erzyWj0tcayoLl+aecIAnmOIbrKrEbMVj0S8x5YVpWOgGE/2tISv1f8QXh0SX6p5vYEbasRKH10gtqyoOwzsC4j1RZckzMV40eIiSa7Ry6iSTrq5ZMYJg5ezqI/4JYCvojr6ZVS2RlEaBuZUSLKm+lOxyS16u+S6CjEH9UNF2xpFnWjAX3Pf30esBzrDYC7Gix5dJMBJo8S2uGYfsWVF3W2gZQlD/cum+CqqXWF3y5tJ7/zQqu8fJkCjx1OnW8fegCQ/XT/0cXKL3izx12L9mRhvYfEC4pc073QD/mbs+qHs5znS6b1rX/uPAwGWbCRWz84KsWVF3W2gdQnDssURJuvGkACHYqxc0ZgBP0LmW9cToNHQzlP1dX2VAPtGiX16foFE4zoExMoVjRlodC12cUBkqVsM1N+74Ps1r0j8kuaNDCwtElurS5zmoheiliUM5/5/9s4ETo6yzvu/cBjOTAdUFFjTKBIONc26XutBBVwVBDNxX12VBTp7qK+7msmKui66M+OCt07yrte6u6YR13M1E/EWmIr37qrp6AoEkHRAQQRJh4AQrnrrVzNP/klXejIzXdVdVf2r7+dD/+vpquf41pD5Tx1PeWQ3ZRUQ/NQnu5UrjAwcUiYm43s+sfW5Rv+2hsT3XlEl4YxtmlArLics+bFP4l+1/gMZ30IleTLQ7mZsJQwzO4onLSK27c11Es4TE2HlioppILGE4TSPhM/j1ojJumoDsXVFkwZaJwL62iYSTswUMXtLbqro99eI7f+kMgkfqxwjVq5oTwNXbSJWdnyJAMeUiZUryreBdvfwlEC07MtAuz8Mr/XJvvbW93k30PHETU7AkSDAk1cT4GcRwESdhL+wItzW+jwYxBKsb1UJ8OitJHxHRJUAp1QI8LgBYhOk3LydAN/2CfCLOgkrnFrO8gjwibUEWBDhvtWnM+DuHflulYSl4xE4fZC4rfRZFAPtEgY9JTGzI3wSSHy5pkGAp0XEv1dJMQwkljA4HUs9EiYMdQL8YJAAv49ANMHuIW7jPv50M6N9IiDAxiESeqsS4MY6CS/p1El45qFJTJibgfAJNQK8ukrCqaAvIHrplJmaPvovnwB3DxLbdukFxNYVFcOALkl0dhyP90g4Y2yNhPO6VAlwzSYCLQU3kHjCcPoyAqxZTewH6opFBHiJRwpudRbDq0YLUI3Y947usTCXcMz5Gsa+m+qLLb62nuw21DoIlg6Q3coVFsKAEobODqN7+drxq0mYKEQAVzdIZ3Vr7+wbSOweBjfUP/FIOJHTIHGlwKfWEFtXNDcDuxKFue2uvaYMuMTrMzViWp4zRICjysTKFRXDQOtLp9yodEnCmZjZ58llYtu6SxJWoqiIBhJPGNy1+ZeWiSm73CeI3hHXtGJFMtATAxt8AmxpEuvCeRcQW1dULAPb5xEb03yPAPMjrFzR9AZOqhDb5sYSAe6LsHJFxTKQeMLg9Jy3jLi18AepSYDP14iVK5KBXhi47FJiLbtrsn9aJVauqFgGtjeJjalUJ7auaGYGWh+vfMgnwPU+mVkd2ip/BlJLGNxjlo8rERPz8UuJrSuSgW4acDNsfn6QWMsvGSeInvXh0z5aimmg9R4GXYqY23FuvSThanH3NLh1fRbLQGoJg5tK9NUriUn7iU/sver2jSIZSN/AP4+S+FMRr11J0m9fLfTWQOsZhoEK6W2f8tj6iR4B9veIjeDqDcTWFRXLQGoJg9P0tyMk/jbLd6whbit9ykC6Bu4GAT7kE2vr6RUCPN8jVq6omAZiCYNeaz2nA30QCLAowqrQuyXMRRGj1BMGd8rvb0aIKfzhOAG+4xMrVyQDaRj40AgB7vCJtfC2MWLrioptoPUpCc3w2Nnxbp3I6RqfdFan9s6ugdQTBjf0vxsjwGERrhS4cJQAD0dYuSIZSMLA70CAD2wgVuOSEgHO9oiVKyq2ge0lYmPUa63NxVyi1qmir11Nkn/77lz6pn2SN9C1hMFNHT00Qmwg/+MT4N9rxMoVyUASBt68gsTPLFy8jthU20m0pTqyb6A5RKyfShjMxVyi1qcl3MyPWxpkLjVqnywb6FrC4CT8wzABjisRVwr8/RoC3B5h5YpkYC4Gvu+T8F0aQ8RqWOYRnVkwI/0RuTOYd5eJjXkgWmxd0ewMtHubq2Z+nJ3HvGzd9YTBTey0eh0xTXfWCeD+IrRvFMnAzA3cDwK8bhUJg6nXrB88ToDVa8nM69OWxTBwF0i4TP08uFG5e6zcuj5nZ2DXJYmpKdXd3rqXwZko1mfXEwanz71T4pxB4kqBWrQA/+ETK1ckAzMx8OZVxF5+5vZ520YClKPFleqzXww0GyQ+2oEyiZerZGYG3Ftwj64Q20cvozIXRYp6ljA4iR8fI+Hc/U3iSoHXLiXA5gaxckUysDcDX/FJ+NKzKrEtnuaR8ObaEWLlivrLQOuETW70Shicic4+Tx4kVsc1TWLriophoOcJw2PKJDyzsJGEN6HVSDixztRz8y9fToB7I4ohXaNIzsDNDRK+7XOUhPVOnXIeaBLgc2sJ8IiI5NpVTfkysB0kvuixyriTuZScVCK2p7sk4V7yZt8oyrOBnicMTt6LPAK8pU5cqZ1aXrGc6PFLM9Pfkbsm/ZLlBPidT0InU9dS124k4c21ZRKWa+lrA+0SBt3DkMyPRevTEu4PPpfQJ9OKaum1gcwkDE7EP40RwIsWVxr+pThOgKEVxMoV9ZcB9za8c04lYX4QLebgTeMEWO4RK1fU3wZ0SSLd47/r5seWZvTa6xYhOV/NXMJwAAiwfoKEZ5ijxSz/c40Al4wQK1dUbAMPgQB/vpyEM4TWiY35FVUCvHuYWLkiGaAB3fSY7s/BSR6Jt+EuTcS/UUkeDWQuYXAS3d23X11HwrvbS8R9C7xtOQl/QYwQK1dULAPuMclzlxPgi+PExvj8QQJcupYA7qVntoUiGUB0B8P2vYhw/87s5SsVzcLAo0GAR3rEdrxmK7F1Rfk2kNmEwWk9ukyAb24kwKPLJPx26ua2t46S8FLFKqJ7HJy3vH/uAAHOWkrskpQb1x95BPjSOqKbGp0Xfe7dwPZ5xL5z83LoZlhzkkR0IogtmsDJXBQhynzC4CSfUCbhqegJEr4lrUTct+HjdKsJcN4Kgmj6Hk7goyVfBm5rkPAelqUEuNInNobTBgnw7QkCHB5h3yuSgb0ZaL2HoTRC9ralyjoxcHKZWA3XgGgpioHcJAxO+OIyAX64kQDuJULu+0/XCPDspQS4sUHct/rMqgH31tKnLiXAT31ivXVTOn99HQH0OJy5UbRvA7HXWoPPR2hJ2kDr0xLu6aXfgmjJu4HcJQxO+GPLBJjYRoDneMR9C/zYJ8AfnUqAcZ/Y94p6a8DN7e9uXj1jOQF+3SDWt9cOkfDehQkCuKnFbQtFMrBvA7GEYWqejn3vqS1mY0A3P87GVv62zW3C4FQvBAlPXU8QILqVIfwF457H39Yk4WN2CwnwNytI+5ugXL36TMeAO+PzwuUkvHl1lISvw22SMCGYeufDv68lwEfHCLB/RDp9Uq3FN9AEsWWgQmxdUTIG2r6Myr86JJk2VEvvDOQ+YXDq3M1LHxwjwJe3EeCICgm3mrpJ8iM1AizeToBP1gigGcmcyWQ/HwAJ7zEZIcBTVhDginFibblLTT8aIMBfVIl9r0gGOjHQeoZBl7Q6sdl+3z8oE+CwcWLb6WkJc5HrKCj4Er2WfUsQnO6RIJg8WPHPpYMkCH46QQouJcXhPRyQIJicRyMInlghcd+TU4AHwWuGSBDcHZFix1R1Xxs4GsR+Dv+6SvpaSaqDn3yHi/mefPw51SZVeRcMFOYMQ7usbVGZ2CWLL08Q4A8ibK+JcQL84VIS3hNxKgGu8oltp2hPA+5ehMt9Ajx9KQGWLSXA9XVi+7iJuL63iAAfGyPAoRG2nSIZSNLAdo9YjQMlYuuKkjUQe7dE/ZqQZNtQbd03UPiEoVXpOR4B/jcgwMohAhxYI9i1fL9OgDOWEuD05QT4gk8AN0Xxrh36JLgTBPjICAFOOZUAL1lK7GZTp+OgBgH+eZiE328kwB97xG2lTxlIx8CDIMA9q4m1MRAttq4oWQMnLSFWp7uZud07PWxLRZk20IWzGLloYusWEgR/WyVBMPmLzk6pTR5EW598G2IQuFOb350gQfBQRC6GPG0n7w1IEHxpggTBYJUEwWRiZR5avRzQIPa98+guDU3bqL6UgYQN3BEQ+3l0P6//b5gk3Jiq22XAXZJ0vt3nDyfIrs0U5MwActbfrnX3N1tIELxphATB5M2T8X943P8I7tNt99IqCYIPDZMg+MUE6Vr399nQAwEJAvc/8CXDJAjO8Mi+EyY33sd7JAjWDJMgmIiW0FP01kjzde4Q2We3tIEMJGrgl1uI/Ry6n9vJqcQTbUqV7Wbgui0k7v0Ta8luGyrMlYF5rreT/yPpv+0M7AQBvuaT8OmKSwnwVY8AD1RJuME+Fnf38ImrCeBmsFy8iABP8AiiaWUGwroOi7AZDReWSfgY4tSp1h0NAmyLANxrZbc1CHDdJhJ+NgmwuU6AG0oE2OkT7HOZPKMCvHyIAOdfQMIJsjwCzIuwal6xnOw2pfPUa6e/u43E582wPRXJQHIGNvrE7k1yNbuX273EI65Un0kZcC+LO2whCS/hNgkw+QcY8N5hklRrqqdrBlzCoM+5GXCnPF3mfN4gCYLWu7InD2g8485a+ckVEgR/UyVBsG6CBNEFCl6imOly0xYSBJPzKti4n1EmQfQsBZ+m0CIDaRrYdcYr+h/Nfg79CZJmy6qbBp5SIeb9xR6Rm7wa4JuktXRg4EgQYEWV2KercnODABt8Et5suYGEf+k3SfiXv0+AratJOB9ElSCxZfKeAuD4QQKcWCHhmY0SCafWjhYgenWDB7gZNDvtgHse++/WkPB15BHAfzUI8GmfAOd6BFpkIBUD7W6y48TQPIOnJV0DbiKnn9UJcG2TpNumak/PgC5JpOd2VjW7py5+1SDhTJQNguidjXxro7vU4D7dzIfukkXr5xFlAhxTJsABEWFFXV5cfxfPI8AtEdavzVuIHqvs8mHpm+YurREgyudX2LBv3EKA48rEyhUla2BklADRx0h46bJGgN9fQICDIpJtU7WlZ0BnGNJzO6ua3f84x5dJuGs5YlZ1ZHFjl8hcspaEZ2Cixd4Z8b5RAowMkyyOQH3KswGXeLeOYaBMWku1nrQBd2+Wq9edQb1+EQGe7BH3rT6zbqDv5mHI+gEpav/OrxJgcgY4G+V7qgS4qUGsXJEMJGEgdkli6ubbBSBa0jbgLkm0tqPXXrcayce6EoZ8HKfc93I/kPCdEtHjl2Ew9Q/3fWUCXLSK5H6YGkDGDGyPFuvUYRXSu0t01pP+iBZ7xC5FuFFf6xO3ps+8GFDCkJcjVZB+Pssj4eOZI8QG9akRAnzfJ1auSAY6MdD60ildiujE5uz3da+jXzREbP9rNxFbV5QPA0oY8nGcCtfL94yR8KanEgmHN/U20TevInp7aOEOeI8GFEsY9A6JnhwJ93SWa1xPSzgT+fpUwpCv41WY3pajBVhVJTasH9QJ8EWfWLkiGZiLgdZ7GHSGYS4WO9/npAqxeq4dIoB7eZ19oyjLBpQwZPno9EHf3jpGgKNKxAb8llESzkQZYeWKZGA2BpoNYnu4GUutRFE3DCweINbSvYMEuLlBrFxRtg0oYcj28Sl87w4HAd6+kthwb/RJ+PrrEWLlimRgNgZaL0mUymQ2NWjbJAyc5JF4Tdc0SLxcJdk0oIQhm8el73r1mhECTE5NbcMfXUMQvVSbr9XWIgOzMdCsE9tjQPcwmIwuRid6JN6gnpaIO8lyiRKGLB+dPuqbm4nykjFiA9/WJMB7VhErVyQDMzHQeoZBU0LPxFry2zwaBDjSI1b/tduJrSvKtgElDNk+Pn3Xu0GPAKd7xIY/ViHAjQ1i5YpkYG8G7gcJ35IYzvLBeT7cMhAtbk2f3TawuEms1WsbxNYVZduAEoZsH5++7d27h0k4/KkJntzrw/9xDelbLRr4DA20Ph3hdtMZBmeiN5+tj1deUye96Ytanb0BJQyzd6Y9umDATSH9yhFiDf5HlQA/9omVK5KB3Q3oHRK728hOfOIiYv35bYMAv4uwckXZNKCEIZvHRb2aMvDOMQLM90hYODXB04VriDTJwN4NtEsY9JTE3n11q7TdzY+bfdKtXqiduRpQwjBXc9qvKwbcBE+vrxBrcsM4AS73iZUrkgEa0CWJbP4ctHsZle5lyObxau2VEoZWI1rPpIGLxkj8Lus3rSDAAxGZ7Lo61QMDShh6IH0GTR5XJrtNCT+1z7VbyQwq0CY9NaCEoaf61fhMDZRAgLedRmyvzQ0C/HuNWLmi/jbQOsOjs6GpoZ2J3nzuDwIcXyLWB938aC6yHClhyPLRUd9iBl43QoAnVIh9/Y41BLgnwsoV9aeBdvcwKGHIxs9D69MS1/kkG31TL9obUMLQ3o2+yaCBR4AAF48R6+CtdQJ8cIRYuaL+NLB9Htlt7FOP57qpyHf7RmEPDBxfJtbwltUEeDDCyhVly4AShmwdD/Vmhgb+zCPAUz1iO713lAC3NYiVK+ovA60zPC7wCKIT4jwlrqW3Bo5fQqwPbp6VmxrEyhVly4AShmwdD/VmhgbmgQDvHya2090gwLvWECtX1F8GWhMGvaUyW8e/9QyD690NDeLW9Jk1A0oYsnZE1J9ZGfCiBXjBILFdP1IhwC8bxMoV9YeBWMJQ5t0L/TH2PIzyiWUS7+n1PomXqyQbBpQwZOM4qBcdGnjvSgLMq5HwMcsqAYbXkA4r1+65M9CMFuu23lJpLrIQPbZMgEM9Yj26YTuxdUXZMqCEIVvHQ72Zo4ElHgFe6ROrxE0l/VOfWLmiYhtonYehFC3FHnOeRucuKT6hSaznuiRhLrIYKWHI4lFRn+Zs4JJhEp9K+h9GyZyr1Y45M6BLEvk4YK2XJq6vk3z0vR97qYShH496gcfsppJ+TYXYQL/pE+AKn1i5omIaiCUMJV6UKOZY8zyq4yvERnDjCAEeirByRdkwoIQhG8dBvUjYwNvHCLCgRKzyN60iwMMRVq6oWAa2l4mNqfXnwL5R1EsDxy8i1gN375EerzQnWYqUMGTpaKgviRl4JAjwxpXEqq1HC/AFn1i5omIY+D0IsNMnNqYjAmLrirJhoPWShOvV9Q3i1vSZFQNKGLJyJNSPVAy8cYQARzWJNfHW5QS4P8LKFeXbwLYGiY9hYZnEy1XSWwPt5mPQ45W9PS7tWlfC0M6Mygth4FAQ4B/HiA1pS5MAHx8hVq4o3waUMOTr+B1dJnq8Mi9HTQlDXo6U+tmRgb8eIcATK8Sqesd6AtwVYeWK8mlgG0h8WQiiJWsG9Hhl1o7I9P1RwjC9H31bEAMHgsRfWnV7nYQvrRolBRlsHw9DCUM+D37r0xJ6vDKbx1EJQzaPi3qVkoGXeQR4pkeskQ+MEOA3DWLlivJlQJck8nW8XG9bb37U45XOTLY+lTBk63ioNykbcKdA3z1MrDH30qpLRomVK8qXASUM+Tperrd6vNKZyPanEoZsHx/1LiUDp3kEeJFHrJGPjRBAU9SakzxF2+YR67F7t8gCEC1ZNdD2aQk9XpmpQ6aEIVOHQ53ptoH3DBN7adWDZQK8fZR0uzdqr1MDrWcYSkME2C+i09q1f1oGWi9JuHZu8Ilb02evDShh6PURUPs9NfAUjwDnjhPrymeHCPATn1i5omwb2NYk1seFFWLrirJpQI9XZvO4tPZKCUOrEa33pYF/GiPxl1ZdOEr6UkkuBx1LGPQ4ZS6Oo7u36PF1Yl3WpUFzkYVICUMWjoL60HMD7qVV/7dCrDt+tADf8omVK8qmgVjCUFoYks2+qldxA2WPWPnWBrF1Rb01oISht/7VesYMXDRGgIFBYp1783Kil1aZkWxGTRBbNGGTuchDtKhErKeNaLF1Rb01oISht/7VesYMuJdWXbiEWOc2NQnw2RqxckXZMtA6cRPPL+gMQ7aO0XS9WRQttsVdTYIoDdw9EbQtFHXTgBKGbtpWW7kx4F5adaxHrNsXrSLh2xAjrFxRNgy0PiWhl05l47jMtBetlyTcflt94tb02SsDShh6ZV7tZtrAwSDARRcQ62qjSYB/GSFWrqi3Bu4DAe5rEuvLwoDYuqJsG1gEEl8aIFp6bUAJQ6+PgNrPtIG/qhLghBKxrl68nuilVWakt1HrmQXXG51hcCby8akzDNk+TkoYsn181LseGzgABLhkHbHOuJdWvX+UWLmi3hholzCUyqQ3fVKrszfwKJD46663biezr097JGtACUOyPlVbQQ38H48AzxokNsgP+gS4tUGsXFF3DbTe7Oha11MSzkS+Ph/XJNZnPV5pLnoZKWHopX21nTsD715JrNv3+AT4pzXEyhV114AShu76Tru12OOVU/cOpd2u6p/egBKG6f3oWxnYw8DzPAKc5RH76l9rBLjGJ1auqDsG2l2S0D0M3fGfdCvlCrFat4Jo6bUBJQy9PgJqP5cG3Oux3dsQH2wSYHgNyeWQct1pJQy5Pnyxzi8aIFZ8h0+AHRFWrqi7BpQwdNe3WiuIgSd7BDhvnNigvjBCgB/6xMoVpWug9bXWqEdgICLdtlV78gYWlUm83pt9Ei9XSXcMKGHojme1UlAD7xgj8ZdW/f0qUtBBZ3BYre+QGBghwP4RGeywujStAfdul9aNNB9Dq5Hurith6K5vtVYwA+4vob+pEBvcd+oE+LpPrFxROgZaL0ks9Ek6banW9A24/69aW9KMj61GuruuhKG7vtVaQQ28bYwAR1SIDfIty4leWmVG0olan5JYWCHptKVa0zfw2DIBDioRa2/rPGLrirprQAlDd32rtYIacM/7X7iM2CB/3iTAf9SIlStK1kDrJQl3PJJtRbV1y8A8EODYCGtV8zGYi15EShh6YV1tFtbA0AgB/iDChvn2VUQvrTIjyUaxhEFvqUxWcI9qa50qWq+77tGBmGpWCUNv/av1ghlwL616+1pig9vaJMBHRoiVK0rGwLY6sbr0WmtzkeeodQIn9/9RnseU574rYcjz0VPfM2vgL6oEOLlCrJtuRsjWa+62haK5GLizQWxPTdhkLvIcLYoWG8GtNRK+lXTq7aT2jaJuGFDC0A3LaqPvDLjH+S4eIzZ8d+r8A6uIlSuam4GdIOEvkDKxOvRaa3OR5yj2eGUFBDc3SJ5Hls++K2HI53FTr3NiYLlHgGdXiHX6A0ME+FWDWLmi2RlofZzS7a0zDM5Evj/bPl7Z4O2P+R5bHnuvhCGPR019zp2Bd48R67b7i/jiNcTKFc3OgBKG2fnK29btEgbd/NibI6mEoTfe1WqfGXiOR4BzBokN/t/qRC+tMiOzi9rdC6LHKmfnMatbH1smwAElYr3cGi22rqg7BpQwdMezWpGByMB7VxL7B/AhnwBvX0MkabYGlDDM1li+tnf3Aj2mQqzvtzSIrSvqjgElDN3xrFZkIDJwokeA8weJSfniOAF+4BMrVzS9gSZIfNE9DHEneS45pkFsBL9uEFtX1B0DShi641mtyMAeBt4xTICDx4l9pZdWmYuZRNt8Et+yVCbxcpXk08DRFWJ9v6VObF1RdwwoYeiOZ7UiA3sYOKZMgNf7xL76bp0AX/WJlSvau4HYJYmp11qXQLQUxcDRJWKjuaVCbF1RdwwoYeiOZ7UiA3s18NYxEn9p1VuXE+ChiL3uqsLQwLbtxFQc1iDhPSIRVq4o3waOXkRsDL/zCXBvhJUrSteAEoZ0/ap2GZjWgPtL+C3LiG3qXlr1qRqxckV7GnATYbnSI6rEremzKAaOLpP4aG5tkHi5StIxoIQhHa+qVQZmZeANIwR4XInYrheNEv0lZUb2jFrnYdDjlHv6Kcqau4TXOh49LdFqJN11JQzp+lXtMjAjAweBACNjxHZxd4N/eIRYuaJJA61nGBZWiOwUzcDRIPHlFhAt3TKghKFbptWODMzAwPlVApxSIbbDO9cQ4M4IK+/3KHaGQa+1LuSPxNEeiQ/t1z6Jl6skHQNKGNLxqlplYE4G3EQ17x0jVoX7S/riVcTK+z3aViFmQa+1NhdFitylpkM9YiO7dR6xdUXpGlDCkK5f1S4DczJwlkeAPxkkVsWHKgS4oUGsvF+j1scqlTAU+yfhsXViY3SX7KxEUZoGlDCkaVd1y0CHBt63kgDzagR4oEqAi1aRDivP8e4PgAD3+MQGsnCA2LqiYhlofVpCNz129/gqYeiub7UmA7MysMQjwHnjxHb9/DgBvu8TK++XqPXMghu3O3Xt1vVZLAOa8bG3x1MJQ2/9q3UZmJGBd46R+FTSF44SIIiYUVWF2Kj1Zkc3KL1Dwpko5ucxJWJj+3WF2LqidA0oYUjXr2qXgUQMuOfQh3xiVf7IJ8CXfGLlRY+UMBT9CO99fI8dIPaduyS1HURL2gaUMKRtWPXLQIIG3FTSR5WIVfzmUQLcH2HlRY10SaKoR3b6cR3jkfg2t/gkXq6SZA0oYUjWp2qTgVQNHA4CvG0lsaZu9AnwsRFi5UWNdIahqEd2+nFpAqfp/aT9rRKGtA2rfhlIwcBrRwhwUoVYAyNrSPEneFLCYMe8n6LWpyTc2PV4pTOR7qcShnT9qnYZSMWAexvjJWPEmnATPL13lFh50aJ2lyQGQLQU1YC7l6d1fHq8stVIOutKGNLxqlploCsGlnsEeI5HrMk1qwmwtUGsvChR7LXWOCwEeEREUUapcbQaOBgEaJ2g65atpHVrrSdtQAlD0kZVnwz0wMD7h0nYcD0C9zUJ8PejpAcdSrnJ1jMMmn8hZeEZq7710sQtTZKxThawO0oYCnhQNaT+M/AMjwCvWk1s/J+tEeC7PrHyvEfu0osbh95S6Uz0x2drwvDrJumPsfdylEoYemlfbctAwgbeM0yA1pf0DI0S4OGIhBvtQXXNBrGGNWGTueiHqHUCp1vqpB9G3tsxKmHorX+1LgOJGji2TIA3esSq/qlPgMtqxMrzGm2rE+t9qUlsXVGxDRxdIjZGlzAUJSG2kWUrUsKQreOh3shAIgb+fpgAjysRq/ItqwiwI8LK8xbF7mEo8xxD3kah/s7VwNEDxPZ+sEyAOyKsXFGyBpQwJOtTtclAJgy4u8kvHiPWpduaBHjfKLHyXkUPgdg/9Dc2SHjvpk/s5VpX+AS40ifA7TWCXcuBIMDvI3YVKyiogaM9Eh/cr30SL1dJMgbmBVNLMtWpFhmQgSwZcC+leu6pJPwFXCfAQQ0CXBsQYFGZJNfzRrTYzZbXbCLA5iYJP+sEuKFEgJ0+Sa5997z+4jIBTqgQYPEAAf7II4C7WdQlHMn1QDWlaeC/fAI8cymxlr4yQYAXe8TKFSVjQAlDMh5Viwxk2oB7SdWzFpKwq5UIvKJKgM+sJTMfwp0gwNd9AkxcSoCrxgmwpUlmXl+vtnQ3hz4XBFh6GgFe4JFQk0d61Tu1287ALxsEOP44Ylt9ci0JXwdfJVauKBkDShiS8ahaZCAXBs5dQYBP14h1+TsTBHiuR6zcvczqaz4BPrmGAF9rkpmfGTigQYAneAQ4sUzCv/grBCgPEODwMgEOK5PwMwIoRQD3RgB3R9inmyr6dw0SnsHYSsLPBrEzGq2PY2IfyykVEv4CWkaAc6sEcDeX7mN3fZ2Sgd+CAEfNI9bIh4cJ8LoRYuWKEjLgLknoUwZkoPgGbt5CgmDyL+sgmPxnJAj+0CNB4L5/4xAJgiM9Ytu57Vs/DxsnQXD2IAmCDwyTINg4QYLggYje+71lCwmCz06QIHjNEAmCJ1bIvsc5r0aC4AWDJAi+NUF6P65+68G9AYkfr3cPk36z0b3xontNqSUZkIGsGPjHERL/B/eAEomXuwRhYJAEwV9VSRD4EyQ7CUGnfrduIUHwvmESBE8ukfY+nJenV0gQrJ8gQfBwRKe90f77MjB55sqOz0VDZF976fu5GlDCMFdz2k8GcmjgjoAEwV9USfgPbTSVtP2D634Bus8zPGJ/kbu/7HI49I667M6UrBoiQbCgRNp7W1IillB11Lh2bmtg8p0SdhzeMETabq4vOjSghKFDgdpdBrJswP2le+laEgSPqhD7B9YlBu7z+YMkCH44QbI8st727a6ABIE7Bb6vSzfuUo275NPb3hen9cl5RuznecUQKc74sjYSJQxZOyLqjwwkYODqCRIEzxok9g+qSwzc5+TjZ0GwaYIk0HCfVrEjIEHwzmESBJM3a8a9DzRJEHx0LelTWQkO+0llYp7/zyBJsAFVtYcBJQx76NCKDOTbwORjZe1/YU3OTxAE7oxDvkeb3d7/egsJgvMGif1Cc4ma+1zmkSC4MyK748lqz1oT4hd6JKu9zX+/NNPj5P+5+q8M5NKAm9lwRbQA568g9rjh/h4B3jxEwscLt5BwuyrJ5ZBz0Wn3NsVPriPANyZI+PhoidgQ1vsEeOpCAvyPT+x7RdMbOBzElrtKxNYVJWtACUOyPlWbDHTFwK8aJJzpbiEBatFiTT+2QoBvDRPgPWMkfItlhG2nqDsGJv/yBTZuI8DyQWJtu4munr2VAJfWiH2vaO8GWhOGHXWy921V2rkBJQydO1QNMtA1A9f6BHj2qQT4eZNY80sHCfCTdQQ43SP2vaLeGnATUH1pHQH+ZS0B5nsEeKBKgOqpBBgZJb3tc5ZbX1Am1sMdTWLripI1cECy1ak2GZCBNAz8t0/COfJHSfiypiaxliYf9wPeP0aA/SLse0XZNPDqKgGeXCbA2U0C3FkhwGgEcFeTAB8YI8C8iGyOqZu9ip1hKO8I6WYP+qyt/N+GoRHIQHEN/GCCxGdmdPMnvGuYFHf8/TayX0yQIPgDkPjNkpMJhiaGcj8XbqKmyV/bQeAmcnLf6zNZA7ok0WcJooabDwNX+yT8i3MVAe7xCeBuYvz4RgL8/QjJx5jUy30bONkjwI+2EOApFWL7fbxGgH8cJVber9GCAWKjf7BMgPsirFxRMgaUMCTjUbXIQCIG3M2MZy4n4anpOgmrjmZkBD5+AQH+ukoSaVKVZNCAe8riyo0kfEnX1Gu6XVcvHiHA6hHiSvvv8yCQ+KKEIe4kiRIlDElYVB0y0KGBu0DC1yovJ8BNTWKVvncdASandLZyRcU28EiQ8DXiEwRwT7+4Uf/dcQRY5xNX2j+f80Hiy84GiZerpDMDShg686e9ZSARA/93BQGuqROr8k0jBHCf9o2ifjJwXJmEj8mOEWDyHQpAUCXhvBrbib3Ou1/cHFQm8dHqDEPcSRIlShiSsKg6ZGCOBj5WI8Cna8QqOWeQhPMnDBMrV9TfBp7kEeA/1pHQxdSlqrsHCXDuCgLsjCi+q/llEh9nv4w/PvJ0S5QwpOtXtcvAXg383CfAqqXENpm8Ox74xDqix+fMjKLdDZzpkXAGzxqxb37iE+DCFcTKixq1vYehcV9IUUfdu3EpYeide7XchwYeBAn/ElxOwru5ywSYfBwM+OwEQXTlmteutcjAdAYuGSPhRF4VYlt+qEaAK3xi5UWL2t7D0CdnWLp9PJUwdNu42utrA/9vhMRnaBxZS4A/9khfK9LgZ2HgAJDwktY6AiwoEavgb1cQ4P4IKy9KpIShu0dSCUN3fau1PjXwmwYB3rGJmIQTSiQ8hTxCrFyRDMzGwOPKJJxKeiWxPTc3SDgD6Aix8qJEbS9JaB6GVA6xEoZUtKpSGdjTwMpVBNg+TsLvpm5W+9g6Er5LoM3jYXvWojUZmN7A60dIfMKni08lwNYGmb6OPH3b7v8b3fSYzlFUwpCOV9UqA5GBTT4BPj9CTMq5NQIs9YiVK5KBTgy4SxQfGSNhTVOJ6b2DBLh4lHTSQrb2VcLQ3eOhhKG7vtVanxm4eA0JB12J2HVz4ztXkj6ToeF2zcCzPQL86QixZi/1CHBzg1h5XqO28zDoKYlUDqkShlS0qtJ+N+BeQ/3FQWI2LhghgLvmbN8okoHkDbxtJQnrnTrT4F6f/b5Rknx73a5RZxi6a1wJQ3d9q7U+MfCuNcRm4nMvjXrLMOkTCRpmzw1UPAKcNUSsO/86QoDbGsTK8xa1e417AKIlaQNKGJI2qvr62sCdIMDnmsRUvLxEgCeWiZUrkoFuGLhomFhLbv6PWrRYed6ieSDxRQlD3EkSJUoYkrCoOmRgysDnRkg4Na9PTMtrVxJbVyQD3TTg5vdofV32J9eTbvYk2baUMCTrc1+1KWHYlyF9LwOzMHDZJmI7LCoR4LkesXJFMtALA+ctI9by1XUC/NQnVp6XSAlDd4+UEobu+lZrBTVwQ4MAPxwhNsjzh4jeCWFGFPXSwKuqBHD31Li+XLaeuLX8fCph6O6xUsLQXd9qraAGvlgj4eCmHp90wzzvAuLW9CkDvTVwdJkAZ5SI9eU/68TW8xLNKxPElqBBYsUq6NCAEoYOBWp3GaCBKzcRc7G4THSToxlRlCUDZy8h1qNf+QS4rkGsPOtR2zMM5SAk673PX/+UMOTvmKnHGTLgXurzgyaxjp0+SGxdkQxkycDpHon36CqfxMuzWtI2YdAZhlQOmRKGVLSq0n4x8COfAPf4xEa9dBmxdUXpGHCvb375cgJctIqk01aRaj3ZI8BRTWIjm1hPbD3rUduEIZyFIch653PYP74ZVYsMyMAcDXzHJ7vtPDWjnreE7FauMFEDt4MA568iwK11AjzTI4k2VcjK3C/a06sE+EwE4NdJfobsxtHaY83D0GokmZcWJrYAAEAASURBVHWdYUjGo2rpUwO/2Eps8I8fIsCjIqxcUbIG/mo5sUQh2dr7p7anLyE23t82CKJ0jAlZ1hclBt09QkoYuutbrRXMwLV1YoNaXCK2rihZAx8dIcCXx0mydfdjbSd4JD7y630SL89ayQMNEu/VgWUSL1dJZwaUMHTmT3v3qQH3l80NdWIS3NMRVqIoCQPX+AR446kEeKpHkqi5v+s4oUziDjY3SLw8ayUPgsQX95rv+Dcq6cSAEoZO7GnfvjXwqwYB7o4wDYuXEFtX1JmBB0CAC0YJcMQQAT48TDqrW3sDx5UJMN8jZmTzVmLrWY2UMHT3yOimx+76VmsFMXBzg8QH8/gyiZerZG4GLholwI+rBPj2IgIcWSZzq1N7mYH9QcLXrTcJcH0EcFOd2HZZjZQwdPfI6AxDd32rtYIY2AESXwZAtHRqwD198kGfABc2SDhDoUc6rV37txoYKBErbffzbVtkI3qwQeJ9OaBM4uUq6cyAEobO/GnvPjXQ7h/Uw0G0zNVAEwQ4bzkBnhIBXDxM5lqr9tuXgcNLxLZq9/NtW2QjcpesWntzIIiWpA3okkTSRlVfXxjY0SDxoR5eJvFylczMwGuXk/CxvhoBvjlAgEdEzKwObTV7AwuaxPbb0SS2ntVIlyS6e2R0hqG7vtVaQQzc3SDxwRxWJvFylUxvYG2NAJ8bJ8DYRgKc6JHp99W3nRtYUCJWjxIGc6HIDChhMBeKZGDGBtzNYq07PAyiZaYGbmwQYGgVAc4cJMCrR8hMa9F2nRpo/Uu93c93p+0kvX9rv139eqzSmUj2UwlDsj5VW58YaHfpod2lij7RMuNhun/o/3wVAQ4qEWDtGAHaTfk74wa04awM3NUktssCkOwvO0Hiy3wQLUkb0D0MSRtVfX1hoN2lh10JQxlESxsD/zRKgB+OEOCr20j4MqQyabOTilMz0HoJovUmyNQa7rBiJQwdCpzl7koYZilMm8sADbR7GiIvd5f36ih+3yfAJT4BVjUJcNYY6VWv1O5dILa0O4NmW2Qjug8kvhwEoiVpA0oYkjaq+vrCQAkkvtwBoqXVgPuF5B6XPBYE+OthArh7GVr3a7febuKs+5okXp+7Jr+oTNrV2r/ldzaIjT8v84m0TRjKB4XYeBQlY0AJQzIeVUufGXi8R+KD3vXSHg9Ey5SBq3wCbGkS03LyUmLrnUb1aAGecByx2h5bIcAtG4mV93t0Lwhw82oSBtUIPGERyb6dnQ0S76fuYYg7SaJENz0mYVF19J2BI0CAR3rEhp+XOfitx92J3Mu6utOaWpmpAZfgBlViey32iK1nNWp7hkGXJFI5ZDrDkIpWVdovBhY3CaILEbwUsblO+mX0Mx/n08sE+PwEmfl+7bb8jU+AN4wS2+qJFRLeIzFGrFzXtM3F7tFmkPhyAkj2l7ZnGMrzQ7Lf/7z1UAlD3o6Y+pspAydWCPD9OgGubZJMdTETnTmmTICXlUnnXbqhTMJ6RiN2VXhkiYTteGRXsYI2Bq71yW5f1kHwxCVkt/KMhjrD0N0Do0sS3fWt1gpmoLKI2KB+2yDAdQ1i5YpkIIsGvr+BWM9O8AhwaISVZzVqlzDoHoZ0jpgShnS8qtY+MbDUI/HBTtRIvFwlMpAFA/eDAN+LsB6dUSW2nvVo53ZivTywRoD9IqAlYQNKGBIWqur6y8DJHgknHGoSG/vEJmLrimQgSwZ+5BPgHp9Yz5YuI7ae9ah14qb5JZL1Xue3f7qHIb/HTj3PgAE3hfHSIQJ8NgKYqBPAPR3gtstAlwvRhceUSfwmyiNBtOzLwMQGsttWU/cueEvIbuUZD928G66bB4+QcG1ZhCvWZ0IGdIYhIZGqpr8NPP80Yg7cvQzf8YmVK0rGwGEgdnOju8nxdI8k00aRa/nPGrERnjpEgEdFWHnWI51h6O4RUsLQXd9qraAGXlolwHyP2CAvu5TYuiIZ6KWBjT4B/rdBrCevOI3Yel6i1jMMB9VJXnqfv34qYcjfMVOPM2hgIQhwdolYB78wToDfR1i5IhnohYHL1hNreV6NAK+qEivPS9T6lIR762le+p+3fiphyNsRU38zbeC8lcS66F4bvL5GrFyRDHTTgHud+KdHiLV8xjgBji0TK89LFLskoQmbUj10ShhS1avK+83AWR4JrwVXiI1+zSixdUUy0E0Dn60R4LYSsZbPX0ZsPW9R7AxD86CQvI0iP/1VwpCfY6We5sDAgSDA6waJdfi/GgS4widWrkgG0jTwMAjwnlFiLbmXcb2sSqw8b1HsDIMeq0z1ECphSFWvKu9XA6uGCTAwSMzCJaPE1hXJQJoGvuST+E2Ob15GEL2i6aA0O5By3ffViTWid4aYizQiJQxpWFWdfW9gAAR4bYWYDj9agO/6xMoVyUCSBtyZhUtWEavZXSp79Qix8rxGO0vEeq+Jm8xFGpEShjSsqk4ZmDKw6gICHDxOTMvKUQI8FGHlimQgCQP/XiNAPVqsxlXLCHBIhJXnNXJTXLv+PwJES1oGlDCkZVb1ykBo4KgyAd66kZgS9zz8R0eIlSuSgU4M3AkC/MOlxGp6XImErwMfIVae9+j+BrFRKGEwF2lEShjSsKo6ZaDFwFtGCLC4TOzLi9YQ4JYGsXJFMjAXA29eQYA7fGI1fGgdyc9bKK3n00exMwylR4RMv4++nbsBJQxzd6c9ZWDGBtxfPmvWEtvNzdPw+lFi5YpkYDYGrvQJ8O9DxPY8Z5AA53jEyosSPVAmNhqmC0oYzEfSkRKGpI2qPhmYxsALPQK8fJDYhl+qEeDDI8TKFcnAdAZuaxDg3FNJuGUlAod6BFgzRqarId/f3V8iNgb3WLOVKErSgBKGJG2qLhmYoYGPrSPAcSViO71xAwF+6hMrVyQDuxtwT0Gct4rEJ2T68AUk/Pkqk933LFa8c4jYmNyZPCtRlKQBJQxJ2lRdMjBDA+7dE59eR4ADGgTY6RPgFasI0IyYYaXarG8MvGOUAN8eJzbsFUMEuKBKrLyo0YNVYqNTwmAu0oiUMKRhVXXKwAwNPNMjwLvWEtvp+joBzlxKgHsi7HtF/WngUzUCjA4Sc3BKhQAfGiNWXvRo52piozywRGxdUbIGlDAk61O1ycCcDLxxhACvHCRWxY98El6jXko0b4OZ6a/oKz4BVqwi4din7lV4pEeAL64jxZlfYV9H181fElSJbX1gQGxdUbIGlDAk61O1ycCcDMwDAWrrCPCCQWJVrfcJ8JoVBAgi7HtFxTTwfZ+EN8luJ8CDTRI+Hjl1U+NXhkn8cd1i2rBRtT5O6b7RJQlnIp1PJQzpeFWtMjAnA+4fvHXRAjxrkFhVbga/P19BgAci7HtFxTDgXlL2ou0EuHeQ2L0uXxgmwDM8Uowxz2YU7X7u3f8/s6lL287cgBKGmbvSljLQNQNu6t716wjwpDKx5j9dI+Hz9UsJcHeEfa8onwYuq5Hw3pXjSHhcB0mYKJQIcOkECb/3SD7HmESvHwSJL/uDaEnLgBKGtMyqXhlIwMCjQIDvbCHAsyvEKv6mT4AzTiWaMdLM5CNyl5beNUKA808l4aWHMrF3kLgzTq+qknyMLc1eusdKW9vYD0RLWgbkNi2zqlcGEjTgHsO8ciMBXlol1sB/1wmwZAUBvu4T+15RtgxsBwFetpyE734YJWHB1M2MC0sE+NYAAc72SLbG0MvetE0YyvuF9LJnxW5bCUOxj69GVzAD80GAz60l4euzh4gN0r1D4MVbCXDRKhL+xdrmFK7tqagbBtxNjE+eR8KnG8aJtfzECgG+t44Az/GIfa9o0sDDDRK3oTMMcSdJlihhSNKm6pKBLhk4AAT46BgBPr2WAIeNk/Apiurk42bvXE3CmyeXEuDHPulSJ9UMdkQAb1xFAG85AW6OMEGvqJLw+GwkwMkese8V7Wmg7RkGXZLYU1TCa0oYEhaq6mSgFwZeWSXAT5aQ8Mx2tFhPXKLw9K0kvFa+nIRvNYyw7RQlY+Byn4Q3qy4kwAdXE3sscr5HgNXDBPjMWgIsiEimD0Wuxd370TpG93hya7nWEzIQaJEBGSicgXsDEgRvHyFBMPkLKggm/9mwz0eXSRB8YJgEwd0RhdOR+oD8CRIESweJ+W31/bwKCYL/nSCpd6uwDdy0hcQ9f2ItKeywez4w9LwH6oAMyEDqBm7YQoLgzEES/4fW/WI70iNBMDxCguDOiNS7l7sGvjtBguAMj+zb57+sJUHwcETuhpu5Dje2kLj32lqSue4WpkNKGApzKDUQGZi5gf+cIEEw+Q6C+D+8LoFYUCJB8JdVEgQbJkj//OL71RYSBO8dJkEwOR9Ge1+TMzAGwYVDJAi2RQRaEjZw4xYSPw6fXEsSbkzV7TKghGGXCgUy0H8GHgpIEHxpggTBUz0S/4fYJRDus1wiQXDREAkC9xf3/QHJ37IlWoLg39aSIPiTQRIE+3ukvY+BQWIebg+IlrQNuDNm7ufRfX5qgqTdev/WP88NfVK4/isDMiADgJsQ6uOXEuCrDWKv327nyL3j4LkgwOmnEeBUjwAnlAnwB2WC6A0a4dOFqS3uKYXNPgGuaRBgQ7QAEw0C3OgT7HM5uULCl0AtI8BfjxBgIGKfu2uDhAxc3yDhz9NxxCp1Twu5m4DtG0VJGFDCkIRF1SEDBTewDSSc/6FGgMvWEOAHNRJ+MTXhUBjNaDl4nIQvTRohwHFlEj4WGgEcXiLhZ5kApYCE71SYR4AdTRJOndwkQDNagNubBNjcJMCtdYJZL27ipG1NYrtfPkE0kZIZ6U20uUGAE48j1ofPThDgzzxi5YoSMuDOMOhTBmRABmZr4LaABMHkP9RB8OoqCYLJCYjan8qf/Oerd99PzlcRBC/2iD0lsnGCBMGOiPjTJUPRMltL2j5pA9dMkPjPz+cnSNKtqT5ngHO/aJEBGZCBORl4NIj9Rdf6l91vGgS4ukGA6xok/NxEgGsbBLitScIzBRF2BmHHOAHuK5PwEkaNhGcchojNW3BYmYTlEeGpao+EnwPE1heDhGc2PBK+1GkZCQvaLM9okvBdHhHAlTUSbjwW0WYvFadt4CGQ+KKXT8WdJFmihCFJm6pLBmRgDwOPKRPAfZ4OMoeldaaeC0BSX85YRsKEoU6An/sEcImQG1fqHVEDexholzBoaug9NCW+opkeE1eqCmVABopiYHKehd1GM3WvRjRPk79bucKuGmg3NbTOMKR7GJQwpOtXtcuADOTYwDM8El76iOajsIFcuYHYuqLuGtAZhu76dq0pYXAm9CkDMiADLQbcS76e5xH78tvjxNYVddeAzjB017drTQmDM6FPGZABGWhj4IwlxL68qUmAGxrEyhV1x4DOMHTHc2srShhajWhdBmRABloMxO5lmPp+11MTLdtrNV0DOsOQrt92tSthaGdG5TIgAzIwZeBJHgGOahLTcuUmYuuKumNAZxi647m1FSUMrUa0LgMyIAMtBuZFk1gDZwwR+/KqJkE0K8De5gWwLRUlaUBnGJK0OfO6lDDM3JW2lAEZ6HMDLziNmITf+QT4b59YuaJ0DegMQ7p+29WuhKGdGZXLgAzIQIuBF3okLKxH7Pr2GxvIrlUFKRvQGYaUBbepXglDGzEqlgEZkIFWA25mxz8cIvbt131i64rSNfAgSHzRxE1xJ0mWKGFI0qbqkgEZ6AsDZ1aIDfXHVQL8NsLKFaVjYCdIfDkIREtaBpQwpGVW9cqADBTWwJnLiA0vqBLgWzVi5YrSMdAuYZhfJum0qVoBJQz6KZABGZCBWRp4pkeAIz1iO399A7F1RekY2Nkg8bofAaIlLQNKGNIyq3plQAYKa8BdK39+idgwv1EneszSjKQTtT3DgPkhWtIyoIQhLbOqVwZkoPAGWi9N3FknwP/4pPDD79kA251h0CWJdA+JEoZ0/ap2GZCBAhs4s0qAeTViA9WlCXORRqQzDGlY3XedShj27UhbyIAMyMBeDTwaBDi1RmwTPWZpLtKIlDCkYXXfdSph2LcjbSEDMiAD0xo4yyO2iR6zNBdpRDvnkd1qnppI60AQLWkZUMKQllnVKwMy0DcGzjyN2HDdY5bfqBErV5SMgfubxOo6yCO2rigdA0oY0vGqWmVABvrIgHvM8qgSsYF/eT2xdUXJGGi9JDHfI8nUrVraG1DC0N6NvpEBGZCBGRnYL5zShv+YvmiQ2C7fHCfAfRFWrqgzAzubxOqYXye2rigdA0oY0vGqWmVABvrQwDkXEBv43SCAHy1WrqgzA/eC2HJwk9i6onQMKGFIx6tqlQEZ6EMD7m2WB5WICbj8UmLrijozcE+TWB2HlImtK0rHgBKGdLyqVhmQgT40cBgI4FWICbi8RoAgwsoVzc3APSC2HFoitq4oHQNKGNLxqlplQAb62MA5pxETcDMIsMknVq5obgaUMMzNW6d7KWHo1KD2lwEZkIEWA8uqJCycmh/Aff1ln7g1fc7VwO/rxPY+tElsXVE6BpQwpONVtcqADPSxgWPKJJwBcoiYiMs3EFtXNDcDrWcYDimRudWlvWZuQAnDzF1pSxmQARmYlYGXeMR2+fFqAvyqQaxc0ewMtN70qHsYZudvrlsrYZirOe0nAzIgA/sw0HovAyoR+GqN7GNnfd3WwD0lYl8fCqIlbQNKGNI2rPplQAb61sAfegQ41iOmQZcmzMVcot83iO2pSxLmIs1ICUOadlW3DMhAXxuYBwKcXSGm4goQRNM6cWInLTMz4B5Lvdcjto8uSZiLNCMlDGnaVd0yIAMyEBo4ZxkxFTt9AlzhEytXNL0BN8X2Qz6xbQ8NiK0rSseAEoZ0vKpWGZABGdhl4AyPAIeNk13F0AyQ5mImUevTEW6fQ0C0pG1ACUPahlW/DMhA3xuYDwI8f5yYjq/4BHg4wsoV7d3AjgaJf3d4mcTLVZKsASUMyfpUbTIgAzLQ1kDrUxO/bRDgv3zSdjd9MWXgrgaJ61hQJvFylSRrQAlDsj5VmwzIgAy0NXB2lQD7e8Q2u3w9sXVFezdwF0h8ORxES9oGlDCkbVj1y4AMyMCUgUeDAE8vEdOiKaPNxXRRu4RhAYiWtA0oYUjbsOqXARmQgRYD5ywhVviLOgFuaBArV7SnAV2S2NNHt9eUMHTbuNqTARnoewOtU0Y7IV+pEbemz1YDO0Dii84wxJ2kUaKEIQ2rqlMGZEAGpjFwikeA40vENtQMkOZib5HOMOzNSvfKlDB0z7VakgEZkIE9DLibIF3hd2oE2BbhSvXpDOyYR9ya3TyqeRjMSZqREoY07apuGZABGZjGQOsMkA+WCfCNGplmxz796q4mscG7ibDcFNz2jaI0DChhSMOq6pQBGZCBGRh4rkeAgSaxHfSYpbnYPWpNGAbKZPctFKdpQAlDmnZVtwzIgAxMY+BAEOCsKrENv+ET4IEIK+/3qDVhWFAi/W6le+NXwtA912pJBmRABvZqoPXSxLYmAb7nk73u0peFrfMwHF4hfamiJ4NWwtAT7WpUBmRABsyAO8NwQINYuS5NmAtGdzaJlR0JoqVbBpQwdMu02pEBGZCBNgYGQIDnVYlttL5ObL3foztBbDkCREu3DChh6JZptSMDMiAD+zDQ+nKqG30CXO2TfezcB1//bpzYQI8oE1tXlK4BJQzp+lXtMiADMjBjAy+pkvjm/f6uiYdAgO0NYn4WDhBbV5SuASUM6fpV7TIgAzIwYwOPLxPglAqx3fr9XoZdE1lVQHYtuiSxS0VXAiUMXdGsRmRABmRg5gbO8Yht/8MhAtzWIFbeL9GdDRIfrS5JxJ2kWaKEIU27qlsGZEAG5mCg9THLoEqAr/lkDhXmfJffNUh8EEoY4k7SLFHCkKZd1S0DMiADczDwTI8ARzWJVdCvlyZan45wRnRJwpnozqcShu54VisyIAMyMGMD+4GEM0COENvtW00C3Bdh5UWPdEkiG0dYCUM2joN6IQMyIAMxA62XJu7xCXCVT2KbF7ZACUM2Dq0ShmwcB/VCBmRABmIGXuAR4KASsa/77dLEtnnExj+vRoBShJUrSteAEoZ0/ap2GZABGZizgUNBgNMrxKr58moCBBFWXtSo9QzDETWC6MKNfol176jLdfdcqyUZkAEZmJOBcy4gtustIMBPfWLlRY3uLBEb3RFNYuuKumNACUN3PKsVGZABGZizgZd4JNy9HrGrnss3kF2rhQ1iZxiUMPTkWCth6Il2NSoDMiADMzdwdJkATx0itt/lPrH1okZ31omN7ogKsXVF3TGghKE7ntWKDMiADHRsoHUGyJ+uJsDNDdJx9ZmtIHZJQi+d6smxUsLQE+1qVAZkQAZmb+Alp5Hd9pt6t8JXamS38oKFsYRBlyR6coSVMPREuxqVARmQgdkbONUjwKISsf0v30RsvSjRwyBAM8JGpSmhzUU3IyUM3bSttmRABmQgAQMvHiRW0VVNAuyIsPK8R9tBgId8YqNZGBBbV9QdA0oYuuNZrciADMhAYgZaH7Pc6RPg2z5JrJmeV9T6dITrkM4wOBPd/VTC0F3fak0GZEAGOjaw1CPAYePEqrv8UmLreY+UMGTrCCphyNbxUG9kQAZkYJ8G5oMAL6wR2/yrdYLoyj+v/ed9afeWyiNBtHTbgBKGbhtXezIgAzKQkIGzlxGr7PY6Af7HJ1ae1+h3DRLvvS5JxJ10o0QJQzcsqw0ZkAEZSMHAizwSVtwyA+Q3NpAUGuxylb9pkHijjymTeLlK0jWghCFdv6pdBmRABlIz4H5xnjpErJmv14it5zW6bTux3ru3di4A0dJtA0oYum1c7cmADMhAwgbOrBCr9L9HCPDbCCvPW3Rbk1ivjwLR0isDShh6ZV7tyoAMyEBCBs5cRqyyoEry/5jlbQ1i4zqqTGxdUXcNKGHorm+1JgMyIAOJG3iWR4DWlzJ9fT1JvLmuVXgbiC1KGMxFLyIlDL2wrjZlQAZkIEED+4MAZ5SJVfzNOsnvY5a3+cTGc1SJ2Lqi7hpQwtBd32pNBmRABlIz0Hpp4g6fAD/2SWrNJl5xABLeg9EgVr0SBnPRi0gJQy+sq00ZkAEZSMHAmR4JK255zPLrG0gKDaZUpZuw6cEysUaOGiC2rqi7BpQwdNe3WpMBGZCB1Ay4xywrVWLN5O0xy9ZLEW4kj/aIW9Nntw0oYei2cbUnAzIgAykb2HWmYaqdvD1m2Xqzo9Olxyqdid58KmHojXe1KgMyIAOpGWi9l8E9ZnlFjaTWbGIVK2FITGWiFSlhSFSnKpMBGZCB3htwj1kuKBHrz5UbiK1nNWp3SeIoj2S118XvlxKG4h9jjVAGZKDPDBwAAjzPIzb4K8aJrWc1ap0S+oAGARZGZLXXxe+XEobiH2ONUAZkoE8NnLGE2OBvahLg+gax8qxFsSmhp84szAPR0isDShh6ZV7tyoAMyEDKBp7vkXgjWb+XQVNCx49ZFkqUMGThKKgPMiADMpCCgVM8Ajy2QqyBKzcRW89a1HrToyZsysYRUsKQjeOgXsiADMhA4gbcKfzTPWLVuzMMD4Fkb2m96VEJQzaOkRKGbBwH9UIGZEAGUjPQei/D9hIBNvoktWbnXPHtJWK766VT5qKXEW+k1SIDMiADMlBgAy/wSHyAV/gE+COPxL9vV+Le9XBzgwDXNQiwtUGAOxoEuGceCT+bBLi7SexlWIeUCHBoBPCIEgHuaxLsWvZrEuDBCETPgOiX1y49XQvmBVNL11pUQzIgAzIgAz0xcOJxBNjcIMDzBwnw7XXEuuQSgQmfAFdtIMDPGgS4dogA9w4S2y/t6MAaAZ6wmgBPLpPw8dElBHCXXk72CLQkbEAJQ8JCVZ0MyIAMZNXA36wgwEdqBHC/gC/wCbChTsLHLuuk81HMqxGgNESAwyPCMwQVAmyrE2BHnYRnEMJXTe3+sqm59uCoJgkTiCoBXraSAC/2SHgmI2KutffvfkoY+vfYa+QyIAN9YsBdMnjbKgJ8YZzMfPADTQI8a5AAJ1UIsHiAACd4JPwsk3CCpTIBDomYeTs7QYDtEcAvfRKe0WiQ8NLHJhJ+NgnwoxoBbokId9zHckSFAK+oEOC8CwjwTI/sY2d9DSUM+iGQARmQgYIZ+IFPgEtGCfC11SQcZCUiNtr5HgGWRoR/mZ9GwnWPAKd6BNg/IrZ7zwvcJZaragSY2ESAb9VImIBM3eTZrqNP9QjwD8MEGPQIsF9Eu736sNzdw6BPGZABGZCBfBq4YoIEgRctQTD5q6z95x9XSBB8dC0Jgjsj8jn26Xp9b0CC4HMTJAjOHiRBMDnVdHs/p1RIEHxqggTBgxHTtdQf36E/hqlRyoAMyEBxDNywhQTBWR5p/4vvoAYJgr+tkiC4bgspjoe5juS2gATBJcMkCB5VIe09VqIlCH4wQebaav73U8KQ/2OoEciADBTcwP0BCYLVwyQIDvVI/BfcYSBB8IYhEgS/3kIKLieB4d0dEPN7rEfiflEnQXDeIAmC30Yk0IGcVKGEIScHSt2UARnoPwM/mSBBcEKJxH+BTT6FEASvrpIguCOi/zwlPWJ3KePiYRIEB4+TuP8jPRIEX5ogSfcie/UpYcjeMVGPZEAG+tzApWtJELhLCq33JOgUeXd/QG7eQuzMQuvxcOsucbsvIMVblDAU75hqRDIgAzkz0AxIEPzpIIn/Jetu0nvfMNFNeL0+vO6MwuRjmvHjNTlzZhD8cgvpdW+Ta18JQ3IuVZMMyIAMzMrArVtIELgzBu4vVff5uBIJgu9PkFlVrY27YOCmLSQInl0h8cTBJRRFuVlSCUMXfqjUhAzIgAzsbmDzFhIE5RKJ/6IZrJLiPu64u4sixO6m1AuHSHg8p26OdImfuxn1mxMkvyPW2yonj6j+KwMyIAOpG/ixT4DnLCdAo0ms2cmnG4AvriXhjIkR9r2ibBo4EAR43xgB/nUjCSe68kj40q0I4OytBPhMjWRzLNP1SjM9TmdH38mADMhAAgZ+4ZPwJUmrCHBnnVjFbxkhwLuHiZUryreBL/sE+LPjSPgWzjIB3Ds2PreIhO+68Ej2x6qEIfvHSD2UARnIqQH3uudnLyXArxskHEx0yhr4l40EmLy7PqeDVLf3aeA7PglffrWdhGccBglwUIkA31hHgNM8ss/qeraBLkn0TL0algEZKKqBO0CAFy0nuyUKUwN+/zqiRKGox791XM/zCPDlAQK4d3fc1yTAS5YTYKNPWvfOzrrOMGTnWKgnMiADOTfwIEj40qZoAb7nExuULj2Yi36OPu+T8K2ZWwkQVAlwTJmEicMWAjwqIjumdIYhO8dCPZEBGci5gbevIvFE4YIqAd41THI+SHW/YwMv9wiwZgux6twlq/OWEuDhCPu+15EShl4fAbUvAzKQewPf8Anwngqx4TylQoDJt0KGN7tF2PeK+tvA60cIcP4gMRff9El4E+wIsfJeR7ok0esjoPZlQAZya+DWBgGWLCfA7XUCLCgR4CcbCXB8meR2mOp4ygbcY5dPO5UA19YJcECJABPrSPg4rkdS7sw01SthmEaOvpIBGZCB6Qy8YjkBPjdObMtPTRDgXI9YuSIZmM7A//oEePp2Atw7SIDJl48BP9tGwpsmI6arKZ3vdEkiHa+qVQZkoMAGrvBJPFF45SBRolDgQ5/q0J7kEeCfNhJr6romAcZGiJV3O9IZhm4bV3syIAO5NXA/SHgJ4lRip44PGyfA5iUEOLpMcjtMdbzHBtzTNn+0kACbmgSYfM02cPUSApSjpXud1RmG7rlWSzIgAzk34P7Cc9eY3XAu3kiUKDgf+uzMwAEgwIfWkTCYmujLXaJ40yrSWRtz2VtnGOZiTfvIgAz0lYF7QMK/6JYS4A6fAO4pCHdzo/uHvq/kaLCpG7hgOQE+OU7C5qYSiJ9vI4C7lJF2R3SGIW3Dql8GZCD3Bv5lhFii4AYUXVIeC+9mn/qL0JXrUwaSNDA8RuypCVQi8K5LSZItTV+XEobp/ehbGZCBPjawEwT44KXERJxUIcAyj1i5IhlIw8DjywR4pUeshc81CHBdg1h5WpEShrTMql4ZkIHcG7isRuLvgrhojAD7ReR+mBpATgy8dSWxt10+5BPgA6Mk/UHoHob0HasFGZCBnBr44+UE+OE4Ce9hKBHg+m1ElyJyelhz3+2XLifAunFiE4Xduo0Ah0QkP0ydYUjeqWqUARnIuYEbGiRMFEaIDeb8IaJEwYwo6oWB6kpiLd/VJMD6GrHypCMlDEkbVX0yIAO5N/DJS0k4jKmby9yAXnUBcWv6lIHeGDjLI8BRJWJ9uGw9sfWkIyUMSRtVfTIgA7k1EIAAl60mNoxnDRJgcZlYuSIZ6IUB91TOyweJ9eDbPgF+0yBWnlSkhCEpk6pHBmQg9wau9gnQaBIbzquWEFtXJANZMNB6xuvBJgHc2y6T7qMShqSNqj4ZkIHcGrjKJ/Huv6BK4uUqkYFeGniaR4CFJWI98TcQW08qUsKQlEnVIwMykHsDE5uIDeNokPBtgWVi5YpkIAsG9gcBnlch1qMra8TWk4o4XbUWGZABGehrAw+DAN9pElPx/EFi64r2buDFS0n4Mq6IvW8zl9KnlwnwmbVkLjX0xz5LTyPhUxI+AW6OANzTPseXSeculDB07lA1yIAM5NzAZp8Av/OJDea0ZcTWFe3dwK+aBLixTva+zVxKj62QuezZX/uc7pFwzKMRuwb/A58Ax1fJruI5B0oY5qxOO8qADBTFQLu/jJeUSVFGmf44HumR8GnUEum8vSeXSef1FL2GkzwSzg/SIMCDZRK+bn0TSW70ShiSc6maZEAGcmrAnWFo7f4TPdJaqvV2Bp5VIsCX15F2W6k8aQPuMcvHV0j4bomIMGFokORa002PyblUTTIgAzk1sHkrsc67mx0XgGiRgXwYWOwR6+vmOrH1TiMlDJ0a1P4yIAO5N3BdndgwTvCIrSuSgTwYaJ1Y7IYmQXRLL2/q7XRRwtCpQe0vAzKQewO3g9hyTIXYuiIZyIOBYwaI9fS+JgF2RFj5XCMlDHM1p/1kQAYKY+Aun9hwdCnCXCjKj4HDyyTe37sbJF4+2xIlDLM1pu1lQAYKZ+DuQWLDOhxEiwzky8CCMon3+a4GiZfPtkRPSczWmLaXARkojAE3YdM9q0k4rKm3Ux4+QAozzK4P5FcNAvyyQYA7IoAHIhDOTjg5Q+GjQYBTPAI8MiIs0DInA+0S3aQuSShhmNNh0U4yIANFMHAvSLi0vMb6YBAtszVw+TgB3Ods969EC/D6lQRYUSXAvIjZ1tZ/2x8KEl9+D9L5ooShc4eqQQZkIKcGdiUGdZBdicOuRCKn4+p2t1dGS3gmoUGAJ3gkPHMQAZTKxM4w/LZBADcT4cfWE6AeLcBfriDA+HoC/Oc6AjwiAlraGGiXGBwCksASaJEBGZCBPjdw8DgJgsl/UoPgzUOkz6V0cfg7AxIEZw8SOw7ueFw4RLrYoZw29fkJEvd39QTpfFC66TGBpEtVyIAM5NvAgiqxMSR1zddqVDSdAXfm4GNjJNzSnfGZ2ulDNQLcFTFdTf393Y4GiTto9/REfMvpS5QwTO9H38qADPSBgdabxdr9w9sHKno6xGPKBFjiEeuKm0/gOz6xckV7Gmj3NIQShj09aU0GZEAG5mzgUR6x3W9pEltX1F0D7SbO2uqT7vYlT63dup1Yj+d7BNFDwkk8JqwzDOZWkQzIQJ8aeCKILUm/tMdqVjQTA4eVSHzL+0G0tDNwbYPYt8c3CbBfhJXPNVLCMFdz2k8GZKAwBhYvITacX4+T5KbUtZqLFd3UIICbdyGp0bW7h+RRZZJUK8Wr57oGsXEtrhBb7zRSwtCpQe0vAzKQewOtb/lz8zJc75PcDy+1Abx/lACvW0WSa+Zqn8Tre7pH4uX9XvIgSDhR1hAxG4tLxNY7jZQwdGpQ+8uADOTewIkg8eVnDRIvV8mkgUPKBPieTzp/K+KPfQJsbZLJNvjfp3oEOKFMWKJldwObfRLOc1El9s0JS4itdxopYejUoPaXARnIvYETPQIsLBEbzoZosXVFexo4JCDAtiYBfu6TPbeZyZp7XPJ1o8T2OKBEgA8OEytXtKeBCZ/sWca1Z3kkXj7XEs30OFdz2k8GZKAwBty7DZ5XIcB6nwBX1kg4zLURhRlvUgNpnYr4zFUEeJVHgD9ZRoDHRQCHlgnwmwYB3GOSH1pD7MzC5ERawL8OEOB5HoGWNgYmthL78mgQYHGZWHnHUedzP6kGGZABGSiGgdXDJD5T3vVbSDHGmOQovjVBguBpHgmCA2sk7m/yF1X78gUlEgR/VSVBcN0WkmRPi1nXQwEJgkd6xPyeN0iSH7POMHSccqkCGZCBohg43SPhaEYjdg3r2zUCHD9CdhX3ffAnHgnPJEx9uscer1tEgGaEfbp3dCwAAY6NANwlIXemp+/FzlDAT3wSvsPDJ7bT0mXE1pOKlDAkZVL1yIAM5N7AkzwSnkIvEeCmJgE+vYEA/zci98NMbQBuimfnMbWGVHFk4NPricnY3yPACz1i5UlFuukxKZOqRwZkIPcG3GuUz60SG873VpPwsbUGsXJFMtALA+4xys+MEOvBGSUCHF0mVp5UpIQhKZOqRwZkoDAGqivJbsOpRDMz4FOXkt3KFcpADwx80yfAbSViHThvGbH1pCMlDEkbVX0yIAO5N+Ce95+8mc+G80mfAA9FWLkiGeimgdoaYi0eBgIsrxIrTzpSwpC0UdUnAzJQGAMrTiM2nBt9AvynT6xckQx0w4Cb+nldk1iLL6+S8LHVCCtPOprnHrxIumLVJwMyIAN5N3AfCPD4Uwlwa50Ap1QI8LONJLmX++Tdl/qfroEV0QLUogWYVyPhhFmLSPhz6ZH0+qAzDOm5Vc0yIAM5N3AQCDC0jNhgflEnwFd8YuWKZCANA+4lX//hEWvhZeMk/UTBtagzDM6EPmVABmSgjYG7QYDyUgL8zifAqR4B/meCAJpHoI1AFXdk4C9XEOATNRJWVY9AfRsBlnikoyZmtLPOMMxIkzaSARnoZwPuprK/O42YiY0+AT42QqxckQwkYeCHPglnJveI1Ti4mnQvUXAt6wyDM6FPGZABGdiHgZ0gwFMWEuC6JgEmpzYGrt1IgMeWyT4q09cy0MaAewrnaUsJ4BLTgxoE+EVAwntryqRNJSkU6wxDClJVpQzIQDENzAcB1qwjNsa7mgR4yypi5YpkYC4GPjxCLFFwdVy0lnQ/UXDt6wyDM6FPGZABGZilgT9dQYAv1Yjt/MUJArzUI1auSAamM+Aem3zqJgLcPUjCd5iUSPg0xDaC6FZc3ozb7UUJQ7eNqz0ZkIHCGPhVg4TXkpcT4M46AQaaJPwLcRsBjiuTwgxbA0nYwO9BgGccR4D/bZDwJtrwzRD7e8AVwwTwoiXhxmdRnS5JzEKWNpUBGZCB3Q0cWybAJ8dI+M3U3evbSwT4sxUEcG9x3H1fxTLgDLxhBbFEwZW/zSO9TxRcf+AmbtKnDMiADMhAZwb+bogE4e1oXOzzNUOks7q1d/EMfHwtsZ8T93Mz+Zr1IHgwIjvj1iWJySOk/8qADMhAxwYeAAGet5QAP/KJVTsSLcBwtFi5ov4ysN4nwJ+OkvDdJD4BjmqS8ETV1PwKjymT7LhRwpCdY6GeyIAMFMTA7SDAcxYSe/zSDW/NMAHeMEJcqT6LbsAlkKdvJ8C9gwQ4+P+3dy5QllX1nf51aAORhr7gRKIG+vIWiVBtmFkqZvVp1OjEB1UMM2gidvVMMsbEQDsz0cTlsgsT12TGrNCsZGUlZLK6eCkxy3T1jI8oj3sZZDA6pquNGbsJQ10YJIJoF68g0rDn/M7t05vuU7frdatq33u//a3F2Xef139/u+j7v+c5YaTb1hrpdZlJzwbXMKQ3JkSEAQz0uIGflJG+sMvkvxxrJnbqP9xhpBvHTWyn1p8Gvt400i+MmJgovGjcSDvXmnQTBR0oJAylCaYYwAAGumzg9LqRbtlh4t0T5SHoy9cb6ZNjpss7Z3MrbuC2ppHKIwr7pk0e1oGLY/9bMNKbM7Pi4c4awOpZl2ABDGAAAxhYlIFXZ0b6fNNI76gZad+QkT5UkL+jYpWR/vNWk7+NsGBRu2blFTBwU9NIo6caaX/dSKtrRvrTXUZ676hZgQAXuEuuYVigOFbDAAYwsFAD32oa6a2bjfSdlolbu2zYSH+2w0jHFcT51NIyUD7K+eNXGenjwyaPcahA5SOd/2LKSO/MTFp9mEs0JAxzscQyGMAABpbAwP0tI71lo5H2tkzc0ZlDRvrM1Sb//slMnE9tZQ08IiNdPmKkL0+YGNMJNZNfo7DDSD+XmTi/12pcw9BrI0a8GMBA3xhYVzfSXVNGeltmYvf+YdLkF8ONGKl8x0CQoayUgb9uGunVp5pqonDekJHu3mV6P1E46DmdR0IQCQYwgIHBNvB8MCFs22pCaF9FX32wzwWZCeFrDTPYzpaj9w9NmRAuHzbV8Wh/ocb5TwXTf4UnPfbfmNIjDGCgTwzc1TAhrKuZ6hdV+yK6ELYUJYTHCvqk8yvYjWeDCeEPtpoQ1kyYqv/2a81DuLFhVjDgZdo1CcMyiWY3GMAABhZqoPzFunXMhHB0Zjp/gX14zITw/YKF7nVw1nsmmBCu225CaF87UvVbHkl4+7AJ4YEpMzieSBgGZ6zpKQYw0CcG/r5hQtg4bDp/sZW/jMsE4sEp0ycSFtGN6WDiqZ9X1E1nj68cMiHc1jCL2HGPr0rC0OMDSPgYwMDgGiivedjZMCH8iyHT+Ytv1bgJ4U3DJv6ifiKY/ivlqYXPNUwI7dtVQ2jf5tjZ02mZCaF8OVR5BKL/DM2vR9xWefDyTyoYwAAG+sPALU0jfeIaI90xYTr37djM5Ld31k3+ZMJ1RtqYGelVmVGy5cGWkW5vmnx6h5G+2DTSIy2jjuWcISN95EojvWvU5A9aKui42sDNIGEYuCGnwxjAwKAZmGwa6fqdRvrUmJEerpnZbbxsyEgX1o10dt3k0/NN/HxGZqQTC2bfbqclnpSR7m2a/OVdBfm0afLnVew20t+0jFTefpqvcsTSPkWTvyVywuTPT9hkYmL0YzKUTgZIGDqZoR0DGMBAnxrYL5M/P6Bp8gdDXWfyd16MG+mhgsV3fu2wyZ9UOW2kNdMm/+U+baQnpo30eIE0vc1IYdQsfP9rp02eCGwxeYKwwUgjo0Y6tmDh2x/UNUkYBnXk6TcGMICBDgb2NI3UaJp8utvk70xqGWmqZfJ3JEwbLV858NKmUzIjnZsZKTvf5KdSMiOtz4x0VIEoXTJAwtAlkWwGAxjAwKAYeFZGuq9lpD0tk39umvyIwSojPTltpAenjXTzuNHB0r7LQzq/bvIjEDUjHR+MtC4z0lkF+TQz0osLDm6GyjIZIGFYJtHsBgMYwMCgGri3ZaQzTzXRwk3bjfSLoya2U0vTANd3pDkuRIUBDGAAAxhIygAJQ1LDQTAYwAAGMICBNA2QMKQ5LkSFAQxgAAMYSMoACUNSw0EwGMAABjCAgTQNkDCkOS5EhQEMYAADGEjKAAlDUsNBMBjAAAYwgIE0DZAwpDkuRIUBDGAAAxhIygAJQ1LDQTAYwAAGMICBNA2QMKQ5LkSFAQxgAAMYSMoACUNSw0EwGMAABjCAgTQNkDCkOS5EhQEMYAADGEjKAAlDUsNBMBjAAAYwgIE0DZAwpDkuRIUBDGAAAxhIygAJQ1LDQTAYwAAGMICBNA2QMKQ5LkSFAQxgAAMYSMoACUNSw0EwGMAABjCAgTQNkDCkOS5EhQEMYAADGEjKAAlDUsNBMBjAAAYwgIE0DZAwpDkuRIUBDGAAAxhIygAJQ1LDQTAYwAAGMICBNA2QMKQ5LkSFAQxgAAMYSMoACUNSw0EwGMAABjCAgTQNkDCkOS5EhQEMYAADGEjKAAlDUsNBMBjAAAYwgIE0DZAwpDkuRIUBDGAAAxhIygAJQ1LDQTAYwAAGMICBNA2QMKQ5LkSFAQxgAAMYSMoACUNSw0EwGMAABjCAgTQNkDCkOS5EhQEMYAADGEjKAAlDUsNBMBjAAAYwgIE0DZAwpDkuRIUBDGAAAxhIygAJQ1LDQTAYwAAGMICBNA2QMKQ5LkSFAQxgAAMYSMoACUNSw0EwGMAABjCAgTQNkDCkOS5EhQEMYAADGEjKAAlDUsNBMBjAAAYwgIE0DZAwpDkuRIUBDGAAAxhIygAJQ1LDQTAYwAAGMICBNA2QMKQ5LkSFAQxgAAMYSMoACUNSw0EwGMAABjCAgTQNkDCkOS5EhQEMYAADGEjKAAlDUsNBMBjAAAYwgIE0DZAwpDkuRIUBDGAAAxhIygAJQ1LDQTAYwAAGMICBNA2QMKQ5LkSFAQxgAAMYSMoACUNSw0EwGMAABjCAgTQNkDCkOS5EhQEMYAADGEjKAAlDUsNBMBjAAAYwgIE0DZAwpDkuRIUBDGAAAxhIygAJQ1LDQTAYwAAGMICBNA2QMKQ5LkSFAQxgAAMYSMoACUNSw0EwGMAABjCAgTQNkDCkOS5EhQEMYAADGEjKAAlDUsNBMBjAAAYwgIE0DZAwpDkuRIUBDGAAAxhIygAJQ1LDQTAYwAAGMICBNA2QMKQ5LkSFAQxgAAMYSMoACUNSw0EwGMAABjCAgTQNkDCkOS5EhQEMYAADGEjKAAlDUsNBMBjAAAYwgIE0DZAwpDkuRIUBDGAAAxhIygAJQ1LDQTAYwAAGMICBNA2QMKQ5LkSFAQxgAAMYSMoACUNSw0EwGMAABjCAgTQNkDCkOS5EhQEMYAADGEjKAAlDUsNBMBjAAAYwgIE0DZAwpDkuRIUBDGAAAxhIygAJQ1LDQTAYwAAGMICBNA2QMKQ5LkSFAQxgAAMYSMoACUNSw0EwGMAABjCAgTQNkDCkOS5EhQEMYAADGEjKAAlDUsNBMBjAAAYwgIE0DZAwpDkuRIUBDGAAAxhIygAJQ1LDQTAYwAAGMICBNA2QMKQ5LkSFAQxgAAMYSMoACUNSw0EwGMAABjCAgTQNkDCkOS5EhQEMYAADGEjKAAlDUsNBMBjAAAYwgIE0DZAwpDkuRIUBDGAAAxhIygAJQ1LDQTAYwAAGMICBNA2QMKQ5LkSFAQxgAAMYSMoACUNSw0EwGMAABjCAgTQNkDCkOS5EhQEMYAADGEjKAAlDUsNBMBjAAAYwgIE0DZAwpDkuRIUBDGAAAxhIygAJQ1LDQTAYwAAGMICBNA2sCgdKmuERFQYwgAEMrLSB/TLS/20ZaU/LSPc0jbT3fiNNtYz0WEE+nTT5tG6k700aHSzH14z0z4aMVCuQjp020imZkV651khnZSafFkhnZ0b6iYKDm6WyRAZIGJZILJvFAAYw0CsGnpORJptGajSNdPtuI905YaQnC9Lp1eqWkV47aqSLMiNt3GCk12VGOrpAlEUaIGFYpEBWxwAGMNBrBu5uGumGnUb6zKSRvt808+/NS+sm/+VfN9KJNSOtqZl8WiCdUDdx+49PmzwRaRnpqZqRftAy+RGLSSPd3zT5ekMFeWVu5ZiWkd65xUiXX2mkt2ZGWl0wt22xlETCwF8BBjCAgT418HDLSNeOm5gg/MOkmb3TZ9RM/ot92EgXbjDSOXUTTxGUpxJm3+LClnhaJj/10TT5qZAC6W92mvyIyKTJj5CMGimMmnyFDqVMcN49bKRfvdjkpz4y02ElmnOxFAxgAAMY6AsDD0yZEH5j1ITQ/oUdQvu7rjptH9IP4R3DJoTx7SaE+6dM7yl5NJgQPtswIWwaNSGsmTDV/pdeVo2bEP71sAmhyD/y9SmHGtChH/mEAQxgAAO9YuDBKRPCL4+aEF40bjp/MV6QmRCu2WpCeKSgV3q78DifCiaEGxsmhLdkJoSjMjODr0nlhPD2YUMCUZpXWWGKAQxgAANpG3g2mBC2bTUhtO8ymOELr/jpHMKFQyaEWxsm7b6tRHT3TZkQrthiQjg6M1Wfq2smLvdYMINXSBgGb8zpMQYw0GMG7myYEF5dM9UvtPLQ+siwCeEbDdNjnUwg3OKu0KkQfm3UhFCesin9ltOXDZkQPrXdJBD4MoVAwrBMotkNBjCAgbka2B9MCFvHTOdD52cOmRC+1DBz3TrLzdXAPVMmhJ8fNp0TtUtGTQj7Cua69d5bjoSh98aMiDGAgT418HAwIbx52FS/oMqLGMtE4ofBUJbLwH9vmBBOlqmOT71mQvhqwyxXVMu3HxKG5XPNnjCAAQzMaOD2hgmhfbtf9YvovCETwp4pM+MmaFxGA+XdGOVFkeWpinJaXgtx7XazjIEt8a5IGJZYMJvHAAYw0MnAjobJb3+smWqicPmwCcU1/r7Kn5KWgeeDiRehdrpL5cNjJq3YFxINCcNCrLEOBjCAgUUY+OOtpnptQvnL9KbtZhE7YNUVMXB3w4RwUs1UE8D3bTGhuELF16j0WiFh6LURI14MYKBnDfzuVlP9IilvjyxPTfRsBwm8MHDvlAnh9CFTHe9Lh00obpL1bbK9UkgYemWkiBMDGOhZA+URhfIcdzktf4lyG2TPDu0RA//ulAnhNZmpJg7vGTahOLHhUxuplx9r/+HyXwxgAAMY6LaBzzSN9Ounmrj1k6ZN/hbIXUZqf6HE+dT6w8BJdZO/66Io0j/PTOzbjRNG+sgHTWxPtUbCkOrIEBcGMNCzBm5rGuk995v4MqS1w0b6611GOrNuerabBD5HA8fLSJ9vGOnsuokr/942I10zZmJ7ajXeVpnaiBAPBjDQswYebBlp/WYjPdo0Uvvq+fwLY52R3pwZUQbUQPl3cuF6Iz0wbfLXRxcvwZJuWWekN2YmHUkkDOmMBZFgAAM9amC/jJStN9JdkyZ25uaGkS7LTGynNtgGvtk00uuvMtJTTSO9vEDaFYz00oKVd8UpiZUfAyLAAAZ63MBHrzLVROEDo4ZEoceHd8nCPy8z0h9uMnE3D8lI7xox0nMFcf5K1UgYVso8+8UABnreQKNppP9aN7E75UWMv7/dxHZqGJjJwOZRI7132MQlGhNGunrMxPaVqnFKYqXMs18MYKBnDfxIRjp/vZH2TBppzYTJDyWfb6Qz6qZnu0ngy2zgKRnpgvUm/l0dmxnp29uNdHLdLHNw+e44wrD8ztkjBjDQ4wZ+f8zEf9DL7vzOLkOiUPpgOj8Dx8pIf3a1ySuTBQevbdhylZnfNru5NEcYummTbWEAA31t4IGWkV612cSL1H6mbqS/nTL5XREFfa2Czi2DgU0jRrp+wsQdfq5hpLdlJrYvdY2EYakNs30MYKBvDPzSZiN9atzk3TrwC/Ar+4x0YWb6prt0ZIUNPNwy+XMbTjDSYzUjnTNkpG/tMj5VYJa+LMc+lr4X7AEDGMDAEhq4t2Wkv2iZuKNf3GZIFKIRat00UD4pcuvVJm7525NG+mzTxPalrnGEYakNs30MYKDnDfzyZiP9+bjJu3PgyMLf7TPSz2Sm57tJBxI18EMZ6bT1RvrHSZNfdFsz+UW2+0z+4KeCpesERxiWzi1bxgAGetxA+US+6zMTO3PpmCFRiEaoLaWBY2SkKy42cU+7p430haaJ7UtV4wjDUplluxjAQM8b+K2rjPRfxkzenQNHFr6xz/DSqJ4f4B7rwOMyUv0EI+2bNtJFmZFua5il6xRHGJbOLVvGAAZ61ED5ZL0bx03sRLbFkChEI9SW00D5Eqt/N2rinhujJn8nxYG7eOKc7tZIGLrrk61hAAN9YKB82+R3WiZ26L2bTPxMDQMrYWD0YhP3HEaNdNO4ie3drnFKottG2R4GMNDzBi4fMdKNE0Y6pmWk764z0tqCnu8mHehxA0MnGKm8luGsmpH27jPd7xxHGLrvlC1iAAM9aqC8Gn3HtImdGNliSBSiEWopGHjvlSZGcs+0ye+aaJrY3q0aCUO3TLIdDGD6W++NAAAPt0lEQVSg5w3c3TTxCY5lhy690pSfmGIgDQOXjppqLLc2TbV9sS0kDIs1yPoYwEDfGLj9DhO7s2rcSBsyE9upYSAFA6fUTf7ukpqJETV2m/i5W7XV3doQ28EABjDQ6wbK1wmX/Vg/bqSXbDJlK9P5GijvOvl60+SPNG6Z/LbAlslP9dRNnJ4qI52bGRWvZPJLmSgzG7ho2Ej3jhvpf04bFe9U9VtVf7xg5nXn1RooGMAABgbcwBPBhLC6ZUJo/yMawn/cYgZczgK6/3wwIVy73YRwskz0Wvo9OjPV9nJ++whPCJ/abhYQyICscnPDVD1+pWG6J4FTEvNKr1gYAxjoRwN/3zTS/rqJPfy5i038TO3IBp6RkS7dbKR/v9nkRxImjPRHW03+ORjphw0jPRyMtLNhpLdkRipvF3xahtLJwBvqpjq32xc/ckqi6pgWDGBgwAzsaZlqp8+pm2o7LTMb+JURI/3VhMlvR60ZqbHWSBeMmeq6L5WR3pkZ6by6kU4tSnV5Wg418Iq6kY6vGenxaSPdc785dNnFfOIIw2LssS4GMNAXBvbuNrEr7VMT+RdW3cR2ajMb2Nk00g0TJi7z0StNnihkJrbPVqsXpXox32zrDfr8s4ZMtLB32sTPi61xhGGxBlkfAxjoeQOH/8N6emakF02Znu/eknUgyEgf+6CJuzk2M9Kvj5nYPt9a+RbGF8lQZjNwVt1I/7sgf4BT08y21tznkzDM3RVLYgADfWrgvkkTO3f4L7U4h9oLDXy1aaRvTpo45401I9UKYvt8a2tkKHM1UCYM5fIPbDPdu1uCUxKlWaYYwMDAGphumdj9l9RM/ExtZgM77zDVedn5ptpOy9IaeEkwcR/lRaNPyCy+kDAs3iFbwAAGetzAE0MmduI4GcpsBu6eMNWlyucnVOfQspQGjq+b6h6eaJlq+3xbSBjma4zlMYCBvjPw+KiJ3TquZuJnajMbuK9mqvNOq5tqOy1La+C4uqnug4Sh6oQWDGAAA/My8KyM9Oyoiaset9bEz9RmNvDopKnOO7FupDubRtryQZPfLbHRSGs2GmlVUaQX7zRx/u+NGenJgur2aZnZwPEy1dKtUxJc9Fh1SwsGMDAgBvbLVMtqGUonA0/J5A9emjbVpS46wVRfu/zTQ0a6uG6k54aNdNc2I32jaeL0+p1G+vIOI/103VT3R0vbQKe/2zIxXqwn/p9YrEHWxwAGetbAMTLSUZnJv8CaJv9lu8r0bLeWPPDZDnH/5g4jvbFupJ+qm85hlV9o799spD8fN9K3J430rhGTH7HYZfIjEwWdtzeoczodSejWNTlcwzCof1n0GwMYOPjFs6ZmopAnpk38TO1QAy+um0PbXvhpODOzJwrlOuVzFv5wu5FOqplybn4EYtJItzVNbKd2qIFOiVynaxsOXXv2TyQMsztiCQxgoM8NrJk0sZMkDNHFTLVji/dHzjSn3Va+U6LzEjPP+QkZ6a3DprrMF3eaajstbQOPt0zVRqdrG6pLHrmFhOHIfpiLAQwMgIHyGfxlVx+bNuUnpocbOEomPxIwbQ6fK32/Zartc20pHw19+PJ7Js3hrXwuDTwuUy1r6qbaPt8WEob5GmN5DGCg7wwcfjHd1LTpu252vUPnDpvqZr/TMtX2ubb81DpTXZpErurkhS33PWZiy4lDRsXxoGNj84JrJAwLVseKGMBAvxg4u2Zib/ZOmviZ2swGXjNkqvM6vf2zuuTMLc+2THUez8eoOnlhy96WiS1n1038vNgaCcNiDbI+BjDQ8wbOXmdiN8rXA3+3ZWI7tUMNvPNic2ibP31tt6m2z7XlkVWmuvTJdVNtp6VtYO+EiTbOqpn4ebE1EobFGmR9DGCg5w2cnZlqNw7/xVZdYrBbXp8Z6fQhE138j0kTX3oU58yt9v9aprrsGzaYavugt5TPxXho0kQbhyfCcc7CaiQMC/PGWhjAQB8ZOLduqh36WtNU22lpGygvfvz4lSZaebRppOvHTWyfrVY+j+GWcROXXjttpEtGTWyn1jbw9abJ60MFB7W8KjMHPy66QsKwaIVsAAMY6HUDL68b6Yyaib1p7DbxM7WZDbx71EiXDZu4zIevMdJk08T2TrVPXGWkhwriUp/cYfJHShfEdmptA7ffYaKNVeNGujAzsX2xtVXhQFnshlgfAxjAQK8beN9mI107buIX1A+CkcoHDPV6P5cq/h/KSL8yYqQbJ4x0TMtIo9uMtP58I/1Ty0if322kWydM/iTHA194n5gy0m+PmXzDlBkNvGG9iQ+4ek1m8kdsN8yMqyyokYRhQdpYCQMY6EcDNzeN9O6NJvbwroaRynP2cQ61Ixm4tWmk7dcZ6X9NGOkfh4xUvvvglGkjbciM9IGLjcRrso9kN76c64T7jbS/bqT/tMVIn7zaHHkb85nLuyTmY4tlMYCBvjawsW7yLk4WHDwn/LmdhoRhvoP/psxI5VTbC+a7GZbvYODLTZMnChtNXGjjxSZ+7laNaxi6ZZLtYAADPW/gpLqR3rDFxO5cP2Gk5wtiOzUMrKSBG64zMYK1w0bamJnY3q0aCUO3TLIdDGCgbwxcvsnE7pRPLryjaWI7NQyshIEfyEhfbJkYwWU1o+KNHH4nR7cLCUO3jbI9DGCg5w1cNmrixXplh27YacpPTDGwMgY+PWakZ5omxnB4ohvndKfGRY/d8chWMICBPjTwb0aM9JcTJt410QpGeklBH3acLiVpIMjkl9asN9I3J410Wmakexsmv8ukoPtd4AhD952yRQxgoE8MvP9KEzvzpIx0zVUmtlPDwHIY+FzTxESh3Of7NpilSxTK/XCEoTTBFAMYwEAHA4ff515eXNbaYaRaQYeVacZAlwxcuN7kt6dOGql8G2Vrl5GOK+jSzmbYDEcYZpBCEwYwgIEXGvjtq01seWzCSH8yZmI7NQwshYFbmiYmCuU+rhg2S58olPvjCENpgikGMICBWQxcsNHkT9BrGumEmpH27DPSSwtm2QizMTBHA+VtvK9bb/K3gE6a/FqaCSM9cLHJ/w4L5rjRRSzGEYZFyGNVDGBgsAz8zlYT+7xv2kgf2mxiOzUMdMPAH4+ZmCiU2/zQLrN8iUK5X44wlCaYYgADGJijgUtGjLRjwuQrHXgyZGOfkbKizHFjLIaBwww83DLS2ScY6bGaiS9H+7t9Jr/tt+CwlZfwI0cYllAum8YABvrTwLarjXRsZvI+Hnit8G9sNvn98QX92Xd6tfQGPliUmCiUe/yjHWb5E4Vy/yQMpQmmGMAABuZo4JS6kT66wcSVvtUy0m9uNrGdGgbmYmC8KNKnJ0xc49JhI70lM7F9uWucklhu4+wPAxjoGwP7ZfJTEOtNfL1w2cHPNox0SWbKVqYYONTAPS0j/exuk7+FcthIJ9WMtKso0svq5tB1l/MTRxiW0zb7wgAG+spA+XrmT+8w+ZMfMxO7+G/XG2mqZWI7NQzYwD8VSP9qo4mJwlGZyY80HPi7WulEoRwtEobSBFMMYAADCzRwct1I1281+UYOXARZXqz29hGj4pVBfmkQZbANPCcjXb7ZSOWprNLKxzaYpXvrZLmf+U5JGOZrjOUxgAEMdDDwC5mRfmvcxIX+z6SR3rHexF+WcQlqg2CgfBfE+zcb6a/GTez5WzOTXxszZmJ7MrVAwQAGMICBrhp4PpgQNm8xIbT/wY/Tt2UmhGcLurprNpawgXYiEP8Oyr+LCzITwhMF6XZA6YZGZBjAAAZ628CPggnhXw6b6hfFyLAJ4emC3u4r0Xc28LExUx3/M4dMCI8UdF4/lTncJZHMsR4CwQAG+tXAUzLSmzYa6atNE3u7YdhIO3cYaW1BnE+ttwyU1yj82mYjXTtuYh9eLiN9ZcpIp9ZNnJ9qjYQh1ZEhLgxgoO8MPCEjjWw00m1NE7t5fs1IX9hlpJfXTZxPLW0DT8tIvzRiXvAk0ANhn1Ez0pd2Gem0ukm7Ty+MjoseX2iDOgYwgIElNFC+fvgLDSO9a9TEHe6eNvmDI0dM/sXSNHE+tTQNlM9ReP16U00UfjYz+XM69pneSxRK6yQMpQmmGMAABpbJwI/LSDdtN9IHRk3c+fcmjfS2q4w0dpVRcTOeb8ejpGHgpqaJD1yaLEqM7c3DRmoUpQ/eZprKxRTEgQEMYGDQDVy33YTQfkdF9SK59kutQtg7ZQbd1vL3/3vBhLBp1FTHZ9W4CaG8G2J/MP1TuEuif8aSnmAAA31iYM+UCeG8IVP9YlrdMiFcscWkfzterw5LeXtsmcj95JCpjkfZ/sWG6dXezh43CcPsjlgCAxjAwIoYeCqYENqnLEJoPzK4+oV1as2E8JcNE8JzBSsScl/s9CsNE8JrM1P13T7pEMLbh00ID02Zvuj6ETtBwnBEPczEAAYwkI6Bv22YEF43bDp/kZ0+ZEL40+2GB0TNNoJ3NkxMAMqE4PDpK+omhPKIw2zb7bf5JAz9NqL0BwMY6HsD5RGEP9lqQigPiR/+BVd+LhOIP9hqQvjulOl7TZUOlk9SLL/wZzuCcEzLhPCRLSYUx3t8xGdQCwnDoI48/cYABvrGwJPBhFAmBO0HA3U+ArG6ZkJov/sihE83TCi24u30eikfuf2lhgnhPcOm88WkZWK1ZsKE8KEtZnATq07jz4Ob2n8p/BcDGMBA3xh4RkbaPm6ka4oi7Zk0nbvZvphSeu2okS7KTD7dYPL24py+dHRB5+0s9ZzySYq7m0a6vWny6W4j3Tlh8tdFF3SO5qRpI/3qNiNdsdVIJxZ0Xm9Q55AwDOrI028MYGDgDHytaaQbrjPSzS0jPdo0s+toX3Qp1aeNdFbdSK+sm/yBRGuNdFJmpDUFUvnAqvLzUTLxC738Yp+WkaZbRrpvt5HumTbS3kkj3Vsz0jNNk68wS2mfWpAuGTPSezYZ6eczoyIax0M5sgEShiP7YS4GMICBvjXwI5n4iOpbd5r4i333FiOFUZO+hva1GvkRkSGTTzcZqXzt+PEylIUaIGFYqDnWwwAGMNDnBr4vI93RNNKuO0z+i3/S5NOWyX/5jxnp6WGTr9ClUp4iOT0z0jmZyY9s1Ix07vlGaj/QSjqlbrq0czZTMUDCUFFCAwYwgAEMzMdAkJEeapkXnGpoPZkj7StQ8c5Ov7Vzf0F8K2f5y788ZbGmbuLLt1bLUFbaAAnDSo8A+8cABjCAAQz0gAFePtUDg0SIGMAABjCAgZU2QMKw0iPA/jGAAQxgAAM9YICEoQcGiRAxgAEMYAADK22AhGGlR4D9YwADGMAABnrAAAlDDwwSIWIAAxjAAAZW2gAJw0qPAPvHAAYwgAEM9IABEoYeGCRCxAAGMIABDKy0ARKGlR4B9o8BDGAAAxjoAQP/H75Tsx7mBTJcAAAAAElFTkSuQmCC)"
      ],
      "metadata": {
        "id": "Q7bp3ecjxCQp"
      }
    },
    {
      "cell_type": "markdown",
      "source": [
        "До цього ми запускали TensorFlow в **режимі eager execution** (імперативне виконання). Це означає, що операції TensorFlow виконуються Python поетапно, і результати повертаються назад у Python.\n",
        "\n",
        "Хоча eager execution має кілька унікальних переваг, **режим graph execution** (виконання графів) забезпечує переносимість за межі Python і, як правило, пропонує кращу продуктивність. Виконання графів означає, що обчислення тензорів виконуються як *граф TensorFlow*, який іноді називають `tf.Graph` або просто \"граф\".\n",
        "\n",
        "**Графи — це структури даних, що містять набір об'єктів `tf.Operation`, які представляють одиниці обчислення; і об'єкти `tf.Tensor`, які представляють одиниці даних, що протікають між операціями.** Вони визначені в контексті `tf.Graph`. Оскільки ці графи є структурами даних, їх можна зберігати, запускати та відновлювати без оригінального коду Python.\n",
        "\n",
        "Ось як виглядає граф TensorFlow, що представляє двошарову нейронну мережу, візуалізований у TensorBoard:"
      ],
      "metadata": {
        "id": "BYicGTROw84H"
      }
    },
    {
      "cell_type": "markdown",
      "metadata": {
        "id": "FvQ5aBuRGT1o"
      },
      "source": [
        "<img alt=\"A simple TensorFlow graph\" src=\"https://github.com/tensorflow/docs/blob/master/site/en/guide/images/intro_to_graphs/two-layer-network.png?raw=1\">"
      ]
    },
    {
      "cell_type": "markdown",
      "metadata": {
        "id": "VglUM4M3KhNz"
      },
      "source": [
        "Хоча можна використовувати TensorFlow інтерактивно, як і будь-яку бібліотеку Python, TensorFlow також надає інструменти для:\n",
        "\n",
        "* **Оптимізації продуктивності**: щоб пришвидшити навчання та висновок.\n",
        "* **Експорту**: щоб ви могли зберегти свою модель після завершення навчання.\n",
        "\n",
        "Для цього потрібно використовувати `tf.function`, щоб відокремити ваш чистий код TensorFlow від коду Python.\n",
        "\n",
        "\n"
      ]
    },
    {
      "cell_type": "markdown",
      "metadata": {
        "id": "DHpY3avXGITP"
      },
      "source": [
        "### Переваги графів\n",
        "\n",
        "Графи надають вам велику гнучкість. Ви можете використовувати свій граф TensorFlow у середовищах, де немає інтерпретатора Python, таких як мобільні програми, вбудовані пристрої та серверні додатки. TensorFlow використовує графи як формат для [збережених моделей](./saved_model.ipynb), коли експортує їх з Python.\n",
        "\n",
        "Графи також легко оптимізувати, що дозволяє компілятору виконувати такі перетворення, як:\n",
        "\n",
        "* Статично визначати значення тензорів шляхом згортання постійних вузлів у ваших обчисленнях *(\"constant folding\")*.\n",
        "* Розділяти незалежні частини обчислень і розподіляти їх між потоками або пристроями.\n",
        "* Спрощувати арифметичні операції шляхом виключення спільних підвиразів.\n"
      ]
    },
    {
      "cell_type": "markdown",
      "metadata": {
        "id": "o1x1EOD9GjnB"
      },
      "source": [
        "Існує ціла система оптимізації, [Grappler](./graph_optimization.ipynb), яка виконує це та інші прискорення.\n",
        "\n",
        "Коротше кажучи, графи надзвичайно корисні і дозволяють вашому коду TensorFlow працювати **швидко**, працювати **паралельно** і ефективно працювати **на кількох пристроях**.\n",
        "\n",
        "Однак ви все ще хочете визначати свої моделі машинного навчання (або інші обчислення) у Python для зручності, а потім автоматично створювати графи, коли вони вам знадобляться.\n",
        "\n",
        "\n"
      ]
    },
    {
      "cell_type": "code",
      "execution_count": null,
      "metadata": {
        "id": "VitACyZWKJD_"
      },
      "outputs": [],
      "source": [
        "@tf.function\n",
        "def my_func(x):\n",
        "  print('Tracing.\\n')\n",
        "  return tf.reduce_sum(x)"
      ]
    },
    {
      "cell_type": "markdown",
      "metadata": {
        "id": "fBYDh-huNUBZ"
      },
      "source": [
        "Вперше при виконанні `tf.function`, хоча вона виконується в Python, створюється повна, оптимізована граф-схема, яка представляє обчислення TensorFlow, що виконуються всередині функції."
      ]
    },
    {
      "cell_type": "code",
      "execution_count": null,
      "metadata": {
        "id": "vkOFSEkoM1bd",
        "colab": {
          "base_uri": "https://localhost:8080/"
        },
        "outputId": "cf25f577-ed5c-45f7-a98e-aa78edd59bf8"
      },
      "outputs": [
        {
          "output_type": "stream",
          "name": "stdout",
          "text": [
            "Tracing.\n",
            "\n"
          ]
        },
        {
          "output_type": "execute_result",
          "data": {
            "text/plain": [
              "<tf.Tensor: shape=(), dtype=int32, numpy=6>"
            ]
          },
          "metadata": {},
          "execution_count": 32
        }
      ],
      "source": [
        "x = tf.constant([1, 2, 3])\n",
        "my_func(x)"
      ]
    },
    {
      "cell_type": "markdown",
      "metadata": {
        "id": "a3aWzt-rNsBa"
      },
      "source": [
        "При наступних викликах TensorFlow виконує лише оптимізований граф, пропускаючи будь-які кроки, що не стосуються TensorFlow. Зверніть увагу, що `my_func` не виводить _tracing_, оскільки `print` є функцією Python, а не функцією TensorFlow."
      ]
    },
    {
      "cell_type": "code",
      "execution_count": null,
      "metadata": {
        "id": "23dMHWwwNIoa",
        "colab": {
          "base_uri": "https://localhost:8080/"
        },
        "outputId": "33cc9faa-1a6d-4e78-8a30-d3343cb3e4e1"
      },
      "outputs": [
        {
          "output_type": "execute_result",
          "data": {
            "text/plain": [
              "<tf.Tensor: shape=(), dtype=int32, numpy=27>"
            ]
          },
          "metadata": {},
          "execution_count": 33
        }
      ],
      "source": [
        "x = tf.constant([10, 9, 8])\n",
        "my_func(x)"
      ]
    },
    {
      "cell_type": "markdown",
      "metadata": {
        "id": "nSeTti6zki0n"
      },
      "source": [
        "Граф може бути непридатним для повторного використання з вхідними даними, що мають інший _підпис_ (`shape` і `dtype`), тому замість цього генерується новий граф:"
      ]
    },
    {
      "cell_type": "code",
      "execution_count": null,
      "metadata": {
        "id": "OWffqyhqlVPf",
        "colab": {
          "base_uri": "https://localhost:8080/"
        },
        "outputId": "044e402c-c88e-4ac2-a68f-d21494ff3812"
      },
      "outputs": [
        {
          "output_type": "stream",
          "name": "stdout",
          "text": [
            "Tracing.\n",
            "\n"
          ]
        },
        {
          "output_type": "execute_result",
          "data": {
            "text/plain": [
              "<tf.Tensor: shape=(), dtype=float32, numpy=27.3>"
            ]
          },
          "metadata": {},
          "execution_count": 34
        }
      ],
      "source": [
        "x = tf.constant([10.0, 9.1, 8.2], dtype=tf.float32)\n",
        "my_func(x)"
      ]
    },
    {
      "cell_type": "markdown",
      "metadata": {
        "id": "UWknAA_zNTOa"
      },
      "source": [
        "Ці захоплені графи надають дві переваги:\n",
        "\n",
        "* У багатьох випадках вони значно прискорюють виконання (хоча не в цьому простому прикладі).\n",
        "* Ви можете експортувати ці графи, використовуючи `tf.saved_model`, щоб запускати їх на інших системах, таких як [сервер](https://www.tensorflow.org/tfx/serving/docker) або [мобільний пристрій](https://www.tensorflow.org/lite/guide), без необхідності встановлення Python."
      ]
    },
    {
      "cell_type": "markdown",
      "source": [
        "# Tensorflow NN Implementation"
      ],
      "metadata": {
        "id": "L7fVBY9s1bdV"
      }
    },
    {
      "cell_type": "markdown",
      "metadata": {
        "id": "WpAK2lhUKP4Y"
      },
      "source": [
        "<a name='1'></a>\n",
        "## 1 - Packages"
      ]
    },
    {
      "cell_type": "code",
      "execution_count": null,
      "metadata": {
        "id": "MXVAY2t3KP4Y"
      },
      "outputs": [],
      "source": [
        "import h5py\n",
        "import numpy as np\n",
        "import tensorflow as tf\n",
        "import matplotlib.pyplot as plt\n",
        "from tensorflow.python.framework.ops import EagerTensor\n",
        "from tensorflow.python.ops.resource_variable_ops import ResourceVariable\n",
        "import time"
      ]
    },
    {
      "cell_type": "code",
      "execution_count": null,
      "metadata": {
        "colab": {
          "base_uri": "https://localhost:8080/",
          "height": 35
        },
        "id": "AiPXQ3nGKP4Z",
        "outputId": "6e43b3e6-4318-453d-cdd1-f7c580b2add8"
      },
      "outputs": [
        {
          "output_type": "execute_result",
          "data": {
            "text/plain": [
              "'2.17.0'"
            ],
            "application/vnd.google.colaboratory.intrinsic+json": {
              "type": "string"
            }
          },
          "metadata": {},
          "execution_count": 36
        }
      ],
      "source": [
        "tf.__version__"
      ]
    },
    {
      "cell_type": "markdown",
      "metadata": {
        "id": "51QL-tFnKP4a"
      },
      "source": [
        "## 2 - Базова оптимізація з GradientTape\n",
        "\n",
        "Краса TensorFlow 2 полягає в його простоті. Основна задача — реалізувати пряме поширення через обчислювальний граф. TensorFlow автоматично обчислить похідні, просуваючись у зворотному напрямку через граф, записаний за допомогою `GradientTape`. Все, що залишиться зробити — це вказати функцію втрат і оптимізатор, який ви хочете використовувати!\n",
        "\n",
        "При написанні програми на TensorFlow основним об'єктом, що використовується та трансформується, є `tf.Tensor`. Ці тензори є еквівалентом масивів Numpy в TensorFlow, тобто багатовимірними масивами певного типу даних, які також містять інформацію про обчислювальний граф.\n",
        "\n",
        "Нижче ви використаєте `tf.Variable` для збереження стану ваших змінних. Змінні можуть бути створені лише один раз, оскільки їх початкове значення визначає форму і тип змінної. Крім того, аргумент `dtype` в `tf.Variable` можна встановити для перетворення даних до вказаного типу. Якщо ж жоден не вказаний, то тип даних збережеться, якщо початковим значенням є Tensor, або ж буде визначено за допомогою `convert_to_tensor`. Загалом, краще явно вказувати тип, щоб уникнути помилок!"
      ]
    },
    {
      "cell_type": "code",
      "source": [
        "from sklearn.datasets import fetch_openml\n",
        "# Load data\n",
        "mnist_data = fetch_openml(\"mnist_784\")\n",
        "x = mnist_data[\"data\"]\n",
        "y = mnist_data[\"target\"]\n",
        "\n",
        "# Normalize\n",
        "x /= 255.0"
      ],
      "metadata": {
        "colab": {
          "base_uri": "https://localhost:8080/"
        },
        "id": "w3LMHDUKKZn8",
        "outputId": "cb6463e8-86a7-4ed9-e88f-c5ee8455915d"
      },
      "execution_count": null,
      "outputs": [
        {
          "output_type": "stream",
          "name": "stderr",
          "text": [
            "/usr/local/lib/python3.10/dist-packages/sklearn/datasets/_openml.py:1022: FutureWarning: The default value of `parser` will change from `'liac-arff'` to `'auto'` in 1.4. You can set `parser='auto'` to silence this warning. Therefore, an `ImportError` will be raised from 1.4 if the dataset is dense and pandas is not installed. Note that the pandas parser may return different data types. See the Notes Section in fetch_openml's API doc for details.\n",
            "  warn(\n"
          ]
        }
      ]
    },
    {
      "cell_type": "code",
      "source": [
        "from sklearn.preprocessing import OneHotEncoder\n",
        "from sklearn.model_selection import train_test_split\n",
        "\n",
        "# One-hot encode labels\n",
        "num_labels = 10\n",
        "\n",
        "x_new = x.to_numpy()\n",
        "y_new = y.to_numpy().reshape(-1, 1)\n",
        "y_new = OneHotEncoder(sparse=False).fit_transform(y_new)\n",
        "\n",
        "\n",
        "# Split, reshape, shuffle\n",
        "x_train, x_test, y_train, y_test = train_test_split(x_new, y_new, test_size=0.2)"
      ],
      "metadata": {
        "colab": {
          "base_uri": "https://localhost:8080/"
        },
        "id": "K9NGVZNRKyq8",
        "outputId": "4b463056-a1dd-466d-cc80-9e09c735285c"
      },
      "execution_count": null,
      "outputs": [
        {
          "output_type": "stream",
          "name": "stderr",
          "text": [
            "/usr/local/lib/python3.10/dist-packages/sklearn/preprocessing/_encoders.py:975: FutureWarning: `sparse` was renamed to `sparse_output` in version 1.2 and will be removed in 1.4. `sparse_output` is ignored unless you leave `sparse` to its default value.\n",
            "  warnings.warn(\n"
          ]
        }
      ]
    },
    {
      "cell_type": "code",
      "execution_count": null,
      "metadata": {
        "id": "pGPugxEcKP4b"
      },
      "outputs": [],
      "source": [
        "x_train = tf.data.Dataset.from_tensor_slices(tf.cast(x_train, tf.float32))\n",
        "y_train = tf.data.Dataset.from_tensor_slices(tf.cast(y_train, tf.float32))\n",
        "\n",
        "x_test = tf.data.Dataset.from_tensor_slices(tf.cast(x_test, tf.float32))\n",
        "y_test = tf.data.Dataset.from_tensor_slices(tf.cast(y_test, tf.float32))"
      ]
    },
    {
      "cell_type": "code",
      "execution_count": null,
      "metadata": {
        "colab": {
          "base_uri": "https://localhost:8080/",
          "height": 120
        },
        "id": "5zn1cyItKP4b",
        "outputId": "b5d97726-1fa8-4dc9-fbc9-f9d44a1e2feb"
      },
      "outputs": [
        {
          "output_type": "execute_result",
          "data": {
            "text/plain": [
              "tensorflow.python.data.ops.from_tensor_slices_op._TensorSliceDataset"
            ],
            "text/html": [
              "<div style=\"max-width:800px; border: 1px solid var(--colab-border-color);\"><style>\n",
              "      pre.function-repr-contents {\n",
              "        overflow-x: auto;\n",
              "        padding: 8px 12px;\n",
              "        max-height: 500px;\n",
              "      }\n",
              "\n",
              "      pre.function-repr-contents.function-repr-contents-collapsed {\n",
              "        cursor: pointer;\n",
              "        max-height: 100px;\n",
              "      }\n",
              "    </style>\n",
              "    <pre style=\"white-space: initial; background:\n",
              "         var(--colab-secondary-surface-color); padding: 8px 12px;\n",
              "         border-bottom: 1px solid var(--colab-border-color);\"><b>tensorflow.python.data.ops.from_tensor_slices_op._TensorSliceDataset</b><br/>def __init__(element, is_files=False, name=None)</pre><pre class=\"function-repr-contents function-repr-contents-collapsed\" style=\"\"><a class=\"filepath\" style=\"display:none\" href=\"#\">/usr/local/lib/python3.10/dist-packages/tensorflow/python/data/ops/from_tensor_slices_op.py</a>A `Dataset` of slices from a dataset element.</pre>\n",
              "      <script>\n",
              "      if (google.colab.kernel.accessAllowed && google.colab.files && google.colab.files.view) {\n",
              "        for (const element of document.querySelectorAll('.filepath')) {\n",
              "          element.style.display = 'block'\n",
              "          element.onclick = (event) => {\n",
              "            event.preventDefault();\n",
              "            event.stopPropagation();\n",
              "            google.colab.files.view(element.textContent, 28);\n",
              "          };\n",
              "        }\n",
              "      }\n",
              "      for (const element of document.querySelectorAll('.function-repr-contents')) {\n",
              "        element.onclick = (event) => {\n",
              "          event.preventDefault();\n",
              "          event.stopPropagation();\n",
              "          element.classList.toggle('function-repr-contents-collapsed');\n",
              "        };\n",
              "      }\n",
              "      </script>\n",
              "      </div>"
            ]
          },
          "metadata": {},
          "execution_count": 50
        }
      ],
      "source": [
        "type(x_train)"
      ]
    },
    {
      "cell_type": "markdown",
      "metadata": {
        "id": "RxNbVp1BKP4b"
      },
      "source": [
        "Оскільки TensorFlow Datasets є генераторами, ви не можете безпосередньо отримати доступ до їх вмісту, поки не проітеруєте їх у циклі `for`, або ж явно створите ітератор Python за допомогою `iter` і споживатимете його елементи за допомогою `next`. Також ви можете перевірити `shape` і `dtype` кожного елемента за допомогою атрибута `element_spec`."
      ]
    },
    {
      "cell_type": "code",
      "execution_count": null,
      "metadata": {
        "colab": {
          "base_uri": "https://localhost:8080/"
        },
        "id": "-rZybchAKP4b",
        "outputId": "fa365b52-0420-4c48-a14f-6d12a08b731f"
      },
      "outputs": [
        {
          "output_type": "stream",
          "name": "stdout",
          "text": [
            "TensorSpec(shape=(784,), dtype=tf.float32, name=None)\n"
          ]
        }
      ],
      "source": [
        "print(x_train.element_spec)"
      ]
    },
    {
      "cell_type": "markdown",
      "metadata": {
        "id": "ZOduc77-KP4c"
      },
      "source": [
        "### 2.1 - Лінійна функція\n",
        "\n",
        "Почнемо з обчислення наступного рівняння: $Y = WX + b$, де $W$ і $X$ є випадковими матрицями, а $b$ — випадковим вектором."
      ]
    },
    {
      "cell_type": "code",
      "source": [
        "np.random.seed(1)"
      ],
      "metadata": {
        "id": "CU1VoiwcCcZG"
      },
      "execution_count": null,
      "outputs": []
    },
    {
      "cell_type": "code",
      "execution_count": null,
      "metadata": {
        "deletable": false,
        "nbgrader": {
          "cell_type": "code",
          "checksum": "397d354ecaa1a28936096002cde11279",
          "grade": false,
          "grade_id": "cell-002e5736767021c0",
          "locked": false,
          "schema_version": 3,
          "solution": true,
          "task": false
        },
        "id": "7tlghGn4KP4d"
      },
      "outputs": [],
      "source": [
        "def linear_function(X):\n",
        "    \"\"\"\n",
        "    Implements a linear function:\n",
        "            Initializes W to be a random tensor of shape (1, 3)\n",
        "            Initializes b to be a random tensor of shape (1, 1)\n",
        "    Returns:\n",
        "    result -- Y = WX + b\n",
        "    \"\"\"\n",
        "\n",
        "    W = tf.Variable(np.random.randn(1, 3), name = \"W\")\n",
        "    b = tf.Variable(np.random.randn(1, 1), name = \"b\")\n",
        "    Y = (W @ X) + b\n",
        "\n",
        "    return Y"
      ]
    },
    {
      "cell_type": "code",
      "execution_count": null,
      "metadata": {
        "deletable": false,
        "editable": false,
        "nbgrader": {
          "cell_type": "code",
          "checksum": "3526a7fd39649d2a6516031720e46748",
          "grade": true,
          "grade_id": "cell-b4318ea155f136ab",
          "locked": true,
          "points": 10,
          "schema_version": 3,
          "solution": false,
          "task": false
        },
        "colab": {
          "base_uri": "https://localhost:8080/"
        },
        "id": "ZfTTXYZmKP4d",
        "outputId": "2444f57d-f593-43d8-c3ad-4cb76c4558fe"
      },
      "outputs": [
        {
          "output_type": "stream",
          "name": "stdout",
          "text": [
            "tf.Tensor([[1.21537304]], shape=(1, 1), dtype=float64)\n"
          ]
        }
      ],
      "source": [
        "X = tf.constant(np.random.randn(3,1), name = \"X\")\n",
        "\n",
        "result = linear_function(X)\n",
        "print(result)"
      ]
    },
    {
      "cell_type": "markdown",
      "metadata": {
        "id": "CRNJAFdiKP4e"
      },
      "source": [
        "### 2.4 - Ініціалізація параметрів\n",
        "\n",
        "Ініціалізуйте вектор чисел за допомогою ініціалізатора Glorot. Функція, яку ви будете викликати, називається `tf.keras.initializers.GlorotNormal`. Вона бере вибірки з усіченого нормального розподілу з центром у 0 і стандартним відхиленням, яке дорівнює `stddev = sqrt(2 / (fan_in + fan_out))`, де `fan_in` — це кількість вхідних одиниць, а `fan_out` — кількість вихідних одиниць у ваговому тензорі."
      ]
    },
    {
      "cell_type": "code",
      "execution_count": null,
      "metadata": {
        "deletable": false,
        "nbgrader": {
          "cell_type": "code",
          "checksum": "da48416c74797c83152e1080b08afb9d",
          "grade": false,
          "grade_id": "cell-1d5716c48a16debf",
          "locked": false,
          "schema_version": 3,
          "solution": true,
          "task": false
        },
        "id": "FGQE-aBpKP4f"
      },
      "outputs": [],
      "source": [
        "def initialize_parameters():\n",
        "    \"\"\"\n",
        "    Initializes parameters to build a neural network with TensorFlow.\n",
        "\n",
        "    Returns:\n",
        "    parameters -- a dictionary of tensors containing W1, b1, W2, b2\n",
        "    \"\"\"\n",
        "\n",
        "    initializer = tf.keras.initializers.GlorotNormal(seed=1)\n",
        "    W1 = tf.Variable(initializer(shape=(64, 784)))\n",
        "    b1 = tf.Variable(initializer(shape=(64, 1)))\n",
        "    W2 = tf.Variable(initializer(shape=(10, 64)))\n",
        "    b2 = tf.Variable(initializer(shape=(10, 1)))\n",
        "\n",
        "    parameters = {\n",
        "        \"W1\": W1,\n",
        "        \"b1\": b1,\n",
        "        \"W2\": W2,\n",
        "        \"b2\": b2\n",
        "    }\n",
        "\n",
        "    return parameters"
      ]
    },
    {
      "cell_type": "code",
      "execution_count": null,
      "metadata": {
        "id": "OMSlkaskKP4f"
      },
      "outputs": [],
      "source": [
        "parameters = initialize_parameters()"
      ]
    },
    {
      "cell_type": "markdown",
      "metadata": {
        "id": "cxlFSbY7KP4f"
      },
      "source": [
        "## 3 - Створення вашої першої нейронної мережі в TensorFlow\n",
        "\n",
        "У цій частині побудуйте нейронну мережу за допомогою TensorFlow. Пам'ятайте, що реалізація моделі TensorFlow складається з двох основних частин:\n",
        "\n",
        "- Реалізація прямого поширення (forward propagation)\n",
        "- Отримання градієнтів та навчання моделі"
      ]
    },
    {
      "cell_type": "markdown",
      "metadata": {
        "id": "cHDEdtQHKP4f"
      },
      "source": [
        "### 3.1 - Реалізація прямого поширення\n",
        "\n",
        "Однією з головних переваг TensorFlow є те, що вам потрібно реалізувати лише функцію прямого поширення, і він автоматично відстежуватиме всі виконані операції для автоматичного обчислення зворотного поширення (back propagation)."
      ]
    },
    {
      "cell_type": "code",
      "execution_count": null,
      "metadata": {
        "deletable": false,
        "nbgrader": {
          "cell_type": "code",
          "checksum": "e52024ce85f80538e02ad44ff9a6e334",
          "grade": false,
          "grade_id": "cell-23b6d82b3443e298",
          "locked": false,
          "schema_version": 3,
          "solution": true,
          "task": false
        },
        "id": "rAPEarHlKP4f"
      },
      "outputs": [],
      "source": [
        "def forward_propagation(X, parameters):\n",
        "    \"\"\"\n",
        "    Implements the forward propagation for the model: LINEAR -> RELU -> LINEAR -> SOFTMAX\n",
        "\n",
        "    Arguments:\n",
        "    X -- input dataset placeholder, of shape (input size, number of examples)\n",
        "    parameters -- python dictionary containing your parameters \"W1\", \"b1\", \"W2\", \"b2\"\n",
        "                  the shapes are given in initialize_parameters\n",
        "\n",
        "    Returns:\n",
        "    Z2 -- the output of the last LINEAR unit\n",
        "    \"\"\"\n",
        "\n",
        "    # Retrieve the parameters from the dictionary \"parameters\"\n",
        "    W1 = parameters['W1']\n",
        "    b1 = parameters['b1']\n",
        "    W2 = parameters['W2']\n",
        "    b2 = parameters['b2']\n",
        "\n",
        "    Z1 = (W1 @ X) + b1\n",
        "    A1 = tf.keras.activations.relu(Z1)\n",
        "    Z2 = (W2 @ A1) + b2\n",
        "\n",
        "    return Z2"
      ]
    },
    {
      "cell_type": "markdown",
      "metadata": {
        "id": "_kjIo0N7KP4g"
      },
      "source": [
        "### 3.2 Обчислення загальних втрат\n",
        "\n",
        "Тепер нам потрібно визначити функцію втрат, яку ви будете використовувати. У цьому випадку, оскільки у нас є задача класифікації з 10 мітками, підійде крос-ентропія для категорій (categorical cross-entropy)!"
      ]
    },
    {
      "cell_type": "code",
      "execution_count": null,
      "metadata": {
        "deletable": false,
        "nbgrader": {
          "cell_type": "code",
          "checksum": "eb8126e4c0e3f4e08dd6ba21cec57b6e",
          "grade": false,
          "grade_id": "cell-e6cc4d7fefeed231",
          "locked": false,
          "schema_version": 3,
          "solution": true,
          "task": false
        },
        "id": "9hpodORLKP4g"
      },
      "outputs": [],
      "source": [
        "def compute_total_loss(logits, labels):\n",
        "    \"\"\"\n",
        "    Computes the total loss\n",
        "\n",
        "    Arguments:\n",
        "    logits -- output of forward propagation (output of the last LINEAR unit), of shape (10, num_examples)\n",
        "    labels -- \"true\" labels vector, same shape as Z2\n",
        "\n",
        "    Returns:\n",
        "    total_loss - Tensor of the total loss value\n",
        "    \"\"\"\n",
        "\n",
        "    logits = tf.transpose(logits)\n",
        "    labels = tf.transpose(labels)\n",
        "\n",
        "    total_loss = tf.reduce_mean(tf.nn.softmax_cross_entropy_with_logits(logits=logits, labels=labels))\n",
        "    return total_loss"
      ]
    },
    {
      "cell_type": "markdown",
      "metadata": {
        "id": "MAv6sSpHKP4g"
      },
      "source": [
        "### 3.3 - Навчання моделі\n",
        "\n",
        "Поговоримо про оптимізатори. Вам потрібно вказати тип оптимізатора в один рядок, у цьому випадку `tf.keras.optimizers.Adam` (хоча можна використовувати й інші, такі як SGD), а потім викликати його всередині циклу навчання.\n",
        "\n",
        "Зверніть увагу на функцію `tape.gradient`: вона дозволяє отримувати операції, записані для автоматичного диференціювання всередині блоку `GradientTape`. Далі, виклик методу оптимізатора `apply_gradients` застосовує правила оновлення оптимізатора до кожного навчального параметра. У кінці цього завдання ви знайдете документацію, яка пояснює це більш детально, але поки що просте пояснення підійде. ;)\n",
        "\n",
        "Тут слід звернути увагу на важливий додатковий крок, який був доданий до процесу навчання партій:\n",
        "\n",
        "- `tf.Data.dataset = dataset.prefetch(8)`\n",
        "\n",
        "Це запобігає проблемам з пам'яттю, які можуть виникнути при читанні з диска. `prefetch()` резервує частину даних і тримає їх готовими до використання. Це робиться шляхом створення вихідного набору даних з ваших вхідних даних, застосування перетворення для попередньої обробки даних, а потім ітерування над набором даних певною кількістю елементів за раз. Це працює, оскільки ітерація є стримінговою, тому дані не потрібно завантажувати в пам'ять повністю."
      ]
    },
    {
      "cell_type": "code",
      "execution_count": null,
      "metadata": {
        "id": "G_ZI4EJHKP4g"
      },
      "outputs": [],
      "source": [
        "def model(\n",
        "    X_train, Y_train, X_test, Y_test,\n",
        "    learning_rate=0.0001,\n",
        "    num_epochs=1500, minibatch_size=1024\n",
        "):\n",
        "    \"\"\"\n",
        "    Implements a three-layer tensorflow neural network: LINEAR->RELU->LINEAR->RELU->LINEAR->SOFTMAX.\n",
        "\n",
        "    Returns:\n",
        "    parameters -- parameters learnt by the model. They can then be used to predict.\n",
        "    \"\"\"\n",
        "\n",
        "    costs = []\n",
        "    train_acc = []\n",
        "    test_acc = []\n",
        "\n",
        "    parameters = initialize_parameters()\n",
        "    optimizer = tf.keras.optimizers.Adam(learning_rate)\n",
        "\n",
        "    # The CategoricalAccuracy will track the accuracy for this multiclass problem\n",
        "    test_accuracy = tf.keras.metrics.CategoricalAccuracy()\n",
        "    train_accuracy = tf.keras.metrics.CategoricalAccuracy()\n",
        "\n",
        "    dataset = tf.data.Dataset.zip((X_train, Y_train))\n",
        "    test_dataset = tf.data.Dataset.zip((X_test, Y_test))\n",
        "\n",
        "    # We can get the number of elements of a dataset using the cardinality method\n",
        "    m = dataset.cardinality().numpy()\n",
        "\n",
        "    minibatches = dataset.batch(minibatch_size).prefetch(8)\n",
        "    test_minibatches = test_dataset.batch(minibatch_size).prefetch(8)\n",
        "\n",
        "    # Do the training loop\n",
        "    for epoch in range(num_epochs):\n",
        "\n",
        "        epoch_total_loss = 0.\n",
        "\n",
        "        #We need to reset object to start measuring from 0 the accuracy each epoch\n",
        "        train_accuracy.reset_state()\n",
        "\n",
        "        for (minibatch_X, minibatch_Y) in minibatches:\n",
        "\n",
        "            with tf.GradientTape() as tape:\n",
        "                out = forward_propagation(tf.transpose(minibatch_X), parameters)\n",
        "                minibatch_total_loss = compute_total_loss(out, tf.transpose(minibatch_Y))\n",
        "\n",
        "            # We accumulate the accuracy of all the batches\n",
        "            train_accuracy.update_state(minibatch_Y, tf.transpose(out))\n",
        "\n",
        "            trainable_variables = parameters.values()\n",
        "            grads = tape.gradient(minibatch_total_loss, trainable_variables)\n",
        "            optimizer.apply_gradients(zip(grads, trainable_variables))\n",
        "            epoch_total_loss += minibatch_total_loss\n",
        "\n",
        "        # We divide the epoch total loss over the number of samples\n",
        "        epoch_total_loss /= m\n",
        "\n",
        "        print(f\"Epoch {epoch}: {epoch_total_loss}\")\n",
        "        print(\"Train accuracy:\", train_accuracy.result())\n",
        "\n",
        "        costs.append(epoch_total_loss)\n",
        "        train_acc.append(train_accuracy.result())\n",
        "\n",
        "        for (minibatch_X, minibatch_Y) in test_minibatches:\n",
        "            out = forward_propagation(tf.transpose(minibatch_X), parameters)\n",
        "            test_accuracy.update_state(minibatch_Y, tf.transpose(out))\n",
        "        print(\"Test_accuracy:\", test_accuracy.result())\n",
        "        test_acc.append(test_accuracy.result())\n",
        "        test_accuracy.reset_state()\n",
        "\n",
        "    return parameters, costs, train_acc, test_acc"
      ]
    },
    {
      "cell_type": "code",
      "execution_count": null,
      "metadata": {
        "colab": {
          "base_uri": "https://localhost:8080/"
        },
        "id": "BHnuNoohKP4g",
        "outputId": "99bed6ce-acbc-4cba-ad9c-081d5859bf28"
      },
      "outputs": [
        {
          "output_type": "stream",
          "name": "stdout",
          "text": [
            "Epoch 0: 0.0002073880605166778\n",
            "Train accuracy: tf.Tensor(0.7394643, shape=(), dtype=float32)\n",
            "Test_accuracy: tf.Tensor(0.8882857, shape=(), dtype=float32)\n",
            "Epoch 1: 8.258398156613111e-05\n",
            "Train accuracy: tf.Tensor(0.9055536, shape=(), dtype=float32)\n",
            "Test_accuracy: tf.Tensor(0.9162143, shape=(), dtype=float32)\n",
            "Epoch 2: 6.227149424375966e-05\n",
            "Train accuracy: tf.Tensor(0.92873216, shape=(), dtype=float32)\n",
            "Test_accuracy: tf.Tensor(0.93135715, shape=(), dtype=float32)\n",
            "Epoch 3: 5.123547452967614e-05\n",
            "Train accuracy: tf.Tensor(0.9410893, shape=(), dtype=float32)\n",
            "Test_accuracy: tf.Tensor(0.9408572, shape=(), dtype=float32)\n",
            "Epoch 4: 4.386406362755224e-05\n",
            "Train accuracy: tf.Tensor(0.9492857, shape=(), dtype=float32)\n",
            "Test_accuracy: tf.Tensor(0.94764286, shape=(), dtype=float32)\n",
            "Epoch 5: 3.827227192232385e-05\n",
            "Train accuracy: tf.Tensor(0.95575, shape=(), dtype=float32)\n",
            "Test_accuracy: tf.Tensor(0.95192856, shape=(), dtype=float32)\n",
            "Epoch 6: 3.394405575818382e-05\n",
            "Train accuracy: tf.Tensor(0.9610357, shape=(), dtype=float32)\n",
            "Test_accuracy: tf.Tensor(0.9552857, shape=(), dtype=float32)\n",
            "Epoch 7: 3.04438617604319e-05\n",
            "Train accuracy: tf.Tensor(0.9649107, shape=(), dtype=float32)\n",
            "Test_accuracy: tf.Tensor(0.95764285, shape=(), dtype=float32)\n",
            "Epoch 8: 2.744431003520731e-05\n",
            "Train accuracy: tf.Tensor(0.96835715, shape=(), dtype=float32)\n",
            "Test_accuracy: tf.Tensor(0.95935714, shape=(), dtype=float32)\n",
            "Epoch 9: 2.4932114683906548e-05\n",
            "Train accuracy: tf.Tensor(0.9712857, shape=(), dtype=float32)\n",
            "Test_accuracy: tf.Tensor(0.96171427, shape=(), dtype=float32)\n",
            "Epoch 10: 2.2855596398585476e-05\n",
            "Train accuracy: tf.Tensor(0.9737857, shape=(), dtype=float32)\n",
            "Test_accuracy: tf.Tensor(0.96185714, shape=(), dtype=float32)\n",
            "Epoch 11: 2.118584598065354e-05\n",
            "Train accuracy: tf.Tensor(0.97575, shape=(), dtype=float32)\n",
            "Test_accuracy: tf.Tensor(0.96342856, shape=(), dtype=float32)\n",
            "Epoch 12: 1.983275797101669e-05\n",
            "Train accuracy: tf.Tensor(0.977375, shape=(), dtype=float32)\n",
            "Test_accuracy: tf.Tensor(0.9654286, shape=(), dtype=float32)\n",
            "Epoch 13: 1.8760594684863463e-05\n",
            "Train accuracy: tf.Tensor(0.9786071, shape=(), dtype=float32)\n",
            "Test_accuracy: tf.Tensor(0.96585715, shape=(), dtype=float32)\n",
            "Epoch 14: 1.812658774724696e-05\n",
            "Train accuracy: tf.Tensor(0.97873217, shape=(), dtype=float32)\n",
            "Test_accuracy: tf.Tensor(0.96485716, shape=(), dtype=float32)\n",
            "Epoch 15: 1.7515983927296475e-05\n",
            "Train accuracy: tf.Tensor(0.9793571, shape=(), dtype=float32)\n",
            "Test_accuracy: tf.Tensor(0.95907146, shape=(), dtype=float32)\n",
            "Epoch 16: 1.6592985048191622e-05\n",
            "Train accuracy: tf.Tensor(0.98025, shape=(), dtype=float32)\n",
            "Test_accuracy: tf.Tensor(0.9637857, shape=(), dtype=float32)\n",
            "Epoch 17: 1.5199055269476958e-05\n",
            "Train accuracy: tf.Tensor(0.9820357, shape=(), dtype=float32)\n",
            "Test_accuracy: tf.Tensor(0.96685714, shape=(), dtype=float32)\n",
            "Epoch 18: 1.2892177437606733e-05\n",
            "Train accuracy: tf.Tensor(0.98580354, shape=(), dtype=float32)\n",
            "Test_accuracy: tf.Tensor(0.96842855, shape=(), dtype=float32)\n",
            "Epoch 19: 1.1746528798539657e-05\n",
            "Train accuracy: tf.Tensor(0.9868571, shape=(), dtype=float32)\n",
            "Test_accuracy: tf.Tensor(0.9682143, shape=(), dtype=float32)\n",
            "Epoch 20: 1.1004364750988316e-05\n",
            "Train accuracy: tf.Tensor(0.9878393, shape=(), dtype=float32)\n",
            "Test_accuracy: tf.Tensor(0.9685, shape=(), dtype=float32)\n",
            "Epoch 21: 1.0178739103139378e-05\n",
            "Train accuracy: tf.Tensor(0.98901784, shape=(), dtype=float32)\n",
            "Test_accuracy: tf.Tensor(0.9678571, shape=(), dtype=float32)\n",
            "Epoch 22: 9.408006917510647e-06\n",
            "Train accuracy: tf.Tensor(0.99025, shape=(), dtype=float32)\n",
            "Test_accuracy: tf.Tensor(0.9682143, shape=(), dtype=float32)\n",
            "Epoch 23: 8.813259228190873e-06\n",
            "Train accuracy: tf.Tensor(0.9909821, shape=(), dtype=float32)\n",
            "Test_accuracy: tf.Tensor(0.96835715, shape=(), dtype=float32)\n",
            "Epoch 24: 8.26198811409995e-06\n",
            "Train accuracy: tf.Tensor(0.99214286, shape=(), dtype=float32)\n",
            "Test_accuracy: tf.Tensor(0.96814287, shape=(), dtype=float32)\n",
            "Epoch 25: 7.754169928375632e-06\n",
            "Train accuracy: tf.Tensor(0.99291074, shape=(), dtype=float32)\n",
            "Test_accuracy: tf.Tensor(0.9680714, shape=(), dtype=float32)\n",
            "Epoch 26: 7.325671049329685e-06\n",
            "Train accuracy: tf.Tensor(0.99325, shape=(), dtype=float32)\n",
            "Test_accuracy: tf.Tensor(0.9678571, shape=(), dtype=float32)\n",
            "Epoch 27: 6.9522452577075455e-06\n",
            "Train accuracy: tf.Tensor(0.99367857, shape=(), dtype=float32)\n",
            "Test_accuracy: tf.Tensor(0.968, shape=(), dtype=float32)\n",
            "Epoch 28: 6.585042228834936e-06\n",
            "Train accuracy: tf.Tensor(0.99401784, shape=(), dtype=float32)\n",
            "Test_accuracy: tf.Tensor(0.96764284, shape=(), dtype=float32)\n",
            "Epoch 29: 6.244578344194451e-06\n",
            "Train accuracy: tf.Tensor(0.99435717, shape=(), dtype=float32)\n",
            "Test_accuracy: tf.Tensor(0.96664286, shape=(), dtype=float32)\n",
            "Epoch 30: 6.0923234741494525e-06\n",
            "Train accuracy: tf.Tensor(0.994625, shape=(), dtype=float32)\n",
            "Test_accuracy: tf.Tensor(0.9667857, shape=(), dtype=float32)\n",
            "Epoch 31: 6.051350737834582e-06\n",
            "Train accuracy: tf.Tensor(0.99455357, shape=(), dtype=float32)\n",
            "Test_accuracy: tf.Tensor(0.968, shape=(), dtype=float32)\n",
            "Epoch 32: 5.968607638351386e-06\n",
            "Train accuracy: tf.Tensor(0.99448216, shape=(), dtype=float32)\n",
            "Test_accuracy: tf.Tensor(0.9672143, shape=(), dtype=float32)\n",
            "Epoch 33: 5.839000095875235e-06\n",
            "Train accuracy: tf.Tensor(0.9945, shape=(), dtype=float32)\n",
            "Test_accuracy: tf.Tensor(0.9662143, shape=(), dtype=float32)\n",
            "Epoch 34: 6.097511686675716e-06\n",
            "Train accuracy: tf.Tensor(0.99376786, shape=(), dtype=float32)\n",
            "Test_accuracy: tf.Tensor(0.96864283, shape=(), dtype=float32)\n",
            "Epoch 35: 6.129742814664496e-06\n",
            "Train accuracy: tf.Tensor(0.9932143, shape=(), dtype=float32)\n",
            "Test_accuracy: tf.Tensor(0.96614283, shape=(), dtype=float32)\n",
            "Epoch 36: 5.710001460101921e-06\n",
            "Train accuracy: tf.Tensor(0.99364287, shape=(), dtype=float32)\n",
            "Test_accuracy: tf.Tensor(0.96592855, shape=(), dtype=float32)\n",
            "Epoch 37: 5.153686743142316e-06\n",
            "Train accuracy: tf.Tensor(0.9947857, shape=(), dtype=float32)\n",
            "Test_accuracy: tf.Tensor(0.9672857, shape=(), dtype=float32)\n",
            "Epoch 38: 5.083380983705865e-06\n",
            "Train accuracy: tf.Tensor(0.99464285, shape=(), dtype=float32)\n",
            "Test_accuracy: tf.Tensor(0.9677857, shape=(), dtype=float32)\n",
            "Epoch 39: 4.804180207429454e-06\n",
            "Train accuracy: tf.Tensor(0.9955, shape=(), dtype=float32)\n",
            "Test_accuracy: tf.Tensor(0.96485716, shape=(), dtype=float32)\n",
            "Epoch 40: 5.280219738779124e-06\n",
            "Train accuracy: tf.Tensor(0.9943214, shape=(), dtype=float32)\n",
            "Test_accuracy: tf.Tensor(0.9638571, shape=(), dtype=float32)\n",
            "Epoch 41: 6.153274171083467e-06\n",
            "Train accuracy: tf.Tensor(0.9924464, shape=(), dtype=float32)\n",
            "Test_accuracy: tf.Tensor(0.96185714, shape=(), dtype=float32)\n",
            "Epoch 42: 7.073725100781303e-06\n",
            "Train accuracy: tf.Tensor(0.9909286, shape=(), dtype=float32)\n",
            "Test_accuracy: tf.Tensor(0.957, shape=(), dtype=float32)\n",
            "Epoch 43: 9.656309885031078e-06\n",
            "Train accuracy: tf.Tensor(0.9874643, shape=(), dtype=float32)\n",
            "Test_accuracy: tf.Tensor(0.9620714, shape=(), dtype=float32)\n",
            "Epoch 44: 9.635433343646582e-06\n",
            "Train accuracy: tf.Tensor(0.98707145, shape=(), dtype=float32)\n",
            "Test_accuracy: tf.Tensor(0.96192855, shape=(), dtype=float32)\n",
            "Epoch 45: 5.201947260502493e-06\n",
            "Train accuracy: tf.Tensor(0.9933571, shape=(), dtype=float32)\n",
            "Test_accuracy: tf.Tensor(0.967, shape=(), dtype=float32)\n",
            "Epoch 46: 4.058016202179715e-06\n",
            "Train accuracy: tf.Tensor(0.99542856, shape=(), dtype=float32)\n",
            "Test_accuracy: tf.Tensor(0.963, shape=(), dtype=float32)\n",
            "Epoch 47: 3.80344226869056e-06\n",
            "Train accuracy: tf.Tensor(0.9960179, shape=(), dtype=float32)\n",
            "Test_accuracy: tf.Tensor(0.9646429, shape=(), dtype=float32)\n",
            "Epoch 48: 3.623288876042352e-06\n",
            "Train accuracy: tf.Tensor(0.99630356, shape=(), dtype=float32)\n",
            "Test_accuracy: tf.Tensor(0.96335715, shape=(), dtype=float32)\n",
            "Epoch 49: 3.8213638617889956e-06\n",
            "Train accuracy: tf.Tensor(0.9960179, shape=(), dtype=float32)\n",
            "Test_accuracy: tf.Tensor(0.9652143, shape=(), dtype=float32)\n"
          ]
        }
      ],
      "source": [
        "parameters, costs, train_acc, test_acc = model(\n",
        "    x_train, y_train, x_test, y_test,\n",
        "    learning_rate=0.01,\n",
        "    num_epochs=50, minibatch_size=4096\n",
        ")"
      ]
    },
    {
      "cell_type": "code",
      "execution_count": null,
      "metadata": {
        "colab": {
          "base_uri": "https://localhost:8080/",
          "height": 449
        },
        "id": "YpLKHswOKP4g",
        "outputId": "3e759193-e28f-416c-91f1-edfd3d92e183"
      },
      "outputs": [
        {
          "output_type": "display_data",
          "data": {
            "text/plain": [
              "<Figure size 640x480 with 1 Axes>"
            ],
            "image/png": "[encoded data removed]"
          },
          "metadata": {}
        }
      ],
      "source": [
        "# Plot the cost\n",
        "plt.plot(np.squeeze(costs))\n",
        "plt.ylabel('cost')\n",
        "plt.xlabel('iterations (per fives)')\n",
        "plt.show()"
      ]
    },
    {
      "cell_type": "code",
      "execution_count": null,
      "metadata": {
        "colab": {
          "base_uri": "https://localhost:8080/",
          "height": 449
        },
        "id": "mq4G1hLuKP4g",
        "outputId": "1200b64f-be11-4e92-ffac-6b9990dc21ee"
      },
      "outputs": [
        {
          "output_type": "display_data",
          "data": {
            "text/plain": [
              "<Figure size 640x480 with 1 Axes>"
            ],
            "image/png": "[encoded data removed]"
          },
          "metadata": {}
        }
      ],
      "source": [
        "# Plot the train accuracy\n",
        "plt.plot(np.squeeze(train_acc))\n",
        "plt.ylabel('Train Accuracy')\n",
        "plt.xlabel('iterations (per fives)')\n",
        "\n",
        "# Plot the test accuracy\n",
        "plt.plot(np.squeeze(test_acc))\n",
        "plt.ylabel('Test Accuracy')\n",
        "plt.xlabel('iterations (per fives)')\n",
        "plt.show()"
      ]
    },
    {
      "cell_type": "code",
      "source": [],
      "metadata": {
        "id": "8VagpHyp5xzG"
      },
      "execution_count": null,
      "outputs": []
    },
    {
      "cell_type": "markdown",
      "metadata": {
        "id": "6DWfyNThSziV"
      },
      "source": [
        "# Introduction to modules, layers, and models"
      ]
    },
    {
      "cell_type": "markdown",
      "metadata": {
        "id": "wiIB3xzU5x-H"
      },
      "source": [
        "Щоб займатися машинним навчанням у TensorFlow, вам, ймовірно, знадобиться визначити, зберегти та відновити модель.\n",
        "\n",
        "Модель — це, абстрактно:\n",
        "\n",
        "* Функція, яка обчислює щось над тензорами (**пряме поширення**)\n",
        "* Декілька змінних, які можна оновлювати у відповідь на навчання\n",
        "\n",
        "Зрозуміти, як визначаються моделі TensorFlow. Це дозволяє дізнатися, як TensorFlow збирає змінні та моделі, а також як їх зберігати та відновлювати.\n",
        "\n",
        "Примітка: Якщо ви хочете негайно розпочати роботу з Keras, будь ласка, перегляньте [збірку посібників Keras](./keras/)."
      ]
    },
    {
      "cell_type": "markdown",
      "metadata": {
        "id": "VSa6ayJmfZxZ"
      },
      "source": [
        "## Setup"
      ]
    },
    {
      "cell_type": "code",
      "execution_count": null,
      "metadata": {
        "id": "goZwOXp_xyQj"
      },
      "outputs": [],
      "source": [
        "import tensorflow as tf\n",
        "import keras\n",
        "from datetime import datetime\n",
        "\n",
        "%load_ext tensorboard"
      ]
    },
    {
      "cell_type": "markdown",
      "metadata": {
        "id": "yt5HEbsYAbw1"
      },
      "source": [
        "## TensorFlow Modules\n",
        "\n",
        "Більшість моделей складаються з шарів. Шари — це функції з відомою математичною структурою, які можна повторно використовувати і які мають навчальні змінні. У TensorFlow більшість високорівневих реалізацій шарів та моделей, таких як Keras або [Sonnet](https://github.com/deepmind/sonnet), базуються на одному фундаментальному класі: `tf.Module`.\n",
        "\n",
        "### Створення модулів\n",
        "\n",
        "Ось приклад дуже простого `tf.Module`, який працює з скалярним тензором:\n"
      ]
    },
    {
      "cell_type": "code",
      "execution_count": null,
      "metadata": {
        "id": "alhYPVEtAiSy",
        "colab": {
          "base_uri": "https://localhost:8080/"
        },
        "outputId": "d76a35c8-24a9-416d-dfbc-82959a5e7ea5"
      },
      "outputs": [
        {
          "output_type": "execute_result",
          "data": {
            "text/plain": [
              "<tf.Tensor: shape=(), dtype=float32, numpy=30.0>"
            ]
          },
          "metadata": {},
          "execution_count": 89
        }
      ],
      "source": [
        "class SimpleModule(tf.Module):\n",
        "\n",
        "  def __init__(self, name=None):\n",
        "    super().__init__(name=name)\n",
        "    self.a_variable = tf.Variable(5.0, name=\"train_me\")\n",
        "    self.non_trainable_variable = tf.Variable(5.0, trainable=False, name=\"do_not_train_me\")\n",
        "\n",
        "  def __call__(self, x):\n",
        "    return self.a_variable * x + self.non_trainable_variable\n",
        "\n",
        "simple_module = SimpleModule(name=\"simple\")\n",
        "\n",
        "simple_module(tf.constant(5.0))"
      ]
    },
    {
      "cell_type": "markdown",
      "metadata": {
        "id": "JwMc_zu5Ant8"
      },
      "source": [
        "Модулі та, за розширенням, шари є термінами глибокого навчання для \"об'єктів\": вони мають внутрішній стан і методи, які використовують цей стан.\n",
        "\n",
        "В `__call__` немає нічого особливого, окрім того, що він діє як [викликаний об'єкт Python](https://stackoverflow.com/questions/111234/what-is-a-callable); ви можете викликати ваші моделі з будь-якими функціями, які бажаєте.\n",
        "\n",
        "Ви можете увімкнути або вимкнути навчальність змінних з будь-якої причини, включаючи заморожування шарів і змінних під час доопрацювання (fine-tuning).\n",
        "\n",
        "Примітка: `tf.Module` є базовим класом як для `tf.keras.layers.Layer`, так і для `tf.keras.Model`, тому все, з чим ви стикаєтеся тут, також застосовується в Keras. Для історичної сумісності Keras шари не збирають змінні з модулів, тому ваші моделі повинні використовувати або тільки модулі, або тільки шари Keras. Однак методи, показані нижче для перевірки змінних, однакові в обох випадках.\n",
        "\n",
        "Підкласовуючи `tf.Module`, будь-які екземпляри `tf.Variable` або `tf.Module`, призначені властивостям цього об'єкта, автоматично збираються. Це дозволяє зберігати та завантажувати змінні, а також створювати колекції `tf.Module`."
      ]
    },
    {
      "cell_type": "code",
      "execution_count": null,
      "metadata": {
        "id": "CyzYy4A_CbVf"
      },
      "outputs": [],
      "source": [
        "# All trainable variables\n",
        "print(\"trainable variables:\", simple_module.trainable_variables)\n",
        "# Every variable\n",
        "print(\"all variables:\", simple_module.variables)"
      ]
    },
    {
      "cell_type": "markdown",
      "metadata": {
        "id": "nuSFrRUNCaaW"
      },
      "source": [
        "Ось приклад моделі з двома лінійними шарами, створеної з модулів.\n",
        "\n",
        "Спочатку створимо a dense (linear) шар:"
      ]
    },
    {
      "cell_type": "code",
      "execution_count": null,
      "metadata": {
        "id": "Efb2p2bzAn-V"
      },
      "outputs": [],
      "source": [
        "class Dense(tf.Module):\n",
        "\n",
        "  def __init__(self, in_features, out_features, name=None):\n",
        "    super().__init__(name=name)\n",
        "    self.w = tf.Variable(\n",
        "      tf.random.normal([in_features, out_features]), name='w')\n",
        "    self.b = tf.Variable(tf.zeros([out_features]), name='b')\n",
        "\n",
        "  def __call__(self, x):\n",
        "    y = tf.matmul(x, self.w) + self.b\n",
        "    return tf.nn.relu(y)"
      ]
    },
    {
      "cell_type": "markdown",
      "metadata": {
        "id": "bAhMuC-UpnhX"
      },
      "source": [
        "А тепер повна модель, яка створює два екземпляри шару і застосовує їх:"
      ]
    },
    {
      "cell_type": "code",
      "execution_count": null,
      "metadata": {
        "id": "QQ7qQf-DFw74",
        "colab": {
          "base_uri": "https://localhost:8080/"
        },
        "outputId": "7aaebfa3-369b-4b00-a0ea-ea6d448621ac"
      },
      "outputs": [
        {
          "output_type": "stream",
          "name": "stdout",
          "text": [
            "Model results: tf.Tensor([[0. 0.]], shape=(1, 2), dtype=float32)\n"
          ]
        }
      ],
      "source": [
        "class SequentialModule(tf.Module):\n",
        "\n",
        "  def __init__(self, name=None):\n",
        "    super().__init__(name=name)\n",
        "\n",
        "    self.dense_1 = Dense(in_features=3, out_features=3)\n",
        "    self.dense_2 = Dense(in_features=3, out_features=2)\n",
        "\n",
        "  def __call__(self, x):\n",
        "    x = self.dense_1(x)\n",
        "    return self.dense_2(x)\n",
        "\n",
        "# You have made a model!\n",
        "my_model = SequentialModule(name=\"the_model\")\n",
        "\n",
        "# Call it, with random results\n",
        "print(\"Model results:\", my_model(tf.constant([[2.0, 2.0, 2.0]])))"
      ]
    },
    {
      "cell_type": "markdown",
      "metadata": {
        "id": "d1oUzasJHHXf"
      },
      "source": [
        "Екземпляри `tf.Module` автоматично, рекурсивно збирають будь-які екземпляри `tf.Variable` або `tf.Module`, які їм призначені. Це дозволяє управляти колекціями `tf.Module` з одного екземпляра моделі та зберігати і завантажувати цілі моделі."
      ]
    },
    {
      "cell_type": "code",
      "execution_count": null,
      "metadata": {
        "id": "JLFA5_PEGb6C",
        "colab": {
          "base_uri": "https://localhost:8080/"
        },
        "outputId": "c25735f7-3552-494c-e94b-48e8f2bcccd0"
      },
      "outputs": [
        {
          "output_type": "stream",
          "name": "stdout",
          "text": [
            "Submodules: (<__main__.Dense object at 0x7ff1f9fae470>, <__main__.Dense object at 0x7ff1f9fadae0>)\n"
          ]
        }
      ],
      "source": [
        "print(\"Submodules:\", my_model.submodules)\n"
      ]
    },
    {
      "cell_type": "code",
      "execution_count": null,
      "metadata": {
        "id": "6lzoB8pcRN12"
      },
      "outputs": [],
      "source": [
        "for var in my_model.variables:\n",
        "  print(var, \"\\n\")"
      ]
    },
    {
      "cell_type": "markdown",
      "metadata": {
        "id": "JOLVVBT8J_dl"
      },
      "source": [
        "### Збереження ваг\n",
        "\n",
        "Ви можете зберегти `tf.Module` як [контрольну точку](./checkpoint.ipynb) (checkpoint), так і [SavedModel](./saved_model.ipynb).\n",
        "\n",
        "Контрольні точки — це просто ваги (тобто значення набору змінних всередині модуля та його підмодулів):"
      ]
    },
    {
      "cell_type": "code",
      "execution_count": null,
      "metadata": {
        "id": "pHXKRDk7OLHA",
        "colab": {
          "base_uri": "https://localhost:8080/",
          "height": 35
        },
        "outputId": "fc2d8014-3ada-4c97-ba69-ea9193a4a7c8"
      },
      "outputs": [
        {
          "output_type": "execute_result",
          "data": {
            "text/plain": [
              "'my_checkpoint'"
            ],
            "application/vnd.google.colaboratory.intrinsic+json": {
              "type": "string"
            }
          },
          "metadata": {},
          "execution_count": 100
        }
      ],
      "source": [
        "chkp_path = \"my_checkpoint\"\n",
        "checkpoint = tf.train.Checkpoint(model=my_model)\n",
        "checkpoint.write(chkp_path)"
      ]
    },
    {
      "cell_type": "markdown",
      "metadata": {
        "id": "WXOPMBR4T4ZR"
      },
      "source": [
        "Контрольні точки складаються з двох видів файлів: самих даних і індексного файлу для метаданих. Індексний файл відстежує, що саме збережено і як нумеруються контрольні точки, тоді як дані контрольної точки містять значення змінних і їхні шляхи для пошуку атрибутів."
      ]
    },
    {
      "cell_type": "code",
      "source": [
        "checkpoint = tf.train.Checkpoint(my_model)\n",
        "# Restore the checkpointed values to the `model` object.\n",
        "checkpoint.restore(\"my_checkpoint\")"
      ],
      "metadata": {
        "colab": {
          "base_uri": "https://localhost:8080/"
        },
        "id": "jcKf1e3nfa3b",
        "outputId": "f2026ec2-1096-4bed-c8ba-683ff47b60ea"
      },
      "execution_count": null,
      "outputs": [
        {
          "output_type": "execute_result",
          "data": {
            "text/plain": [
              "<tensorflow.python.checkpoint.checkpoint.CheckpointLoadStatus at 0x7ff1f9fac5b0>"
            ]
          },
          "metadata": {},
          "execution_count": 101
        }
      ]
    },
    {
      "cell_type": "code",
      "source": [],
      "metadata": {
        "id": "jez1gqyDfe_s"
      },
      "execution_count": null,
      "outputs": []
    }
  ],
  "metadata": {
    "kernelspec": {
      "display_name": "Python 3",
      "language": "python",
      "name": "python3"
    },
    "language_info": {
      "codemirror_mode": {
        "name": "ipython",
        "version": 3
      },
      "file_extension": ".py",
      "mimetype": "text/x-python",
      "name": "python",
      "nbconvert_exporter": "python",
      "pygments_lexer": "ipython3",
      "version": "3.7.6"
    },
    "colab": {
      "provenance": []
    }
  },
  "nbformat": 4,
  "nbformat_minor": 0
}