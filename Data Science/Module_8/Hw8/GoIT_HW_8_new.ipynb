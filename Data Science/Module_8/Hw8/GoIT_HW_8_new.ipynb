{
 "cells": [
  {
   "cell_type": "markdown",
   "metadata": {
    "id": "b0Yf4NBJUSNM"
   },
   "source": [
    "# Створення нейронної мережі\n",
    "\n",
    "У цьому завданні ми створимо повнозв'язну нейронну мережу, використовуючи при цьому низькорівневі механізми tensorflow.\n",
    "\n",
    "Архітектура нейромережі представлена на наступному малюнку. Як бачиш, у ній є один вхідний шар, два приховані, а також вихідний шар. В якості активаційної функції у прихованих шарах буде використовуватись сигмоїда. На вихідному шарі ми використовуємо softmax.\n",
    "\n",
    "Частина коду зі створення мережі вже написана, тобі потрібно заповнити пропуски у вказаних місцях."
   ]
  },
  {
   "cell_type": "markdown",
   "metadata": {
    "id": "01rZWUu0USNQ"
   },
   "source": [
    "## Архітектура нейронної мережі\n",
    "\n",
    "<img src=\"http://cs231n.github.io/assets/nn1/neural_net2.jpeg\" alt=\"nn\" style=\"width: 400px;\"/>\n"
   ]
  },
  {
   "cell_type": "markdown",
   "metadata": {
    "id": "LLvIZ705Qw_V"
   },
   "source": [
    "## Про датасет MNIST\n",
    "\n",
    "Дану нейромережу ми будемо вивчати на датасеті MNIST. Цей датасет являє собою велику кількість зображень рукописних цифр розміром $28 \\times 28$ пікселів. Кожен піксель приймає значення від 0 до 255.\n",
    "\n",
    "Як і раніше, датасет буде розділений на навчальну та тестову вибірки. При цьому ми виконаємо нормалізацію всіх зображень, щоб значення пікселів знаходилось у проміжку від 0 до 1, розділивши яскравість кожного пікселя на 255.\n",
    "\n",
    "Окрім того, архітектура нейронної мережі очікує на вхід вектор. У нашому ж випадку кожен об'єкт вибірки являє собою матрицю. Що ж робити? У цьому завданні ми \"розтягнемо\" матрицю $28 \\times 28$, отримавши при цьому вектор, що складається з 784 елементів.\n",
    "\n",
    "![MNIST Dataset](https://www.researchgate.net/profile/Steven-Young-5/publication/306056875/figure/fig1/AS:393921575309346@1470929630835/Example-images-from-the-MNIST-dataset.png)\n",
    "\n",
    "Більше інформації про датасет можна знайти [тут](http://yann.lecun.com/exdb/mnist/)."
   ]
  },
  {
   "cell_type": "code",
   "execution_count": 96,
   "metadata": {
    "id": "il_0_5OyUSNR"
   },
   "outputs": [],
   "source": [
    "import tensorflow as tf\n",
    "import numpy as np\n",
    "import pandas as pd\n",
    "import random\n",
    "import keras as K\n",
    "import seaborn as sns\n",
    "from sklearn.metrics import confusion_matrix"
   ]
  },
  {
   "cell_type": "code",
   "execution_count": 97,
   "metadata": {
    "id": "cd-1_abTUSNS"
   },
   "outputs": [],
   "source": [
    "num_classes = 10  # загальна кількість класів\n",
    "num_features = 784  # кількість атрибутів вхідного вектора\n",
    "\n",
    "learning_rate = 0.001  # швидкість навчання\n",
    "training_steps = 3000  # максимальне число кроків\n",
    "batch_size = 256  # розмір пакету\n",
    "display_step = 100  # кожні 100 кроків показуємо прогрес\n",
    "\n",
    "n_hidden_1 = 128  # кількість нейронів 1-го шару\n",
    "n_hidden_2 = 256  # кількість нейронів 2-го шару"
   ]
  },
  {
   "cell_type": "code",
   "execution_count": 98,
   "metadata": {
    "colab": {
     "base_uri": "https://localhost:8080/"
    },
    "id": "pGTXiRyTUSNT",
    "outputId": "68f5b9d9-6c78-4bda-b26f-69aa82e93f20"
   },
   "outputs": [],
   "source": [
    "# from tensorflow.keras.datasets import mnist\n",
    "from keras.datasets import mnist\n",
    "\n",
    "# Завантажуємо датасет\n",
    "(x_train, y_train), (x_test, y_test) = mnist.load_data()\n",
    "\n",
    "# Перетворюємо на float32\n",
    "x_train, x_test = np.array(x_train, np.float32), np.array(x_test, np.float32)\n",
    "\n",
    "# Перетворюємо зображення в вектори\n",
    "x_train, x_test = x_train.reshape([-1, num_features]), x_test.reshape([-1, num_features])\n",
    "\n",
    "# Нормалізуємо значення пікселів\n",
    "x_train, x_test = x_train / 255.0, x_test / 255.0\n",
    "\n",
    "# Перемішуємо та підготовлюємо тренувальні дані\n",
    "train_data = tf.data.Dataset.from_tensor_slices((x_train, y_train))\n",
    "train_data = train_data.repeat().shuffle(5000).batch(batch_size).prefetch(1)"
   ]
  },
  {
   "cell_type": "code",
   "execution_count": 99,
   "metadata": {
    "id": "FkRmCQjnUSNV"
   },
   "outputs": [],
   "source": [
    "# Створимо нейронну мережу\n",
    "\n",
    "class DenseLayer(tf.Module):\n",
    "    def __init__(self, in_features, out_features, name=None):\n",
    "        super().__init__(name=name)\n",
    "        initializer = tf.keras.initializers.HeNormal()  # Ініціалізація вагів методом He\n",
    "        self.w = tf.Variable(initializer([in_features, out_features]), name=\"w\")\n",
    "        self.b = tf.Variable(tf.zeros([out_features]), name=\"b\")\n",
    "\n",
    "    def __call__(self, x, activation=None):\n",
    "        y = tf.matmul(x, self.w) + self.b\n",
    "        if activation:\n",
    "            return activation(y)\n",
    "        return y\n",
    "\n",
    "class NN(tf.Module):\n",
    "    def __init__(self, name=None):\n",
    "        super().__init__(name=name)\n",
    "        # Перший шар, який складається з 128 нейронів\n",
    "        self.layer1 = DenseLayer(num_features, n_hidden_2)  \n",
    "        self.dropout1 = tf.keras.layers.Dropout(0.5)  \n",
    "        # Другий шар, який складається з 256 нейронів\n",
    "        self.layer2 = DenseLayer(n_hidden_2, num_features)   \n",
    "        self.dropout2 = tf.keras.layers.Dropout(0.5)   \n",
    "        # Вихідний шар\n",
    "        self.layer3 = DenseLayer(num_features, num_classes)\n",
    "\n",
    "\n",
    "    def __call__(self, x, training=False):\n",
    "    # Передача даних через перші два шари та вихідний шар з функцією активації softmax\n",
    "        x = self.layer1(x, activation=tf.nn.relu)\n",
    "        if training:\n",
    "            x = self.dropout1(x, training=training)  # Використовуємо Dropout тільки під час тренування\n",
    "        x = self.layer2(x, activation=tf.nn.relu)\n",
    "        if training:\n",
    "            x = self.dropout2(x, training=training)\n",
    "        x = self.layer3(x)\n",
    "        return tf.nn.softmax(x)  "
   ]
  },
  {
   "cell_type": "code",
   "execution_count": 100,
   "metadata": {
    "id": "LIf3o7VAUSNV"
   },
   "outputs": [],
   "source": [
    "# В якості функції помилки в даному випадку зручно взяти крос-ентропію\n",
    "# Як метрику якості використовуємо точність\n",
    "def cross_entropy_loss(y_pred, y_true):\n",
    "    # Перетворюємо мітки y_true в one-hot формат\n",
    "    y_true = tf.one_hot(y_true, depth=num_classes)\n",
    "    # Крос-ентропійна функція втрат\n",
    "    loss = tf.reduce_mean(tf.nn.softmax_cross_entropy_with_logits(logits=y_pred, labels=y_true))\n",
    "    return loss\n",
    "\n",
    "# Як метрику якості використовуємо точність\n",
    "def accuracy(y_pred, y_true):\n",
    "    y_pred_classes = tf.argmax(y_pred, axis=1)\n",
    "    correct_predictions = tf.equal(y_pred_classes, tf.cast(y_true, tf.int64))\n",
    "    return tf.reduce_mean(tf.cast(correct_predictions, tf.float32))"
   ]
  },
  {
   "cell_type": "code",
   "execution_count": 101,
   "metadata": {
    "id": "MQeT1yatUSNW"
   },
   "outputs": [],
   "source": [
    "# Створимо екземпляр нейронної мережі\n",
    "neural_net = NN(name=\"mnist\")\n",
    "\n",
    "# Оптимізатор (Adam)\n",
    "optimizer = tf.keras.optimizers.Adam(learning_rate=0.0001)"
   ]
  },
  {
   "cell_type": "code",
   "execution_count": 102,
   "metadata": {
    "id": "fnyns9lBfpQZ"
   },
   "outputs": [
    {
     "name": "stdout",
     "output_type": "stream",
     "text": [
      "Step 100, Loss: 2.0335, Accuracy: 0.5664\n",
      "Step 200, Loss: 1.7604, Accuracy: 0.7695\n",
      "Step 300, Loss: 1.7313, Accuracy: 0.8945\n",
      "Step 400, Loss: 1.6654, Accuracy: 0.8672\n",
      "Step 500, Loss: 1.6657, Accuracy: 0.8711\n",
      "Step 600, Loss: 1.6470, Accuracy: 0.8672\n",
      "Step 700, Loss: 1.6141, Accuracy: 0.8945\n",
      "Step 800, Loss: 1.6294, Accuracy: 0.8789\n",
      "Step 900, Loss: 1.5875, Accuracy: 0.9062\n",
      "Step 1000, Loss: 1.5740, Accuracy: 0.9414\n",
      "Step 1100, Loss: 1.5779, Accuracy: 0.9219\n",
      "Step 1200, Loss: 1.5714, Accuracy: 0.9297\n",
      "Step 1300, Loss: 1.5636, Accuracy: 0.9297\n",
      "Step 1400, Loss: 1.5597, Accuracy: 0.9531\n",
      "Step 1500, Loss: 1.5750, Accuracy: 0.9453\n",
      "Step 1600, Loss: 1.5577, Accuracy: 0.9219\n",
      "Step 1700, Loss: 1.5571, Accuracy: 0.9141\n",
      "Step 1800, Loss: 1.5450, Accuracy: 0.9453\n",
      "Step 1900, Loss: 1.5432, Accuracy: 0.9336\n",
      "Step 2000, Loss: 1.5636, Accuracy: 0.9258\n",
      "Step 2100, Loss: 1.5310, Accuracy: 0.9531\n",
      "Step 2200, Loss: 1.5788, Accuracy: 0.9102\n",
      "Step 2300, Loss: 1.5573, Accuracy: 0.9375\n",
      "Step 2400, Loss: 1.5501, Accuracy: 0.9414\n",
      "Step 2500, Loss: 1.5556, Accuracy: 0.9297\n",
      "Step 2600, Loss: 1.5327, Accuracy: 0.9492\n",
      "Step 2700, Loss: 1.5466, Accuracy: 0.9531\n",
      "Step 2800, Loss: 1.5207, Accuracy: 0.9648\n",
      "Step 2900, Loss: 1.5150, Accuracy: 0.9570\n",
      "Step 3000, Loss: 1.5417, Accuracy: 0.9375\n"
     ]
    }
   ],
   "source": [
    "# Тренування мережі\n",
    "\n",
    "loss_history = []  # кожні display_step кроків зберігай в цьому списку поточну помилку нейромережі\n",
    "accuracy_history = [] # кожні display_step кроків зберігай в цьому списку поточну точність нейромережі\n",
    "\n",
    "# У цьому циклі ми будемо проводити навчання нейронної мережі\n",
    "# із тренувального датасета train_data вилучи випадкову підмножину, на якій\n",
    "# відбудеться тренування. Використовуй метод take, доступний для тренувального датасета.\n",
    "for step, (batch_x, batch_y) in enumerate(train_data.take(training_steps), 1):\n",
    "    with tf.GradientTape() as tape:\n",
    "        # Передбачення (з Dropout під час навчання)\n",
    "        pred = neural_net(batch_x, training=True)\n",
    "        # Обчислення втрат\n",
    "        loss = cross_entropy_loss(pred, batch_y)\n",
    "\n",
    "    # Обчислення та застосування градієнтів\n",
    "    gradients = tape.gradient(loss, neural_net.trainable_variables)\n",
    "    optimizer.apply_gradients(zip(gradients, neural_net.trainable_variables))\n",
    "\n",
    "    if step % display_step == 0:\n",
    "        # Під час оцінювання Dropout не використовується\n",
    "        pred_eval = neural_net(batch_x, training=False)\n",
    "        acc = accuracy(pred_eval, batch_y)\n",
    "        loss_history.append(loss.numpy())\n",
    "        accuracy_history.append(acc.numpy())\n",
    "        print(f\"Step {step}, Loss: {loss:.4f}, Accuracy: {acc:.4f}\")"
   ]
  },
  {
   "cell_type": "code",
   "execution_count": 103,
   "metadata": {
    "id": "_yCBfG6MbQB2"
   },
   "outputs": [
    {
     "data": {
      "image/png": "[encoded data removed]",
      "text/plain": [
       "<Figure size 1200x400 with 2 Axes>"
      ]
     },
     "metadata": {},
     "output_type": "display_data"
    }
   ],
   "source": [
    "# Виведіть графіки залежності зміни точності і втрат від кроку\n",
    "# Якщо все зроблено правильно, то точність повинна зростати, а втрати зменшуватись\n",
    "\n",
    "import matplotlib.pyplot as plt\n",
    "\n",
    "plt.figure(figsize=(12, 4))\n",
    "plt.subplot(1, 2, 1)\n",
    "plt.plot(loss_history, label='Loss')\n",
    "plt.title('Loss during training')\n",
    "plt.xlabel('Steps')\n",
    "plt.ylabel('Loss')\n",
    "plt.legend()\n",
    "\n",
    "plt.subplot(1, 2, 2)\n",
    "plt.plot(accuracy_history, label='Accuracy')\n",
    "plt.title('Accuracy during training')\n",
    "plt.xlabel('Steps')\n",
    "plt.ylabel('Accuracy')\n",
    "plt.legend()\n",
    "\n",
    "plt.show()"
   ]
  },
  {
   "cell_type": "code",
   "execution_count": 104,
   "metadata": {
    "id": "LE3g4gDyUSNY"
   },
   "outputs": [
    {
     "name": "stdout",
     "output_type": "stream",
     "text": [
      "Time taken: 139.26 seconds for 10000 batches\n",
      "Train Accuracy: 95.02%\n",
      "Time taken: 0.55 seconds for 40 batches\n",
      "Test Accuracy: 95.03%\n"
     ]
    }
   ],
   "source": [
    "# Обчисліть точність навченої нейромережі\n",
    "import time\n",
    "\n",
    "# Функція для обчислення точності на тренувальних даних\n",
    "def evaluate_model(neural_net, dataset, max_batches=None):\n",
    "    total_correct = 0\n",
    "    total_samples = 0\n",
    "    batch_count = 0\n",
    "    \n",
    "    start_time = time.time()  # Початок вимірювання часу\n",
    "    \n",
    "    for batch_x, batch_y in dataset:\n",
    "        # Передбачення для кожного батчу\n",
    "        predictions = neural_net(batch_x)\n",
    "        # Визначаємо передбачені класи\n",
    "        predicted_classes = tf.argmax(predictions, axis=1)\n",
    "        # Перетворення міток у тип int64\n",
    "        batch_y = tf.cast(batch_y, tf.int64)\n",
    "        # Підраховуємо правильні передбачення\n",
    "        correct_predictions = tf.reduce_sum(tf.cast(predicted_classes == batch_y, tf.float32))\n",
    "        total_correct += correct_predictions\n",
    "        total_samples += batch_x.shape[0]\n",
    "        \n",
    "        batch_count += 1\n",
    "        # Якщо вказано max_batches, зупиняємо виконання після обробки max_batches батчів\n",
    "        if max_batches and batch_count >= max_batches:\n",
    "            break\n",
    "\n",
    "    end_time = time.time()  # Кінець вимірювання часу\n",
    "    print(f\"Time taken: {end_time - start_time:.2f} seconds for {batch_count} batches\")\n",
    "\n",
    "    # Обчислення точності\n",
    "    accuracy = total_correct / total_samples\n",
    "    return accuracy.numpy()\n",
    "\n",
    "# Оцінка точності на тренувальних даних\n",
    "train_accuracy = evaluate_model(neural_net, train_data, max_batches=10000)\n",
    "print(f\"Train Accuracy: {train_accuracy * 100:.2f}%\")\n",
    "\n",
    "# Тестування моделі на тестових даних\n",
    "# Перетворюємо тестові дані на відповідний формат і робимо передбачення\n",
    "test_data = tf.data.Dataset.from_tensor_slices((x_test, y_test)).batch(batch_size)\n",
    "\n",
    "# Обчислюємо точність моделі на тестових даних\n",
    "test_accuracy = evaluate_model(neural_net, test_data)\n",
    "print(f\"Test Accuracy: {test_accuracy * 100:.2f}%\")"
   ]
  },
  {
   "cell_type": "code",
   "execution_count": 105,
   "metadata": {
    "id": "_EEHAubOUSNY"
   },
   "outputs": [
    {
     "data": {
      "image/png": "[encoded data removed]",
      "text/plain": [
       "<Figure size 1200x600 with 5 Axes>"
      ]
     },
     "metadata": {},
     "output_type": "display_data"
    },
    {
     "name": "stdout",
     "output_type": "stream",
     "text": [
      "Accuracy on 5 random images: 100.00%\n"
     ]
    }
   ],
   "source": [
    "# Протестуйте навчену нейромережу на 10 зображеннях. З тестової вибірки візьміть 5\n",
    "# випадкових зображень і передайте їх у нейронну мережу.\n",
    "# Виведіть зображення та випишіть  поруч відповідь нейромережі.\n",
    "\n",
    "# Функція для візуалізації тестових зображень і передбачень моделі\n",
    "def test_random_images(model, test_data, num_images=5):\n",
    "    # Отримання батчу тестових даних\n",
    "    images, labels = next(iter(test_data))\n",
    "    \n",
    "    # Вибір 5 випадкових індексів\n",
    "    random_indices = random.sample(range(images.shape[0]), num_images)\n",
    "    \n",
    "    plt.figure(figsize=(12, 6))  # Створення фігури для зображень\n",
    "    \n",
    "    for i, idx in enumerate(random_indices):\n",
    "        image = images[idx].numpy().reshape(28, 28)  # Перетворення у формат 28x28\n",
    "        label = labels[idx].numpy()\n",
    "\n",
    "        # Передбачення нейронної мережі\n",
    "        reshaped_image = images[idx].numpy().reshape(1, -1)  # Перетворення в 1D масив (784,)\n",
    "        prediction = model(reshaped_image)  # Передбачення моделі\n",
    "        predicted_class = np.argmax(prediction, axis=1)[0]\n",
    "\n",
    "        # Виведення зображення\n",
    "        plt.subplot(1, num_images, i + 1)\n",
    "        plt.imshow(image, cmap='gray')  # Відображення зображення у відтінках сірого\n",
    "        plt.title(f\"True: {label}\\nPred: {predicted_class}\")\n",
    "        plt.axis('off')\n",
    "    \n",
    "    plt.show()\n",
    "\n",
    "    # Оцінка того, як часто модель помиляється\n",
    "    correct_predictions = 0\n",
    "    for idx in random_indices:\n",
    "        image = images[idx].numpy().reshape(1, -1)  # Перетворення на одномірний масив\n",
    "        label = labels[idx].numpy()\n",
    "        prediction = model(image)  # Передбачення моделі\n",
    "        predicted_class = np.argmax(prediction, axis=1)[0]\n",
    "        \n",
    "        if predicted_class == label:\n",
    "            correct_predictions += 1\n",
    "\n",
    "    accuracy = correct_predictions / num_images\n",
    "    print(f\"Accuracy on {num_images} random images: {accuracy * 100:.2f}%\")\n",
    "\n",
    "# Припускаємо, що `test_data` - це тестова вибірка, а `neural_net` - навчена модель\n",
    "test_random_images(neural_net, test_data)"
   ]
  },
  {
   "cell_type": "markdown",
   "metadata": {},
   "source": [
    "Зробіть висновок про те, чи помиляється твоя нейронна мережа, і якщо так, то як часто?\n",
    "\n",
    "Нейронна мережа допускає помилки. З 250 зображень допущено 9 помилок, що становить 3,6 %, тобто точність 96,4% , що приблизно співпадає з показами тестування моделі на тестових даних.   "
   ]
  }
 ],
 "metadata": {
  "colab": {
   "provenance": []
  },
  "kernelspec": {
   "display_name": "Python 3 (ipykernel)",
   "language": "python",
   "name": "python3"
  },
  "language_info": {
   "codemirror_mode": {
    "name": "ipython",
    "version": 3
   },
   "file_extension": ".py",
   "mimetype": "text/x-python",
   "name": "python",
   "nbconvert_exporter": "python",
   "pygments_lexer": "ipython3",
   "version": "3.11.4"
  }
 },
 "nbformat": 4,
 "nbformat_minor": 1
}
