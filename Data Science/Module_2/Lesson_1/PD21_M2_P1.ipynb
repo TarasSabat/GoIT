{
  "nbformat": 4,
  "nbformat_minor": 0,
  "metadata": {
    "colab": {
      "provenance": []
    },
    "kernelspec": {
      "name": "python3",
      "display_name": "Python 3"
    },
    "language_info": {
      "name": "python"
    }
  },
  "cells": [
    {
      "cell_type": "markdown",
      "source": [
        "# EDA (Exploratory data analysis)"
      ],
      "metadata": {
        "id": "DVbaqzRHkcKG"
      }
    },
    {
      "cell_type": "markdown",
      "source": [
        "## Статистика"
      ],
      "metadata": {
        "id": "Fe8rFvXYklJm"
      }
    },
    {
      "cell_type": "code",
      "source": [
        "import numpy as np\n",
        "import pandas as pd"
      ],
      "metadata": {
        "id": "FW2Oj7qaldCQ"
      },
      "execution_count": null,
      "outputs": []
    },
    {
      "cell_type": "code",
      "execution_count": null,
      "metadata": {
        "id": "MuJ3OGP-vuh2"
      },
      "outputs": [],
      "source": [
        "temperature = np.array([25, 27, 30, 31, 32, 33, 35])\n",
        "ice_cream_sold_count = np.array([10, 15, 20, 25, 30])"
      ]
    },
    {
      "cell_type": "markdown",
      "source": [
        "### Мода та медіана"
      ],
      "metadata": {
        "id": "fqL76OrTkqHf"
      }
    },
    {
      "cell_type": "code",
      "source": [
        "from scipy import stats\n",
        "\n",
        "temperature = np.array([25, 27, 27, 30, 33, 35])\n",
        "stats.mode(temperature)"
      ],
      "metadata": {
        "colab": {
          "base_uri": "https://localhost:8080/"
        },
        "id": "fmspeqr0wEUv",
        "outputId": "9e4f10cb-235b-4134-ffee-c0a70fc55c67"
      },
      "execution_count": null,
      "outputs": [
        {
          "output_type": "execute_result",
          "data": {
            "text/plain": [
              "ModeResult(mode=27, count=2)"
            ]
          },
          "metadata": {},
          "execution_count": 5
        }
      ]
    },
    {
      "cell_type": "code",
      "source": [
        "unique_values, unique_values_count = np.unique(\n",
        "    test_array, return_counts=True\n",
        ")\n",
        "unique_values, unique_values_count"
      ],
      "metadata": {
        "colab": {
          "base_uri": "https://localhost:8080/"
        },
        "id": "5gt9uT5idUyW",
        "outputId": "cb136651-d047-4d3b-90fc-03730dae4253"
      },
      "execution_count": null,
      "outputs": [
        {
          "output_type": "execute_result",
          "data": {
            "text/plain": [
              "(array([10, 20, 30, 40]), array([2, 1, 1, 1]))"
            ]
          },
          "metadata": {},
          "execution_count": 12
        }
      ]
    },
    {
      "cell_type": "code",
      "source": [
        "test_array = np.array([10, 20, 20, 30, 30, 30, 40])\n",
        "unique_values, unique_values_count = np.unique(\n",
        "    test_array, return_counts=True\n",
        ")\n",
        "unique_values[unique_values_count.argmax()]"
      ],
      "metadata": {
        "colab": {
          "base_uri": "https://localhost:8080/"
        },
        "id": "SWMRCdrYw-Cp",
        "outputId": "a6ec3c8d-db50-4cc4-c6cb-50d7feef9d50"
      },
      "execution_count": null,
      "outputs": [
        {
          "output_type": "execute_result",
          "data": {
            "text/plain": [
              "30"
            ]
          },
          "metadata": {},
          "execution_count": 15
        }
      ]
    },
    {
      "cell_type": "code",
      "source": [],
      "metadata": {
        "id": "mreCs0fWyJDk"
      },
      "execution_count": null,
      "outputs": []
    },
    {
      "cell_type": "code",
      "source": [
        "salary = np.array([1, 10, 25, 2, 4])\n",
        "np.median(salary)"
      ],
      "metadata": {
        "colab": {
          "base_uri": "https://localhost:8080/"
        },
        "id": "Ut7w_jI1d09l",
        "outputId": "b532b796-88aa-4a0f-a07c-2c99971a5658"
      },
      "execution_count": null,
      "outputs": [
        {
          "output_type": "execute_result",
          "data": {
            "text/plain": [
              "4.0"
            ]
          },
          "metadata": {},
          "execution_count": 22
        }
      ]
    },
    {
      "cell_type": "code",
      "source": [
        "salary = np.array([10000, 100000])\n",
        "np.median(salary)"
      ],
      "metadata": {
        "colab": {
          "base_uri": "https://localhost:8080/"
        },
        "id": "VKBsOvGEeF8-",
        "outputId": "80a986a1-da2e-40fa-a646-254b5cf1f8ef"
      },
      "execution_count": null,
      "outputs": [
        {
          "output_type": "execute_result",
          "data": {
            "text/plain": [
              "55000.0"
            ]
          },
          "metadata": {},
          "execution_count": 21
        }
      ]
    },
    {
      "cell_type": "code",
      "source": [
        "np.median(temperature)"
      ],
      "metadata": {
        "colab": {
          "base_uri": "https://localhost:8080/"
        },
        "id": "UwJuPznyktfv",
        "outputId": "5037b69f-5799-44fb-d3bd-786dcf792bac"
      },
      "execution_count": null,
      "outputs": [
        {
          "output_type": "execute_result",
          "data": {
            "text/plain": [
              "30.0"
            ]
          },
          "metadata": {},
          "execution_count": 31
        }
      ]
    },
    {
      "cell_type": "markdown",
      "source": [
        "### Математичне очікування"
      ],
      "metadata": {
        "id": "B2fCjA3mktpm"
      }
    },
    {
      "cell_type": "code",
      "source": [
        "np.mean([1, 2, 2.5, 3])"
      ],
      "metadata": {
        "colab": {
          "base_uri": "https://localhost:8080/"
        },
        "id": "q9EdjBC5kvEK",
        "outputId": "3f0370c3-475a-4873-d3bc-c8f3c03e0f3d"
      },
      "execution_count": null,
      "outputs": [
        {
          "output_type": "execute_result",
          "data": {
            "text/plain": [
              "2.125"
            ]
          },
          "metadata": {},
          "execution_count": 26
        }
      ]
    },
    {
      "cell_type": "markdown",
      "source": [
        "### Стандартне відхилення"
      ],
      "metadata": {
        "id": "qU19YQfjkzuZ"
      }
    },
    {
      "cell_type": "code",
      "source": [
        "temperature = np.array([25, 27, 30, 33, 35])\n",
        "np.std(temperature)"
      ],
      "metadata": {
        "colab": {
          "base_uri": "https://localhost:8080/"
        },
        "id": "9YQa4Cnlkvdl",
        "outputId": "e476e926-1650-4ef0-ca32-27f2cef54eef"
      },
      "execution_count": null,
      "outputs": [
        {
          "output_type": "execute_result",
          "data": {
            "text/plain": [
              "3.687817782917155"
            ]
          },
          "metadata": {},
          "execution_count": 29
        }
      ]
    },
    {
      "cell_type": "code",
      "source": [],
      "metadata": {
        "id": "kGgrwo6fiXXn"
      },
      "execution_count": null,
      "outputs": []
    },
    {
      "cell_type": "code",
      "source": [],
      "metadata": {
        "id": "V11yJ6m9iXVp"
      },
      "execution_count": null,
      "outputs": []
    },
    {
      "cell_type": "code",
      "source": [],
      "metadata": {
        "id": "03MrhAreiXTF"
      },
      "execution_count": null,
      "outputs": []
    },
    {
      "cell_type": "code",
      "source": [],
      "metadata": {
        "id": "RzyEwMQKiXQq"
      },
      "execution_count": null,
      "outputs": []
    },
    {
      "cell_type": "markdown",
      "source": [
        "### Кореляція"
      ],
      "metadata": {
        "id": "QyuEfEuuk4MO"
      }
    },
    {
      "cell_type": "code",
      "source": [
        "np.cov(temperature, ice_cream_sold_count)"
      ],
      "metadata": {
        "colab": {
          "base_uri": "https://localhost:8080/"
        },
        "id": "TNthdZT_0iap",
        "outputId": "925d6ba0-f53a-452b-fb67-5534b33dff62"
      },
      "execution_count": null,
      "outputs": [
        {
          "output_type": "execute_result",
          "data": {
            "text/plain": [
              "array([[17. , 32.5],\n",
              "       [32.5, 62.5]])"
            ]
          },
          "metadata": {},
          "execution_count": 56
        }
      ]
    },
    {
      "cell_type": "code",
      "source": [
        "np.corrcoef(temperature, ice_cream_sold_count)"
      ],
      "metadata": {
        "colab": {
          "base_uri": "https://localhost:8080/"
        },
        "id": "o0u2CVBd0d9N",
        "outputId": "99934e29-a575-499f-b17d-08e4dfdaf133"
      },
      "execution_count": null,
      "outputs": [
        {
          "output_type": "execute_result",
          "data": {
            "text/plain": [
              "array([[1.        , 0.99705449],\n",
              "       [0.99705449, 1.        ]])"
            ]
          },
          "metadata": {},
          "execution_count": 58
        }
      ]
    },
    {
      "cell_type": "markdown",
      "source": [
        "## Pandas library"
      ],
      "metadata": {
        "id": "s5QRlMOhk8Dv"
      }
    },
    {
      "cell_type": "markdown",
      "source": [
        "Pandas - це як швейцарський ніж для роботи з даними в Python. Він містить безліч готових інструментів, які допомагають зчитувати дані, сортувати їх, фільтрувати, робити розрахунки."
      ],
      "metadata": {
        "id": "epHTLuBc1J-2"
      }
    },
    {
      "cell_type": "markdown",
      "source": [
        "- \"Series\" - це як список, але більш \"просунутий\". Уявіть, що у нас є список температур за тиждень. Series дозволяє нам дати кожній температурі мітку - день тижня. Тобто, ми можемо легко дізнатися, яка температура була в середу.\n",
        "- \"DataFrame\" - це як таблиця, де у нас є рядки та стовпці. Наприклад, ми можемо створити DataFrame, де рядки - це дні тижня, а стовпці - температура, кількість проданого морозива, кількість опадів."
      ],
      "metadata": {
        "id": "8f9HtiVb1VBs"
      }
    },
    {
      "cell_type": "markdown",
      "source": [
        "![oranges.png](data:image/png;base64,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)"
      ],
      "metadata": {
        "id": "1UAqZzeQ1NSD"
      }
    },
    {
      "cell_type": "markdown",
      "source": [
        "https://pandas.pydata.org/pandas-docs/stable/getting_started/overview.html#data-structures"
      ],
      "metadata": {
        "id": "k65ER5l71kM5"
      }
    },
    {
      "cell_type": "markdown",
      "source": [
        "### Series"
      ],
      "metadata": {
        "id": "tH4PFJbylB-S"
      }
    },
    {
      "cell_type": "code",
      "source": [
        "import pandas as pd\n",
        "\n",
        "mountain_height = pd.Series([2061, 2035.8, 2028.5, 2022.5, 2016.4])\n",
        "\n",
        "print(mountain_height)"
      ],
      "metadata": {
        "id": "YN5CAUA03wv4",
        "colab": {
          "base_uri": "https://localhost:8080/"
        },
        "outputId": "fde4ce7d-aaf9-44ed-86ca-60a5b6eb729b"
      },
      "execution_count": null,
      "outputs": [
        {
          "output_type": "stream",
          "name": "stdout",
          "text": [
            "0    2061.0\n",
            "1    2035.8\n",
            "2    2028.5\n",
            "3    2022.5\n",
            "4    2016.4\n",
            "dtype: float64\n"
          ]
        }
      ]
    },
    {
      "cell_type": "code",
      "source": [
        "import pandas as pd\n",
        "\n",
        "mountains_height = pd.Series(\n",
        "    data=[2061, 2035.8, 2028.5, 2022.5, 2016.4],\n",
        "    index=[\"Goverla\", \"Brebenskyl\", \"Pip_Ivan\", \"Petros\", \"Gutin_Tomnatik\"],\n",
        "    name=\"Height, m\",\n",
        "    dtype=float,\n",
        ")\n",
        "\n",
        "print(mountains_height)"
      ],
      "metadata": {
        "colab": {
          "base_uri": "https://localhost:8080/"
        },
        "id": "2CDpEt82rIa0",
        "outputId": "38010c95-30bd-42dd-ea3d-75039664febf"
      },
      "execution_count": null,
      "outputs": [
        {
          "output_type": "stream",
          "name": "stdout",
          "text": [
            "Goverla           2061.0\n",
            "Brebenskyl        2035.8\n",
            "Pip_Ivan          2028.5\n",
            "Petros            2022.5\n",
            "Gutin_Tomnatik    2016.4\n",
            "Name: Height, m, dtype: float64\n"
          ]
        }
      ]
    },
    {
      "cell_type": "code",
      "source": [
        "print(mountains_height[0])  # 2061.0\n",
        "print(mountains_height[\"Goverla\"])  # 2061.0"
      ],
      "metadata": {
        "colab": {
          "base_uri": "https://localhost:8080/"
        },
        "id": "cSp-WxEhrIY2",
        "outputId": "12907b5c-3d06-4bc7-ccb4-04a7c63cc1d8"
      },
      "execution_count": null,
      "outputs": [
        {
          "output_type": "stream",
          "name": "stdout",
          "text": [
            "2061.0\n",
            "2061.0\n"
          ]
        }
      ]
    },
    {
      "cell_type": "code",
      "source": [
        "print(mountains_height[[\"Pip_Ivan\", \"Goverla\", \"Gutin_Tomnatik\"]])"
      ],
      "metadata": {
        "colab": {
          "base_uri": "https://localhost:8080/"
        },
        "id": "BTJbjnuTrIWw",
        "outputId": "3cf014fa-1dfc-4b23-dd8a-f020cf631f81"
      },
      "execution_count": null,
      "outputs": [
        {
          "output_type": "stream",
          "name": "stdout",
          "text": [
            "Pip_Ivan          2028.5\n",
            "Goverla           2061.0\n",
            "Gutin_Tomnatik    2016.4\n",
            "Name: Height, m, dtype: float64\n"
          ]
        }
      ]
    },
    {
      "cell_type": "code",
      "source": [
        "import pandas as pd\n",
        "\n",
        "mountains_height = pd.Series(\n",
        "    data=[2061, 2035.8, 2028.5, 2022.5, 2016.4],\n",
        "    index=[\"Goverla\", \"Pip_Ivan\", \"Petros\", \"Gutin_Tomnatik\", \"Brebenskyl\"],\n",
        "    name=\"Height, m\",\n",
        "    dtype=float,\n",
        ")\n",
        "print(mountains_height)"
      ],
      "metadata": {
        "colab": {
          "base_uri": "https://localhost:8080/"
        },
        "id": "RUKMgFaEr6dY",
        "outputId": "a890b6a8-8491-4465-85a6-ce3ed6ef9998"
      },
      "execution_count": null,
      "outputs": [
        {
          "output_type": "stream",
          "name": "stdout",
          "text": [
            "Goverla           2061.0\n",
            "Pip_Ivan          2035.8\n",
            "Petros            2028.5\n",
            "Gutin_Tomnatik    2022.5\n",
            "Brebenskyl        2016.4\n",
            "Name: Height, m, dtype: float64\n"
          ]
        }
      ]
    },
    {
      "cell_type": "code",
      "source": [
        "print(mountains_height.Petros)  # 2022.5\n",
        "print(mountains_height.Brebenskyl)  # 2035.8"
      ],
      "metadata": {
        "colab": {
          "base_uri": "https://localhost:8080/"
        },
        "id": "sMexOPiIsOrt",
        "outputId": "aa88215b-e665-4f14-bbf2-4f6a69a06e32"
      },
      "execution_count": null,
      "outputs": [
        {
          "output_type": "stream",
          "name": "stdout",
          "text": [
            "2028.5\n",
            "2016.4\n"
          ]
        }
      ]
    },
    {
      "cell_type": "code",
      "source": [
        "print(mountains_height > 2030)\n",
        "print()\n",
        "print(mountains_height[mountains_height > 2030])"
      ],
      "metadata": {
        "colab": {
          "base_uri": "https://localhost:8080/"
        },
        "id": "qteHGtLtshLH",
        "outputId": "000051e8-fd4a-46f7-9af9-ac057ea4022c"
      },
      "execution_count": null,
      "outputs": [
        {
          "output_type": "stream",
          "name": "stdout",
          "text": [
            "Goverla            True\n",
            "Pip_Ivan           True\n",
            "Petros            False\n",
            "Gutin_Tomnatik    False\n",
            "Brebenskyl        False\n",
            "Name: Height, m, dtype: bool\n",
            "\n",
            "Goverla     2061.0\n",
            "Pip_Ivan    2035.8\n",
            "Name: Height, m, dtype: float64\n"
          ]
        }
      ]
    },
    {
      "cell_type": "code",
      "source": [
        "sort_index = mountains_height.sort_index()\n",
        "print(sort_index)"
      ],
      "metadata": {
        "colab": {
          "base_uri": "https://localhost:8080/"
        },
        "id": "XcvoHdz4shJQ",
        "outputId": "727d00ec-b41a-4c20-a6b3-8b9ba72d1314"
      },
      "execution_count": null,
      "outputs": [
        {
          "output_type": "stream",
          "name": "stdout",
          "text": [
            "Brebenskyl        2016.4\n",
            "Goverla           2061.0\n",
            "Gutin_Tomnatik    2022.5\n",
            "Petros            2028.5\n",
            "Pip_Ivan          2035.8\n",
            "Name: Height, m, dtype: float64\n"
          ]
        }
      ]
    },
    {
      "cell_type": "code",
      "source": [
        "mountains_height.sort_values(inplace=True, ascending=False)\n",
        "print(mountains_height)"
      ],
      "metadata": {
        "colab": {
          "base_uri": "https://localhost:8080/"
        },
        "id": "g0VC1psftlaS",
        "outputId": "8e404bde-64c4-4881-c2a0-92a560e7e26e"
      },
      "execution_count": null,
      "outputs": [
        {
          "output_type": "stream",
          "name": "stdout",
          "text": [
            "Goverla           2061.0\n",
            "Brebenskyl        2035.8\n",
            "Pip_Ivan          2028.5\n",
            "Petros            2022.5\n",
            "Gutin_Tomnatik    2016.4\n",
            "Name: Height, m, dtype: float64\n"
          ]
        }
      ]
    },
    {
      "cell_type": "code",
      "source": [],
      "metadata": {
        "id": "3ocTc8GouEfE"
      },
      "execution_count": null,
      "outputs": []
    },
    {
      "cell_type": "code",
      "source": [
        "import pandas as pd\n",
        "\n",
        "mountains_height = pd.Series(\n",
        "    {\"Goverla\": 2061, \"Brebenskyl\": 2035.8, \"Pip_Ivan\": 2028.5},\n",
        "    index=[\"Goverla\", \"Brebenskyl\", \"Pip_Ivan\", \"Petros\", \"Gutin_Tomnatik\"],\n",
        "    name=\"Height, m\",\n",
        "    dtype=float,\n",
        ")\n",
        "\n",
        "print(mountains_height)\n",
        "\n",
        "print()\n",
        "mountains_height.fillna(1, inplace=True)\n",
        "\n",
        "print(mountains_height)"
      ],
      "metadata": {
        "colab": {
          "base_uri": "https://localhost:8080/"
        },
        "id": "CDF13r2ZuD_n",
        "outputId": "76a56408-01ce-4790-98ad-fc38b34ac9c5"
      },
      "execution_count": null,
      "outputs": [
        {
          "output_type": "stream",
          "name": "stdout",
          "text": [
            "Goverla           2061.0\n",
            "Brebenskyl        2035.8\n",
            "Pip_Ivan          2028.5\n",
            "Petros               NaN\n",
            "Gutin_Tomnatik       NaN\n",
            "Name: Height, m, dtype: float64\n",
            "\n",
            "Goverla           2061.0\n",
            "Brebenskyl        2035.8\n",
            "Pip_Ivan          2028.5\n",
            "Petros               NaN\n",
            "Gutin_Tomnatik       NaN\n",
            "Name: Height, m, dtype: float64\n"
          ]
        }
      ]
    },
    {
      "cell_type": "code",
      "source": [
        "mountains_height[mountains_height.isna()]"
      ],
      "metadata": {
        "colab": {
          "base_uri": "https://localhost:8080/"
        },
        "id": "W_0g_8iqshEf",
        "outputId": "54a05d0e-7130-42e8-8fca-b9aefb495b0b"
      },
      "execution_count": null,
      "outputs": [
        {
          "output_type": "execute_result",
          "data": {
            "text/plain": [
              "Petros           NaN\n",
              "Gutin_Tomnatik   NaN\n",
              "Name: Height, m, dtype: float64"
            ]
          },
          "metadata": {},
          "execution_count": 78
        }
      ]
    },
    {
      "cell_type": "code",
      "source": [],
      "metadata": {
        "id": "sFzi0c6ksOpx"
      },
      "execution_count": null,
      "outputs": []
    },
    {
      "cell_type": "code",
      "source": [],
      "metadata": {
        "id": "RsDTPSIir6bc"
      },
      "execution_count": null,
      "outputs": []
    },
    {
      "cell_type": "code",
      "source": [],
      "metadata": {
        "id": "cnKJ9zsorxAT"
      },
      "execution_count": null,
      "outputs": []
    },
    {
      "cell_type": "code",
      "source": [],
      "metadata": {
        "id": "RjVmTOUtrw-F"
      },
      "execution_count": null,
      "outputs": []
    },
    {
      "cell_type": "markdown",
      "source": [
        "### DataFrame"
      ],
      "metadata": {
        "id": "7HU6JagxlEMD"
      }
    },
    {
      "cell_type": "code",
      "source": [
        "import pandas as pd\n",
        "\n",
        "contacts = pd.DataFrame(\n",
        "    {\n",
        "        \"name\": [\n",
        "            \"Allen Raymond\",\n",
        "            \"Chaim Lewis\",\n",
        "            \"Kennedy Lane\",\n",
        "            \"Wylie Pope\",\n",
        "            \"Cyrus Jackson\",\n",
        "        ],\n",
        "        \"email\": [\n",
        "            \"nulla.ante@vestibul.co.uk\",\n",
        "            \"dui.in@egetlacus.ca\",\n",
        "            \"mattis.Cras@nonenimMauris.net\",\n",
        "            \"est@utquamvel.net\",\n",
        "            \"nibh@semsempererat.com\",\n",
        "        ],\n",
        "        \"phone\": [\n",
        "            \"(992) 914-3792\",\n",
        "            \"(294) 840-6685\",\n",
        "            \"(542) 451-7038\",\n",
        "            \"(692) 802-2949\",\n",
        "            \"(501) 472-5218\",\n",
        "        ],\n",
        "        \"favorite\": [False, False, True, False, True],\n",
        "    },\n",
        "    index=[1, 2, 3, 4, 5],\n",
        ")\n",
        "\n",
        "contacts"
      ],
      "metadata": {
        "id": "A66q2QDCkvWd",
        "colab": {
          "base_uri": "https://localhost:8080/",
          "height": 204
        },
        "outputId": "586a191c-217c-46a0-e967-351f0cf6d39d"
      },
      "execution_count": null,
      "outputs": [
        {
          "output_type": "execute_result",
          "data": {
            "text/plain": [
              "            name                          email           phone  favorite\n",
              "1  Allen Raymond      nulla.ante@vestibul.co.uk  (992) 914-3792     False\n",
              "2    Chaim Lewis            dui.in@egetlacus.ca  (294) 840-6685     False\n",
              "3   Kennedy Lane  mattis.Cras@nonenimMauris.net  (542) 451-7038      True\n",
              "4     Wylie Pope              est@utquamvel.net  (692) 802-2949     False\n",
              "5  Cyrus Jackson         nibh@semsempererat.com  (501) 472-5218      True"
            ],
            "text/html": [
              "\n",
              "  <div id=\"df-37fd3a14-33b5-4dc4-9fba-f1a31731836f\" class=\"colab-df-container\">\n",
              "    <div>\n",
              "<style scoped>\n",
              "    .dataframe tbody tr th:only-of-type {\n",
              "        vertical-align: middle;\n",
              "    }\n",
              "\n",
              "    .dataframe tbody tr th {\n",
              "        vertical-align: top;\n",
              "    }\n",
              "\n",
              "    .dataframe thead th {\n",
              "        text-align: right;\n",
              "    }\n",
              "</style>\n",
              "<table border=\"1\" class=\"dataframe\">\n",
              "  <thead>\n",
              "    <tr style=\"text-align: right;\">\n",
              "      <th></th>\n",
              "      <th>name</th>\n",
              "      <th>email</th>\n",
              "      <th>phone</th>\n",
              "      <th>favorite</th>\n",
              "    </tr>\n",
              "  </thead>\n",
              "  <tbody>\n",
              "    <tr>\n",
              "      <th>1</th>\n",
              "      <td>Allen Raymond</td>\n",
              "      <td>nulla.ante@vestibul.co.uk</td>\n",
              "      <td>(992) 914-3792</td>\n",
              "      <td>False</td>\n",
              "    </tr>\n",
              "    <tr>\n",
              "      <th>2</th>\n",
              "      <td>Chaim Lewis</td>\n",
              "      <td>dui.in@egetlacus.ca</td>\n",
              "      <td>(294) 840-6685</td>\n",
              "      <td>False</td>\n",
              "    </tr>\n",
              "    <tr>\n",
              "      <th>3</th>\n",
              "      <td>Kennedy Lane</td>\n",
              "      <td>mattis.Cras@nonenimMauris.net</td>\n",
              "      <td>(542) 451-7038</td>\n",
              "      <td>True</td>\n",
              "    </tr>\n",
              "    <tr>\n",
              "      <th>4</th>\n",
              "      <td>Wylie Pope</td>\n",
              "      <td>est@utquamvel.net</td>\n",
              "      <td>(692) 802-2949</td>\n",
              "      <td>False</td>\n",
              "    </tr>\n",
              "    <tr>\n",
              "      <th>5</th>\n",
              "      <td>Cyrus Jackson</td>\n",
              "      <td>nibh@semsempererat.com</td>\n",
              "      <td>(501) 472-5218</td>\n",
              "      <td>True</td>\n",
              "    </tr>\n",
              "  </tbody>\n",
              "</table>\n",
              "</div>\n",
              "    <div class=\"colab-df-buttons\">\n",
              "\n",
              "  <div class=\"colab-df-container\">\n",
              "    <button class=\"colab-df-convert\" onclick=\"convertToInteractive('df-37fd3a14-33b5-4dc4-9fba-f1a31731836f')\"\n",
              "            title=\"Convert this dataframe to an interactive table.\"\n",
              "            style=\"display:none;\">\n",
              "\n",
              "  <svg xmlns=\"http://www.w3.org/2000/svg\" height=\"24px\" viewBox=\"0 -960 960 960\">\n",
              "    <path d=\"M120-120v-720h720v720H120Zm60-500h600v-160H180v160Zm220 220h160v-160H400v160Zm0 220h160v-160H400v160ZM180-400h160v-160H180v160Zm440 0h160v-160H620v160ZM180-180h160v-160H180v160Zm440 0h160v-160H620v160Z\"/>\n",
              "  </svg>\n",
              "    </button>\n",
              "\n",
              "  <style>\n",
              "    .colab-df-container {\n",
              "      display:flex;\n",
              "      gap: 12px;\n",
              "    }\n",
              "\n",
              "    .colab-df-convert {\n",
              "      background-color: #E8F0FE;\n",
              "      border: none;\n",
              "      border-radius: 50%;\n",
              "      cursor: pointer;\n",
              "      display: none;\n",
              "      fill: #1967D2;\n",
              "      height: 32px;\n",
              "      padding: 0 0 0 0;\n",
              "      width: 32px;\n",
              "    }\n",
              "\n",
              "    .colab-df-convert:hover {\n",
              "      background-color: #E2EBFA;\n",
              "      box-shadow: 0px 1px 2px rgba(60, 64, 67, 0.3), 0px 1px 3px 1px rgba(60, 64, 67, 0.15);\n",
              "      fill: #174EA6;\n",
              "    }\n",
              "\n",
              "    .colab-df-buttons div {\n",
              "      margin-bottom: 4px;\n",
              "    }\n",
              "\n",
              "    [theme=dark] .colab-df-convert {\n",
              "      background-color: #3B4455;\n",
              "      fill: #D2E3FC;\n",
              "    }\n",
              "\n",
              "    [theme=dark] .colab-df-convert:hover {\n",
              "      background-color: #434B5C;\n",
              "      box-shadow: 0px 1px 3px 1px rgba(0, 0, 0, 0.15);\n",
              "      filter: drop-shadow(0px 1px 2px rgba(0, 0, 0, 0.3));\n",
              "      fill: #FFFFFF;\n",
              "    }\n",
              "  </style>\n",
              "\n",
              "    <script>\n",
              "      const buttonEl =\n",
              "        document.querySelector('#df-37fd3a14-33b5-4dc4-9fba-f1a31731836f button.colab-df-convert');\n",
              "      buttonEl.style.display =\n",
              "        google.colab.kernel.accessAllowed ? 'block' : 'none';\n",
              "\n",
              "      async function convertToInteractive(key) {\n",
              "        const element = document.querySelector('#df-37fd3a14-33b5-4dc4-9fba-f1a31731836f');\n",
              "        const dataTable =\n",
              "          await google.colab.kernel.invokeFunction('convertToInteractive',\n",
              "                                                    [key], {});\n",
              "        if (!dataTable) return;\n",
              "\n",
              "        const docLinkHtml = 'Like what you see? Visit the ' +\n",
              "          '<a target=\"_blank\" href=https://colab.research.google.com/notebooks/data_table.ipynb>data table notebook</a>'\n",
              "          + ' to learn more about interactive tables.';\n",
              "        element.innerHTML = '';\n",
              "        dataTable['output_type'] = 'display_data';\n",
              "        await google.colab.output.renderOutput(dataTable, element);\n",
              "        const docLink = document.createElement('div');\n",
              "        docLink.innerHTML = docLinkHtml;\n",
              "        element.appendChild(docLink);\n",
              "      }\n",
              "    </script>\n",
              "  </div>\n",
              "\n",
              "\n",
              "<div id=\"df-5f4f99ee-dad9-4173-9798-d8b22c5f3ad7\">\n",
              "  <button class=\"colab-df-quickchart\" onclick=\"quickchart('df-5f4f99ee-dad9-4173-9798-d8b22c5f3ad7')\"\n",
              "            title=\"Suggest charts\"\n",
              "            style=\"display:none;\">\n",
              "\n",
              "<svg xmlns=\"http://www.w3.org/2000/svg\" height=\"24px\"viewBox=\"0 0 24 24\"\n",
              "     width=\"24px\">\n",
              "    <g>\n",
              "        <path d=\"M19 3H5c-1.1 0-2 .9-2 2v14c0 1.1.9 2 2 2h14c1.1 0 2-.9 2-2V5c0-1.1-.9-2-2-2zM9 17H7v-7h2v7zm4 0h-2V7h2v10zm4 0h-2v-4h2v4z\"/>\n",
              "    </g>\n",
              "</svg>\n",
              "  </button>\n",
              "\n",
              "<style>\n",
              "  .colab-df-quickchart {\n",
              "      --bg-color: #E8F0FE;\n",
              "      --fill-color: #1967D2;\n",
              "      --hover-bg-color: #E2EBFA;\n",
              "      --hover-fill-color: #174EA6;\n",
              "      --disabled-fill-color: #AAA;\n",
              "      --disabled-bg-color: #DDD;\n",
              "  }\n",
              "\n",
              "  [theme=dark] .colab-df-quickchart {\n",
              "      --bg-color: #3B4455;\n",
              "      --fill-color: #D2E3FC;\n",
              "      --hover-bg-color: #434B5C;\n",
              "      --hover-fill-color: #FFFFFF;\n",
              "      --disabled-bg-color: #3B4455;\n",
              "      --disabled-fill-color: #666;\n",
              "  }\n",
              "\n",
              "  .colab-df-quickchart {\n",
              "    background-color: var(--bg-color);\n",
              "    border: none;\n",
              "    border-radius: 50%;\n",
              "    cursor: pointer;\n",
              "    display: none;\n",
              "    fill: var(--fill-color);\n",
              "    height: 32px;\n",
              "    padding: 0;\n",
              "    width: 32px;\n",
              "  }\n",
              "\n",
              "  .colab-df-quickchart:hover {\n",
              "    background-color: var(--hover-bg-color);\n",
              "    box-shadow: 0 1px 2px rgba(60, 64, 67, 0.3), 0 1px 3px 1px rgba(60, 64, 67, 0.15);\n",
              "    fill: var(--button-hover-fill-color);\n",
              "  }\n",
              "\n",
              "  .colab-df-quickchart-complete:disabled,\n",
              "  .colab-df-quickchart-complete:disabled:hover {\n",
              "    background-color: var(--disabled-bg-color);\n",
              "    fill: var(--disabled-fill-color);\n",
              "    box-shadow: none;\n",
              "  }\n",
              "\n",
              "  .colab-df-spinner {\n",
              "    border: 2px solid var(--fill-color);\n",
              "    border-color: transparent;\n",
              "    border-bottom-color: var(--fill-color);\n",
              "    animation:\n",
              "      spin 1s steps(1) infinite;\n",
              "  }\n",
              "\n",
              "  @keyframes spin {\n",
              "    0% {\n",
              "      border-color: transparent;\n",
              "      border-bottom-color: var(--fill-color);\n",
              "      border-left-color: var(--fill-color);\n",
              "    }\n",
              "    20% {\n",
              "      border-color: transparent;\n",
              "      border-left-color: var(--fill-color);\n",
              "      border-top-color: var(--fill-color);\n",
              "    }\n",
              "    30% {\n",
              "      border-color: transparent;\n",
              "      border-left-color: var(--fill-color);\n",
              "      border-top-color: var(--fill-color);\n",
              "      border-right-color: var(--fill-color);\n",
              "    }\n",
              "    40% {\n",
              "      border-color: transparent;\n",
              "      border-right-color: var(--fill-color);\n",
              "      border-top-color: var(--fill-color);\n",
              "    }\n",
              "    60% {\n",
              "      border-color: transparent;\n",
              "      border-right-color: var(--fill-color);\n",
              "    }\n",
              "    80% {\n",
              "      border-color: transparent;\n",
              "      border-right-color: var(--fill-color);\n",
              "      border-bottom-color: var(--fill-color);\n",
              "    }\n",
              "    90% {\n",
              "      border-color: transparent;\n",
              "      border-bottom-color: var(--fill-color);\n",
              "    }\n",
              "  }\n",
              "</style>\n",
              "\n",
              "  <script>\n",
              "    async function quickchart(key) {\n",
              "      const quickchartButtonEl =\n",
              "        document.querySelector('#' + key + ' button');\n",
              "      quickchartButtonEl.disabled = true;  // To prevent multiple clicks.\n",
              "      quickchartButtonEl.classList.add('colab-df-spinner');\n",
              "      try {\n",
              "        const charts = await google.colab.kernel.invokeFunction(\n",
              "            'suggestCharts', [key], {});\n",
              "      } catch (error) {\n",
              "        console.error('Error during call to suggestCharts:', error);\n",
              "      }\n",
              "      quickchartButtonEl.classList.remove('colab-df-spinner');\n",
              "      quickchartButtonEl.classList.add('colab-df-quickchart-complete');\n",
              "    }\n",
              "    (() => {\n",
              "      let quickchartButtonEl =\n",
              "        document.querySelector('#df-5f4f99ee-dad9-4173-9798-d8b22c5f3ad7 button');\n",
              "      quickchartButtonEl.style.display =\n",
              "        google.colab.kernel.accessAllowed ? 'block' : 'none';\n",
              "    })();\n",
              "  </script>\n",
              "</div>\n",
              "\n",
              "  <div id=\"id_692d6768-d089-44f6-98ea-0baae0a3dca0\">\n",
              "    <style>\n",
              "      .colab-df-generate {\n",
              "        background-color: #E8F0FE;\n",
              "        border: none;\n",
              "        border-radius: 50%;\n",
              "        cursor: pointer;\n",
              "        display: none;\n",
              "        fill: #1967D2;\n",
              "        height: 32px;\n",
              "        padding: 0 0 0 0;\n",
              "        width: 32px;\n",
              "      }\n",
              "\n",
              "      .colab-df-generate:hover {\n",
              "        background-color: #E2EBFA;\n",
              "        box-shadow: 0px 1px 2px rgba(60, 64, 67, 0.3), 0px 1px 3px 1px rgba(60, 64, 67, 0.15);\n",
              "        fill: #174EA6;\n",
              "      }\n",
              "\n",
              "      [theme=dark] .colab-df-generate {\n",
              "        background-color: #3B4455;\n",
              "        fill: #D2E3FC;\n",
              "      }\n",
              "\n",
              "      [theme=dark] .colab-df-generate:hover {\n",
              "        background-color: #434B5C;\n",
              "        box-shadow: 0px 1px 3px 1px rgba(0, 0, 0, 0.15);\n",
              "        filter: drop-shadow(0px 1px 2px rgba(0, 0, 0, 0.3));\n",
              "        fill: #FFFFFF;\n",
              "      }\n",
              "    </style>\n",
              "    <button class=\"colab-df-generate\" onclick=\"generateWithVariable('contacts')\"\n",
              "            title=\"Generate code using this dataframe.\"\n",
              "            style=\"display:none;\">\n",
              "\n",
              "  <svg xmlns=\"http://www.w3.org/2000/svg\" height=\"24px\"viewBox=\"0 0 24 24\"\n",
              "       width=\"24px\">\n",
              "    <path d=\"M7,19H8.4L18.45,9,17,7.55,7,17.6ZM5,21V16.75L18.45,3.32a2,2,0,0,1,2.83,0l1.4,1.43a1.91,1.91,0,0,1,.58,1.4,1.91,1.91,0,0,1-.58,1.4L9.25,21ZM18.45,9,17,7.55Zm-12,3A5.31,5.31,0,0,0,4.9,8.1,5.31,5.31,0,0,0,1,6.5,5.31,5.31,0,0,0,4.9,4.9,5.31,5.31,0,0,0,6.5,1,5.31,5.31,0,0,0,8.1,4.9,5.31,5.31,0,0,0,12,6.5,5.46,5.46,0,0,0,6.5,12Z\"/>\n",
              "  </svg>\n",
              "    </button>\n",
              "    <script>\n",
              "      (() => {\n",
              "      const buttonEl =\n",
              "        document.querySelector('#id_692d6768-d089-44f6-98ea-0baae0a3dca0 button.colab-df-generate');\n",
              "      buttonEl.style.display =\n",
              "        google.colab.kernel.accessAllowed ? 'block' : 'none';\n",
              "\n",
              "      buttonEl.onclick = () => {\n",
              "        google.colab.notebook.generateWithVariable('contacts');\n",
              "      }\n",
              "      })();\n",
              "    </script>\n",
              "  </div>\n",
              "\n",
              "    </div>\n",
              "  </div>\n"
            ],
            "application/vnd.google.colaboratory.intrinsic+json": {
              "type": "dataframe",
              "variable_name": "contacts",
              "summary": "{\n  \"name\": \"contacts\",\n  \"rows\": 5,\n  \"fields\": [\n    {\n      \"column\": \"name\",\n      \"properties\": {\n        \"dtype\": \"string\",\n        \"num_unique_values\": 5,\n        \"samples\": [\n          \"Chaim Lewis\",\n          \"Cyrus Jackson\",\n          \"Kennedy Lane\"\n        ],\n        \"semantic_type\": \"\",\n        \"description\": \"\"\n      }\n    },\n    {\n      \"column\": \"email\",\n      \"properties\": {\n        \"dtype\": \"string\",\n        \"num_unique_values\": 5,\n        \"samples\": [\n          \"dui.in@egetlacus.ca\",\n          \"nibh@semsempererat.com\",\n          \"mattis.Cras@nonenimMauris.net\"\n        ],\n        \"semantic_type\": \"\",\n        \"description\": \"\"\n      }\n    },\n    {\n      \"column\": \"phone\",\n      \"properties\": {\n        \"dtype\": \"string\",\n        \"num_unique_values\": 5,\n        \"samples\": [\n          \"(294) 840-6685\",\n          \"(501) 472-5218\",\n          \"(542) 451-7038\"\n        ],\n        \"semantic_type\": \"\",\n        \"description\": \"\"\n      }\n    },\n    {\n      \"column\": \"favorite\",\n      \"properties\": {\n        \"dtype\": \"boolean\",\n        \"num_unique_values\": 2,\n        \"samples\": [\n          true,\n          false\n        ],\n        \"semantic_type\": \"\",\n        \"description\": \"\"\n      }\n    }\n  ]\n}"
            }
          },
          "metadata": {},
          "execution_count": 86
        }
      ]
    },
    {
      "cell_type": "code",
      "source": [
        "contacts[[True, False, True, False, True]]"
      ],
      "metadata": {
        "id": "LDGKP2rAAWSH",
        "colab": {
          "base_uri": "https://localhost:8080/",
          "height": 142
        },
        "outputId": "59678ab5-8f13-4fc5-aba0-b5c65f54f206"
      },
      "execution_count": null,
      "outputs": [
        {
          "output_type": "execute_result",
          "data": {
            "text/plain": [
              "            name                          email           phone  favorite\n",
              "1  Allen Raymond      nulla.ante@vestibul.co.uk  (992) 914-3792     False\n",
              "3   Kennedy Lane  mattis.Cras@nonenimMauris.net  (542) 451-7038      True\n",
              "5  Cyrus Jackson         nibh@semsempererat.com  (501) 472-5218      True"
            ],
            "text/html": [
              "\n",
              "  <div id=\"df-2c3266e3-f28b-42fd-8bec-05e6eef4d1d1\" class=\"colab-df-container\">\n",
              "    <div>\n",
              "<style scoped>\n",
              "    .dataframe tbody tr th:only-of-type {\n",
              "        vertical-align: middle;\n",
              "    }\n",
              "\n",
              "    .dataframe tbody tr th {\n",
              "        vertical-align: top;\n",
              "    }\n",
              "\n",
              "    .dataframe thead th {\n",
              "        text-align: right;\n",
              "    }\n",
              "</style>\n",
              "<table border=\"1\" class=\"dataframe\">\n",
              "  <thead>\n",
              "    <tr style=\"text-align: right;\">\n",
              "      <th></th>\n",
              "      <th>name</th>\n",
              "      <th>email</th>\n",
              "      <th>phone</th>\n",
              "      <th>favorite</th>\n",
              "    </tr>\n",
              "  </thead>\n",
              "  <tbody>\n",
              "    <tr>\n",
              "      <th>1</th>\n",
              "      <td>Allen Raymond</td>\n",
              "      <td>nulla.ante@vestibul.co.uk</td>\n",
              "      <td>(992) 914-3792</td>\n",
              "      <td>False</td>\n",
              "    </tr>\n",
              "    <tr>\n",
              "      <th>3</th>\n",
              "      <td>Kennedy Lane</td>\n",
              "      <td>mattis.Cras@nonenimMauris.net</td>\n",
              "      <td>(542) 451-7038</td>\n",
              "      <td>True</td>\n",
              "    </tr>\n",
              "    <tr>\n",
              "      <th>5</th>\n",
              "      <td>Cyrus Jackson</td>\n",
              "      <td>nibh@semsempererat.com</td>\n",
              "      <td>(501) 472-5218</td>\n",
              "      <td>True</td>\n",
              "    </tr>\n",
              "  </tbody>\n",
              "</table>\n",
              "</div>\n",
              "    <div class=\"colab-df-buttons\">\n",
              "\n",
              "  <div class=\"colab-df-container\">\n",
              "    <button class=\"colab-df-convert\" onclick=\"convertToInteractive('df-2c3266e3-f28b-42fd-8bec-05e6eef4d1d1')\"\n",
              "            title=\"Convert this dataframe to an interactive table.\"\n",
              "            style=\"display:none;\">\n",
              "\n",
              "  <svg xmlns=\"http://www.w3.org/2000/svg\" height=\"24px\" viewBox=\"0 -960 960 960\">\n",
              "    <path d=\"M120-120v-720h720v720H120Zm60-500h600v-160H180v160Zm220 220h160v-160H400v160Zm0 220h160v-160H400v160ZM180-400h160v-160H180v160Zm440 0h160v-160H620v160ZM180-180h160v-160H180v160Zm440 0h160v-160H620v160Z\"/>\n",
              "  </svg>\n",
              "    </button>\n",
              "\n",
              "  <style>\n",
              "    .colab-df-container {\n",
              "      display:flex;\n",
              "      gap: 12px;\n",
              "    }\n",
              "\n",
              "    .colab-df-convert {\n",
              "      background-color: #E8F0FE;\n",
              "      border: none;\n",
              "      border-radius: 50%;\n",
              "      cursor: pointer;\n",
              "      display: none;\n",
              "      fill: #1967D2;\n",
              "      height: 32px;\n",
              "      padding: 0 0 0 0;\n",
              "      width: 32px;\n",
              "    }\n",
              "\n",
              "    .colab-df-convert:hover {\n",
              "      background-color: #E2EBFA;\n",
              "      box-shadow: 0px 1px 2px rgba(60, 64, 67, 0.3), 0px 1px 3px 1px rgba(60, 64, 67, 0.15);\n",
              "      fill: #174EA6;\n",
              "    }\n",
              "\n",
              "    .colab-df-buttons div {\n",
              "      margin-bottom: 4px;\n",
              "    }\n",
              "\n",
              "    [theme=dark] .colab-df-convert {\n",
              "      background-color: #3B4455;\n",
              "      fill: #D2E3FC;\n",
              "    }\n",
              "\n",
              "    [theme=dark] .colab-df-convert:hover {\n",
              "      background-color: #434B5C;\n",
              "      box-shadow: 0px 1px 3px 1px rgba(0, 0, 0, 0.15);\n",
              "      filter: drop-shadow(0px 1px 2px rgba(0, 0, 0, 0.3));\n",
              "      fill: #FFFFFF;\n",
              "    }\n",
              "  </style>\n",
              "\n",
              "    <script>\n",
              "      const buttonEl =\n",
              "        document.querySelector('#df-2c3266e3-f28b-42fd-8bec-05e6eef4d1d1 button.colab-df-convert');\n",
              "      buttonEl.style.display =\n",
              "        google.colab.kernel.accessAllowed ? 'block' : 'none';\n",
              "\n",
              "      async function convertToInteractive(key) {\n",
              "        const element = document.querySelector('#df-2c3266e3-f28b-42fd-8bec-05e6eef4d1d1');\n",
              "        const dataTable =\n",
              "          await google.colab.kernel.invokeFunction('convertToInteractive',\n",
              "                                                    [key], {});\n",
              "        if (!dataTable) return;\n",
              "\n",
              "        const docLinkHtml = 'Like what you see? Visit the ' +\n",
              "          '<a target=\"_blank\" href=https://colab.research.google.com/notebooks/data_table.ipynb>data table notebook</a>'\n",
              "          + ' to learn more about interactive tables.';\n",
              "        element.innerHTML = '';\n",
              "        dataTable['output_type'] = 'display_data';\n",
              "        await google.colab.output.renderOutput(dataTable, element);\n",
              "        const docLink = document.createElement('div');\n",
              "        docLink.innerHTML = docLinkHtml;\n",
              "        element.appendChild(docLink);\n",
              "      }\n",
              "    </script>\n",
              "  </div>\n",
              "\n",
              "\n",
              "<div id=\"df-d0dd1fdf-2ada-4450-9bd0-70c5c08d50da\">\n",
              "  <button class=\"colab-df-quickchart\" onclick=\"quickchart('df-d0dd1fdf-2ada-4450-9bd0-70c5c08d50da')\"\n",
              "            title=\"Suggest charts\"\n",
              "            style=\"display:none;\">\n",
              "\n",
              "<svg xmlns=\"http://www.w3.org/2000/svg\" height=\"24px\"viewBox=\"0 0 24 24\"\n",
              "     width=\"24px\">\n",
              "    <g>\n",
              "        <path d=\"M19 3H5c-1.1 0-2 .9-2 2v14c0 1.1.9 2 2 2h14c1.1 0 2-.9 2-2V5c0-1.1-.9-2-2-2zM9 17H7v-7h2v7zm4 0h-2V7h2v10zm4 0h-2v-4h2v4z\"/>\n",
              "    </g>\n",
              "</svg>\n",
              "  </button>\n",
              "\n",
              "<style>\n",
              "  .colab-df-quickchart {\n",
              "      --bg-color: #E8F0FE;\n",
              "      --fill-color: #1967D2;\n",
              "      --hover-bg-color: #E2EBFA;\n",
              "      --hover-fill-color: #174EA6;\n",
              "      --disabled-fill-color: #AAA;\n",
              "      --disabled-bg-color: #DDD;\n",
              "  }\n",
              "\n",
              "  [theme=dark] .colab-df-quickchart {\n",
              "      --bg-color: #3B4455;\n",
              "      --fill-color: #D2E3FC;\n",
              "      --hover-bg-color: #434B5C;\n",
              "      --hover-fill-color: #FFFFFF;\n",
              "      --disabled-bg-color: #3B4455;\n",
              "      --disabled-fill-color: #666;\n",
              "  }\n",
              "\n",
              "  .colab-df-quickchart {\n",
              "    background-color: var(--bg-color);\n",
              "    border: none;\n",
              "    border-radius: 50%;\n",
              "    cursor: pointer;\n",
              "    display: none;\n",
              "    fill: var(--fill-color);\n",
              "    height: 32px;\n",
              "    padding: 0;\n",
              "    width: 32px;\n",
              "  }\n",
              "\n",
              "  .colab-df-quickchart:hover {\n",
              "    background-color: var(--hover-bg-color);\n",
              "    box-shadow: 0 1px 2px rgba(60, 64, 67, 0.3), 0 1px 3px 1px rgba(60, 64, 67, 0.15);\n",
              "    fill: var(--button-hover-fill-color);\n",
              "  }\n",
              "\n",
              "  .colab-df-quickchart-complete:disabled,\n",
              "  .colab-df-quickchart-complete:disabled:hover {\n",
              "    background-color: var(--disabled-bg-color);\n",
              "    fill: var(--disabled-fill-color);\n",
              "    box-shadow: none;\n",
              "  }\n",
              "\n",
              "  .colab-df-spinner {\n",
              "    border: 2px solid var(--fill-color);\n",
              "    border-color: transparent;\n",
              "    border-bottom-color: var(--fill-color);\n",
              "    animation:\n",
              "      spin 1s steps(1) infinite;\n",
              "  }\n",
              "\n",
              "  @keyframes spin {\n",
              "    0% {\n",
              "      border-color: transparent;\n",
              "      border-bottom-color: var(--fill-color);\n",
              "      border-left-color: var(--fill-color);\n",
              "    }\n",
              "    20% {\n",
              "      border-color: transparent;\n",
              "      border-left-color: var(--fill-color);\n",
              "      border-top-color: var(--fill-color);\n",
              "    }\n",
              "    30% {\n",
              "      border-color: transparent;\n",
              "      border-left-color: var(--fill-color);\n",
              "      border-top-color: var(--fill-color);\n",
              "      border-right-color: var(--fill-color);\n",
              "    }\n",
              "    40% {\n",
              "      border-color: transparent;\n",
              "      border-right-color: var(--fill-color);\n",
              "      border-top-color: var(--fill-color);\n",
              "    }\n",
              "    60% {\n",
              "      border-color: transparent;\n",
              "      border-right-color: var(--fill-color);\n",
              "    }\n",
              "    80% {\n",
              "      border-color: transparent;\n",
              "      border-right-color: var(--fill-color);\n",
              "      border-bottom-color: var(--fill-color);\n",
              "    }\n",
              "    90% {\n",
              "      border-color: transparent;\n",
              "      border-bottom-color: var(--fill-color);\n",
              "    }\n",
              "  }\n",
              "</style>\n",
              "\n",
              "  <script>\n",
              "    async function quickchart(key) {\n",
              "      const quickchartButtonEl =\n",
              "        document.querySelector('#' + key + ' button');\n",
              "      quickchartButtonEl.disabled = true;  // To prevent multiple clicks.\n",
              "      quickchartButtonEl.classList.add('colab-df-spinner');\n",
              "      try {\n",
              "        const charts = await google.colab.kernel.invokeFunction(\n",
              "            'suggestCharts', [key], {});\n",
              "      } catch (error) {\n",
              "        console.error('Error during call to suggestCharts:', error);\n",
              "      }\n",
              "      quickchartButtonEl.classList.remove('colab-df-spinner');\n",
              "      quickchartButtonEl.classList.add('colab-df-quickchart-complete');\n",
              "    }\n",
              "    (() => {\n",
              "      let quickchartButtonEl =\n",
              "        document.querySelector('#df-d0dd1fdf-2ada-4450-9bd0-70c5c08d50da button');\n",
              "      quickchartButtonEl.style.display =\n",
              "        google.colab.kernel.accessAllowed ? 'block' : 'none';\n",
              "    })();\n",
              "  </script>\n",
              "</div>\n",
              "\n",
              "    </div>\n",
              "  </div>\n"
            ],
            "application/vnd.google.colaboratory.intrinsic+json": {
              "type": "dataframe",
              "summary": "{\n  \"name\": \"contacts[[True, False, True, False, True]]\",\n  \"rows\": 3,\n  \"fields\": [\n    {\n      \"column\": \"name\",\n      \"properties\": {\n        \"dtype\": \"string\",\n        \"num_unique_values\": 3,\n        \"samples\": [\n          \"Allen Raymond\",\n          \"Kennedy Lane\",\n          \"Cyrus Jackson\"\n        ],\n        \"semantic_type\": \"\",\n        \"description\": \"\"\n      }\n    },\n    {\n      \"column\": \"email\",\n      \"properties\": {\n        \"dtype\": \"string\",\n        \"num_unique_values\": 3,\n        \"samples\": [\n          \"nulla.ante@vestibul.co.uk\",\n          \"mattis.Cras@nonenimMauris.net\",\n          \"nibh@semsempererat.com\"\n        ],\n        \"semantic_type\": \"\",\n        \"description\": \"\"\n      }\n    },\n    {\n      \"column\": \"phone\",\n      \"properties\": {\n        \"dtype\": \"string\",\n        \"num_unique_values\": 3,\n        \"samples\": [\n          \"(992) 914-3792\",\n          \"(542) 451-7038\",\n          \"(501) 472-5218\"\n        ],\n        \"semantic_type\": \"\",\n        \"description\": \"\"\n      }\n    },\n    {\n      \"column\": \"favorite\",\n      \"properties\": {\n        \"dtype\": \"boolean\",\n        \"num_unique_values\": 2,\n        \"samples\": [\n          true,\n          false\n        ],\n        \"semantic_type\": \"\",\n        \"description\": \"\"\n      }\n    }\n  ]\n}"
            }
          },
          "metadata": {},
          "execution_count": 93
        }
      ]
    },
    {
      "cell_type": "code",
      "source": [],
      "metadata": {
        "id": "XO95jUjHlD3n"
      },
      "execution_count": null,
      "outputs": []
    },
    {
      "cell_type": "code",
      "source": [],
      "metadata": {
        "id": "Sezby_9yxBO8"
      },
      "execution_count": null,
      "outputs": []
    },
    {
      "cell_type": "code",
      "source": [],
      "metadata": {
        "id": "VcKzlmllxBMh"
      },
      "execution_count": null,
      "outputs": []
    },
    {
      "cell_type": "code",
      "source": [
        "import pandas as pd\n",
        "\n",
        "users = pd.read_csv(\"/content/test_table.csv\")\n",
        "\n",
        "users"
      ],
      "metadata": {
        "colab": {
          "base_uri": "https://localhost:8080/",
          "height": 235
        },
        "id": "TsJ6f2IJxBI6",
        "outputId": "352fb656-3500-4ab2-a376-d2145e65abe9"
      },
      "execution_count": null,
      "outputs": [
        {
          "output_type": "execute_result",
          "data": {
            "text/plain": [
              "   temperature  ice_cream_sold_count\n",
              "0         25.0                  10.0\n",
              "1         27.0                  15.0\n",
              "2         30.0                  20.0\n",
              "3         33.0                  25.0\n",
              "4         35.0                  30.0\n",
              "5          NaN                   NaN"
            ],
            "text/html": [
              "\n",
              "  <div id=\"df-aa58f042-e562-4bf7-a9d2-f9d36fa7601e\" class=\"colab-df-container\">\n",
              "    <div>\n",
              "<style scoped>\n",
              "    .dataframe tbody tr th:only-of-type {\n",
              "        vertical-align: middle;\n",
              "    }\n",
              "\n",
              "    .dataframe tbody tr th {\n",
              "        vertical-align: top;\n",
              "    }\n",
              "\n",
              "    .dataframe thead th {\n",
              "        text-align: right;\n",
              "    }\n",
              "</style>\n",
              "<table border=\"1\" class=\"dataframe\">\n",
              "  <thead>\n",
              "    <tr style=\"text-align: right;\">\n",
              "      <th></th>\n",
              "      <th>temperature</th>\n",
              "      <th>ice_cream_sold_count</th>\n",
              "    </tr>\n",
              "  </thead>\n",
              "  <tbody>\n",
              "    <tr>\n",
              "      <th>0</th>\n",
              "      <td>25.0</td>\n",
              "      <td>10.0</td>\n",
              "    </tr>\n",
              "    <tr>\n",
              "      <th>1</th>\n",
              "      <td>27.0</td>\n",
              "      <td>15.0</td>\n",
              "    </tr>\n",
              "    <tr>\n",
              "      <th>2</th>\n",
              "      <td>30.0</td>\n",
              "      <td>20.0</td>\n",
              "    </tr>\n",
              "    <tr>\n",
              "      <th>3</th>\n",
              "      <td>33.0</td>\n",
              "      <td>25.0</td>\n",
              "    </tr>\n",
              "    <tr>\n",
              "      <th>4</th>\n",
              "      <td>35.0</td>\n",
              "      <td>30.0</td>\n",
              "    </tr>\n",
              "    <tr>\n",
              "      <th>5</th>\n",
              "      <td>NaN</td>\n",
              "      <td>NaN</td>\n",
              "    </tr>\n",
              "  </tbody>\n",
              "</table>\n",
              "</div>\n",
              "    <div class=\"colab-df-buttons\">\n",
              "\n",
              "  <div class=\"colab-df-container\">\n",
              "    <button class=\"colab-df-convert\" onclick=\"convertToInteractive('df-aa58f042-e562-4bf7-a9d2-f9d36fa7601e')\"\n",
              "            title=\"Convert this dataframe to an interactive table.\"\n",
              "            style=\"display:none;\">\n",
              "\n",
              "  <svg xmlns=\"http://www.w3.org/2000/svg\" height=\"24px\" viewBox=\"0 -960 960 960\">\n",
              "    <path d=\"M120-120v-720h720v720H120Zm60-500h600v-160H180v160Zm220 220h160v-160H400v160Zm0 220h160v-160H400v160ZM180-400h160v-160H180v160Zm440 0h160v-160H620v160ZM180-180h160v-160H180v160Zm440 0h160v-160H620v160Z\"/>\n",
              "  </svg>\n",
              "    </button>\n",
              "\n",
              "  <style>\n",
              "    .colab-df-container {\n",
              "      display:flex;\n",
              "      gap: 12px;\n",
              "    }\n",
              "\n",
              "    .colab-df-convert {\n",
              "      background-color: #E8F0FE;\n",
              "      border: none;\n",
              "      border-radius: 50%;\n",
              "      cursor: pointer;\n",
              "      display: none;\n",
              "      fill: #1967D2;\n",
              "      height: 32px;\n",
              "      padding: 0 0 0 0;\n",
              "      width: 32px;\n",
              "    }\n",
              "\n",
              "    .colab-df-convert:hover {\n",
              "      background-color: #E2EBFA;\n",
              "      box-shadow: 0px 1px 2px rgba(60, 64, 67, 0.3), 0px 1px 3px 1px rgba(60, 64, 67, 0.15);\n",
              "      fill: #174EA6;\n",
              "    }\n",
              "\n",
              "    .colab-df-buttons div {\n",
              "      margin-bottom: 4px;\n",
              "    }\n",
              "\n",
              "    [theme=dark] .colab-df-convert {\n",
              "      background-color: #3B4455;\n",
              "      fill: #D2E3FC;\n",
              "    }\n",
              "\n",
              "    [theme=dark] .colab-df-convert:hover {\n",
              "      background-color: #434B5C;\n",
              "      box-shadow: 0px 1px 3px 1px rgba(0, 0, 0, 0.15);\n",
              "      filter: drop-shadow(0px 1px 2px rgba(0, 0, 0, 0.3));\n",
              "      fill: #FFFFFF;\n",
              "    }\n",
              "  </style>\n",
              "\n",
              "    <script>\n",
              "      const buttonEl =\n",
              "        document.querySelector('#df-aa58f042-e562-4bf7-a9d2-f9d36fa7601e button.colab-df-convert');\n",
              "      buttonEl.style.display =\n",
              "        google.colab.kernel.accessAllowed ? 'block' : 'none';\n",
              "\n",
              "      async function convertToInteractive(key) {\n",
              "        const element = document.querySelector('#df-aa58f042-e562-4bf7-a9d2-f9d36fa7601e');\n",
              "        const dataTable =\n",
              "          await google.colab.kernel.invokeFunction('convertToInteractive',\n",
              "                                                    [key], {});\n",
              "        if (!dataTable) return;\n",
              "\n",
              "        const docLinkHtml = 'Like what you see? Visit the ' +\n",
              "          '<a target=\"_blank\" href=https://colab.research.google.com/notebooks/data_table.ipynb>data table notebook</a>'\n",
              "          + ' to learn more about interactive tables.';\n",
              "        element.innerHTML = '';\n",
              "        dataTable['output_type'] = 'display_data';\n",
              "        await google.colab.output.renderOutput(dataTable, element);\n",
              "        const docLink = document.createElement('div');\n",
              "        docLink.innerHTML = docLinkHtml;\n",
              "        element.appendChild(docLink);\n",
              "      }\n",
              "    </script>\n",
              "  </div>\n",
              "\n",
              "\n",
              "<div id=\"df-80de3811-968b-464b-a88c-b4eae3bb5586\">\n",
              "  <button class=\"colab-df-quickchart\" onclick=\"quickchart('df-80de3811-968b-464b-a88c-b4eae3bb5586')\"\n",
              "            title=\"Suggest charts\"\n",
              "            style=\"display:none;\">\n",
              "\n",
              "<svg xmlns=\"http://www.w3.org/2000/svg\" height=\"24px\"viewBox=\"0 0 24 24\"\n",
              "     width=\"24px\">\n",
              "    <g>\n",
              "        <path d=\"M19 3H5c-1.1 0-2 .9-2 2v14c0 1.1.9 2 2 2h14c1.1 0 2-.9 2-2V5c0-1.1-.9-2-2-2zM9 17H7v-7h2v7zm4 0h-2V7h2v10zm4 0h-2v-4h2v4z\"/>\n",
              "    </g>\n",
              "</svg>\n",
              "  </button>\n",
              "\n",
              "<style>\n",
              "  .colab-df-quickchart {\n",
              "      --bg-color: #E8F0FE;\n",
              "      --fill-color: #1967D2;\n",
              "      --hover-bg-color: #E2EBFA;\n",
              "      --hover-fill-color: #174EA6;\n",
              "      --disabled-fill-color: #AAA;\n",
              "      --disabled-bg-color: #DDD;\n",
              "  }\n",
              "\n",
              "  [theme=dark] .colab-df-quickchart {\n",
              "      --bg-color: #3B4455;\n",
              "      --fill-color: #D2E3FC;\n",
              "      --hover-bg-color: #434B5C;\n",
              "      --hover-fill-color: #FFFFFF;\n",
              "      --disabled-bg-color: #3B4455;\n",
              "      --disabled-fill-color: #666;\n",
              "  }\n",
              "\n",
              "  .colab-df-quickchart {\n",
              "    background-color: var(--bg-color);\n",
              "    border: none;\n",
              "    border-radius: 50%;\n",
              "    cursor: pointer;\n",
              "    display: none;\n",
              "    fill: var(--fill-color);\n",
              "    height: 32px;\n",
              "    padding: 0;\n",
              "    width: 32px;\n",
              "  }\n",
              "\n",
              "  .colab-df-quickchart:hover {\n",
              "    background-color: var(--hover-bg-color);\n",
              "    box-shadow: 0 1px 2px rgba(60, 64, 67, 0.3), 0 1px 3px 1px rgba(60, 64, 67, 0.15);\n",
              "    fill: var(--button-hover-fill-color);\n",
              "  }\n",
              "\n",
              "  .colab-df-quickchart-complete:disabled,\n",
              "  .colab-df-quickchart-complete:disabled:hover {\n",
              "    background-color: var(--disabled-bg-color);\n",
              "    fill: var(--disabled-fill-color);\n",
              "    box-shadow: none;\n",
              "  }\n",
              "\n",
              "  .colab-df-spinner {\n",
              "    border: 2px solid var(--fill-color);\n",
              "    border-color: transparent;\n",
              "    border-bottom-color: var(--fill-color);\n",
              "    animation:\n",
              "      spin 1s steps(1) infinite;\n",
              "  }\n",
              "\n",
              "  @keyframes spin {\n",
              "    0% {\n",
              "      border-color: transparent;\n",
              "      border-bottom-color: var(--fill-color);\n",
              "      border-left-color: var(--fill-color);\n",
              "    }\n",
              "    20% {\n",
              "      border-color: transparent;\n",
              "      border-left-color: var(--fill-color);\n",
              "      border-top-color: var(--fill-color);\n",
              "    }\n",
              "    30% {\n",
              "      border-color: transparent;\n",
              "      border-left-color: var(--fill-color);\n",
              "      border-top-color: var(--fill-color);\n",
              "      border-right-color: var(--fill-color);\n",
              "    }\n",
              "    40% {\n",
              "      border-color: transparent;\n",
              "      border-right-color: var(--fill-color);\n",
              "      border-top-color: var(--fill-color);\n",
              "    }\n",
              "    60% {\n",
              "      border-color: transparent;\n",
              "      border-right-color: var(--fill-color);\n",
              "    }\n",
              "    80% {\n",
              "      border-color: transparent;\n",
              "      border-right-color: var(--fill-color);\n",
              "      border-bottom-color: var(--fill-color);\n",
              "    }\n",
              "    90% {\n",
              "      border-color: transparent;\n",
              "      border-bottom-color: var(--fill-color);\n",
              "    }\n",
              "  }\n",
              "</style>\n",
              "\n",
              "  <script>\n",
              "    async function quickchart(key) {\n",
              "      const quickchartButtonEl =\n",
              "        document.querySelector('#' + key + ' button');\n",
              "      quickchartButtonEl.disabled = true;  // To prevent multiple clicks.\n",
              "      quickchartButtonEl.classList.add('colab-df-spinner');\n",
              "      try {\n",
              "        const charts = await google.colab.kernel.invokeFunction(\n",
              "            'suggestCharts', [key], {});\n",
              "      } catch (error) {\n",
              "        console.error('Error during call to suggestCharts:', error);\n",
              "      }\n",
              "      quickchartButtonEl.classList.remove('colab-df-spinner');\n",
              "      quickchartButtonEl.classList.add('colab-df-quickchart-complete');\n",
              "    }\n",
              "    (() => {\n",
              "      let quickchartButtonEl =\n",
              "        document.querySelector('#df-80de3811-968b-464b-a88c-b4eae3bb5586 button');\n",
              "      quickchartButtonEl.style.display =\n",
              "        google.colab.kernel.accessAllowed ? 'block' : 'none';\n",
              "    })();\n",
              "  </script>\n",
              "</div>\n",
              "\n",
              "  <div id=\"id_aeb3b6df-72b5-434e-8acf-2ae0e71bb85e\">\n",
              "    <style>\n",
              "      .colab-df-generate {\n",
              "        background-color: #E8F0FE;\n",
              "        border: none;\n",
              "        border-radius: 50%;\n",
              "        cursor: pointer;\n",
              "        display: none;\n",
              "        fill: #1967D2;\n",
              "        height: 32px;\n",
              "        padding: 0 0 0 0;\n",
              "        width: 32px;\n",
              "      }\n",
              "\n",
              "      .colab-df-generate:hover {\n",
              "        background-color: #E2EBFA;\n",
              "        box-shadow: 0px 1px 2px rgba(60, 64, 67, 0.3), 0px 1px 3px 1px rgba(60, 64, 67, 0.15);\n",
              "        fill: #174EA6;\n",
              "      }\n",
              "\n",
              "      [theme=dark] .colab-df-generate {\n",
              "        background-color: #3B4455;\n",
              "        fill: #D2E3FC;\n",
              "      }\n",
              "\n",
              "      [theme=dark] .colab-df-generate:hover {\n",
              "        background-color: #434B5C;\n",
              "        box-shadow: 0px 1px 3px 1px rgba(0, 0, 0, 0.15);\n",
              "        filter: drop-shadow(0px 1px 2px rgba(0, 0, 0, 0.3));\n",
              "        fill: #FFFFFF;\n",
              "      }\n",
              "    </style>\n",
              "    <button class=\"colab-df-generate\" onclick=\"generateWithVariable('users')\"\n",
              "            title=\"Generate code using this dataframe.\"\n",
              "            style=\"display:none;\">\n",
              "\n",
              "  <svg xmlns=\"http://www.w3.org/2000/svg\" height=\"24px\"viewBox=\"0 0 24 24\"\n",
              "       width=\"24px\">\n",
              "    <path d=\"M7,19H8.4L18.45,9,17,7.55,7,17.6ZM5,21V16.75L18.45,3.32a2,2,0,0,1,2.83,0l1.4,1.43a1.91,1.91,0,0,1,.58,1.4,1.91,1.91,0,0,1-.58,1.4L9.25,21ZM18.45,9,17,7.55Zm-12,3A5.31,5.31,0,0,0,4.9,8.1,5.31,5.31,0,0,0,1,6.5,5.31,5.31,0,0,0,4.9,4.9,5.31,5.31,0,0,0,6.5,1,5.31,5.31,0,0,0,8.1,4.9,5.31,5.31,0,0,0,12,6.5,5.46,5.46,0,0,0,6.5,12Z\"/>\n",
              "  </svg>\n",
              "    </button>\n",
              "    <script>\n",
              "      (() => {\n",
              "      const buttonEl =\n",
              "        document.querySelector('#id_aeb3b6df-72b5-434e-8acf-2ae0e71bb85e button.colab-df-generate');\n",
              "      buttonEl.style.display =\n",
              "        google.colab.kernel.accessAllowed ? 'block' : 'none';\n",
              "\n",
              "      buttonEl.onclick = () => {\n",
              "        google.colab.notebook.generateWithVariable('users');\n",
              "      }\n",
              "      })();\n",
              "    </script>\n",
              "  </div>\n",
              "\n",
              "    </div>\n",
              "  </div>\n"
            ],
            "application/vnd.google.colaboratory.intrinsic+json": {
              "type": "dataframe",
              "variable_name": "users",
              "summary": "{\n  \"name\": \"users\",\n  \"rows\": 6,\n  \"fields\": [\n    {\n      \"column\": \"temperature\",\n      \"properties\": {\n        \"dtype\": \"number\",\n        \"std\": 4.123105625617661,\n        \"min\": 25.0,\n        \"max\": 35.0,\n        \"num_unique_values\": 5,\n        \"samples\": [\n          27.0,\n          35.0,\n          30.0\n        ],\n        \"semantic_type\": \"\",\n        \"description\": \"\"\n      }\n    },\n    {\n      \"column\": \"ice_cream_sold_count\",\n      \"properties\": {\n        \"dtype\": \"number\",\n        \"std\": 7.905694150420948,\n        \"min\": 10.0,\n        \"max\": 30.0,\n        \"num_unique_values\": 5,\n        \"samples\": [\n          15.0,\n          30.0,\n          20.0\n        ],\n        \"semantic_type\": \"\",\n        \"description\": \"\"\n      }\n    }\n  ]\n}"
            }
          },
          "metadata": {},
          "execution_count": 95
        }
      ]
    },
    {
      "cell_type": "code",
      "source": [
        "import pandas as pd\n",
        "\n",
        "contacts = pd.DataFrame(\n",
        "    {\n",
        "        \"name\": [\n",
        "            \"Allen Raymond\",\n",
        "            \"Chaim Lewis\",\n",
        "            \"Kennedy Lane\",\n",
        "            \"Wylie Pope\",\n",
        "            \"Cyrus Jackson\",\n",
        "        ],\n",
        "        \"email\": [\n",
        "            \"nulla.ante@vestibul.co.uk\",\n",
        "            \"dui.in@egetlacus.ca\",\n",
        "            \"mattis.Cras@nonenimMauris.net\",\n",
        "            \"est@utquamvel.net\",\n",
        "            \"nibh@semsempererat.com\",\n",
        "        ],\n",
        "        \"phone\": [\n",
        "            \"(992) 914-3792\",\n",
        "            \"(294) 840-6685\",\n",
        "            \"(542) 451-7038\",\n",
        "            \"(692) 802-2949\",\n",
        "            \"(501) 472-5218\",\n",
        "        ],\n",
        "        \"favorite\": [False, False, True, False, True],\n",
        "    },\n",
        ")\n",
        "\n",
        "contacts.to_csv(\"/content/write_test.csv\", index=False)"
      ],
      "metadata": {
        "id": "ezLvvW-pxx2m"
      },
      "execution_count": null,
      "outputs": []
    },
    {
      "cell_type": "code",
      "source": [],
      "metadata": {
        "id": "ve56i7-txBGo"
      },
      "execution_count": null,
      "outputs": []
    },
    {
      "cell_type": "code",
      "source": [],
      "metadata": {
        "id": "hTjhyslDyHb3"
      },
      "execution_count": null,
      "outputs": []
    },
    {
      "cell_type": "code",
      "source": [
        "import pandas as pd\n",
        "\n",
        "persons = pd.read_excel(\"/content/test_table.xlsx\")\n",
        "\n",
        "persons"
      ],
      "metadata": {
        "colab": {
          "base_uri": "https://localhost:8080/",
          "height": 204
        },
        "id": "aM0VPhSCyHZg",
        "outputId": "034bc11c-8c72-48f2-8ed3-ecb6324ab734"
      },
      "execution_count": null,
      "outputs": [
        {
          "output_type": "execute_result",
          "data": {
            "text/plain": [
              "   temperature  ice_cream_sold_count\n",
              "0           25                    10\n",
              "1           27                    15\n",
              "2           30                    20\n",
              "3           33                    25\n",
              "4           35                    30"
            ],
            "text/html": [
              "\n",
              "  <div id=\"df-dadb5c46-1cd6-4aa6-9857-2f8e25a8594f\" class=\"colab-df-container\">\n",
              "    <div>\n",
              "<style scoped>\n",
              "    .dataframe tbody tr th:only-of-type {\n",
              "        vertical-align: middle;\n",
              "    }\n",
              "\n",
              "    .dataframe tbody tr th {\n",
              "        vertical-align: top;\n",
              "    }\n",
              "\n",
              "    .dataframe thead th {\n",
              "        text-align: right;\n",
              "    }\n",
              "</style>\n",
              "<table border=\"1\" class=\"dataframe\">\n",
              "  <thead>\n",
              "    <tr style=\"text-align: right;\">\n",
              "      <th></th>\n",
              "      <th>temperature</th>\n",
              "      <th>ice_cream_sold_count</th>\n",
              "    </tr>\n",
              "  </thead>\n",
              "  <tbody>\n",
              "    <tr>\n",
              "      <th>0</th>\n",
              "      <td>25</td>\n",
              "      <td>10</td>\n",
              "    </tr>\n",
              "    <tr>\n",
              "      <th>1</th>\n",
              "      <td>27</td>\n",
              "      <td>15</td>\n",
              "    </tr>\n",
              "    <tr>\n",
              "      <th>2</th>\n",
              "      <td>30</td>\n",
              "      <td>20</td>\n",
              "    </tr>\n",
              "    <tr>\n",
              "      <th>3</th>\n",
              "      <td>33</td>\n",
              "      <td>25</td>\n",
              "    </tr>\n",
              "    <tr>\n",
              "      <th>4</th>\n",
              "      <td>35</td>\n",
              "      <td>30</td>\n",
              "    </tr>\n",
              "  </tbody>\n",
              "</table>\n",
              "</div>\n",
              "    <div class=\"colab-df-buttons\">\n",
              "\n",
              "  <div class=\"colab-df-container\">\n",
              "    <button class=\"colab-df-convert\" onclick=\"convertToInteractive('df-dadb5c46-1cd6-4aa6-9857-2f8e25a8594f')\"\n",
              "            title=\"Convert this dataframe to an interactive table.\"\n",
              "            style=\"display:none;\">\n",
              "\n",
              "  <svg xmlns=\"http://www.w3.org/2000/svg\" height=\"24px\" viewBox=\"0 -960 960 960\">\n",
              "    <path d=\"M120-120v-720h720v720H120Zm60-500h600v-160H180v160Zm220 220h160v-160H400v160Zm0 220h160v-160H400v160ZM180-400h160v-160H180v160Zm440 0h160v-160H620v160ZM180-180h160v-160H180v160Zm440 0h160v-160H620v160Z\"/>\n",
              "  </svg>\n",
              "    </button>\n",
              "\n",
              "  <style>\n",
              "    .colab-df-container {\n",
              "      display:flex;\n",
              "      gap: 12px;\n",
              "    }\n",
              "\n",
              "    .colab-df-convert {\n",
              "      background-color: #E8F0FE;\n",
              "      border: none;\n",
              "      border-radius: 50%;\n",
              "      cursor: pointer;\n",
              "      display: none;\n",
              "      fill: #1967D2;\n",
              "      height: 32px;\n",
              "      padding: 0 0 0 0;\n",
              "      width: 32px;\n",
              "    }\n",
              "\n",
              "    .colab-df-convert:hover {\n",
              "      background-color: #E2EBFA;\n",
              "      box-shadow: 0px 1px 2px rgba(60, 64, 67, 0.3), 0px 1px 3px 1px rgba(60, 64, 67, 0.15);\n",
              "      fill: #174EA6;\n",
              "    }\n",
              "\n",
              "    .colab-df-buttons div {\n",
              "      margin-bottom: 4px;\n",
              "    }\n",
              "\n",
              "    [theme=dark] .colab-df-convert {\n",
              "      background-color: #3B4455;\n",
              "      fill: #D2E3FC;\n",
              "    }\n",
              "\n",
              "    [theme=dark] .colab-df-convert:hover {\n",
              "      background-color: #434B5C;\n",
              "      box-shadow: 0px 1px 3px 1px rgba(0, 0, 0, 0.15);\n",
              "      filter: drop-shadow(0px 1px 2px rgba(0, 0, 0, 0.3));\n",
              "      fill: #FFFFFF;\n",
              "    }\n",
              "  </style>\n",
              "\n",
              "    <script>\n",
              "      const buttonEl =\n",
              "        document.querySelector('#df-dadb5c46-1cd6-4aa6-9857-2f8e25a8594f button.colab-df-convert');\n",
              "      buttonEl.style.display =\n",
              "        google.colab.kernel.accessAllowed ? 'block' : 'none';\n",
              "\n",
              "      async function convertToInteractive(key) {\n",
              "        const element = document.querySelector('#df-dadb5c46-1cd6-4aa6-9857-2f8e25a8594f');\n",
              "        const dataTable =\n",
              "          await google.colab.kernel.invokeFunction('convertToInteractive',\n",
              "                                                    [key], {});\n",
              "        if (!dataTable) return;\n",
              "\n",
              "        const docLinkHtml = 'Like what you see? Visit the ' +\n",
              "          '<a target=\"_blank\" href=https://colab.research.google.com/notebooks/data_table.ipynb>data table notebook</a>'\n",
              "          + ' to learn more about interactive tables.';\n",
              "        element.innerHTML = '';\n",
              "        dataTable['output_type'] = 'display_data';\n",
              "        await google.colab.output.renderOutput(dataTable, element);\n",
              "        const docLink = document.createElement('div');\n",
              "        docLink.innerHTML = docLinkHtml;\n",
              "        element.appendChild(docLink);\n",
              "      }\n",
              "    </script>\n",
              "  </div>\n",
              "\n",
              "\n",
              "<div id=\"df-48f9a5dd-9f54-475c-91cd-5dd8bbfc141b\">\n",
              "  <button class=\"colab-df-quickchart\" onclick=\"quickchart('df-48f9a5dd-9f54-475c-91cd-5dd8bbfc141b')\"\n",
              "            title=\"Suggest charts\"\n",
              "            style=\"display:none;\">\n",
              "\n",
              "<svg xmlns=\"http://www.w3.org/2000/svg\" height=\"24px\"viewBox=\"0 0 24 24\"\n",
              "     width=\"24px\">\n",
              "    <g>\n",
              "        <path d=\"M19 3H5c-1.1 0-2 .9-2 2v14c0 1.1.9 2 2 2h14c1.1 0 2-.9 2-2V5c0-1.1-.9-2-2-2zM9 17H7v-7h2v7zm4 0h-2V7h2v10zm4 0h-2v-4h2v4z\"/>\n",
              "    </g>\n",
              "</svg>\n",
              "  </button>\n",
              "\n",
              "<style>\n",
              "  .colab-df-quickchart {\n",
              "      --bg-color: #E8F0FE;\n",
              "      --fill-color: #1967D2;\n",
              "      --hover-bg-color: #E2EBFA;\n",
              "      --hover-fill-color: #174EA6;\n",
              "      --disabled-fill-color: #AAA;\n",
              "      --disabled-bg-color: #DDD;\n",
              "  }\n",
              "\n",
              "  [theme=dark] .colab-df-quickchart {\n",
              "      --bg-color: #3B4455;\n",
              "      --fill-color: #D2E3FC;\n",
              "      --hover-bg-color: #434B5C;\n",
              "      --hover-fill-color: #FFFFFF;\n",
              "      --disabled-bg-color: #3B4455;\n",
              "      --disabled-fill-color: #666;\n",
              "  }\n",
              "\n",
              "  .colab-df-quickchart {\n",
              "    background-color: var(--bg-color);\n",
              "    border: none;\n",
              "    border-radius: 50%;\n",
              "    cursor: pointer;\n",
              "    display: none;\n",
              "    fill: var(--fill-color);\n",
              "    height: 32px;\n",
              "    padding: 0;\n",
              "    width: 32px;\n",
              "  }\n",
              "\n",
              "  .colab-df-quickchart:hover {\n",
              "    background-color: var(--hover-bg-color);\n",
              "    box-shadow: 0 1px 2px rgba(60, 64, 67, 0.3), 0 1px 3px 1px rgba(60, 64, 67, 0.15);\n",
              "    fill: var(--button-hover-fill-color);\n",
              "  }\n",
              "\n",
              "  .colab-df-quickchart-complete:disabled,\n",
              "  .colab-df-quickchart-complete:disabled:hover {\n",
              "    background-color: var(--disabled-bg-color);\n",
              "    fill: var(--disabled-fill-color);\n",
              "    box-shadow: none;\n",
              "  }\n",
              "\n",
              "  .colab-df-spinner {\n",
              "    border: 2px solid var(--fill-color);\n",
              "    border-color: transparent;\n",
              "    border-bottom-color: var(--fill-color);\n",
              "    animation:\n",
              "      spin 1s steps(1) infinite;\n",
              "  }\n",
              "\n",
              "  @keyframes spin {\n",
              "    0% {\n",
              "      border-color: transparent;\n",
              "      border-bottom-color: var(--fill-color);\n",
              "      border-left-color: var(--fill-color);\n",
              "    }\n",
              "    20% {\n",
              "      border-color: transparent;\n",
              "      border-left-color: var(--fill-color);\n",
              "      border-top-color: var(--fill-color);\n",
              "    }\n",
              "    30% {\n",
              "      border-color: transparent;\n",
              "      border-left-color: var(--fill-color);\n",
              "      border-top-color: var(--fill-color);\n",
              "      border-right-color: var(--fill-color);\n",
              "    }\n",
              "    40% {\n",
              "      border-color: transparent;\n",
              "      border-right-color: var(--fill-color);\n",
              "      border-top-color: var(--fill-color);\n",
              "    }\n",
              "    60% {\n",
              "      border-color: transparent;\n",
              "      border-right-color: var(--fill-color);\n",
              "    }\n",
              "    80% {\n",
              "      border-color: transparent;\n",
              "      border-right-color: var(--fill-color);\n",
              "      border-bottom-color: var(--fill-color);\n",
              "    }\n",
              "    90% {\n",
              "      border-color: transparent;\n",
              "      border-bottom-color: var(--fill-color);\n",
              "    }\n",
              "  }\n",
              "</style>\n",
              "\n",
              "  <script>\n",
              "    async function quickchart(key) {\n",
              "      const quickchartButtonEl =\n",
              "        document.querySelector('#' + key + ' button');\n",
              "      quickchartButtonEl.disabled = true;  // To prevent multiple clicks.\n",
              "      quickchartButtonEl.classList.add('colab-df-spinner');\n",
              "      try {\n",
              "        const charts = await google.colab.kernel.invokeFunction(\n",
              "            'suggestCharts', [key], {});\n",
              "      } catch (error) {\n",
              "        console.error('Error during call to suggestCharts:', error);\n",
              "      }\n",
              "      quickchartButtonEl.classList.remove('colab-df-spinner');\n",
              "      quickchartButtonEl.classList.add('colab-df-quickchart-complete');\n",
              "    }\n",
              "    (() => {\n",
              "      let quickchartButtonEl =\n",
              "        document.querySelector('#df-48f9a5dd-9f54-475c-91cd-5dd8bbfc141b button');\n",
              "      quickchartButtonEl.style.display =\n",
              "        google.colab.kernel.accessAllowed ? 'block' : 'none';\n",
              "    })();\n",
              "  </script>\n",
              "</div>\n",
              "\n",
              "  <div id=\"id_e3ead6c0-c7b2-4a74-98cd-015d3c3855f3\">\n",
              "    <style>\n",
              "      .colab-df-generate {\n",
              "        background-color: #E8F0FE;\n",
              "        border: none;\n",
              "        border-radius: 50%;\n",
              "        cursor: pointer;\n",
              "        display: none;\n",
              "        fill: #1967D2;\n",
              "        height: 32px;\n",
              "        padding: 0 0 0 0;\n",
              "        width: 32px;\n",
              "      }\n",
              "\n",
              "      .colab-df-generate:hover {\n",
              "        background-color: #E2EBFA;\n",
              "        box-shadow: 0px 1px 2px rgba(60, 64, 67, 0.3), 0px 1px 3px 1px rgba(60, 64, 67, 0.15);\n",
              "        fill: #174EA6;\n",
              "      }\n",
              "\n",
              "      [theme=dark] .colab-df-generate {\n",
              "        background-color: #3B4455;\n",
              "        fill: #D2E3FC;\n",
              "      }\n",
              "\n",
              "      [theme=dark] .colab-df-generate:hover {\n",
              "        background-color: #434B5C;\n",
              "        box-shadow: 0px 1px 3px 1px rgba(0, 0, 0, 0.15);\n",
              "        filter: drop-shadow(0px 1px 2px rgba(0, 0, 0, 0.3));\n",
              "        fill: #FFFFFF;\n",
              "      }\n",
              "    </style>\n",
              "    <button class=\"colab-df-generate\" onclick=\"generateWithVariable('persons')\"\n",
              "            title=\"Generate code using this dataframe.\"\n",
              "            style=\"display:none;\">\n",
              "\n",
              "  <svg xmlns=\"http://www.w3.org/2000/svg\" height=\"24px\"viewBox=\"0 0 24 24\"\n",
              "       width=\"24px\">\n",
              "    <path d=\"M7,19H8.4L18.45,9,17,7.55,7,17.6ZM5,21V16.75L18.45,3.32a2,2,0,0,1,2.83,0l1.4,1.43a1.91,1.91,0,0,1,.58,1.4,1.91,1.91,0,0,1-.58,1.4L9.25,21ZM18.45,9,17,7.55Zm-12,3A5.31,5.31,0,0,0,4.9,8.1,5.31,5.31,0,0,0,1,6.5,5.31,5.31,0,0,0,4.9,4.9,5.31,5.31,0,0,0,6.5,1,5.31,5.31,0,0,0,8.1,4.9,5.31,5.31,0,0,0,12,6.5,5.46,5.46,0,0,0,6.5,12Z\"/>\n",
              "  </svg>\n",
              "    </button>\n",
              "    <script>\n",
              "      (() => {\n",
              "      const buttonEl =\n",
              "        document.querySelector('#id_e3ead6c0-c7b2-4a74-98cd-015d3c3855f3 button.colab-df-generate');\n",
              "      buttonEl.style.display =\n",
              "        google.colab.kernel.accessAllowed ? 'block' : 'none';\n",
              "\n",
              "      buttonEl.onclick = () => {\n",
              "        google.colab.notebook.generateWithVariable('persons');\n",
              "      }\n",
              "      })();\n",
              "    </script>\n",
              "  </div>\n",
              "\n",
              "    </div>\n",
              "  </div>\n"
            ],
            "application/vnd.google.colaboratory.intrinsic+json": {
              "type": "dataframe",
              "variable_name": "persons",
              "summary": "{\n  \"name\": \"persons\",\n  \"rows\": 5,\n  \"fields\": [\n    {\n      \"column\": \"temperature\",\n      \"properties\": {\n        \"dtype\": \"number\",\n        \"std\": 4,\n        \"min\": 25,\n        \"max\": 35,\n        \"num_unique_values\": 5,\n        \"samples\": [\n          27,\n          35,\n          30\n        ],\n        \"semantic_type\": \"\",\n        \"description\": \"\"\n      }\n    },\n    {\n      \"column\": \"ice_cream_sold_count\",\n      \"properties\": {\n        \"dtype\": \"number\",\n        \"std\": 7,\n        \"min\": 10,\n        \"max\": 30,\n        \"num_unique_values\": 5,\n        \"samples\": [\n          15,\n          30,\n          20\n        ],\n        \"semantic_type\": \"\",\n        \"description\": \"\"\n      }\n    }\n  ]\n}"
            }
          },
          "metadata": {},
          "execution_count": 98
        }
      ]
    },
    {
      "cell_type": "code",
      "source": [
        "import pandas as pd\n",
        "\n",
        "contacts = pd.DataFrame(\n",
        "    {\n",
        "        \"name\": [\n",
        "            \"Allen Raymond\",\n",
        "            \"Chaim Lewis\",\n",
        "            \"Kennedy Lane\",\n",
        "            \"Wylie Pope\",\n",
        "            \"Cyrus Jackson\",\n",
        "        ],\n",
        "        \"email\": [\n",
        "            \"nulla.ante@vestibul.co.uk\",\n",
        "            \"dui.in@egetlacus.ca\",\n",
        "            \"mattis.Cras@nonenimMauris.net\",\n",
        "            \"est@utquamvel.net\",\n",
        "            \"nibh@semsempererat.com\",\n",
        "        ],\n",
        "        \"phone\": [\n",
        "            \"(992) 914-3792\",\n",
        "            \"(294) 840-6685\",\n",
        "            \"(542) 451-7038\",\n",
        "            \"(692) 802-2949\",\n",
        "            \"(501) 472-5218\",\n",
        "        ],\n",
        "        \"favorite\": [False, False, True, False, True],\n",
        "    },\n",
        "    index=[1, 2, 3, 4, 5],\n",
        ")\n",
        "\n",
        "contacts.to_excel('contacts.xlsx', sheet_name='Contacts')"
      ],
      "metadata": {
        "id": "6KpcdR1xlD1X"
      },
      "execution_count": null,
      "outputs": []
    },
    {
      "cell_type": "code",
      "source": [],
      "metadata": {
        "id": "_3b7rhhUyhku"
      },
      "execution_count": null,
      "outputs": []
    },
    {
      "cell_type": "code",
      "source": [],
      "metadata": {
        "id": "ZOjnW9jSzGri"
      },
      "execution_count": null,
      "outputs": []
    },
    {
      "cell_type": "code",
      "source": [],
      "metadata": {
        "id": "8swikUwSzGpS"
      },
      "execution_count": null,
      "outputs": []
    },
    {
      "cell_type": "code",
      "source": [
        "import pandas as pd\n",
        "\n",
        "employees = pd.read_json(\"/content/split.json\", orient=\"split\")\n",
        "\n",
        "employees"
      ],
      "metadata": {
        "colab": {
          "base_uri": "https://localhost:8080/",
          "height": 142
        },
        "id": "fhfyHtyEzGnE",
        "outputId": "693a455b-1db8-42f0-d3bc-b047bce0f57e"
      },
      "execution_count": null,
      "outputs": [
        {
          "output_type": "execute_result",
          "data": {
            "text/plain": [
              "      name    country\n",
              "0  Michael     Canada\n",
              "1     John        USA\n",
              "2     Liza  Australia"
            ],
            "text/html": [
              "\n",
              "  <div id=\"df-1244dfb4-4e1b-49c2-8d1a-2962b6b4cc03\" class=\"colab-df-container\">\n",
              "    <div>\n",
              "<style scoped>\n",
              "    .dataframe tbody tr th:only-of-type {\n",
              "        vertical-align: middle;\n",
              "    }\n",
              "\n",
              "    .dataframe tbody tr th {\n",
              "        vertical-align: top;\n",
              "    }\n",
              "\n",
              "    .dataframe thead th {\n",
              "        text-align: right;\n",
              "    }\n",
              "</style>\n",
              "<table border=\"1\" class=\"dataframe\">\n",
              "  <thead>\n",
              "    <tr style=\"text-align: right;\">\n",
              "      <th></th>\n",
              "      <th>name</th>\n",
              "      <th>country</th>\n",
              "    </tr>\n",
              "  </thead>\n",
              "  <tbody>\n",
              "    <tr>\n",
              "      <th>0</th>\n",
              "      <td>Michael</td>\n",
              "      <td>Canada</td>\n",
              "    </tr>\n",
              "    <tr>\n",
              "      <th>1</th>\n",
              "      <td>John</td>\n",
              "      <td>USA</td>\n",
              "    </tr>\n",
              "    <tr>\n",
              "      <th>2</th>\n",
              "      <td>Liza</td>\n",
              "      <td>Australia</td>\n",
              "    </tr>\n",
              "  </tbody>\n",
              "</table>\n",
              "</div>\n",
              "    <div class=\"colab-df-buttons\">\n",
              "\n",
              "  <div class=\"colab-df-container\">\n",
              "    <button class=\"colab-df-convert\" onclick=\"convertToInteractive('df-1244dfb4-4e1b-49c2-8d1a-2962b6b4cc03')\"\n",
              "            title=\"Convert this dataframe to an interactive table.\"\n",
              "            style=\"display:none;\">\n",
              "\n",
              "  <svg xmlns=\"http://www.w3.org/2000/svg\" height=\"24px\" viewBox=\"0 -960 960 960\">\n",
              "    <path d=\"M120-120v-720h720v720H120Zm60-500h600v-160H180v160Zm220 220h160v-160H400v160Zm0 220h160v-160H400v160ZM180-400h160v-160H180v160Zm440 0h160v-160H620v160ZM180-180h160v-160H180v160Zm440 0h160v-160H620v160Z\"/>\n",
              "  </svg>\n",
              "    </button>\n",
              "\n",
              "  <style>\n",
              "    .colab-df-container {\n",
              "      display:flex;\n",
              "      gap: 12px;\n",
              "    }\n",
              "\n",
              "    .colab-df-convert {\n",
              "      background-color: #E8F0FE;\n",
              "      border: none;\n",
              "      border-radius: 50%;\n",
              "      cursor: pointer;\n",
              "      display: none;\n",
              "      fill: #1967D2;\n",
              "      height: 32px;\n",
              "      padding: 0 0 0 0;\n",
              "      width: 32px;\n",
              "    }\n",
              "\n",
              "    .colab-df-convert:hover {\n",
              "      background-color: #E2EBFA;\n",
              "      box-shadow: 0px 1px 2px rgba(60, 64, 67, 0.3), 0px 1px 3px 1px rgba(60, 64, 67, 0.15);\n",
              "      fill: #174EA6;\n",
              "    }\n",
              "\n",
              "    .colab-df-buttons div {\n",
              "      margin-bottom: 4px;\n",
              "    }\n",
              "\n",
              "    [theme=dark] .colab-df-convert {\n",
              "      background-color: #3B4455;\n",
              "      fill: #D2E3FC;\n",
              "    }\n",
              "\n",
              "    [theme=dark] .colab-df-convert:hover {\n",
              "      background-color: #434B5C;\n",
              "      box-shadow: 0px 1px 3px 1px rgba(0, 0, 0, 0.15);\n",
              "      filter: drop-shadow(0px 1px 2px rgba(0, 0, 0, 0.3));\n",
              "      fill: #FFFFFF;\n",
              "    }\n",
              "  </style>\n",
              "\n",
              "    <script>\n",
              "      const buttonEl =\n",
              "        document.querySelector('#df-1244dfb4-4e1b-49c2-8d1a-2962b6b4cc03 button.colab-df-convert');\n",
              "      buttonEl.style.display =\n",
              "        google.colab.kernel.accessAllowed ? 'block' : 'none';\n",
              "\n",
              "      async function convertToInteractive(key) {\n",
              "        const element = document.querySelector('#df-1244dfb4-4e1b-49c2-8d1a-2962b6b4cc03');\n",
              "        const dataTable =\n",
              "          await google.colab.kernel.invokeFunction('convertToInteractive',\n",
              "                                                    [key], {});\n",
              "        if (!dataTable) return;\n",
              "\n",
              "        const docLinkHtml = 'Like what you see? Visit the ' +\n",
              "          '<a target=\"_blank\" href=https://colab.research.google.com/notebooks/data_table.ipynb>data table notebook</a>'\n",
              "          + ' to learn more about interactive tables.';\n",
              "        element.innerHTML = '';\n",
              "        dataTable['output_type'] = 'display_data';\n",
              "        await google.colab.output.renderOutput(dataTable, element);\n",
              "        const docLink = document.createElement('div');\n",
              "        docLink.innerHTML = docLinkHtml;\n",
              "        element.appendChild(docLink);\n",
              "      }\n",
              "    </script>\n",
              "  </div>\n",
              "\n",
              "\n",
              "<div id=\"df-215e4bdf-32b4-4476-8f0a-e7c0641d4e08\">\n",
              "  <button class=\"colab-df-quickchart\" onclick=\"quickchart('df-215e4bdf-32b4-4476-8f0a-e7c0641d4e08')\"\n",
              "            title=\"Suggest charts\"\n",
              "            style=\"display:none;\">\n",
              "\n",
              "<svg xmlns=\"http://www.w3.org/2000/svg\" height=\"24px\"viewBox=\"0 0 24 24\"\n",
              "     width=\"24px\">\n",
              "    <g>\n",
              "        <path d=\"M19 3H5c-1.1 0-2 .9-2 2v14c0 1.1.9 2 2 2h14c1.1 0 2-.9 2-2V5c0-1.1-.9-2-2-2zM9 17H7v-7h2v7zm4 0h-2V7h2v10zm4 0h-2v-4h2v4z\"/>\n",
              "    </g>\n",
              "</svg>\n",
              "  </button>\n",
              "\n",
              "<style>\n",
              "  .colab-df-quickchart {\n",
              "      --bg-color: #E8F0FE;\n",
              "      --fill-color: #1967D2;\n",
              "      --hover-bg-color: #E2EBFA;\n",
              "      --hover-fill-color: #174EA6;\n",
              "      --disabled-fill-color: #AAA;\n",
              "      --disabled-bg-color: #DDD;\n",
              "  }\n",
              "\n",
              "  [theme=dark] .colab-df-quickchart {\n",
              "      --bg-color: #3B4455;\n",
              "      --fill-color: #D2E3FC;\n",
              "      --hover-bg-color: #434B5C;\n",
              "      --hover-fill-color: #FFFFFF;\n",
              "      --disabled-bg-color: #3B4455;\n",
              "      --disabled-fill-color: #666;\n",
              "  }\n",
              "\n",
              "  .colab-df-quickchart {\n",
              "    background-color: var(--bg-color);\n",
              "    border: none;\n",
              "    border-radius: 50%;\n",
              "    cursor: pointer;\n",
              "    display: none;\n",
              "    fill: var(--fill-color);\n",
              "    height: 32px;\n",
              "    padding: 0;\n",
              "    width: 32px;\n",
              "  }\n",
              "\n",
              "  .colab-df-quickchart:hover {\n",
              "    background-color: var(--hover-bg-color);\n",
              "    box-shadow: 0 1px 2px rgba(60, 64, 67, 0.3), 0 1px 3px 1px rgba(60, 64, 67, 0.15);\n",
              "    fill: var(--button-hover-fill-color);\n",
              "  }\n",
              "\n",
              "  .colab-df-quickchart-complete:disabled,\n",
              "  .colab-df-quickchart-complete:disabled:hover {\n",
              "    background-color: var(--disabled-bg-color);\n",
              "    fill: var(--disabled-fill-color);\n",
              "    box-shadow: none;\n",
              "  }\n",
              "\n",
              "  .colab-df-spinner {\n",
              "    border: 2px solid var(--fill-color);\n",
              "    border-color: transparent;\n",
              "    border-bottom-color: var(--fill-color);\n",
              "    animation:\n",
              "      spin 1s steps(1) infinite;\n",
              "  }\n",
              "\n",
              "  @keyframes spin {\n",
              "    0% {\n",
              "      border-color: transparent;\n",
              "      border-bottom-color: var(--fill-color);\n",
              "      border-left-color: var(--fill-color);\n",
              "    }\n",
              "    20% {\n",
              "      border-color: transparent;\n",
              "      border-left-color: var(--fill-color);\n",
              "      border-top-color: var(--fill-color);\n",
              "    }\n",
              "    30% {\n",
              "      border-color: transparent;\n",
              "      border-left-color: var(--fill-color);\n",
              "      border-top-color: var(--fill-color);\n",
              "      border-right-color: var(--fill-color);\n",
              "    }\n",
              "    40% {\n",
              "      border-color: transparent;\n",
              "      border-right-color: var(--fill-color);\n",
              "      border-top-color: var(--fill-color);\n",
              "    }\n",
              "    60% {\n",
              "      border-color: transparent;\n",
              "      border-right-color: var(--fill-color);\n",
              "    }\n",
              "    80% {\n",
              "      border-color: transparent;\n",
              "      border-right-color: var(--fill-color);\n",
              "      border-bottom-color: var(--fill-color);\n",
              "    }\n",
              "    90% {\n",
              "      border-color: transparent;\n",
              "      border-bottom-color: var(--fill-color);\n",
              "    }\n",
              "  }\n",
              "</style>\n",
              "\n",
              "  <script>\n",
              "    async function quickchart(key) {\n",
              "      const quickchartButtonEl =\n",
              "        document.querySelector('#' + key + ' button');\n",
              "      quickchartButtonEl.disabled = true;  // To prevent multiple clicks.\n",
              "      quickchartButtonEl.classList.add('colab-df-spinner');\n",
              "      try {\n",
              "        const charts = await google.colab.kernel.invokeFunction(\n",
              "            'suggestCharts', [key], {});\n",
              "      } catch (error) {\n",
              "        console.error('Error during call to suggestCharts:', error);\n",
              "      }\n",
              "      quickchartButtonEl.classList.remove('colab-df-spinner');\n",
              "      quickchartButtonEl.classList.add('colab-df-quickchart-complete');\n",
              "    }\n",
              "    (() => {\n",
              "      let quickchartButtonEl =\n",
              "        document.querySelector('#df-215e4bdf-32b4-4476-8f0a-e7c0641d4e08 button');\n",
              "      quickchartButtonEl.style.display =\n",
              "        google.colab.kernel.accessAllowed ? 'block' : 'none';\n",
              "    })();\n",
              "  </script>\n",
              "</div>\n",
              "\n",
              "  <div id=\"id_3f139e20-71df-4268-ae70-40be06385810\">\n",
              "    <style>\n",
              "      .colab-df-generate {\n",
              "        background-color: #E8F0FE;\n",
              "        border: none;\n",
              "        border-radius: 50%;\n",
              "        cursor: pointer;\n",
              "        display: none;\n",
              "        fill: #1967D2;\n",
              "        height: 32px;\n",
              "        padding: 0 0 0 0;\n",
              "        width: 32px;\n",
              "      }\n",
              "\n",
              "      .colab-df-generate:hover {\n",
              "        background-color: #E2EBFA;\n",
              "        box-shadow: 0px 1px 2px rgba(60, 64, 67, 0.3), 0px 1px 3px 1px rgba(60, 64, 67, 0.15);\n",
              "        fill: #174EA6;\n",
              "      }\n",
              "\n",
              "      [theme=dark] .colab-df-generate {\n",
              "        background-color: #3B4455;\n",
              "        fill: #D2E3FC;\n",
              "      }\n",
              "\n",
              "      [theme=dark] .colab-df-generate:hover {\n",
              "        background-color: #434B5C;\n",
              "        box-shadow: 0px 1px 3px 1px rgba(0, 0, 0, 0.15);\n",
              "        filter: drop-shadow(0px 1px 2px rgba(0, 0, 0, 0.3));\n",
              "        fill: #FFFFFF;\n",
              "      }\n",
              "    </style>\n",
              "    <button class=\"colab-df-generate\" onclick=\"generateWithVariable('employees')\"\n",
              "            title=\"Generate code using this dataframe.\"\n",
              "            style=\"display:none;\">\n",
              "\n",
              "  <svg xmlns=\"http://www.w3.org/2000/svg\" height=\"24px\"viewBox=\"0 0 24 24\"\n",
              "       width=\"24px\">\n",
              "    <path d=\"M7,19H8.4L18.45,9,17,7.55,7,17.6ZM5,21V16.75L18.45,3.32a2,2,0,0,1,2.83,0l1.4,1.43a1.91,1.91,0,0,1,.58,1.4,1.91,1.91,0,0,1-.58,1.4L9.25,21ZM18.45,9,17,7.55Zm-12,3A5.31,5.31,0,0,0,4.9,8.1,5.31,5.31,0,0,0,1,6.5,5.31,5.31,0,0,0,4.9,4.9,5.31,5.31,0,0,0,6.5,1,5.31,5.31,0,0,0,8.1,4.9,5.31,5.31,0,0,0,12,6.5,5.46,5.46,0,0,0,6.5,12Z\"/>\n",
              "  </svg>\n",
              "    </button>\n",
              "    <script>\n",
              "      (() => {\n",
              "      const buttonEl =\n",
              "        document.querySelector('#id_3f139e20-71df-4268-ae70-40be06385810 button.colab-df-generate');\n",
              "      buttonEl.style.display =\n",
              "        google.colab.kernel.accessAllowed ? 'block' : 'none';\n",
              "\n",
              "      buttonEl.onclick = () => {\n",
              "        google.colab.notebook.generateWithVariable('employees');\n",
              "      }\n",
              "      })();\n",
              "    </script>\n",
              "  </div>\n",
              "\n",
              "    </div>\n",
              "  </div>\n"
            ],
            "application/vnd.google.colaboratory.intrinsic+json": {
              "type": "dataframe",
              "variable_name": "employees",
              "summary": "{\n  \"name\": \"employees\",\n  \"rows\": 3,\n  \"fields\": [\n    {\n      \"column\": \"name\",\n      \"properties\": {\n        \"dtype\": \"string\",\n        \"num_unique_values\": 3,\n        \"samples\": [\n          \"Michael\",\n          \"John\",\n          \"Liza\"\n        ],\n        \"semantic_type\": \"\",\n        \"description\": \"\"\n      }\n    },\n    {\n      \"column\": \"country\",\n      \"properties\": {\n        \"dtype\": \"string\",\n        \"num_unique_values\": 3,\n        \"samples\": [\n          \"Canada\",\n          \"USA\",\n          \"Australia\"\n        ],\n        \"semantic_type\": \"\",\n        \"description\": \"\"\n      }\n    }\n  ]\n}"
            }
          },
          "metadata": {},
          "execution_count": 108
        }
      ]
    },
    {
      "cell_type": "code",
      "source": [
        "import pandas as pd\n",
        "\n",
        "employees = pd.read_json(\"/content/record.json\", orient=\"records\")\n",
        "\n",
        "print(employees)"
      ],
      "metadata": {
        "colab": {
          "base_uri": "https://localhost:8080/"
        },
        "id": "s77MRVwnyhiH",
        "outputId": "bca72304-4a7d-47ca-983b-ddef8d56d903"
      },
      "execution_count": null,
      "outputs": [
        {
          "output_type": "stream",
          "name": "stdout",
          "text": [
            "      name    country\n",
            "0  Michael     Canada\n",
            "1     John        USA\n",
            "2     Liza  Australia\n"
          ]
        }
      ]
    },
    {
      "cell_type": "code",
      "source": [
        "import pandas as pd\n",
        "\n",
        "employees = pd.read_json(\"/content/index.json\", orient=\"index\")\n",
        "\n",
        "print(employees)"
      ],
      "metadata": {
        "colab": {
          "base_uri": "https://localhost:8080/"
        },
        "id": "sdSNMEP6yhgD",
        "outputId": "cd73bad9-c28f-4585-84ad-5724ed26475c"
      },
      "execution_count": null,
      "outputs": [
        {
          "output_type": "stream",
          "name": "stdout",
          "text": [
            "      name    country\n",
            "1  Michael     Canada\n",
            "2     John        USA\n",
            "3     Liza  Australia\n"
          ]
        }
      ]
    },
    {
      "cell_type": "code",
      "source": [
        "import pandas as pd\n",
        "\n",
        "employees = pd.read_json(\"/content/columns.json\", orient=\"columns\")\n",
        "\n",
        "print(employees)"
      ],
      "metadata": {
        "colab": {
          "base_uri": "https://localhost:8080/"
        },
        "id": "vxvMYYPRzu6o",
        "outputId": "a1afdcc0-d2ea-4f18-a9d1-e7af3cd6860f"
      },
      "execution_count": null,
      "outputs": [
        {
          "output_type": "stream",
          "name": "stdout",
          "text": [
            "      name    country\n",
            "1  Michael     Canada\n",
            "2     John        USA\n",
            "3     Liza  Australia\n"
          ]
        }
      ]
    },
    {
      "cell_type": "code",
      "source": [],
      "metadata": {
        "id": "Dzj7DaUo0weC"
      },
      "execution_count": null,
      "outputs": []
    },
    {
      "cell_type": "code",
      "source": [],
      "metadata": {
        "id": "7ddohCM60wbm"
      },
      "execution_count": null,
      "outputs": []
    },
    {
      "cell_type": "code",
      "source": [
        "import pandas as pd\n",
        "\n",
        "data = {\n",
        "    \"name\": {\"1\": \"Michael\", \"2\": \"John\", \"3\": \"Liza\"},\n",
        "    \"country\": {\"1\": \"Canada\", \"2\": \"USA\", \"3\": \"Australia\"}\n",
        "}\n",
        "\n",
        "employees = pd.DataFrame(data)\n",
        "\n",
        "employees.to_json(\"employees.json\", orient=\"split\")"
      ],
      "metadata": {
        "id": "4w-bG18z0wZV"
      },
      "execution_count": null,
      "outputs": []
    },
    {
      "cell_type": "code",
      "source": [],
      "metadata": {
        "id": "Zql-YXBX1xNf"
      },
      "execution_count": null,
      "outputs": []
    },
    {
      "cell_type": "code",
      "source": [],
      "metadata": {
        "id": "vfoDqL-W0Wk4"
      },
      "execution_count": null,
      "outputs": []
    },
    {
      "cell_type": "code",
      "source": [],
      "metadata": {
        "id": "XCiT7XUF1AhA"
      },
      "execution_count": null,
      "outputs": []
    },
    {
      "cell_type": "code",
      "source": [
        "import pandas as pd\n",
        "\n",
        "tmp = pd.read_html(\"https://statisticstimes.com/tech/top-computer-languages.php\")\n",
        "\n",
        "tmp[4]."
      ],
      "metadata": {
        "colab": {
          "base_uri": "https://localhost:8080/",
          "height": 948
        },
        "id": "EQdMa7FY1Aem",
        "outputId": "0c14d66e-6a0f-4c06-e6d5-06f8f8bfabfb"
      },
      "execution_count": null,
      "outputs": [
        {
          "output_type": "execute_result",
          "data": {
            "text/plain": [
              "    Apr 2024 Programming language    Share\n",
              "0          1               Python  29.41 %\n",
              "1          2                 Java  23.97 %\n",
              "2          3           JavaScript  12.96 %\n",
              "3          4                C/C++   6.85 %\n",
              "4          5                   C#   6.83 %\n",
              "5          6                  PHP    4.8 %\n",
              "6          7           TypeScript    2.9 %\n",
              "7          8                    R   2.34 %\n",
              "8          9               Kotlin   1.71 %\n",
              "9         10                   Go   1.58 %\n",
              "10        11                Swift   0.96 %\n",
              "11        12                 Dart   0.84 %\n",
              "12        13                 Abap    0.7 %\n",
              "13        14                  VBA   0.67 %\n",
              "14        15               Matlab   0.64 %\n",
              "15        16          Objective-C   0.52 %\n",
              "16        17           Powershell   0.46 %\n",
              "17        18                 Ruby   0.37 %\n",
              "18        19                 Rust   0.33 %\n",
              "19        20                Scala   0.33 %\n",
              "20        21         Visual Basic   0.21 %\n",
              "21        22                  Ada   0.16 %\n",
              "22        23                Cobol    0.1 %\n",
              "23        24                 Perl   0.08 %\n",
              "24        25               Groovy   0.08 %\n",
              "25        26        Delphi/Pascal   0.07 %\n",
              "26        27              Haskell   0.06 %\n",
              "27        28                Julia   0.05 %\n",
              "28        29                  Lua   0.01 %"
            ],
            "text/html": [
              "\n",
              "  <div id=\"df-390c8104-cbea-488c-af91-dc2e15a55671\" class=\"colab-df-container\">\n",
              "    <div>\n",
              "<style scoped>\n",
              "    .dataframe tbody tr th:only-of-type {\n",
              "        vertical-align: middle;\n",
              "    }\n",
              "\n",
              "    .dataframe tbody tr th {\n",
              "        vertical-align: top;\n",
              "    }\n",
              "\n",
              "    .dataframe thead th {\n",
              "        text-align: right;\n",
              "    }\n",
              "</style>\n",
              "<table border=\"1\" class=\"dataframe\">\n",
              "  <thead>\n",
              "    <tr style=\"text-align: right;\">\n",
              "      <th></th>\n",
              "      <th>Apr 2024</th>\n",
              "      <th>Programming language</th>\n",
              "      <th>Share</th>\n",
              "    </tr>\n",
              "  </thead>\n",
              "  <tbody>\n",
              "    <tr>\n",
              "      <th>0</th>\n",
              "      <td>1</td>\n",
              "      <td>Python</td>\n",
              "      <td>29.41 %</td>\n",
              "    </tr>\n",
              "    <tr>\n",
              "      <th>1</th>\n",
              "      <td>2</td>\n",
              "      <td>Java</td>\n",
              "      <td>23.97 %</td>\n",
              "    </tr>\n",
              "    <tr>\n",
              "      <th>2</th>\n",
              "      <td>3</td>\n",
              "      <td>JavaScript</td>\n",
              "      <td>12.96 %</td>\n",
              "    </tr>\n",
              "    <tr>\n",
              "      <th>3</th>\n",
              "      <td>4</td>\n",
              "      <td>C/C++</td>\n",
              "      <td>6.85 %</td>\n",
              "    </tr>\n",
              "    <tr>\n",
              "      <th>4</th>\n",
              "      <td>5</td>\n",
              "      <td>C#</td>\n",
              "      <td>6.83 %</td>\n",
              "    </tr>\n",
              "    <tr>\n",
              "      <th>5</th>\n",
              "      <td>6</td>\n",
              "      <td>PHP</td>\n",
              "      <td>4.8 %</td>\n",
              "    </tr>\n",
              "    <tr>\n",
              "      <th>6</th>\n",
              "      <td>7</td>\n",
              "      <td>TypeScript</td>\n",
              "      <td>2.9 %</td>\n",
              "    </tr>\n",
              "    <tr>\n",
              "      <th>7</th>\n",
              "      <td>8</td>\n",
              "      <td>R</td>\n",
              "      <td>2.34 %</td>\n",
              "    </tr>\n",
              "    <tr>\n",
              "      <th>8</th>\n",
              "      <td>9</td>\n",
              "      <td>Kotlin</td>\n",
              "      <td>1.71 %</td>\n",
              "    </tr>\n",
              "    <tr>\n",
              "      <th>9</th>\n",
              "      <td>10</td>\n",
              "      <td>Go</td>\n",
              "      <td>1.58 %</td>\n",
              "    </tr>\n",
              "    <tr>\n",
              "      <th>10</th>\n",
              "      <td>11</td>\n",
              "      <td>Swift</td>\n",
              "      <td>0.96 %</td>\n",
              "    </tr>\n",
              "    <tr>\n",
              "      <th>11</th>\n",
              "      <td>12</td>\n",
              "      <td>Dart</td>\n",
              "      <td>0.84 %</td>\n",
              "    </tr>\n",
              "    <tr>\n",
              "      <th>12</th>\n",
              "      <td>13</td>\n",
              "      <td>Abap</td>\n",
              "      <td>0.7 %</td>\n",
              "    </tr>\n",
              "    <tr>\n",
              "      <th>13</th>\n",
              "      <td>14</td>\n",
              "      <td>VBA</td>\n",
              "      <td>0.67 %</td>\n",
              "    </tr>\n",
              "    <tr>\n",
              "      <th>14</th>\n",
              "      <td>15</td>\n",
              "      <td>Matlab</td>\n",
              "      <td>0.64 %</td>\n",
              "    </tr>\n",
              "    <tr>\n",
              "      <th>15</th>\n",
              "      <td>16</td>\n",
              "      <td>Objective-C</td>\n",
              "      <td>0.52 %</td>\n",
              "    </tr>\n",
              "    <tr>\n",
              "      <th>16</th>\n",
              "      <td>17</td>\n",
              "      <td>Powershell</td>\n",
              "      <td>0.46 %</td>\n",
              "    </tr>\n",
              "    <tr>\n",
              "      <th>17</th>\n",
              "      <td>18</td>\n",
              "      <td>Ruby</td>\n",
              "      <td>0.37 %</td>\n",
              "    </tr>\n",
              "    <tr>\n",
              "      <th>18</th>\n",
              "      <td>19</td>\n",
              "      <td>Rust</td>\n",
              "      <td>0.33 %</td>\n",
              "    </tr>\n",
              "    <tr>\n",
              "      <th>19</th>\n",
              "      <td>20</td>\n",
              "      <td>Scala</td>\n",
              "      <td>0.33 %</td>\n",
              "    </tr>\n",
              "    <tr>\n",
              "      <th>20</th>\n",
              "      <td>21</td>\n",
              "      <td>Visual Basic</td>\n",
              "      <td>0.21 %</td>\n",
              "    </tr>\n",
              "    <tr>\n",
              "      <th>21</th>\n",
              "      <td>22</td>\n",
              "      <td>Ada</td>\n",
              "      <td>0.16 %</td>\n",
              "    </tr>\n",
              "    <tr>\n",
              "      <th>22</th>\n",
              "      <td>23</td>\n",
              "      <td>Cobol</td>\n",
              "      <td>0.1 %</td>\n",
              "    </tr>\n",
              "    <tr>\n",
              "      <th>23</th>\n",
              "      <td>24</td>\n",
              "      <td>Perl</td>\n",
              "      <td>0.08 %</td>\n",
              "    </tr>\n",
              "    <tr>\n",
              "      <th>24</th>\n",
              "      <td>25</td>\n",
              "      <td>Groovy</td>\n",
              "      <td>0.08 %</td>\n",
              "    </tr>\n",
              "    <tr>\n",
              "      <th>25</th>\n",
              "      <td>26</td>\n",
              "      <td>Delphi/Pascal</td>\n",
              "      <td>0.07 %</td>\n",
              "    </tr>\n",
              "    <tr>\n",
              "      <th>26</th>\n",
              "      <td>27</td>\n",
              "      <td>Haskell</td>\n",
              "      <td>0.06 %</td>\n",
              "    </tr>\n",
              "    <tr>\n",
              "      <th>27</th>\n",
              "      <td>28</td>\n",
              "      <td>Julia</td>\n",
              "      <td>0.05 %</td>\n",
              "    </tr>\n",
              "    <tr>\n",
              "      <th>28</th>\n",
              "      <td>29</td>\n",
              "      <td>Lua</td>\n",
              "      <td>0.01 %</td>\n",
              "    </tr>\n",
              "  </tbody>\n",
              "</table>\n",
              "</div>\n",
              "    <div class=\"colab-df-buttons\">\n",
              "\n",
              "  <div class=\"colab-df-container\">\n",
              "    <button class=\"colab-df-convert\" onclick=\"convertToInteractive('df-390c8104-cbea-488c-af91-dc2e15a55671')\"\n",
              "            title=\"Convert this dataframe to an interactive table.\"\n",
              "            style=\"display:none;\">\n",
              "\n",
              "  <svg xmlns=\"http://www.w3.org/2000/svg\" height=\"24px\" viewBox=\"0 -960 960 960\">\n",
              "    <path d=\"M120-120v-720h720v720H120Zm60-500h600v-160H180v160Zm220 220h160v-160H400v160Zm0 220h160v-160H400v160ZM180-400h160v-160H180v160Zm440 0h160v-160H620v160ZM180-180h160v-160H180v160Zm440 0h160v-160H620v160Z\"/>\n",
              "  </svg>\n",
              "    </button>\n",
              "\n",
              "  <style>\n",
              "    .colab-df-container {\n",
              "      display:flex;\n",
              "      gap: 12px;\n",
              "    }\n",
              "\n",
              "    .colab-df-convert {\n",
              "      background-color: #E8F0FE;\n",
              "      border: none;\n",
              "      border-radius: 50%;\n",
              "      cursor: pointer;\n",
              "      display: none;\n",
              "      fill: #1967D2;\n",
              "      height: 32px;\n",
              "      padding: 0 0 0 0;\n",
              "      width: 32px;\n",
              "    }\n",
              "\n",
              "    .colab-df-convert:hover {\n",
              "      background-color: #E2EBFA;\n",
              "      box-shadow: 0px 1px 2px rgba(60, 64, 67, 0.3), 0px 1px 3px 1px rgba(60, 64, 67, 0.15);\n",
              "      fill: #174EA6;\n",
              "    }\n",
              "\n",
              "    .colab-df-buttons div {\n",
              "      margin-bottom: 4px;\n",
              "    }\n",
              "\n",
              "    [theme=dark] .colab-df-convert {\n",
              "      background-color: #3B4455;\n",
              "      fill: #D2E3FC;\n",
              "    }\n",
              "\n",
              "    [theme=dark] .colab-df-convert:hover {\n",
              "      background-color: #434B5C;\n",
              "      box-shadow: 0px 1px 3px 1px rgba(0, 0, 0, 0.15);\n",
              "      filter: drop-shadow(0px 1px 2px rgba(0, 0, 0, 0.3));\n",
              "      fill: #FFFFFF;\n",
              "    }\n",
              "  </style>\n",
              "\n",
              "    <script>\n",
              "      const buttonEl =\n",
              "        document.querySelector('#df-390c8104-cbea-488c-af91-dc2e15a55671 button.colab-df-convert');\n",
              "      buttonEl.style.display =\n",
              "        google.colab.kernel.accessAllowed ? 'block' : 'none';\n",
              "\n",
              "      async function convertToInteractive(key) {\n",
              "        const element = document.querySelector('#df-390c8104-cbea-488c-af91-dc2e15a55671');\n",
              "        const dataTable =\n",
              "          await google.colab.kernel.invokeFunction('convertToInteractive',\n",
              "                                                    [key], {});\n",
              "        if (!dataTable) return;\n",
              "\n",
              "        const docLinkHtml = 'Like what you see? Visit the ' +\n",
              "          '<a target=\"_blank\" href=https://colab.research.google.com/notebooks/data_table.ipynb>data table notebook</a>'\n",
              "          + ' to learn more about interactive tables.';\n",
              "        element.innerHTML = '';\n",
              "        dataTable['output_type'] = 'display_data';\n",
              "        await google.colab.output.renderOutput(dataTable, element);\n",
              "        const docLink = document.createElement('div');\n",
              "        docLink.innerHTML = docLinkHtml;\n",
              "        element.appendChild(docLink);\n",
              "      }\n",
              "    </script>\n",
              "  </div>\n",
              "\n",
              "\n",
              "<div id=\"df-c243bb32-00cf-4f20-a86c-d8656f3bcaa7\">\n",
              "  <button class=\"colab-df-quickchart\" onclick=\"quickchart('df-c243bb32-00cf-4f20-a86c-d8656f3bcaa7')\"\n",
              "            title=\"Suggest charts\"\n",
              "            style=\"display:none;\">\n",
              "\n",
              "<svg xmlns=\"http://www.w3.org/2000/svg\" height=\"24px\"viewBox=\"0 0 24 24\"\n",
              "     width=\"24px\">\n",
              "    <g>\n",
              "        <path d=\"M19 3H5c-1.1 0-2 .9-2 2v14c0 1.1.9 2 2 2h14c1.1 0 2-.9 2-2V5c0-1.1-.9-2-2-2zM9 17H7v-7h2v7zm4 0h-2V7h2v10zm4 0h-2v-4h2v4z\"/>\n",
              "    </g>\n",
              "</svg>\n",
              "  </button>\n",
              "\n",
              "<style>\n",
              "  .colab-df-quickchart {\n",
              "      --bg-color: #E8F0FE;\n",
              "      --fill-color: #1967D2;\n",
              "      --hover-bg-color: #E2EBFA;\n",
              "      --hover-fill-color: #174EA6;\n",
              "      --disabled-fill-color: #AAA;\n",
              "      --disabled-bg-color: #DDD;\n",
              "  }\n",
              "\n",
              "  [theme=dark] .colab-df-quickchart {\n",
              "      --bg-color: #3B4455;\n",
              "      --fill-color: #D2E3FC;\n",
              "      --hover-bg-color: #434B5C;\n",
              "      --hover-fill-color: #FFFFFF;\n",
              "      --disabled-bg-color: #3B4455;\n",
              "      --disabled-fill-color: #666;\n",
              "  }\n",
              "\n",
              "  .colab-df-quickchart {\n",
              "    background-color: var(--bg-color);\n",
              "    border: none;\n",
              "    border-radius: 50%;\n",
              "    cursor: pointer;\n",
              "    display: none;\n",
              "    fill: var(--fill-color);\n",
              "    height: 32px;\n",
              "    padding: 0;\n",
              "    width: 32px;\n",
              "  }\n",
              "\n",
              "  .colab-df-quickchart:hover {\n",
              "    background-color: var(--hover-bg-color);\n",
              "    box-shadow: 0 1px 2px rgba(60, 64, 67, 0.3), 0 1px 3px 1px rgba(60, 64, 67, 0.15);\n",
              "    fill: var(--button-hover-fill-color);\n",
              "  }\n",
              "\n",
              "  .colab-df-quickchart-complete:disabled,\n",
              "  .colab-df-quickchart-complete:disabled:hover {\n",
              "    background-color: var(--disabled-bg-color);\n",
              "    fill: var(--disabled-fill-color);\n",
              "    box-shadow: none;\n",
              "  }\n",
              "\n",
              "  .colab-df-spinner {\n",
              "    border: 2px solid var(--fill-color);\n",
              "    border-color: transparent;\n",
              "    border-bottom-color: var(--fill-color);\n",
              "    animation:\n",
              "      spin 1s steps(1) infinite;\n",
              "  }\n",
              "\n",
              "  @keyframes spin {\n",
              "    0% {\n",
              "      border-color: transparent;\n",
              "      border-bottom-color: var(--fill-color);\n",
              "      border-left-color: var(--fill-color);\n",
              "    }\n",
              "    20% {\n",
              "      border-color: transparent;\n",
              "      border-left-color: var(--fill-color);\n",
              "      border-top-color: var(--fill-color);\n",
              "    }\n",
              "    30% {\n",
              "      border-color: transparent;\n",
              "      border-left-color: var(--fill-color);\n",
              "      border-top-color: var(--fill-color);\n",
              "      border-right-color: var(--fill-color);\n",
              "    }\n",
              "    40% {\n",
              "      border-color: transparent;\n",
              "      border-right-color: var(--fill-color);\n",
              "      border-top-color: var(--fill-color);\n",
              "    }\n",
              "    60% {\n",
              "      border-color: transparent;\n",
              "      border-right-color: var(--fill-color);\n",
              "    }\n",
              "    80% {\n",
              "      border-color: transparent;\n",
              "      border-right-color: var(--fill-color);\n",
              "      border-bottom-color: var(--fill-color);\n",
              "    }\n",
              "    90% {\n",
              "      border-color: transparent;\n",
              "      border-bottom-color: var(--fill-color);\n",
              "    }\n",
              "  }\n",
              "</style>\n",
              "\n",
              "  <script>\n",
              "    async function quickchart(key) {\n",
              "      const quickchartButtonEl =\n",
              "        document.querySelector('#' + key + ' button');\n",
              "      quickchartButtonEl.disabled = true;  // To prevent multiple clicks.\n",
              "      quickchartButtonEl.classList.add('colab-df-spinner');\n",
              "      try {\n",
              "        const charts = await google.colab.kernel.invokeFunction(\n",
              "            'suggestCharts', [key], {});\n",
              "      } catch (error) {\n",
              "        console.error('Error during call to suggestCharts:', error);\n",
              "      }\n",
              "      quickchartButtonEl.classList.remove('colab-df-spinner');\n",
              "      quickchartButtonEl.classList.add('colab-df-quickchart-complete');\n",
              "    }\n",
              "    (() => {\n",
              "      let quickchartButtonEl =\n",
              "        document.querySelector('#df-c243bb32-00cf-4f20-a86c-d8656f3bcaa7 button');\n",
              "      quickchartButtonEl.style.display =\n",
              "        google.colab.kernel.accessAllowed ? 'block' : 'none';\n",
              "    })();\n",
              "  </script>\n",
              "</div>\n",
              "\n",
              "    </div>\n",
              "  </div>\n"
            ],
            "application/vnd.google.colaboratory.intrinsic+json": {
              "type": "dataframe",
              "summary": "{\n  \"name\": \"tmp[4]\",\n  \"rows\": 29,\n  \"fields\": [\n    {\n      \"column\": \"Apr 2024\",\n      \"properties\": {\n        \"dtype\": \"number\",\n        \"std\": 8,\n        \"min\": 1,\n        \"max\": 29,\n        \"num_unique_values\": 29,\n        \"samples\": [\n          28,\n          17,\n          13\n        ],\n        \"semantic_type\": \"\",\n        \"description\": \"\"\n      }\n    },\n    {\n      \"column\": \"Programming language\",\n      \"properties\": {\n        \"dtype\": \"string\",\n        \"num_unique_values\": 29,\n        \"samples\": [\n          \"Julia\",\n          \"Powershell\",\n          \"Abap\"\n        ],\n        \"semantic_type\": \"\",\n        \"description\": \"\"\n      }\n    },\n    {\n      \"column\": \"Share\",\n      \"properties\": {\n        \"dtype\": \"string\",\n        \"num_unique_values\": 27,\n        \"samples\": [\n          \"1.71 %\",\n          \"0.67 %\",\n          \"1.58 %\"\n        ],\n        \"semantic_type\": \"\",\n        \"description\": \"\"\n      }\n    }\n  ]\n}"
            }
          },
          "metadata": {},
          "execution_count": 115
        }
      ]
    },
    {
      "cell_type": "code",
      "source": [],
      "metadata": {
        "id": "I2OToTY513Lh"
      },
      "execution_count": null,
      "outputs": []
    },
    {
      "cell_type": "code",
      "source": [],
      "metadata": {
        "id": "Oo7WXbrb13JK"
      },
      "execution_count": null,
      "outputs": []
    },
    {
      "cell_type": "code",
      "source": [],
      "metadata": {
        "id": "3w5-xY4U2EZM"
      },
      "execution_count": null,
      "outputs": []
    },
    {
      "cell_type": "code",
      "source": [],
      "metadata": {
        "id": "GVee083D2EWB"
      },
      "execution_count": null,
      "outputs": []
    },
    {
      "cell_type": "code",
      "source": [
        "import pandas as pd\n",
        "\n",
        "data = pd.Series([1, 2, 3])\n",
        "print(data)\n",
        "print()\n",
        "data[3] = 4\n",
        "print(data)"
      ],
      "metadata": {
        "colab": {
          "base_uri": "https://localhost:8080/"
        },
        "id": "PZYaZoHa2ETk",
        "outputId": "8e635be6-01ac-4c36-ed69-ce5c0725d1fd"
      },
      "execution_count": null,
      "outputs": [
        {
          "output_type": "stream",
          "name": "stdout",
          "text": [
            "0    1\n",
            "1    2\n",
            "2    3\n",
            "dtype: int64\n",
            "\n",
            "0    1\n",
            "1    2\n",
            "2    3\n",
            "3    4\n",
            "dtype: int64\n"
          ]
        }
      ]
    },
    {
      "cell_type": "code",
      "source": [],
      "metadata": {
        "id": "08ay_f2F2ERE"
      },
      "execution_count": null,
      "outputs": []
    },
    {
      "cell_type": "code",
      "source": [
        "import pandas as pd\n",
        "\n",
        "data = {\n",
        "    \"name\": {\"1\": \"Michael\", \"2\": \"John\", \"3\": \"Liza\"},\n",
        "    \"country\": {\"1\": \"Canada\", \"2\": \"USA\", \"3\": \"Australia\"}\n",
        "}\n",
        "\n",
        "employees = pd.DataFrame(data)\n",
        "print(employees)\n",
        "print()\n",
        "employees[\"age\"] = [25, 32, 19]\n",
        "print(employees)"
      ],
      "metadata": {
        "colab": {
          "base_uri": "https://localhost:8080/"
        },
        "id": "oMLUeem12P0w",
        "outputId": "8ee93737-2035-4c2e-ff80-0154fcc4a358"
      },
      "execution_count": null,
      "outputs": [
        {
          "output_type": "stream",
          "name": "stdout",
          "text": [
            "      name    country\n",
            "1  Michael     Canada\n",
            "2     John        USA\n",
            "3     Liza  Australia\n",
            "\n",
            "      name    country  age\n",
            "1  Michael     Canada   25\n",
            "2     John        USA   32\n",
            "3     Liza  Australia   19\n"
          ]
        }
      ]
    },
    {
      "cell_type": "code",
      "source": [],
      "metadata": {
        "id": "58Xibyo013Gy"
      },
      "execution_count": null,
      "outputs": []
    },
    {
      "cell_type": "code",
      "source": [
        "!pip install pandas==1.5.3"
      ],
      "metadata": {
        "colab": {
          "base_uri": "https://localhost:8080/",
          "height": 405
        },
        "id": "RgoLBlv6264T",
        "outputId": "9b12f16b-65cc-47ba-d460-d93013ab09fc"
      },
      "execution_count": null,
      "outputs": [
        {
          "output_type": "stream",
          "name": "stdout",
          "text": [
            "Collecting pandas==1.5.3\n",
            "  Downloading pandas-1.5.3-cp310-cp310-manylinux_2_17_x86_64.manylinux2014_x86_64.whl (12.1 MB)\n",
            "\u001b[2K     \u001b[90m━━━━━━━━━━━━━━━━━━━━━━━━━━━━━━━━━━━━━━━━\u001b[0m \u001b[32m12.1/12.1 MB\u001b[0m \u001b[31m49.2 MB/s\u001b[0m eta \u001b[36m0:00:00\u001b[0m\n",
            "\u001b[?25hRequirement already satisfied: python-dateutil>=2.8.1 in /usr/local/lib/python3.10/dist-packages (from pandas==1.5.3) (2.8.2)\n",
            "Requirement already satisfied: pytz>=2020.1 in /usr/local/lib/python3.10/dist-packages (from pandas==1.5.3) (2023.4)\n",
            "Requirement already satisfied: numpy>=1.21.0 in /usr/local/lib/python3.10/dist-packages (from pandas==1.5.3) (1.25.2)\n",
            "Requirement already satisfied: six>=1.5 in /usr/local/lib/python3.10/dist-packages (from python-dateutil>=2.8.1->pandas==1.5.3) (1.16.0)\n",
            "Installing collected packages: pandas\n",
            "  Attempting uninstall: pandas\n",
            "    Found existing installation: pandas 2.0.3\n",
            "    Uninstalling pandas-2.0.3:\n",
            "      Successfully uninstalled pandas-2.0.3\n",
            "\u001b[31mERROR: pip's dependency resolver does not currently take into account all the packages that are installed. This behaviour is the source of the following dependency conflicts.\n",
            "cudf-cu12 24.4.1 requires pandas<2.2.2dev0,>=2.0, but you have pandas 1.5.3 which is incompatible.\n",
            "google-colab 1.0.0 requires pandas==2.0.3, but you have pandas 1.5.3 which is incompatible.\u001b[0m\u001b[31m\n",
            "\u001b[0mSuccessfully installed pandas-1.5.3\n"
          ]
        },
        {
          "output_type": "display_data",
          "data": {
            "application/vnd.colab-display-data+json": {
              "pip_warning": {
                "packages": [
                  "pandas"
                ]
              },
              "id": "0fb8478d3f4c44bab1b53992abb89e88"
            }
          },
          "metadata": {}
        }
      ]
    },
    {
      "cell_type": "code",
      "source": [
        "import pandas as pd\n",
        "\n",
        "data = {\n",
        "    \"name\": {\"1\": \"Michael\", \"2\": \"John\", \"3\": \"Liza\"},\n",
        "    \"country\": {\"1\": \"Canada\", \"2\": \"USA\", \"3\": \"Australia\"},\n",
        "    \"age\": {\"1\": 25, \"2\": 32, \"3\": 19}\n",
        "}\n",
        "\n",
        "employees = pd.DataFrame(data)\n",
        "print(employees)\n",
        "print()\n",
        "\n",
        "new_employee = pd.Series([\"Jhon\", \"Denmark\", 23], [\"name\", \"country\", \"age\"])\n",
        "\n",
        "employees = employees.append(new_employee, ignore_index=True)\n",
        "print(employees)"
      ],
      "metadata": {
        "colab": {
          "base_uri": "https://localhost:8080/"
        },
        "id": "cxnDHFnA2oDa",
        "outputId": "9b18e50e-8ce4-42f9-ff9f-6e088e38a76a"
      },
      "execution_count": null,
      "outputs": [
        {
          "output_type": "stream",
          "name": "stdout",
          "text": [
            "      name    country  age\n",
            "1  Michael     Canada   25\n",
            "2     John        USA   32\n",
            "3     Liza  Australia   19\n",
            "\n",
            "      name    country  age\n",
            "0  Michael     Canada   25\n",
            "1     John        USA   32\n",
            "2     Liza  Australia   19\n",
            "3     Jhon    Denmark   23\n"
          ]
        },
        {
          "output_type": "stream",
          "name": "stderr",
          "text": [
            "<ipython-input-3-64ea9e0832f0>:15: FutureWarning: The frame.append method is deprecated and will be removed from pandas in a future version. Use pandas.concat instead.\n",
            "  employees = employees.append(new_employee, ignore_index=True)\n"
          ]
        }
      ]
    },
    {
      "cell_type": "code",
      "source": [],
      "metadata": {
        "id": "nU_VZYsf3pju"
      },
      "execution_count": null,
      "outputs": []
    },
    {
      "cell_type": "code",
      "source": [
        "numbers = pd.Series([1, 2, 3, 4, 5])\n",
        "numbers.drop([0,1], inplace=True)\n",
        "print(numbers)"
      ],
      "metadata": {
        "colab": {
          "base_uri": "https://localhost:8080/"
        },
        "id": "EBSpEma33pgu",
        "outputId": "b96bf1f5-18fd-450e-db11-b9f54c60f823"
      },
      "execution_count": null,
      "outputs": [
        {
          "output_type": "stream",
          "name": "stdout",
          "text": [
            "2    3\n",
            "3    4\n",
            "4    5\n",
            "dtype: int64\n"
          ]
        }
      ]
    },
    {
      "cell_type": "code",
      "source": [
        "import pandas as pd\n",
        "\n",
        "data = {\n",
        "    \"name\": {\"1\": \"Michael\", 1: \"John\", \"3\": \"Liza\"},\n",
        "    \"country\": {\"1\": \"Canada\", 1: \"USA\", \"3\": \"Australia\"},\n",
        "    \"age\": {\"1\": 25, \"test\": 32, \"3\": 19}\n",
        "}\n",
        "\n",
        "employees = pd.DataFrame(data)\n",
        "\n",
        "employees = employees.drop([1])\n",
        "print(employees)"
      ],
      "metadata": {
        "colab": {
          "base_uri": "https://localhost:8080/"
        },
        "id": "jKelo-n63l4y",
        "outputId": "6f07fe51-5da5-411d-f238-5318bf7a12eb"
      },
      "execution_count": null,
      "outputs": [
        {
          "output_type": "stream",
          "name": "stdout",
          "text": [
            "         name    country   age\n",
            "1     Michael     Canada  25.0\n",
            "3        Liza  Australia  19.0\n",
            "test      NaN        NaN  32.0\n"
          ]
        }
      ]
    },
    {
      "cell_type": "code",
      "source": [
        "import pandas as pd\n",
        "\n",
        "data = {\n",
        "    \"name\": {\"1\": \"Michael\", \"age\": \"John\", \"3\": \"Liza\"},\n",
        "    \"country\": {\"1\": \"Canada\", \"age\": \"USA\", \"3\": \"Australia\"},\n",
        "    \"age\": {\"1\": 25, \"age\": 32, \"3\": 19}\n",
        "}\n",
        "\n",
        "employees = pd.DataFrame(data)\n",
        "\n",
        "employees = employees.drop([\"age\"], axis=0)\n",
        "print(employees)"
      ],
      "metadata": {
        "colab": {
          "base_uri": "https://localhost:8080/"
        },
        "id": "Q4U2uKkw2n_z",
        "outputId": "bda89bd7-4c8f-433a-fdd0-aa6d73586828"
      },
      "execution_count": null,
      "outputs": [
        {
          "output_type": "stream",
          "name": "stdout",
          "text": [
            "      name    country  age\n",
            "1  Michael     Canada   25\n",
            "3     Liza  Australia   19\n"
          ]
        }
      ]
    },
    {
      "cell_type": "code",
      "source": [],
      "metadata": {
        "id": "hDLWSLIv4egJ"
      },
      "execution_count": null,
      "outputs": []
    },
    {
      "cell_type": "code",
      "source": [
        "import pandas as pd\n",
        "\n",
        "data1 = {\n",
        "    \"name\": {\"1\": \"Michael\", \"2\": \"John\"},\n",
        "    \"country\": {\"1\": \"Canada\", \"2\": \"USA\"},\n",
        "    \"age\": {\"1\": 25, \"2\": 32}\n",
        "}\n",
        "\n",
        "employees1 = pd.DataFrame(data1)\n",
        "\n",
        "data2 = {\n",
        "    \"name\": {\"2\": \"Liza\", \"4\": \"Jhon\"},\n",
        "    \"country\": {\"2\": \"Australia\", \"4\": \"Denmark\"},\n",
        "    \"age\": {\"2\": 19, \"4\": 23}\n",
        "}\n",
        "\n",
        "employees2 = pd.DataFrame(data2)\n",
        "\n",
        "employees = pd.concat([employees1, employees2])\n",
        "\n",
        "print(employees)"
      ],
      "metadata": {
        "colab": {
          "base_uri": "https://localhost:8080/"
        },
        "id": "3oEDT5Kt4ecA",
        "outputId": "84a89b9a-d53e-4e09-c7a0-47d1cd21569e"
      },
      "execution_count": null,
      "outputs": [
        {
          "output_type": "stream",
          "name": "stdout",
          "text": [
            "      name    country  age\n",
            "1  Michael     Canada   25\n",
            "2     John        USA   32\n",
            "2     Liza  Australia   19\n",
            "4     Jhon    Denmark   23\n"
          ]
        }
      ]
    },
    {
      "cell_type": "code",
      "source": [
        "employees.reset_index(drop=True, inplace=True)\n",
        "print(employees)"
      ],
      "metadata": {
        "colab": {
          "base_uri": "https://localhost:8080/"
        },
        "id": "cS2E-Aup6RSk",
        "outputId": "a6df6a65-b23b-42ea-f557-fa4413becbfa"
      },
      "execution_count": null,
      "outputs": [
        {
          "output_type": "stream",
          "name": "stdout",
          "text": [
            "      name    country  age\n",
            "0  Michael     Canada   25\n",
            "1     John        USA   32\n",
            "2     Liza  Australia   19\n",
            "3     Jhon    Denmark   23\n"
          ]
        }
      ]
    },
    {
      "cell_type": "code",
      "source": [],
      "metadata": {
        "id": "2WxWCpeT5MdI"
      },
      "execution_count": null,
      "outputs": []
    },
    {
      "cell_type": "code",
      "source": [
        "import pandas as pd\n",
        "\n",
        "data1 = {\n",
        "    \"name\": {\"1\": \"Michael\", \"2\": \"John\", \"3\": \"Liza\", \"4\": \"Jhon\"},\n",
        "    \"country\": {\"1\": \"Canada\", \"2\": \"USA\", \"3\": \"Australia\", \"4\": \"Denmark\"}\n",
        "}\n",
        "\n",
        "employees1 = pd.DataFrame(data1)\n",
        "\n",
        "data2 = {\n",
        "    \"age\": {\"1\": 25, \"2\": 32, \"3\": 19, \"4\": 23}\n",
        "}\n",
        "\n",
        "employees2 = pd.DataFrame(data2)\n",
        "\n",
        "employees = pd.concat([employees1, employees2], axis=1)\n",
        "\n",
        "print(employees)"
      ],
      "metadata": {
        "colab": {
          "base_uri": "https://localhost:8080/"
        },
        "id": "gZbRI3ow4eZH",
        "outputId": "c0e6cc71-045f-4756-ff99-b1aa35dfb83a"
      },
      "execution_count": null,
      "outputs": [
        {
          "output_type": "stream",
          "name": "stdout",
          "text": [
            "      name    country  age\n",
            "1  Michael     Canada   25\n",
            "2     John        USA   32\n",
            "3     Liza  Australia   19\n",
            "4     Jhon    Denmark   23\n"
          ]
        }
      ]
    },
    {
      "cell_type": "code",
      "source": [],
      "metadata": {
        "id": "QEvw8kNu2n9S"
      },
      "execution_count": null,
      "outputs": []
    },
    {
      "cell_type": "code",
      "source": [],
      "metadata": {
        "id": "O86NWGVa5dEd"
      },
      "execution_count": null,
      "outputs": []
    },
    {
      "cell_type": "code",
      "source": [],
      "metadata": {
        "id": "vJmRmUm35dB6"
      },
      "execution_count": null,
      "outputs": []
    },
    {
      "cell_type": "code",
      "source": [
        "import numpy as np\n",
        "import pandas as pd\n",
        "\n",
        "data = pd.DataFrame([[np.nan, 2, 3], [4, np.nan, 6], [7, np.nan, np.nan]])\n",
        "\n",
        "data"
      ],
      "metadata": {
        "colab": {
          "base_uri": "https://localhost:8080/",
          "height": 142
        },
        "id": "q3I7eZZQ5c-a",
        "outputId": "2106b2bb-f136-408d-ed42-b2e8fbdda282"
      },
      "execution_count": null,
      "outputs": [
        {
          "output_type": "execute_result",
          "data": {
            "text/plain": [
              "     0    1    2\n",
              "0  NaN  2.0  3.0\n",
              "1  4.0  NaN  6.0\n",
              "2  7.0  NaN  NaN"
            ],
            "text/html": [
              "\n",
              "  <div id=\"df-0b680ad6-6944-4e74-820e-c41e1e382989\" class=\"colab-df-container\">\n",
              "    <div>\n",
              "<style scoped>\n",
              "    .dataframe tbody tr th:only-of-type {\n",
              "        vertical-align: middle;\n",
              "    }\n",
              "\n",
              "    .dataframe tbody tr th {\n",
              "        vertical-align: top;\n",
              "    }\n",
              "\n",
              "    .dataframe thead th {\n",
              "        text-align: right;\n",
              "    }\n",
              "</style>\n",
              "<table border=\"1\" class=\"dataframe\">\n",
              "  <thead>\n",
              "    <tr style=\"text-align: right;\">\n",
              "      <th></th>\n",
              "      <th>0</th>\n",
              "      <th>1</th>\n",
              "      <th>2</th>\n",
              "    </tr>\n",
              "  </thead>\n",
              "  <tbody>\n",
              "    <tr>\n",
              "      <th>0</th>\n",
              "      <td>NaN</td>\n",
              "      <td>2.0</td>\n",
              "      <td>3.0</td>\n",
              "    </tr>\n",
              "    <tr>\n",
              "      <th>1</th>\n",
              "      <td>4.0</td>\n",
              "      <td>NaN</td>\n",
              "      <td>6.0</td>\n",
              "    </tr>\n",
              "    <tr>\n",
              "      <th>2</th>\n",
              "      <td>7.0</td>\n",
              "      <td>NaN</td>\n",
              "      <td>NaN</td>\n",
              "    </tr>\n",
              "  </tbody>\n",
              "</table>\n",
              "</div>\n",
              "    <div class=\"colab-df-buttons\">\n",
              "\n",
              "  <div class=\"colab-df-container\">\n",
              "    <button class=\"colab-df-convert\" onclick=\"convertToInteractive('df-0b680ad6-6944-4e74-820e-c41e1e382989')\"\n",
              "            title=\"Convert this dataframe to an interactive table.\"\n",
              "            style=\"display:none;\">\n",
              "\n",
              "  <svg xmlns=\"http://www.w3.org/2000/svg\" height=\"24px\" viewBox=\"0 -960 960 960\">\n",
              "    <path d=\"M120-120v-720h720v720H120Zm60-500h600v-160H180v160Zm220 220h160v-160H400v160Zm0 220h160v-160H400v160ZM180-400h160v-160H180v160Zm440 0h160v-160H620v160ZM180-180h160v-160H180v160Zm440 0h160v-160H620v160Z\"/>\n",
              "  </svg>\n",
              "    </button>\n",
              "\n",
              "  <style>\n",
              "    .colab-df-container {\n",
              "      display:flex;\n",
              "      gap: 12px;\n",
              "    }\n",
              "\n",
              "    .colab-df-convert {\n",
              "      background-color: #E8F0FE;\n",
              "      border: none;\n",
              "      border-radius: 50%;\n",
              "      cursor: pointer;\n",
              "      display: none;\n",
              "      fill: #1967D2;\n",
              "      height: 32px;\n",
              "      padding: 0 0 0 0;\n",
              "      width: 32px;\n",
              "    }\n",
              "\n",
              "    .colab-df-convert:hover {\n",
              "      background-color: #E2EBFA;\n",
              "      box-shadow: 0px 1px 2px rgba(60, 64, 67, 0.3), 0px 1px 3px 1px rgba(60, 64, 67, 0.15);\n",
              "      fill: #174EA6;\n",
              "    }\n",
              "\n",
              "    .colab-df-buttons div {\n",
              "      margin-bottom: 4px;\n",
              "    }\n",
              "\n",
              "    [theme=dark] .colab-df-convert {\n",
              "      background-color: #3B4455;\n",
              "      fill: #D2E3FC;\n",
              "    }\n",
              "\n",
              "    [theme=dark] .colab-df-convert:hover {\n",
              "      background-color: #434B5C;\n",
              "      box-shadow: 0px 1px 3px 1px rgba(0, 0, 0, 0.15);\n",
              "      filter: drop-shadow(0px 1px 2px rgba(0, 0, 0, 0.3));\n",
              "      fill: #FFFFFF;\n",
              "    }\n",
              "  </style>\n",
              "\n",
              "    <script>\n",
              "      const buttonEl =\n",
              "        document.querySelector('#df-0b680ad6-6944-4e74-820e-c41e1e382989 button.colab-df-convert');\n",
              "      buttonEl.style.display =\n",
              "        google.colab.kernel.accessAllowed ? 'block' : 'none';\n",
              "\n",
              "      async function convertToInteractive(key) {\n",
              "        const element = document.querySelector('#df-0b680ad6-6944-4e74-820e-c41e1e382989');\n",
              "        const dataTable =\n",
              "          await google.colab.kernel.invokeFunction('convertToInteractive',\n",
              "                                                    [key], {});\n",
              "        if (!dataTable) return;\n",
              "\n",
              "        const docLinkHtml = 'Like what you see? Visit the ' +\n",
              "          '<a target=\"_blank\" href=https://colab.research.google.com/notebooks/data_table.ipynb>data table notebook</a>'\n",
              "          + ' to learn more about interactive tables.';\n",
              "        element.innerHTML = '';\n",
              "        dataTable['output_type'] = 'display_data';\n",
              "        await google.colab.output.renderOutput(dataTable, element);\n",
              "        const docLink = document.createElement('div');\n",
              "        docLink.innerHTML = docLinkHtml;\n",
              "        element.appendChild(docLink);\n",
              "      }\n",
              "    </script>\n",
              "  </div>\n",
              "\n",
              "\n",
              "<div id=\"df-01abd672-4df2-4d4e-93c6-6f2ec7f8d02e\">\n",
              "  <button class=\"colab-df-quickchart\" onclick=\"quickchart('df-01abd672-4df2-4d4e-93c6-6f2ec7f8d02e')\"\n",
              "            title=\"Suggest charts\"\n",
              "            style=\"display:none;\">\n",
              "\n",
              "<svg xmlns=\"http://www.w3.org/2000/svg\" height=\"24px\"viewBox=\"0 0 24 24\"\n",
              "     width=\"24px\">\n",
              "    <g>\n",
              "        <path d=\"M19 3H5c-1.1 0-2 .9-2 2v14c0 1.1.9 2 2 2h14c1.1 0 2-.9 2-2V5c0-1.1-.9-2-2-2zM9 17H7v-7h2v7zm4 0h-2V7h2v10zm4 0h-2v-4h2v4z\"/>\n",
              "    </g>\n",
              "</svg>\n",
              "  </button>\n",
              "\n",
              "<style>\n",
              "  .colab-df-quickchart {\n",
              "      --bg-color: #E8F0FE;\n",
              "      --fill-color: #1967D2;\n",
              "      --hover-bg-color: #E2EBFA;\n",
              "      --hover-fill-color: #174EA6;\n",
              "      --disabled-fill-color: #AAA;\n",
              "      --disabled-bg-color: #DDD;\n",
              "  }\n",
              "\n",
              "  [theme=dark] .colab-df-quickchart {\n",
              "      --bg-color: #3B4455;\n",
              "      --fill-color: #D2E3FC;\n",
              "      --hover-bg-color: #434B5C;\n",
              "      --hover-fill-color: #FFFFFF;\n",
              "      --disabled-bg-color: #3B4455;\n",
              "      --disabled-fill-color: #666;\n",
              "  }\n",
              "\n",
              "  .colab-df-quickchart {\n",
              "    background-color: var(--bg-color);\n",
              "    border: none;\n",
              "    border-radius: 50%;\n",
              "    cursor: pointer;\n",
              "    display: none;\n",
              "    fill: var(--fill-color);\n",
              "    height: 32px;\n",
              "    padding: 0;\n",
              "    width: 32px;\n",
              "  }\n",
              "\n",
              "  .colab-df-quickchart:hover {\n",
              "    background-color: var(--hover-bg-color);\n",
              "    box-shadow: 0 1px 2px rgba(60, 64, 67, 0.3), 0 1px 3px 1px rgba(60, 64, 67, 0.15);\n",
              "    fill: var(--button-hover-fill-color);\n",
              "  }\n",
              "\n",
              "  .colab-df-quickchart-complete:disabled,\n",
              "  .colab-df-quickchart-complete:disabled:hover {\n",
              "    background-color: var(--disabled-bg-color);\n",
              "    fill: var(--disabled-fill-color);\n",
              "    box-shadow: none;\n",
              "  }\n",
              "\n",
              "  .colab-df-spinner {\n",
              "    border: 2px solid var(--fill-color);\n",
              "    border-color: transparent;\n",
              "    border-bottom-color: var(--fill-color);\n",
              "    animation:\n",
              "      spin 1s steps(1) infinite;\n",
              "  }\n",
              "\n",
              "  @keyframes spin {\n",
              "    0% {\n",
              "      border-color: transparent;\n",
              "      border-bottom-color: var(--fill-color);\n",
              "      border-left-color: var(--fill-color);\n",
              "    }\n",
              "    20% {\n",
              "      border-color: transparent;\n",
              "      border-left-color: var(--fill-color);\n",
              "      border-top-color: var(--fill-color);\n",
              "    }\n",
              "    30% {\n",
              "      border-color: transparent;\n",
              "      border-left-color: var(--fill-color);\n",
              "      border-top-color: var(--fill-color);\n",
              "      border-right-color: var(--fill-color);\n",
              "    }\n",
              "    40% {\n",
              "      border-color: transparent;\n",
              "      border-right-color: var(--fill-color);\n",
              "      border-top-color: var(--fill-color);\n",
              "    }\n",
              "    60% {\n",
              "      border-color: transparent;\n",
              "      border-right-color: var(--fill-color);\n",
              "    }\n",
              "    80% {\n",
              "      border-color: transparent;\n",
              "      border-right-color: var(--fill-color);\n",
              "      border-bottom-color: var(--fill-color);\n",
              "    }\n",
              "    90% {\n",
              "      border-color: transparent;\n",
              "      border-bottom-color: var(--fill-color);\n",
              "    }\n",
              "  }\n",
              "</style>\n",
              "\n",
              "  <script>\n",
              "    async function quickchart(key) {\n",
              "      const quickchartButtonEl =\n",
              "        document.querySelector('#' + key + ' button');\n",
              "      quickchartButtonEl.disabled = true;  // To prevent multiple clicks.\n",
              "      quickchartButtonEl.classList.add('colab-df-spinner');\n",
              "      try {\n",
              "        const charts = await google.colab.kernel.invokeFunction(\n",
              "            'suggestCharts', [key], {});\n",
              "      } catch (error) {\n",
              "        console.error('Error during call to suggestCharts:', error);\n",
              "      }\n",
              "      quickchartButtonEl.classList.remove('colab-df-spinner');\n",
              "      quickchartButtonEl.classList.add('colab-df-quickchart-complete');\n",
              "    }\n",
              "    (() => {\n",
              "      let quickchartButtonEl =\n",
              "        document.querySelector('#df-01abd672-4df2-4d4e-93c6-6f2ec7f8d02e button');\n",
              "      quickchartButtonEl.style.display =\n",
              "        google.colab.kernel.accessAllowed ? 'block' : 'none';\n",
              "    })();\n",
              "  </script>\n",
              "</div>\n",
              "\n",
              "  <div id=\"id_1e3d250c-5e2a-46a6-a6bc-8ff348db6c8e\">\n",
              "    <style>\n",
              "      .colab-df-generate {\n",
              "        background-color: #E8F0FE;\n",
              "        border: none;\n",
              "        border-radius: 50%;\n",
              "        cursor: pointer;\n",
              "        display: none;\n",
              "        fill: #1967D2;\n",
              "        height: 32px;\n",
              "        padding: 0 0 0 0;\n",
              "        width: 32px;\n",
              "      }\n",
              "\n",
              "      .colab-df-generate:hover {\n",
              "        background-color: #E2EBFA;\n",
              "        box-shadow: 0px 1px 2px rgba(60, 64, 67, 0.3), 0px 1px 3px 1px rgba(60, 64, 67, 0.15);\n",
              "        fill: #174EA6;\n",
              "      }\n",
              "\n",
              "      [theme=dark] .colab-df-generate {\n",
              "        background-color: #3B4455;\n",
              "        fill: #D2E3FC;\n",
              "      }\n",
              "\n",
              "      [theme=dark] .colab-df-generate:hover {\n",
              "        background-color: #434B5C;\n",
              "        box-shadow: 0px 1px 3px 1px rgba(0, 0, 0, 0.15);\n",
              "        filter: drop-shadow(0px 1px 2px rgba(0, 0, 0, 0.3));\n",
              "        fill: #FFFFFF;\n",
              "      }\n",
              "    </style>\n",
              "    <button class=\"colab-df-generate\" onclick=\"generateWithVariable('data')\"\n",
              "            title=\"Generate code using this dataframe.\"\n",
              "            style=\"display:none;\">\n",
              "\n",
              "  <svg xmlns=\"http://www.w3.org/2000/svg\" height=\"24px\"viewBox=\"0 0 24 24\"\n",
              "       width=\"24px\">\n",
              "    <path d=\"M7,19H8.4L18.45,9,17,7.55,7,17.6ZM5,21V16.75L18.45,3.32a2,2,0,0,1,2.83,0l1.4,1.43a1.91,1.91,0,0,1,.58,1.4,1.91,1.91,0,0,1-.58,1.4L9.25,21ZM18.45,9,17,7.55Zm-12,3A5.31,5.31,0,0,0,4.9,8.1,5.31,5.31,0,0,0,1,6.5,5.31,5.31,0,0,0,4.9,4.9,5.31,5.31,0,0,0,6.5,1,5.31,5.31,0,0,0,8.1,4.9,5.31,5.31,0,0,0,12,6.5,5.46,5.46,0,0,0,6.5,12Z\"/>\n",
              "  </svg>\n",
              "    </button>\n",
              "    <script>\n",
              "      (() => {\n",
              "      const buttonEl =\n",
              "        document.querySelector('#id_1e3d250c-5e2a-46a6-a6bc-8ff348db6c8e button.colab-df-generate');\n",
              "      buttonEl.style.display =\n",
              "        google.colab.kernel.accessAllowed ? 'block' : 'none';\n",
              "\n",
              "      buttonEl.onclick = () => {\n",
              "        google.colab.notebook.generateWithVariable('data');\n",
              "      }\n",
              "      })();\n",
              "    </script>\n",
              "  </div>\n",
              "\n",
              "    </div>\n",
              "  </div>\n"
            ],
            "application/vnd.google.colaboratory.intrinsic+json": {
              "type": "dataframe",
              "variable_name": "data",
              "summary": "{\n  \"name\": \"data\",\n  \"rows\": 3,\n  \"fields\": [\n    {\n      \"column\": 0,\n      \"properties\": {\n        \"dtype\": \"number\",\n        \"std\": 2.1213203435596424,\n        \"min\": 4.0,\n        \"max\": 7.0,\n        \"num_unique_values\": 2,\n        \"samples\": [\n          7.0,\n          4.0\n        ],\n        \"semantic_type\": \"\",\n        \"description\": \"\"\n      }\n    },\n    {\n      \"column\": 1,\n      \"properties\": {\n        \"dtype\": \"number\",\n        \"std\": null,\n        \"min\": 2.0,\n        \"max\": 2.0,\n        \"num_unique_values\": 1,\n        \"samples\": [\n          2.0\n        ],\n        \"semantic_type\": \"\",\n        \"description\": \"\"\n      }\n    },\n    {\n      \"column\": 2,\n      \"properties\": {\n        \"dtype\": \"number\",\n        \"std\": 2.1213203435596424,\n        \"min\": 3.0,\n        \"max\": 6.0,\n        \"num_unique_values\": 2,\n        \"samples\": [\n          6.0\n        ],\n        \"semantic_type\": \"\",\n        \"description\": \"\"\n      }\n    }\n  ]\n}"
            }
          },
          "metadata": {},
          "execution_count": 29
        }
      ]
    },
    {
      "cell_type": "code",
      "source": [],
      "metadata": {
        "id": "SKRzeUiP51gc"
      },
      "execution_count": null,
      "outputs": []
    },
    {
      "cell_type": "code",
      "source": [
        "import numpy as np\n",
        "import pandas as pd\n",
        "\n",
        "data = pd.DataFrame([[1, 2, 3], [4, np.nan, 6], [7, np.nan, np.nan]])\n",
        "print(data)\n",
        "print()\n",
        "\n",
        "data = data.fillna({0: data[0].mean(), 1: data[1].mean(), 2: data[2].mean()})\n",
        "\n",
        "print(data)"
      ],
      "metadata": {
        "colab": {
          "base_uri": "https://localhost:8080/"
        },
        "id": "81Y2uLLR5c68",
        "outputId": "d1c9b457-3342-41f8-cba1-ef562a702d46"
      },
      "execution_count": null,
      "outputs": [
        {
          "output_type": "stream",
          "name": "stdout",
          "text": [
            "   0    1    2\n",
            "0  1  2.0  3.0\n",
            "1  4  NaN  6.0\n",
            "2  7  NaN  NaN\n",
            "\n",
            "   0    1    2\n",
            "0  1  2.0  3.0\n",
            "1  4  2.0  6.0\n",
            "2  7  2.0  4.5\n"
          ]
        }
      ]
    },
    {
      "cell_type": "code",
      "source": [],
      "metadata": {
        "id": "iPva5mMI6-7H"
      },
      "execution_count": null,
      "outputs": []
    },
    {
      "cell_type": "code",
      "source": [],
      "metadata": {
        "id": "yCjDE4xp6-3-"
      },
      "execution_count": null,
      "outputs": []
    },
    {
      "cell_type": "code",
      "source": [
        "import pandas as pd\n",
        "\n",
        "date = pd.date_range(start='2024-07-10', freq='Q', periods=8)\n",
        "\n",
        "temperature = pd.Series(date)\n",
        "\n",
        "print(temperature)"
      ],
      "metadata": {
        "colab": {
          "base_uri": "https://localhost:8080/"
        },
        "id": "BfI22IPB6-zG",
        "outputId": "96818a10-e9e8-48e6-9f71-1244f11d4299"
      },
      "execution_count": null,
      "outputs": [
        {
          "output_type": "stream",
          "name": "stdout",
          "text": [
            "0   2024-09-30\n",
            "1   2024-12-31\n",
            "2   2025-03-31\n",
            "3   2025-06-30\n",
            "4   2025-09-30\n",
            "5   2025-12-31\n",
            "6   2026-03-31\n",
            "7   2026-06-30\n",
            "dtype: datetime64[ns]\n"
          ]
        }
      ]
    },
    {
      "cell_type": "code",
      "source": [],
      "metadata": {
        "id": "MOiC10to6-wJ"
      },
      "execution_count": null,
      "outputs": []
    },
    {
      "cell_type": "code",
      "source": [
        "import pandas as pd\n",
        "import matplotlib.pyplot as plt\n",
        "\n",
        "date = pd.date_range(start='2021-09-01', freq='D', periods=8)\n",
        "\n",
        "temperature = pd.Series([23, 17, 17, 16, 15, 14, 17, 20], index=date)\n",
        "\n",
        "temperature.plot\n",
        "plt.show()"
      ],
      "metadata": {
        "colab": {
          "base_uri": "https://localhost:8080/",
          "height": 411
        },
        "id": "-w2wBUtu7_An",
        "outputId": "3655403d-6968-4830-989e-7b462b3ab216"
      },
      "execution_count": null,
      "outputs": [
        {
          "output_type": "display_data",
          "data": {
            "text/plain": [
              "<Figure size 640x480 with 1 Axes>"
            ],
            "image/png": "[encoded data removed]"
          },
          "metadata": {}
        }
      ]
    },
    {
      "cell_type": "code",
      "source": [],
      "metadata": {
        "id": "AHo6Bgmg7-9U"
      },
      "execution_count": null,
      "outputs": []
    },
    {
      "cell_type": "code",
      "source": [],
      "metadata": {
        "id": "E3n3b9O51AcU"
      },
      "execution_count": null,
      "outputs": []
    }
  ]
}