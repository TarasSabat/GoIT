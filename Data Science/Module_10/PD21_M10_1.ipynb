{
  "nbformat": 4,
  "nbformat_minor": 0,
  "metadata": {
    "colab": {
      "provenance": [],
      "toc_visible": true,
      "gpuType": "T4"
    },
    "kernelspec": {
      "name": "python3",
      "display_name": "Python 3"
    },
    "language_info": {
      "name": "python"
    },
    "accelerator": "GPU"
  },
  "cells": [
    {
      "cell_type": "markdown",
      "source": [
        "# Глибинне навчання"
      ],
      "metadata": {
        "id": "PAJJkBNbDPXh"
      }
    },
    {
      "cell_type": "markdown",
      "source": [
        "**Глибинне навчання (Deep Learning)** - це підгалузь машинного навчання, яка базується на штучних нейронних мережах з багатьма шарами (глибоких нейронних мережах)."
      ],
      "metadata": {
        "id": "if_qzNJfDUmM"
      }
    },
    {
      "cell_type": "markdown",
      "source": [
        "<img src=\"https://media.geeksforgeeks.org/wp-content/uploads/20230413105611/Maachine-Learning.webp\" width=\"700\">"
      ],
      "metadata": {
        "id": "D0WMQZNrEevB"
      }
    },
    {
      "cell_type": "markdown",
      "source": [
        "**Основні переваги:**\n",
        "- Автоматичне вивчення ознак: глибинні мережі здатні самостійно виявляти складні залежності та шаблони в даних без потреби в ручному налаштуванні ознак.\n",
        "- Висока точність: в багатьох задачах глибинне навчання досягає найкращих результатів порівняно з іншими методами машинного навчання."
      ],
      "metadata": {
        "id": "eP1dkzfjDbxN"
      }
    },
    {
      "cell_type": "markdown",
      "source": [
        "<img src=\"https://images.prismic.io/turing/652ebc26fbd9a45bcec81819_Deep_Learning_vs_Machine_Learning_3033723be2.webp?auto=format%2Ccompress&fit=max&w=3840\" width=\"700\">"
      ],
      "metadata": {
        "id": "bJVfhL8YDxpu"
      }
    },
    {
      "cell_type": "markdown",
      "source": [
        "## Застосування глибинного навчання"
      ],
      "metadata": {
        "id": "QKu0PV3WFSS7"
      }
    },
    {
      "cell_type": "markdown",
      "source": [
        "**Комп'ютерний зір:**\n",
        "- Розпізнавання облич: ідентифікація осіб на фотографіях та відео.\n",
        "- Розпізнавання об'єктів: виявлення та класифікація об'єктів на зображеннях (наприклад, автомобілі, люди, будівлі).\n",
        "- Аналіз медичних зображень: діагностика захворювань на основі рентгенівських знімків, МРТ, томографії.\n",
        "- Розпізнавання сцен: розуміння змісту зображення в цілому (наприклад, вулиця, пляж, ліс).\n",
        "\n",
        "**Обробка природної мови:**\n",
        "- Машинний переклад: автоматичний переклад текстів з однієї мови на іншу.\n",
        "- Аналіз тональності тексту: визначення емоційного забарвлення тексту (позитивне, негативне, нейтральне).\n",
        "- Чат-боти: створення програм, які можуть спілкуватися з людьми на природній мові.\n",
        "\n",
        "**Інші застосування:**\n",
        "- Прогнозування часових рядів: передбачення майбутніх значень на основі історичних даних (наприклад, прогнозування цін на акції, погоди).\n",
        "- Рекомендаційні системи: рекомендація товарів, фільмів, музики на основі вподобань користувача.\n",
        "- Робототехніка: керування роботами, навігація, розпізнавання об'єктів."
      ],
      "metadata": {
        "id": "xY9M2OxAFVa_"
      }
    },
    {
      "cell_type": "markdown",
      "source": [
        "## Комп'ютерний зір"
      ],
      "metadata": {
        "id": "_M7e0K9mGAag"
      }
    },
    {
      "cell_type": "markdown",
      "source": [
        "**Комп'ютерний зір** - це галузь штучного інтелекту (ШІ), яка дозволяє системам та комп'ютерам отримувати значущу інформацію з цифрових відео, зображень та інших візуальних входів. Так само, як ШІ дозволяє комп'ютерам думати, комп'ютерний зір дозволяє комп'ютерам спостерігати, бачити та розуміти."
      ],
      "metadata": {
        "id": "u84Uc47nGRKn"
      }
    },
    {
      "cell_type": "markdown",
      "source": [
        "**Як функціонує Комп'ютерний Зір?**\n",
        "\n",
        "Комп'ютерний зір функціонує так само, як і людський зір, за винятком того, що людський зір присутній з самого початку, а комп'ютерний зір потребує навчання машин для виконання цього завдання. Комп'ютерний зір повинен виконувати це за відносно менший час з даними, камерами та алгоритмами, ніж зорові нерви, сітківки та зорова кора."
      ],
      "metadata": {
        "id": "zx5pNVeGGU1H"
      }
    },
    {
      "cell_type": "markdown",
      "source": [
        "### Виявлення об'єктів (Object detection)"
      ],
      "metadata": {
        "id": "7tvF-blxGZaR"
      }
    },
    {
      "cell_type": "markdown",
      "source": [
        "Ідентифікуйте кілька об'єктів на зображенні та отримайте інформацію про об'єкти, де вони були знайдені на зображенні."
      ],
      "metadata": {
        "id": "FLLhzqgaGfl5"
      }
    },
    {
      "cell_type": "markdown",
      "source": [
        "<img src=\"https://futuristech.com.au/wp-content/uploads/2022/08/Object-Detection-Cpmputer-vision-AI.webp\" width=\"1000\">"
      ],
      "metadata": {
        "id": "dtuwBYmCGEAo"
      }
    },
    {
      "cell_type": "markdown",
      "source": [
        "### Класифікація зображень"
      ],
      "metadata": {
        "id": "zTa2B4ljGeOH"
      }
    },
    {
      "cell_type": "markdown",
      "source": [
        "Позначте свої зображення та керуйте своїми навчальними даними, одночасно розширюючи можливості своїх програм комп'ютерного зору за допомогою великих наборів даних."
      ],
      "metadata": {
        "id": "Fh5fymzTGtlX"
      }
    },
    {
      "cell_type": "markdown",
      "source": [
        "<img src=\"https://futuristech.com.au/wp-content/uploads/2022/08/Image-Classification-Computer-vision-AI.webp\" width=\"1000\">"
      ],
      "metadata": {
        "id": "YWxAvsZkGeOI"
      }
    },
    {
      "cell_type": "markdown",
      "source": [
        "### Сегментація об'єктів"
      ],
      "metadata": {
        "id": "5RPv-X40GulV"
      }
    },
    {
      "cell_type": "markdown",
      "source": [
        "Процес поділу об'єкта на набір менших об'єктів фіксованого розміру для оптимізації використання сховища та ресурсів для великих об'єктів."
      ],
      "metadata": {
        "id": "EF21ay32GulX"
      }
    },
    {
      "cell_type": "markdown",
      "source": [
        "<img src=\"https://futuristech.com.au/wp-content/uploads/2022/08/Object-Segmentation-Computer-vision-Ai.webp\" width=\"1000\">"
      ],
      "metadata": {
        "id": "SWsgD5gbGulX"
      }
    },
    {
      "cell_type": "markdown",
      "source": [
        "### Розпізнавання символів (OCR)"
      ],
      "metadata": {
        "id": "Vb0ZYNk-G9dl"
      }
    },
    {
      "cell_type": "markdown",
      "source": [
        "Сервіси оптичного розпізнавання символів (OCR) перекладають дані в автоматичний текст, який можна редагувати машиною. OCR забезпечує високоякісне перетворення даних, яке є швидшим, точнішим та ефективнішим."
      ],
      "metadata": {
        "id": "KoJ0WpaHG9dm"
      }
    },
    {
      "cell_type": "markdown",
      "source": [
        "<img src=\"https://futuristech.com.au/wp-content/uploads/2022/08/Optical-character-recognition-Computer-vision-AI.webp\" width=\"1000\">"
      ],
      "metadata": {
        "id": "Fxfn8JjFG9dm"
      }
    },
    {
      "cell_type": "markdown",
      "source": [
        "### Відстеження об'єктів"
      ],
      "metadata": {
        "id": "Gdx3a90eHNvE"
      }
    },
    {
      "cell_type": "markdown",
      "source": [
        "Відстеження об'єктів - це завдання автоматичної ідентифікації об'єктів у відео та інтерпретації їх як набору траєкторій з високою точністю."
      ],
      "metadata": {
        "id": "WVa9H4zVHNvF"
      }
    },
    {
      "cell_type": "markdown",
      "source": [
        "<img src=\"https://futuristech.com.au/wp-content/uploads/2022/08/Object-Tracking-Computer-Vision-AI.webp\" width=\"1000\">"
      ],
      "metadata": {
        "id": "ZAKz1f84HNvF"
      }
    },
    {
      "cell_type": "markdown",
      "source": [
        "### Відеоаналітика"
      ],
      "metadata": {
        "id": "_0I84yCGHgUV"
      }
    },
    {
      "cell_type": "markdown",
      "source": [
        "Виявляйте та витягуйте об'єкти у відео на основі навчених моделей ШІ, а потім класифікуйте кожен об'єкт, щоб забезпечити інтелектуальний аналіз відео."
      ],
      "metadata": {
        "id": "MQyPMtZKHem6"
      }
    },
    {
      "cell_type": "markdown",
      "source": [
        "<img src=\"https://futuristech.com.au/wp-content/uploads/2022/08/Video-Analytics-Computer-vision-Ai.webp\" width=\"1000\">"
      ],
      "metadata": {
        "id": "zOCeMJ2HHl1L"
      }
    },
    {
      "cell_type": "markdown",
      "source": [
        "# Згорткові нейронні мережі (ЗНМ)"
      ],
      "metadata": {
        "id": "hfst_njQH1Es"
      }
    },
    {
      "cell_type": "markdown",
      "source": [
        "**Згорткові нейронні мережі (Convolutional Neural Networks, CNN)** - це спеціалізований тип глибинних нейронних мереж, призначений для обробки даних, що мають ґратчасту структуру, таких як зображення."
      ],
      "metadata": {
        "id": "a8O7I-VkH27Y"
      }
    },
    {
      "cell_type": "markdown",
      "source": [
        "<img src=\"https://learnopencv.com/wp-content/uploads/2023/10/Convolutional-Neural-Network.png\" width=\"700\">"
      ],
      "metadata": {
        "id": "-VnarB0HILo2"
      }
    },
    {
      "cell_type": "markdown",
      "source": [
        "Приклади:\n",
        "- Розпізнавання облич\n",
        "- Розпізнавання об'єктів на зображеннях\n",
        "- Класифікація медичних знімків"
      ],
      "metadata": {
        "id": "e-mi17eYH-wK"
      }
    },
    {
      "cell_type": "markdown",
      "source": [
        "## Обмеження повнозв'язкових нейронних мереж"
      ],
      "metadata": {
        "id": "m3P381HuIpNS"
      }
    },
    {
      "cell_type": "markdown",
      "source": [
        "Розглянемо датасет MNIST, який містить зображення рукописних цифр від 0 до 9. Кожне зображення має розмір 28x28 пікселів та представлене у відтінках сірого."
      ],
      "metadata": {
        "id": "n2JgkWz9Itj7"
      }
    },
    {
      "cell_type": "code",
      "source": [
        "import tensorflow as tf\n",
        "(x_train, y_train), (x_test, y_test) = tf.keras.datasets.mnist.load_data()\n",
        "\n",
        "import matplotlib.pyplot as plt\n",
        "plt.imshow(x_train[0], cmap='gray')\n",
        "plt.show()"
      ],
      "metadata": {
        "colab": {
          "base_uri": "https://localhost:8080/",
          "height": 464
        },
        "id": "k2zg4UvCIvvl",
        "outputId": "72fdfd6d-7820-4641-8f32-6218192c81b0"
      },
      "execution_count": null,
      "outputs": [
        {
          "output_type": "stream",
          "name": "stdout",
          "text": [
            "Downloading data from https://storage.googleapis.com/tensorflow/tf-keras-datasets/mnist.npz\n",
            "\u001b[1m11490434/11490434\u001b[0m \u001b[32m━━━━━━━━━━━━━━━━━━━━\u001b[0m\u001b[37m\u001b[0m \u001b[1m2s\u001b[0m 0us/step\n"
          ]
        },
        {
          "output_type": "display_data",
          "data": {
            "text/plain": [
              "<Figure size 640x480 with 1 Axes>"
            ],
            "image/png": "[encoded data removed]"
          },
          "metadata": {}
        }
      ]
    },
    {
      "cell_type": "code",
      "source": [
        "# Normalize pixel values to be between 0 and 1\n",
        "x_train = x_train.astype('float32') / 255.0\n",
        "x_test = x_test.astype('float32') / 255.0\n",
        "\n",
        "# Flatten the images\n",
        "x_train = x_train.reshape(x_train.shape[0], -1)\n",
        "x_test = x_test.reshape(x_test.shape[0], -1)\n",
        "\n",
        "# Convert labels to one-hot encoding\n",
        "y_train = tf.keras.utils.to_categorical(y_train, num_classes=10)\n",
        "y_test = tf.keras.utils.to_categorical(y_test, num_classes=10)"
      ],
      "metadata": {
        "id": "lFVyqKDXI-xJ"
      },
      "execution_count": null,
      "outputs": []
    },
    {
      "cell_type": "code",
      "source": [
        "# Define the model\n",
        "model = tf.keras.models.Sequential([\n",
        "  tf.keras.layers.Dense(128, activation='relu', input_shape=(784,)),\n",
        "  tf.keras.layers.Dense(10, activation='softmax')\n",
        "])\n",
        "\n",
        "# Compile the model\n",
        "model.compile(\n",
        "    optimizer='adam',\n",
        "    loss='categorical_crossentropy',\n",
        "    metrics=['accuracy']\n",
        ")"
      ],
      "metadata": {
        "colab": {
          "base_uri": "https://localhost:8080/"
        },
        "id": "qi2cpQL7JB-f",
        "outputId": "e895a188-1bfe-44a0-e7c5-1857ccf61954"
      },
      "execution_count": null,
      "outputs": [
        {
          "output_type": "stream",
          "name": "stderr",
          "text": [
            "/usr/local/lib/python3.10/dist-packages/keras/src/layers/core/dense.py:87: UserWarning: Do not pass an `input_shape`/`input_dim` argument to a layer. When using Sequential models, prefer using an `Input(shape)` object as the first layer in the model instead.\n",
            "  super().__init__(activity_regularizer=activity_regularizer, **kwargs)\n"
          ]
        }
      ]
    },
    {
      "cell_type": "code",
      "source": [
        "model.summary()"
      ],
      "metadata": {
        "colab": {
          "base_uri": "https://localhost:8080/",
          "height": 193
        },
        "id": "CUeOHgGlPNIz",
        "outputId": "1c1319e1-3da3-408b-ce1e-b0f1e7c3d0b0"
      },
      "execution_count": null,
      "outputs": [
        {
          "output_type": "display_data",
          "data": {
            "text/plain": [
              "\u001b[1mModel: \"sequential\"\u001b[0m\n"
            ],
            "text/html": [
              "<pre style=\"white-space:pre;overflow-x:auto;line-height:normal;font-family:Menlo,'DejaVu Sans Mono',consolas,'Courier New',monospace\"><span style=\"font-weight: bold\">Model: \"sequential\"</span>\n",
              "</pre>\n"
            ]
          },
          "metadata": {}
        },
        {
          "output_type": "display_data",
          "data": {
            "text/plain": [
              "┏━━━━━━━━━━━━━━━━━━━━━━━━━━━━━━━━━━━━━━┳━━━━━━━━━━━━━━━━━━━━━━━━━━━━━┳━━━━━━━━━━━━━━━━━┓\n",
              "┃\u001b[1m \u001b[0m\u001b[1mLayer (type)                        \u001b[0m\u001b[1m \u001b[0m┃\u001b[1m \u001b[0m\u001b[1mOutput Shape               \u001b[0m\u001b[1m \u001b[0m┃\u001b[1m \u001b[0m\u001b[1m        Param #\u001b[0m\u001b[1m \u001b[0m┃\n",
              "┡━━━━━━━━━━━━━━━━━━━━━━━━━━━━━━━━━━━━━━╇━━━━━━━━━━━━━━━━━━━━━━━━━━━━━╇━━━━━━━━━━━━━━━━━┩\n",
              "│ dense (\u001b[38;5;33mDense\u001b[0m)                        │ (\u001b[38;5;45mNone\u001b[0m, \u001b[38;5;34m128\u001b[0m)                 │         \u001b[38;5;34m100,480\u001b[0m │\n",
              "├──────────────────────────────────────┼─────────────────────────────┼─────────────────┤\n",
              "│ dense_1 (\u001b[38;5;33mDense\u001b[0m)                      │ (\u001b[38;5;45mNone\u001b[0m, \u001b[38;5;34m10\u001b[0m)                  │           \u001b[38;5;34m1,290\u001b[0m │\n",
              "└──────────────────────────────────────┴─────────────────────────────┴─────────────────┘\n"
            ],
            "text/html": [
              "<pre style=\"white-space:pre;overflow-x:auto;line-height:normal;font-family:Menlo,'DejaVu Sans Mono',consolas,'Courier New',monospace\">┏━━━━━━━━━━━━━━━━━━━━━━━━━━━━━━━━━━━━━━┳━━━━━━━━━━━━━━━━━━━━━━━━━━━━━┳━━━━━━━━━━━━━━━━━┓\n",
              "┃<span style=\"font-weight: bold\"> Layer (type)                         </span>┃<span style=\"font-weight: bold\"> Output Shape                </span>┃<span style=\"font-weight: bold\">         Param # </span>┃\n",
              "┡━━━━━━━━━━━━━━━━━━━━━━━━━━━━━━━━━━━━━━╇━━━━━━━━━━━━━━━━━━━━━━━━━━━━━╇━━━━━━━━━━━━━━━━━┩\n",
              "│ dense (<span style=\"color: #0087ff; text-decoration-color: #0087ff\">Dense</span>)                        │ (<span style=\"color: #00d7ff; text-decoration-color: #00d7ff\">None</span>, <span style=\"color: #00af00; text-decoration-color: #00af00\">128</span>)                 │         <span style=\"color: #00af00; text-decoration-color: #00af00\">100,480</span> │\n",
              "├──────────────────────────────────────┼─────────────────────────────┼─────────────────┤\n",
              "│ dense_1 (<span style=\"color: #0087ff; text-decoration-color: #0087ff\">Dense</span>)                      │ (<span style=\"color: #00d7ff; text-decoration-color: #00d7ff\">None</span>, <span style=\"color: #00af00; text-decoration-color: #00af00\">10</span>)                  │           <span style=\"color: #00af00; text-decoration-color: #00af00\">1,290</span> │\n",
              "└──────────────────────────────────────┴─────────────────────────────┴─────────────────┘\n",
              "</pre>\n"
            ]
          },
          "metadata": {}
        },
        {
          "output_type": "display_data",
          "data": {
            "text/plain": [
              "\u001b[1m Total params: \u001b[0m\u001b[38;5;34m101,770\u001b[0m (397.54 KB)\n"
            ],
            "text/html": [
              "<pre style=\"white-space:pre;overflow-x:auto;line-height:normal;font-family:Menlo,'DejaVu Sans Mono',consolas,'Courier New',monospace\"><span style=\"font-weight: bold\"> Total params: </span><span style=\"color: #00af00; text-decoration-color: #00af00\">101,770</span> (397.54 KB)\n",
              "</pre>\n"
            ]
          },
          "metadata": {}
        },
        {
          "output_type": "display_data",
          "data": {
            "text/plain": [
              "\u001b[1m Trainable params: \u001b[0m\u001b[38;5;34m101,770\u001b[0m (397.54 KB)\n"
            ],
            "text/html": [
              "<pre style=\"white-space:pre;overflow-x:auto;line-height:normal;font-family:Menlo,'DejaVu Sans Mono',consolas,'Courier New',monospace\"><span style=\"font-weight: bold\"> Trainable params: </span><span style=\"color: #00af00; text-decoration-color: #00af00\">101,770</span> (397.54 KB)\n",
              "</pre>\n"
            ]
          },
          "metadata": {}
        },
        {
          "output_type": "display_data",
          "data": {
            "text/plain": [
              "\u001b[1m Non-trainable params: \u001b[0m\u001b[38;5;34m0\u001b[0m (0.00 B)\n"
            ],
            "text/html": [
              "<pre style=\"white-space:pre;overflow-x:auto;line-height:normal;font-family:Menlo,'DejaVu Sans Mono',consolas,'Courier New',monospace\"><span style=\"font-weight: bold\"> Non-trainable params: </span><span style=\"color: #00af00; text-decoration-color: #00af00\">0</span> (0.00 B)\n",
              "</pre>\n"
            ]
          },
          "metadata": {}
        }
      ]
    },
    {
      "cell_type": "code",
      "source": [
        "# Train the model\n",
        "history = model.fit(x_train, y_train, epochs=10, batch_size=32, validation_data=(x_test, y_test))\n",
        "\n",
        "# Evaluate the model\n",
        "loss, accuracy = model.evaluate(x_test, y_test, verbose=0)\n",
        "print('Test loss:', loss)\n",
        "print('Test accuracy:', accuracy)"
      ],
      "metadata": {
        "colab": {
          "base_uri": "https://localhost:8080/"
        },
        "id": "0J3oUzTBJDMa",
        "outputId": "481601d4-f90c-4c79-a3ac-5f396c43c47c"
      },
      "execution_count": null,
      "outputs": [
        {
          "output_type": "stream",
          "name": "stdout",
          "text": [
            "Epoch 1/10\n",
            "\u001b[1m1875/1875\u001b[0m \u001b[32m━━━━━━━━━━━━━━━━━━━━\u001b[0m\u001b[37m\u001b[0m \u001b[1m7s\u001b[0m 3ms/step - accuracy: 0.8836 - loss: 0.4208 - val_accuracy: 0.9614 - val_loss: 0.1316\n",
            "Epoch 2/10\n",
            "\u001b[1m1875/1875\u001b[0m \u001b[32m━━━━━━━━━━━━━━━━━━━━\u001b[0m\u001b[37m\u001b[0m \u001b[1m3s\u001b[0m 2ms/step - accuracy: 0.9646 - loss: 0.1221 - val_accuracy: 0.9695 - val_loss: 0.0971\n",
            "Epoch 3/10\n",
            "\u001b[1m1875/1875\u001b[0m \u001b[32m━━━━━━━━━━━━━━━━━━━━\u001b[0m\u001b[37m\u001b[0m \u001b[1m6s\u001b[0m 2ms/step - accuracy: 0.9759 - loss: 0.0793 - val_accuracy: 0.9721 - val_loss: 0.0907\n",
            "Epoch 4/10\n",
            "\u001b[1m1875/1875\u001b[0m \u001b[32m━━━━━━━━━━━━━━━━━━━━\u001b[0m\u001b[37m\u001b[0m \u001b[1m5s\u001b[0m 2ms/step - accuracy: 0.9836 - loss: 0.0566 - val_accuracy: 0.9756 - val_loss: 0.0804\n",
            "Epoch 5/10\n",
            "\u001b[1m1875/1875\u001b[0m \u001b[32m━━━━━━━━━━━━━━━━━━━━\u001b[0m\u001b[37m\u001b[0m \u001b[1m4s\u001b[0m 2ms/step - accuracy: 0.9870 - loss: 0.0433 - val_accuracy: 0.9770 - val_loss: 0.0784\n",
            "Epoch 6/10\n",
            "\u001b[1m1875/1875\u001b[0m \u001b[32m━━━━━━━━━━━━━━━━━━━━\u001b[0m\u001b[37m\u001b[0m \u001b[1m4s\u001b[0m 2ms/step - accuracy: 0.9899 - loss: 0.0320 - val_accuracy: 0.9785 - val_loss: 0.0755\n",
            "Epoch 7/10\n",
            "\u001b[1m1875/1875\u001b[0m \u001b[32m━━━━━━━━━━━━━━━━━━━━\u001b[0m\u001b[37m\u001b[0m \u001b[1m3s\u001b[0m 2ms/step - accuracy: 0.9932 - loss: 0.0247 - val_accuracy: 0.9779 - val_loss: 0.0752\n",
            "Epoch 8/10\n",
            "\u001b[1m1875/1875\u001b[0m \u001b[32m━━━━━━━━━━━━━━━━━━━━\u001b[0m\u001b[37m\u001b[0m \u001b[1m5s\u001b[0m 2ms/step - accuracy: 0.9944 - loss: 0.0195 - val_accuracy: 0.9765 - val_loss: 0.0779\n",
            "Epoch 9/10\n",
            "\u001b[1m1875/1875\u001b[0m \u001b[32m━━━━━━━━━━━━━━━━━━━━\u001b[0m\u001b[37m\u001b[0m \u001b[1m5s\u001b[0m 2ms/step - accuracy: 0.9954 - loss: 0.0153 - val_accuracy: 0.9787 - val_loss: 0.0754\n",
            "Epoch 10/10\n",
            "\u001b[1m1875/1875\u001b[0m \u001b[32m━━━━━━━━━━━━━━━━━━━━\u001b[0m\u001b[37m\u001b[0m \u001b[1m3s\u001b[0m 2ms/step - accuracy: 0.9965 - loss: 0.0128 - val_accuracy: 0.9785 - val_loss: 0.0771\n",
            "Test loss: 0.07713297754526138\n",
            "Test accuracy: 0.9785000085830688\n"
          ]
        }
      ]
    },
    {
      "cell_type": "markdown",
      "source": [
        "**Проблеми повнозв'язкових мереж:**\n",
        "- Перенавчання: Повнозв'язкові мережі, навчені на MNIST, можуть запам'ятовувати тренувальні дані, замість того, щоб вивчати загальні закономірності. Це призводить до поганої роботи на нових, не бачених раніше даних.\n",
        "- Ігнорування просторової структури: Повнозв'язкові мережі розглядають кожен піксель зображення як окрему ознаку, не враховуючи їх взаємне розташування. Це ускладнює виявлення шаблонів та форм на зображенні.\n",
        "- Відсутність розуміння навчального концепу: Якщо передати випадковий шум як вхід до натренованої моделі, то вона буде мати досить чітку асоціацію з якось з цифрою. Для розуміння контектсу прошу переглянути наступні 2 відео: [But what is a neural network?](https://youtu.be/aircAruvnKk?si=EJx7xkLE5NYkULLC) та [How neural networks learn](https://youtu.be/IHZwWFHWa-w?si=FUpWXx4aM0rzOTyr&t=783) (з таймкодом на опис проблеми)."
      ],
      "metadata": {
        "id": "4mqd-8RxJN8C"
      }
    },
    {
      "cell_type": "code",
      "source": [
        "import numpy as np\n",
        "\n",
        "# Generate random noise\n",
        "noise = np.random.rand(1, 784).astype('float32')\n",
        "\n",
        "# Predict the label for the noise\n",
        "prediction = model.predict(noise)\n",
        "\n",
        "# Get the predicted class\n",
        "predicted_class = np.argmax(prediction)\n",
        "\n",
        "print(\"Prediction:\", prediction[0])\n",
        "print(\"Predicted class for noise:\", predicted_class)"
      ],
      "metadata": {
        "colab": {
          "base_uri": "https://localhost:8080/"
        },
        "id": "jhX4hUy1I-ur",
        "outputId": "46841a91-f2bc-485c-aa53-1a57b431d76c"
      },
      "execution_count": null,
      "outputs": [
        {
          "output_type": "stream",
          "name": "stdout",
          "text": [
            "\u001b[1m1/1\u001b[0m \u001b[32m━━━━━━━━━━━━━━━━━━━━\u001b[0m\u001b[37m\u001b[0m \u001b[1m0s\u001b[0m 16ms/step\n",
            "Prediction: [2.7873483e-13 5.0813433e-13 6.9970685e-17 7.5882440e-08 6.3227835e-36\n",
            " 9.9258184e-01 7.2730421e-03 1.4494121e-04 3.0682566e-15 2.4444887e-18]\n",
            "Predicted class for noise: 5\n"
          ]
        }
      ]
    },
    {
      "cell_type": "markdown",
      "source": [
        "Спробуємо перемішати пікселі"
      ],
      "metadata": {
        "id": "8Ao1_F0_cz1H"
      }
    },
    {
      "cell_type": "code",
      "source": [
        "arr = np.arange(10)\n",
        "np.random.seed(1234)\n",
        "np.random.shuffle(arr)\n",
        "arr"
      ],
      "metadata": {
        "colab": {
          "base_uri": "https://localhost:8080/"
        },
        "id": "CNb-H5fJbheX",
        "outputId": "465565f1-eacf-4a5a-a9ca-9ee9f00c5558"
      },
      "execution_count": null,
      "outputs": [
        {
          "output_type": "execute_result",
          "data": {
            "text/plain": [
              "array([7, 2, 9, 1, 0, 8, 4, 5, 6, 3])"
            ]
          },
          "metadata": {},
          "execution_count": 8
        }
      ]
    },
    {
      "cell_type": "code",
      "source": [
        "def shuffle_pixels(images):\n",
        "  \"\"\"\n",
        "  Shuffles the pixels in each image.\n",
        "\n",
        "  Args:\n",
        "    images: A numpy array of images.\n",
        "\n",
        "  Returns:\n",
        "    A numpy array of images with shuffled pixels.\n",
        "  \"\"\"\n",
        "  shuffled_images = []\n",
        "  for image in images:\n",
        "    flattened_image = image.flatten()\n",
        "    np.random.seed(42)\n",
        "    np.random.shuffle(flattened_image)\n",
        "    shuffled_images.append(flattened_image.reshape(image.shape))\n",
        "  return np.array(shuffled_images)\n",
        "\n",
        "x_train_shuffled = shuffle_pixels(x_train.reshape(x_train.shape[0], 28, 28))"
      ],
      "metadata": {
        "id": "AFw2AH1Ra2fM"
      },
      "execution_count": null,
      "outputs": []
    },
    {
      "cell_type": "code",
      "source": [
        "plt.imshow(x_train_shuffled[0], cmap='gray')\n",
        "plt.show()"
      ],
      "metadata": {
        "colab": {
          "base_uri": "https://localhost:8080/",
          "height": 430
        },
        "id": "3JTwUBLGbaWT",
        "outputId": "acaef169-0f05-4971-d89a-1f2b2554716d"
      },
      "execution_count": null,
      "outputs": [
        {
          "output_type": "display_data",
          "data": {
            "text/plain": [
              "<Figure size 640x480 with 1 Axes>"
            ],
            "image/png": "[encoded data removed]"
          },
          "metadata": {}
        }
      ]
    },
    {
      "cell_type": "code",
      "source": [
        "x_train_shuffled = x_train_shuffled.reshape(x_train_shuffled.shape[0], -1)"
      ],
      "metadata": {
        "id": "RHmF0FBAax3W"
      },
      "execution_count": null,
      "outputs": []
    },
    {
      "cell_type": "code",
      "source": [
        "# Define the model\n",
        "model = tf.keras.models.Sequential([\n",
        "  tf.keras.layers.Dense(128, activation='relu', input_shape=(784,)),\n",
        "  tf.keras.layers.Dense(10, activation='softmax')\n",
        "])\n",
        "\n",
        "# Compile the model\n",
        "model.compile(\n",
        "    optimizer='adam',\n",
        "    loss='categorical_crossentropy',\n",
        "    metrics=['accuracy']\n",
        ")"
      ],
      "metadata": {
        "id": "pI_aOiOsauix"
      },
      "execution_count": null,
      "outputs": []
    },
    {
      "cell_type": "code",
      "source": [
        "# Train the model\n",
        "history = model.fit(x_train_shuffled, y_train, epochs=10, batch_size=32, validation_split=0.1)\n",
        "\n",
        "# Evaluate the model\n",
        "loss, accuracy = model.evaluate(x_test, y_test, verbose=0)\n",
        "print('Test loss:', loss)\n",
        "print('Test accuracy:', accuracy)"
      ],
      "metadata": {
        "colab": {
          "base_uri": "https://localhost:8080/"
        },
        "id": "k0l-0quabtjt",
        "outputId": "a8c88103-6360-47ec-df18-ffd97dfd13f8"
      },
      "execution_count": null,
      "outputs": [
        {
          "output_type": "stream",
          "name": "stdout",
          "text": [
            "Epoch 1/10\n",
            "\u001b[1m1688/1688\u001b[0m \u001b[32m━━━━━━━━━━━━━━━━━━━━\u001b[0m\u001b[37m\u001b[0m \u001b[1m5s\u001b[0m 2ms/step - accuracy: 0.8695 - loss: 0.4594 - val_accuracy: 0.9623 - val_loss: 0.1310\n",
            "Epoch 2/10\n",
            "\u001b[1m1688/1688\u001b[0m \u001b[32m━━━━━━━━━━━━━━━━━━━━\u001b[0m\u001b[37m\u001b[0m \u001b[1m4s\u001b[0m 2ms/step - accuracy: 0.9625 - loss: 0.1282 - val_accuracy: 0.9693 - val_loss: 0.1057\n",
            "Epoch 3/10\n",
            "\u001b[1m1688/1688\u001b[0m \u001b[32m━━━━━━━━━━━━━━━━━━━━\u001b[0m\u001b[37m\u001b[0m \u001b[1m5s\u001b[0m 2ms/step - accuracy: 0.9757 - loss: 0.0817 - val_accuracy: 0.9755 - val_loss: 0.0835\n",
            "Epoch 4/10\n",
            "\u001b[1m1688/1688\u001b[0m \u001b[32m━━━━━━━━━━━━━━━━━━━━\u001b[0m\u001b[37m\u001b[0m \u001b[1m5s\u001b[0m 2ms/step - accuracy: 0.9809 - loss: 0.0620 - val_accuracy: 0.9758 - val_loss: 0.0862\n",
            "Epoch 5/10\n",
            "\u001b[1m1688/1688\u001b[0m \u001b[32m━━━━━━━━━━━━━━━━━━━━\u001b[0m\u001b[37m\u001b[0m \u001b[1m5s\u001b[0m 2ms/step - accuracy: 0.9858 - loss: 0.0480 - val_accuracy: 0.9790 - val_loss: 0.0785\n",
            "Epoch 6/10\n",
            "\u001b[1m1688/1688\u001b[0m \u001b[32m━━━━━━━━━━━━━━━━━━━━\u001b[0m\u001b[37m\u001b[0m \u001b[1m3s\u001b[0m 2ms/step - accuracy: 0.9904 - loss: 0.0344 - val_accuracy: 0.9785 - val_loss: 0.0772\n",
            "Epoch 7/10\n",
            "\u001b[1m1688/1688\u001b[0m \u001b[32m━━━━━━━━━━━━━━━━━━━━\u001b[0m\u001b[37m\u001b[0m \u001b[1m3s\u001b[0m 2ms/step - accuracy: 0.9925 - loss: 0.0268 - val_accuracy: 0.9782 - val_loss: 0.0780\n",
            "Epoch 8/10\n",
            "\u001b[1m1688/1688\u001b[0m \u001b[32m━━━━━━━━━━━━━━━━━━━━\u001b[0m\u001b[37m\u001b[0m \u001b[1m6s\u001b[0m 2ms/step - accuracy: 0.9930 - loss: 0.0226 - val_accuracy: 0.9785 - val_loss: 0.0814\n",
            "Epoch 9/10\n",
            "\u001b[1m1688/1688\u001b[0m \u001b[32m━━━━━━━━━━━━━━━━━━━━\u001b[0m\u001b[37m\u001b[0m \u001b[1m3s\u001b[0m 2ms/step - accuracy: 0.9944 - loss: 0.0186 - val_accuracy: 0.9772 - val_loss: 0.0867\n",
            "Epoch 10/10\n",
            "\u001b[1m1688/1688\u001b[0m \u001b[32m━━━━━━━━━━━━━━━━━━━━\u001b[0m\u001b[37m\u001b[0m \u001b[1m5s\u001b[0m 2ms/step - accuracy: 0.9955 - loss: 0.0157 - val_accuracy: 0.9782 - val_loss: 0.0902\n",
            "Test loss: 12.688743591308594\n",
            "Test accuracy: 0.07339999824762344\n"
          ]
        }
      ]
    },
    {
      "cell_type": "markdown",
      "source": [
        "Повнозв'язкові мережі не є оптимальним рішенням для задач розпізнавання образів, особливо коли важлива просторова інформація. Потрібні мережі, які б враховували взаємне розташування пікселів та виявляли локальні ознаки на зображенні."
      ],
      "metadata": {
        "id": "T-PloQwnM1-s"
      }
    },
    {
      "cell_type": "markdown",
      "source": [
        "## Будова ЗНМ"
      ],
      "metadata": {
        "id": "Z_bsFe4QM5cI"
      }
    },
    {
      "cell_type": "markdown",
      "source": [
        "**Необхідність нового підходу**\n",
        "\n",
        "Потреба в механізмі, який:\n",
        "- Враховує просторову структуру зображення.\n",
        "- Екстрагує ознаки послідовно, від простих до складних.\n",
        "\n",
        "Ідея:\n",
        "- Аналізувати зображення частинами (вікнами), виявляючи локальні ознаки (краї, кути, текстури).\n",
        "- Комбінувати локальні ознаки для формування більш абстрактних уявлень про об'єкти на зображенні."
      ],
      "metadata": {
        "id": "LnPrD7CbM_Q2"
      }
    },
    {
      "cell_type": "markdown",
      "source": [
        "### Створення ЗНМ в Keras"
      ],
      "metadata": {
        "id": "MeXCv3uCNJHD"
      }
    },
    {
      "cell_type": "markdown",
      "source": [
        "**Основні компоненти ЗНМ**:\n",
        "\n",
        "- Згорткові шари (Conv2D):\n",
        " - Виконують операцію згортки (convolution) для виявлення локальних ознак на зображенні.\n",
        " - Використовують фільтри (kernels), які \"ковзають\" по зображенню, виявляючи певні шаблони.\n",
        "- Шари макс пулінгу (MaxPooling2D):\n",
        " - Зменшують розмірність даних, зберігаючи важливу інформацію.\n",
        " - Вибирають максимальне значення в кожному вікні (пулі).\n",
        "- Шари сплющення (Flatten):\n",
        " - Перетворюють багатовимірні дані (карти ознак) в одновимірний вектор.\n",
        "- Повнозв'язкові шари (Dense):\n",
        " - Виконують класифікацію на основі виявлених ознак.\n",
        " - Подібні до шарів в звичайних нейронних мережах."
      ],
      "metadata": {
        "id": "KPErwaezNU0b"
      }
    },
    {
      "cell_type": "code",
      "source": [
        "import tensorflow as tf\n",
        "(x_train, y_train), (x_test, y_test) = tf.keras.datasets.mnist.load_data()\n",
        "\n",
        "# Normalize pixel values to be between 0 and 1\n",
        "x_train = x_train.astype('float32') / 255.0\n",
        "x_test = x_test.astype('float32') / 255.0\n",
        "\n",
        "# Convert labels to one-hot encoding\n",
        "y_train = tf.keras.utils.to_categorical(y_train, num_classes=10)\n",
        "y_test = tf.keras.utils.to_categorical(y_test, num_classes=10)"
      ],
      "metadata": {
        "id": "UruXOSDyOL8L"
      },
      "execution_count": null,
      "outputs": []
    },
    {
      "cell_type": "code",
      "source": [
        "from tensorflow import keras\n",
        "from tensorflow.keras import layers\n",
        "\n",
        "model = keras.Sequential([\n",
        "    layers.Conv2D(filters=32, kernel_size=(5,5), padding='same', activation='relu', input_shape=(28, 28, 1)),\n",
        "    layers.MaxPool2D(strides=2),\n",
        "    layers.Conv2D(filters=48, kernel_size=(5,5), padding='valid', activation='relu'),\n",
        "    layers.MaxPool2D(strides=2),\n",
        "    layers.Flatten(),\n",
        "    layers.Dense(256, activation='relu'),\n",
        "    layers.Dense(84, activation='relu'),\n",
        "    layers.Dense(10, activation='softmax')\n",
        "])\n",
        "\n",
        "# Compile the model\n",
        "model.compile(\n",
        "    optimizer='adam',\n",
        "    loss='categorical_crossentropy',\n",
        "    metrics=['accuracy']\n",
        ")"
      ],
      "metadata": {
        "id": "ZRsuZdFdM_FJ",
        "colab": {
          "base_uri": "https://localhost:8080/"
        },
        "outputId": "8372b586-c835-4831-c646-618efa64ef82"
      },
      "execution_count": null,
      "outputs": [
        {
          "output_type": "stream",
          "name": "stderr",
          "text": [
            "/usr/local/lib/python3.10/dist-packages/keras/src/layers/convolutional/base_conv.py:107: UserWarning: Do not pass an `input_shape`/`input_dim` argument to a layer. When using Sequential models, prefer using an `Input(shape)` object as the first layer in the model instead.\n",
            "  super().__init__(activity_regularizer=activity_regularizer, **kwargs)\n"
          ]
        }
      ]
    },
    {
      "cell_type": "code",
      "source": [
        "model.summary()"
      ],
      "metadata": {
        "colab": {
          "base_uri": "https://localhost:8080/",
          "height": 385
        },
        "id": "01P9O4fzPAx2",
        "outputId": "190c5b46-9ae1-4717-d0f4-06fd0ee81b52"
      },
      "execution_count": null,
      "outputs": [
        {
          "output_type": "display_data",
          "data": {
            "text/plain": [
              "\u001b[1mModel: \"sequential_2\"\u001b[0m\n"
            ],
            "text/html": [
              "<pre style=\"white-space:pre;overflow-x:auto;line-height:normal;font-family:Menlo,'DejaVu Sans Mono',consolas,'Courier New',monospace\"><span style=\"font-weight: bold\">Model: \"sequential_2\"</span>\n",
              "</pre>\n"
            ]
          },
          "metadata": {}
        },
        {
          "output_type": "display_data",
          "data": {
            "text/plain": [
              "┏━━━━━━━━━━━━━━━━━━━━━━━━━━━━━━━━━━━━━━┳━━━━━━━━━━━━━━━━━━━━━━━━━━━━━┳━━━━━━━━━━━━━━━━━┓\n",
              "┃\u001b[1m \u001b[0m\u001b[1mLayer (type)                        \u001b[0m\u001b[1m \u001b[0m┃\u001b[1m \u001b[0m\u001b[1mOutput Shape               \u001b[0m\u001b[1m \u001b[0m┃\u001b[1m \u001b[0m\u001b[1m        Param #\u001b[0m\u001b[1m \u001b[0m┃\n",
              "┡━━━━━━━━━━━━━━━━━━━━━━━━━━━━━━━━━━━━━━╇━━━━━━━━━━━━━━━━━━━━━━━━━━━━━╇━━━━━━━━━━━━━━━━━┩\n",
              "│ conv2d (\u001b[38;5;33mConv2D\u001b[0m)                      │ (\u001b[38;5;45mNone\u001b[0m, \u001b[38;5;34m28\u001b[0m, \u001b[38;5;34m28\u001b[0m, \u001b[38;5;34m32\u001b[0m)          │             \u001b[38;5;34m832\u001b[0m │\n",
              "├──────────────────────────────────────┼─────────────────────────────┼─────────────────┤\n",
              "│ max_pooling2d (\u001b[38;5;33mMaxPooling2D\u001b[0m)         │ (\u001b[38;5;45mNone\u001b[0m, \u001b[38;5;34m14\u001b[0m, \u001b[38;5;34m14\u001b[0m, \u001b[38;5;34m32\u001b[0m)          │               \u001b[38;5;34m0\u001b[0m │\n",
              "├──────────────────────────────────────┼─────────────────────────────┼─────────────────┤\n",
              "│ conv2d_1 (\u001b[38;5;33mConv2D\u001b[0m)                    │ (\u001b[38;5;45mNone\u001b[0m, \u001b[38;5;34m10\u001b[0m, \u001b[38;5;34m10\u001b[0m, \u001b[38;5;34m48\u001b[0m)          │          \u001b[38;5;34m38,448\u001b[0m │\n",
              "├──────────────────────────────────────┼─────────────────────────────┼─────────────────┤\n",
              "│ max_pooling2d_1 (\u001b[38;5;33mMaxPooling2D\u001b[0m)       │ (\u001b[38;5;45mNone\u001b[0m, \u001b[38;5;34m5\u001b[0m, \u001b[38;5;34m5\u001b[0m, \u001b[38;5;34m48\u001b[0m)            │               \u001b[38;5;34m0\u001b[0m │\n",
              "├──────────────────────────────────────┼─────────────────────────────┼─────────────────┤\n",
              "│ flatten (\u001b[38;5;33mFlatten\u001b[0m)                    │ (\u001b[38;5;45mNone\u001b[0m, \u001b[38;5;34m1200\u001b[0m)                │               \u001b[38;5;34m0\u001b[0m │\n",
              "├──────────────────────────────────────┼─────────────────────────────┼─────────────────┤\n",
              "│ dense_4 (\u001b[38;5;33mDense\u001b[0m)                      │ (\u001b[38;5;45mNone\u001b[0m, \u001b[38;5;34m256\u001b[0m)                 │         \u001b[38;5;34m307,456\u001b[0m │\n",
              "├──────────────────────────────────────┼─────────────────────────────┼─────────────────┤\n",
              "│ dense_5 (\u001b[38;5;33mDense\u001b[0m)                      │ (\u001b[38;5;45mNone\u001b[0m, \u001b[38;5;34m84\u001b[0m)                  │          \u001b[38;5;34m21,588\u001b[0m │\n",
              "├──────────────────────────────────────┼─────────────────────────────┼─────────────────┤\n",
              "│ dense_6 (\u001b[38;5;33mDense\u001b[0m)                      │ (\u001b[38;5;45mNone\u001b[0m, \u001b[38;5;34m10\u001b[0m)                  │             \u001b[38;5;34m850\u001b[0m │\n",
              "└──────────────────────────────────────┴─────────────────────────────┴─────────────────┘\n"
            ],
            "text/html": [
              "<pre style=\"white-space:pre;overflow-x:auto;line-height:normal;font-family:Menlo,'DejaVu Sans Mono',consolas,'Courier New',monospace\">┏━━━━━━━━━━━━━━━━━━━━━━━━━━━━━━━━━━━━━━┳━━━━━━━━━━━━━━━━━━━━━━━━━━━━━┳━━━━━━━━━━━━━━━━━┓\n",
              "┃<span style=\"font-weight: bold\"> Layer (type)                         </span>┃<span style=\"font-weight: bold\"> Output Shape                </span>┃<span style=\"font-weight: bold\">         Param # </span>┃\n",
              "┡━━━━━━━━━━━━━━━━━━━━━━━━━━━━━━━━━━━━━━╇━━━━━━━━━━━━━━━━━━━━━━━━━━━━━╇━━━━━━━━━━━━━━━━━┩\n",
              "│ conv2d (<span style=\"color: #0087ff; text-decoration-color: #0087ff\">Conv2D</span>)                      │ (<span style=\"color: #00d7ff; text-decoration-color: #00d7ff\">None</span>, <span style=\"color: #00af00; text-decoration-color: #00af00\">28</span>, <span style=\"color: #00af00; text-decoration-color: #00af00\">28</span>, <span style=\"color: #00af00; text-decoration-color: #00af00\">32</span>)          │             <span style=\"color: #00af00; text-decoration-color: #00af00\">832</span> │\n",
              "├──────────────────────────────────────┼─────────────────────────────┼─────────────────┤\n",
              "│ max_pooling2d (<span style=\"color: #0087ff; text-decoration-color: #0087ff\">MaxPooling2D</span>)         │ (<span style=\"color: #00d7ff; text-decoration-color: #00d7ff\">None</span>, <span style=\"color: #00af00; text-decoration-color: #00af00\">14</span>, <span style=\"color: #00af00; text-decoration-color: #00af00\">14</span>, <span style=\"color: #00af00; text-decoration-color: #00af00\">32</span>)          │               <span style=\"color: #00af00; text-decoration-color: #00af00\">0</span> │\n",
              "├──────────────────────────────────────┼─────────────────────────────┼─────────────────┤\n",
              "│ conv2d_1 (<span style=\"color: #0087ff; text-decoration-color: #0087ff\">Conv2D</span>)                    │ (<span style=\"color: #00d7ff; text-decoration-color: #00d7ff\">None</span>, <span style=\"color: #00af00; text-decoration-color: #00af00\">10</span>, <span style=\"color: #00af00; text-decoration-color: #00af00\">10</span>, <span style=\"color: #00af00; text-decoration-color: #00af00\">48</span>)          │          <span style=\"color: #00af00; text-decoration-color: #00af00\">38,448</span> │\n",
              "├──────────────────────────────────────┼─────────────────────────────┼─────────────────┤\n",
              "│ max_pooling2d_1 (<span style=\"color: #0087ff; text-decoration-color: #0087ff\">MaxPooling2D</span>)       │ (<span style=\"color: #00d7ff; text-decoration-color: #00d7ff\">None</span>, <span style=\"color: #00af00; text-decoration-color: #00af00\">5</span>, <span style=\"color: #00af00; text-decoration-color: #00af00\">5</span>, <span style=\"color: #00af00; text-decoration-color: #00af00\">48</span>)            │               <span style=\"color: #00af00; text-decoration-color: #00af00\">0</span> │\n",
              "├──────────────────────────────────────┼─────────────────────────────┼─────────────────┤\n",
              "│ flatten (<span style=\"color: #0087ff; text-decoration-color: #0087ff\">Flatten</span>)                    │ (<span style=\"color: #00d7ff; text-decoration-color: #00d7ff\">None</span>, <span style=\"color: #00af00; text-decoration-color: #00af00\">1200</span>)                │               <span style=\"color: #00af00; text-decoration-color: #00af00\">0</span> │\n",
              "├──────────────────────────────────────┼─────────────────────────────┼─────────────────┤\n",
              "│ dense_4 (<span style=\"color: #0087ff; text-decoration-color: #0087ff\">Dense</span>)                      │ (<span style=\"color: #00d7ff; text-decoration-color: #00d7ff\">None</span>, <span style=\"color: #00af00; text-decoration-color: #00af00\">256</span>)                 │         <span style=\"color: #00af00; text-decoration-color: #00af00\">307,456</span> │\n",
              "├──────────────────────────────────────┼─────────────────────────────┼─────────────────┤\n",
              "│ dense_5 (<span style=\"color: #0087ff; text-decoration-color: #0087ff\">Dense</span>)                      │ (<span style=\"color: #00d7ff; text-decoration-color: #00d7ff\">None</span>, <span style=\"color: #00af00; text-decoration-color: #00af00\">84</span>)                  │          <span style=\"color: #00af00; text-decoration-color: #00af00\">21,588</span> │\n",
              "├──────────────────────────────────────┼─────────────────────────────┼─────────────────┤\n",
              "│ dense_6 (<span style=\"color: #0087ff; text-decoration-color: #0087ff\">Dense</span>)                      │ (<span style=\"color: #00d7ff; text-decoration-color: #00d7ff\">None</span>, <span style=\"color: #00af00; text-decoration-color: #00af00\">10</span>)                  │             <span style=\"color: #00af00; text-decoration-color: #00af00\">850</span> │\n",
              "└──────────────────────────────────────┴─────────────────────────────┴─────────────────┘\n",
              "</pre>\n"
            ]
          },
          "metadata": {}
        },
        {
          "output_type": "display_data",
          "data": {
            "text/plain": [
              "\u001b[1m Total params: \u001b[0m\u001b[38;5;34m369,174\u001b[0m (1.41 MB)\n"
            ],
            "text/html": [
              "<pre style=\"white-space:pre;overflow-x:auto;line-height:normal;font-family:Menlo,'DejaVu Sans Mono',consolas,'Courier New',monospace\"><span style=\"font-weight: bold\"> Total params: </span><span style=\"color: #00af00; text-decoration-color: #00af00\">369,174</span> (1.41 MB)\n",
              "</pre>\n"
            ]
          },
          "metadata": {}
        },
        {
          "output_type": "display_data",
          "data": {
            "text/plain": [
              "\u001b[1m Trainable params: \u001b[0m\u001b[38;5;34m369,174\u001b[0m (1.41 MB)\n"
            ],
            "text/html": [
              "<pre style=\"white-space:pre;overflow-x:auto;line-height:normal;font-family:Menlo,'DejaVu Sans Mono',consolas,'Courier New',monospace\"><span style=\"font-weight: bold\"> Trainable params: </span><span style=\"color: #00af00; text-decoration-color: #00af00\">369,174</span> (1.41 MB)\n",
              "</pre>\n"
            ]
          },
          "metadata": {}
        },
        {
          "output_type": "display_data",
          "data": {
            "text/plain": [
              "\u001b[1m Non-trainable params: \u001b[0m\u001b[38;5;34m0\u001b[0m (0.00 B)\n"
            ],
            "text/html": [
              "<pre style=\"white-space:pre;overflow-x:auto;line-height:normal;font-family:Menlo,'DejaVu Sans Mono',consolas,'Courier New',monospace\"><span style=\"font-weight: bold\"> Non-trainable params: </span><span style=\"color: #00af00; text-decoration-color: #00af00\">0</span> (0.00 B)\n",
              "</pre>\n"
            ]
          },
          "metadata": {}
        }
      ]
    },
    {
      "cell_type": "markdown",
      "source": [
        "**Пояснення:**\n",
        "- layers.Conv2D: згортковий шар, виявляє ознаки за допомогою фільтрів.\n",
        "- layers.MaxPooling2D: шар макс пулінгу, зменшує розмірність даних.\n",
        "- layers.Flatten: шар сплющення, перетворює дані в одновимірний вектор.\n",
        "- layers.Dense: вихідний шар, виконує класифікацію на 10 класів."
      ],
      "metadata": {
        "id": "CFiLK-XBPV8d"
      }
    },
    {
      "cell_type": "code",
      "source": [
        "# Train the model\n",
        "history = model.fit(x_train, y_train, epochs=10, batch_size=512, validation_data=(x_test, y_test))\n",
        "\n",
        "# Evaluate the model\n",
        "loss, accuracy = model.evaluate(x_test, y_test, verbose=0)\n",
        "print('Test loss:', loss)\n",
        "print('Test accuracy:', accuracy)"
      ],
      "metadata": {
        "colab": {
          "base_uri": "https://localhost:8080/"
        },
        "id": "94jYhaSwMC7M",
        "outputId": "eba0ade9-3529-4c21-ed8f-f075173f139a"
      },
      "execution_count": null,
      "outputs": [
        {
          "output_type": "stream",
          "name": "stdout",
          "text": [
            "Epoch 1/10\n",
            "\u001b[1m118/118\u001b[0m \u001b[32m━━━━━━━━━━━━━━━━━━━━\u001b[0m\u001b[37m\u001b[0m \u001b[1m9s\u001b[0m 34ms/step - accuracy: 0.7764 - loss: 0.7713 - val_accuracy: 0.9782 - val_loss: 0.0766\n",
            "Epoch 2/10\n",
            "\u001b[1m118/118\u001b[0m \u001b[32m━━━━━━━━━━━━━━━━━━━━\u001b[0m\u001b[37m\u001b[0m \u001b[1m1s\u001b[0m 10ms/step - accuracy: 0.9758 - loss: 0.0821 - val_accuracy: 0.9835 - val_loss: 0.0532\n",
            "Epoch 3/10\n",
            "\u001b[1m118/118\u001b[0m \u001b[32m━━━━━━━━━━━━━━━━━━━━\u001b[0m\u001b[37m\u001b[0m \u001b[1m1s\u001b[0m 11ms/step - accuracy: 0.9822 - loss: 0.0589 - val_accuracy: 0.9877 - val_loss: 0.0359\n",
            "Epoch 4/10\n",
            "\u001b[1m118/118\u001b[0m \u001b[32m━━━━━━━━━━━━━━━━━━━━\u001b[0m\u001b[37m\u001b[0m \u001b[1m1s\u001b[0m 12ms/step - accuracy: 0.9869 - loss: 0.0410 - val_accuracy: 0.9891 - val_loss: 0.0321\n",
            "Epoch 5/10\n",
            "\u001b[1m118/118\u001b[0m \u001b[32m━━━━━━━━━━━━━━━━━━━━\u001b[0m\u001b[37m\u001b[0m \u001b[1m1s\u001b[0m 11ms/step - accuracy: 0.9903 - loss: 0.0312 - val_accuracy: 0.9905 - val_loss: 0.0282\n",
            "Epoch 6/10\n",
            "\u001b[1m118/118\u001b[0m \u001b[32m━━━━━━━━━━━━━━━━━━━━\u001b[0m\u001b[37m\u001b[0m \u001b[1m1s\u001b[0m 10ms/step - accuracy: 0.9920 - loss: 0.0245 - val_accuracy: 0.9873 - val_loss: 0.0381\n",
            "Epoch 7/10\n",
            "\u001b[1m118/118\u001b[0m \u001b[32m━━━━━━━━━━━━━━━━━━━━\u001b[0m\u001b[37m\u001b[0m \u001b[1m1s\u001b[0m 10ms/step - accuracy: 0.9929 - loss: 0.0244 - val_accuracy: 0.9901 - val_loss: 0.0264\n",
            "Epoch 8/10\n",
            "\u001b[1m118/118\u001b[0m \u001b[32m━━━━━━━━━━━━━━━━━━━━\u001b[0m\u001b[37m\u001b[0m \u001b[1m1s\u001b[0m 10ms/step - accuracy: 0.9945 - loss: 0.0176 - val_accuracy: 0.9912 - val_loss: 0.0268\n",
            "Epoch 9/10\n",
            "\u001b[1m118/118\u001b[0m \u001b[32m━━━━━━━━━━━━━━━━━━━━\u001b[0m\u001b[37m\u001b[0m \u001b[1m1s\u001b[0m 10ms/step - accuracy: 0.9949 - loss: 0.0161 - val_accuracy: 0.9894 - val_loss: 0.0310\n",
            "Epoch 10/10\n",
            "\u001b[1m118/118\u001b[0m \u001b[32m━━━━━━━━━━━━━━━━━━━━\u001b[0m\u001b[37m\u001b[0m \u001b[1m1s\u001b[0m 10ms/step - accuracy: 0.9958 - loss: 0.0141 - val_accuracy: 0.9922 - val_loss: 0.0243\n",
            "Test loss: 0.024301765486598015\n",
            "Test accuracy: 0.9922000169754028\n"
          ]
        }
      ]
    },
    {
      "cell_type": "markdown",
      "source": [
        "### Згортка (Conv2D)"
      ],
      "metadata": {
        "id": "RV3DwjKeProe"
      }
    },
    {
      "cell_type": "markdown",
      "source": [
        "**Згорткові шари (Conv2D):**\n",
        " - Виконують операцію згортки (convolution) для виявлення локальних ознак на зображенні.\n",
        " - Використовують фільтри (kernels), які \"ковзають\" по зображенню, виявляючи певні шаблони."
      ],
      "metadata": {
        "id": "2qG4xKcwPxem"
      }
    },
    {
      "cell_type": "markdown",
      "source": [
        "**Компоненти**:\n",
        "- *Ядро згортки (фільтр, kernel)*: невелика матриця (наприклад, 3x3, 5x5), яка \"ковзає\" по вхідному зображенню.\n",
        "- *Вікно*: кожне положення ядра на зображенні відповідає вікно, яке охоплює певну область пікселів.\n",
        "- *Скалярний добуток*: для кожного вікна обчислюється скалярний добуток ядра та значень пікселів у вікні.\n",
        "- *Вихідна карта ознак*: результат скалярного добутку записується у відповідну позицію на вихідній карті ознак (feature map)."
      ],
      "metadata": {
        "id": "1aUCAULAP43K"
      }
    },
    {
      "cell_type": "markdown",
      "source": [
        "<img src=\"https://animatedai.github.io/media/convolution-animation-3x3-kernel.gif\" width=\"700\">"
      ],
      "metadata": {
        "id": "_IZ67GBnQUoj"
      }
    },
    {
      "cell_type": "markdown",
      "source": [
        "**Ядро згортки**\n",
        "\n",
        "* **Роль ядра:** Ядро згортки визначає, яку саме ознаку буде виявляти згортковий шар. Воно діє як фільтр, який \"пропускає\" певні шаблони та \"блокує\" інші.\n",
        "* **Навчання:** Ваги ядра згортки є параметрами, які навчаються під час тренування мережі. Мережа автоматично підбирає ваги ядра, які найкраще виявляють корисні ознаки для задачі, яку вона вирішує."
      ],
      "metadata": {
        "id": "qd9lG2HDTUfP"
      }
    },
    {
      "cell_type": "markdown",
      "source": [
        "**Приклад:** Розглянемо зображення 5x5 та ядро 3x3:\n",
        "\n",
        "```\n",
        "Зображення:        Ядро:\n",
        "1  2  3  4  5      -1  0  1\n",
        "6  7  8  9  10     -2  0  2\n",
        "11 12 13 14 15     -1  0  1\n",
        "16 17 18 19 20\n",
        "21 22 23 24 25\n",
        "```\n",
        "\n",
        "* Коли ядро знаходиться в центрі зображення, вікно охоплює пікселі [7, 8, 9, 12, 13, 14, 17, 18, 19].\n",
        "* Скалярний добуток: $(-1)*7 + 0*8 + 1*9 + (-2)*12 + 0*13 + 2*14 + (-1)*17 + 0*18 + 1*19 = 8$\n",
        "* Значення 8 записується в центральну позицію вихідної карти ознак."
      ],
      "metadata": {
        "id": "vPXTjZzHSNzk"
      }
    },
    {
      "cell_type": "code",
      "source": [],
      "metadata": {
        "id": "rrGQNnlBMC47"
      },
      "execution_count": null,
      "outputs": []
    },
    {
      "cell_type": "markdown",
      "source": [
        "**Приклади ядер згортки**\n",
        "\n",
        "* **Виявлення країв:**\n",
        "    ```\n",
        "    [-1, -1, -1]\n",
        "    [ 0,  0,  0]\n",
        "    [ 1,  1,  1]\n",
        "    ```\n",
        "    Це ядро виявляє горизонтальні краї. Воно реагує на різницю в інтенсивності пікселів по вертикалі.\n",
        "\n",
        "    ```\n",
        "    [-1, 0, 1]\n",
        "    [-1, 0, 1]\n",
        "    [-1, 0, 1]\n",
        "    ```\n",
        "    Це ядро виявляє вертикальні краї. Воно реагує на різницю в інтенсивності пікселів по горизонталі.\n",
        "* **Розмиття:**\n",
        "    ```\n",
        "    [1/9, 1/9, 1/9]\n",
        "    [1/9, 1/9, 1/9]\n",
        "    [1/9, 1/9, 1/9]\n",
        "    ```\n",
        "    Це ядро усереднює значення пікселів у вікні, що призводить до розмиття зображення.\n",
        "* **Гостріння:**\n",
        "    ```\n",
        "    [ 0, -1,  0]\n",
        "    [-1,  5, -1]\n",
        "    [ 0, -1,  0]\n",
        "    ```\n",
        "    Це ядро підкреслює різницю між центральним пікселем та його сусідами, що призводить до гостріння зображення."
      ],
      "metadata": {
        "id": "buBC-NpZSgmp"
      }
    },
    {
      "cell_type": "markdown",
      "source": [
        "<img src=\"https://miro.medium.com/v2/resize:fit:1206/format:webp/0*czWUfPtxU3CTg3SN.png\" width=\"700\">"
      ],
      "metadata": {
        "id": "avQu76c1UzfS"
      }
    },
    {
      "cell_type": "markdown",
      "source": [
        "#### Edge detection"
      ],
      "metadata": {
        "id": "7vZTnbdDWVGj"
      }
    },
    {
      "cell_type": "code",
      "source": [
        "import matplotlib.pyplot as plt\n",
        "import numpy as np\n",
        "\n",
        "# Define the kernel for edge detection\n",
        "edge_kernel = np.array([\n",
        "    [-1, -1, -1],\n",
        "    [-1,  8, -1],\n",
        "    [-1, -1, -1]\n",
        "])\n",
        "\n",
        "# Create a convolutional layer with the edge detection kernel\n",
        "edge_conv_layer = layers.Conv2D(\n",
        "    filters=1, kernel_size=(3, 3), activation='linear',\n",
        "    kernel_initializer=tf.constant_initializer(edge_kernel),\n",
        "    input_shape=(28, 28)\n",
        ")"
      ],
      "metadata": {
        "id": "HYmhilupUYnV"
      },
      "execution_count": null,
      "outputs": []
    },
    {
      "cell_type": "code",
      "source": [
        "# Apply the convolution to the image\n",
        "image = x_train[0].reshape(1, 28, 28, 1)\n",
        "output = edge_conv_layer(image)\n",
        "\n",
        "# Display the original and the convolved image\n",
        "plt.figure(figsize=(10, 5))\n",
        "plt.subplot(1, 2, 1)\n",
        "plt.imshow(x_train[0], cmap='gray')\n",
        "plt.title('Original Image')\n",
        "\n",
        "plt.subplot(1, 2, 2)\n",
        "plt.imshow(output[0, :, :, 0], cmap='gray')\n",
        "plt.title('Edge Detection')\n",
        "plt.show()"
      ],
      "metadata": {
        "colab": {
          "base_uri": "https://localhost:8080/",
          "height": 435
        },
        "id": "I8-gw0WuVFtv",
        "outputId": "8691fa30-7078-4f30-8359-b3733243dd0d"
      },
      "execution_count": null,
      "outputs": [
        {
          "output_type": "display_data",
          "data": {
            "text/plain": [
              "<Figure size 1000x500 with 2 Axes>"
            ],
            "image/png": "[encoded data removed]"
          },
          "metadata": {}
        }
      ]
    },
    {
      "cell_type": "markdown",
      "source": [
        "#### Horizontal edge detection"
      ],
      "metadata": {
        "id": "qMX5eKBOX5DO"
      }
    },
    {
      "cell_type": "code",
      "source": [
        "# Define the kernel for edge detection\n",
        "h_edge_kernel = np.array([\n",
        "    [-1, -1, -1],\n",
        "    [ 0,  0,  0],\n",
        "    [ 1,  1,  1]\n",
        "])\n",
        "\n",
        "# Create a convolutional layer with the edge detection kernel\n",
        "h_edge_conv_layer = layers.Conv2D(\n",
        "    filters=1, kernel_size=(3, 3), activation='linear',\n",
        "    kernel_initializer=tf.constant_initializer(h_edge_kernel),\n",
        "    input_shape=(28, 28)\n",
        ")"
      ],
      "metadata": {
        "id": "knghd3-2X5DQ"
      },
      "execution_count": null,
      "outputs": []
    },
    {
      "cell_type": "code",
      "source": [
        "# Apply the convolution to the image\n",
        "image = x_train[0].reshape(1, 28, 28, 1)\n",
        "output = h_edge_conv_layer(image)\n",
        "\n",
        "# Display the original and the convolved image\n",
        "plt.figure(figsize=(10, 5))\n",
        "plt.subplot(1, 2, 1)\n",
        "plt.imshow(x_train[0], cmap='gray')\n",
        "plt.title('Original Image')\n",
        "\n",
        "plt.subplot(1, 2, 2)\n",
        "plt.imshow(output[0, :, :, 0], cmap='gray')\n",
        "plt.title('Edge Detection')\n",
        "plt.show()"
      ],
      "metadata": {
        "colab": {
          "base_uri": "https://localhost:8080/",
          "height": 435
        },
        "outputId": "5731e461-1b1a-49e1-a02a-f31ceebd5dd5",
        "id": "_Yzkdl44X5DR"
      },
      "execution_count": null,
      "outputs": [
        {
          "output_type": "display_data",
          "data": {
            "text/plain": [
              "<Figure size 1000x500 with 2 Axes>"
            ],
            "image/png": "[encoded data removed]"
          },
          "metadata": {}
        }
      ]
    },
    {
      "cell_type": "markdown",
      "source": [
        "#### Vertical edge detection"
      ],
      "metadata": {
        "id": "2I3ZBz8jXfJT"
      }
    },
    {
      "cell_type": "code",
      "source": [
        "# Define the kernel for edge detection\n",
        "v_edge_kernel = np.array([\n",
        "    [-1, 0, 1],\n",
        "    [-1, 0, 1],\n",
        "    [-1, 0, 1]\n",
        "])\n",
        "\n",
        "# Create a convolutional layer with the edge detection kernel\n",
        "v_edge_conv_layer = layers.Conv2D(\n",
        "    filters=1, kernel_size=(3, 3), activation='linear',\n",
        "    kernel_initializer=tf.constant_initializer(v_edge_kernel),\n",
        "    input_shape=(28, 28)\n",
        ")"
      ],
      "metadata": {
        "id": "HpX3xLadXUXv"
      },
      "execution_count": null,
      "outputs": []
    },
    {
      "cell_type": "code",
      "source": [
        "# Apply the convolution to the image\n",
        "image = x_train[0].reshape(1, 28, 28, 1)\n",
        "output = v_edge_conv_layer(image)\n",
        "\n",
        "# Display the original and the convolved image\n",
        "plt.figure(figsize=(10, 5))\n",
        "plt.subplot(1, 2, 1)\n",
        "plt.imshow(x_train[0], cmap='gray')\n",
        "plt.title('Original Image')\n",
        "\n",
        "plt.subplot(1, 2, 2)\n",
        "plt.imshow(output[0, :, :, 0], cmap='gray')\n",
        "plt.title('Edge Detection')\n",
        "plt.show()"
      ],
      "metadata": {
        "colab": {
          "base_uri": "https://localhost:8080/",
          "height": 435
        },
        "outputId": "017b37fe-b93b-4e73-e45e-6c5e06c0fb18",
        "id": "blHHrcnYXUXw"
      },
      "execution_count": null,
      "outputs": [
        {
          "output_type": "display_data",
          "data": {
            "text/plain": [
              "<Figure size 1000x500 with 2 Axes>"
            ],
            "image/png": "[encoded data removed]"
          },
          "metadata": {}
        }
      ]
    },
    {
      "cell_type": "markdown",
      "source": [
        "#### Blur"
      ],
      "metadata": {
        "id": "J-xHBn03WYL8"
      }
    },
    {
      "cell_type": "code",
      "source": [
        "# Define the kernel for edge detection\n",
        "blur_kernel = (1/16) * np.array([\n",
        "    [1, 2, 1],\n",
        "    [2, 4, 2],\n",
        "    [1, 2, 1]\n",
        "])\n",
        "\n",
        "# Create a convolutional layer with the edge detection kernel\n",
        "blur_conv_layer = layers.Conv2D(\n",
        "    filters=1, kernel_size=(3, 3), activation='linear',\n",
        "    kernel_initializer=tf.constant_initializer(blur_kernel),\n",
        "    input_shape=(28, 28)\n",
        ")"
      ],
      "metadata": {
        "id": "HRv7KRegVFq9"
      },
      "execution_count": null,
      "outputs": []
    },
    {
      "cell_type": "code",
      "source": [
        "# Apply the convolution to the image\n",
        "image = x_train[0].reshape(1, 28, 28, 1)\n",
        "output = blur_conv_layer(image)\n",
        "\n",
        "# Display the original and the convolved image\n",
        "plt.figure(figsize=(10, 5))\n",
        "plt.subplot(1, 2, 1)\n",
        "plt.imshow(x_train[0], cmap='gray')\n",
        "plt.title('Original Image')\n",
        "\n",
        "plt.subplot(1, 2, 2)\n",
        "plt.imshow(output[0, :, :, 0], cmap='gray')\n",
        "plt.title('Blur')\n",
        "plt.show()"
      ],
      "metadata": {
        "colab": {
          "base_uri": "https://localhost:8080/",
          "height": 435
        },
        "id": "AM6CnCPLUUXg",
        "outputId": "2db56a9e-c19f-4abb-cbe7-b78807f7d065"
      },
      "execution_count": null,
      "outputs": [
        {
          "output_type": "display_data",
          "data": {
            "text/plain": [
              "<Figure size 1000x500 with 2 Axes>"
            ],
            "image/png": "[encoded data removed]"
          },
          "metadata": {}
        }
      ]
    },
    {
      "cell_type": "markdown",
      "source": [
        "#### Параметри згортки"
      ],
      "metadata": {
        "id": "ntI1cIh3YUvS"
      }
    },
    {
      "cell_type": "markdown",
      "source": [
        "\n",
        "\n",
        "* **Розмір вікна (kernel_size):**\n",
        "    * Визначає розмір ядра згортки (наприклад, 3x3, 5x5).\n",
        "    * Більший розмір вікна дозволяє виявляти більш складні ознаки, але збільшує кількість параметрів та обчислювальну складність."
      ],
      "metadata": {
        "id": "sqKp60nDTD3N"
      }
    },
    {
      "cell_type": "markdown",
      "source": [
        "* **Глибина (filters):**\n",
        "    * Визначає кількість фільтрів (карт ознак) на виході згорткового шару.\n",
        "    * Кожен фільтр виявляє певну ознаку."
      ],
      "metadata": {
        "id": "de2C--zrYjva"
      }
    },
    {
      "cell_type": "markdown",
      "source": [
        "<img src=\"https://animatedai.github.io/media/convolution-animation-3x3-kernel.gif\" width=\"700\">"
      ],
      "metadata": {
        "id": "cYWnJYi4Y6VW"
      }
    },
    {
      "cell_type": "markdown",
      "source": [
        "* **Крок (strides):**\n",
        "    * Визначає, на скільки пікселів зміщується ядро згортки після кожного кроку.\n",
        "    * За замовчуванням `strides=1`, тобто ядро рухається на один піксель за раз.\n",
        "    * Збільшення `strides` призводить до зменшення розміру вихідної карти ознак."
      ],
      "metadata": {
        "id": "dbu5SzMJYhlq"
      }
    },
    {
      "cell_type": "markdown",
      "source": [
        "Приклад з stride = 2:\n",
        "\n",
        "<img src=\"https://animatedai.github.io/media/convolution-animation-3x3-kernel-stride-2.gif\" width=\"700\">"
      ],
      "metadata": {
        "id": "C4WW7GzyY_20"
      }
    },
    {
      "cell_type": "markdown",
      "source": [
        "* **Доповнення (padding):**\n",
        "    * Визначає, чи додавати \"рамку\" з нулів навколо зображення перед згорткою.\n",
        "    * `padding='valid'`: не додавати рамку (розмір вихідної карти ознак буде меншим за вхідне зображення).\n",
        "    * `padding='same'`: додати рамку так, щоб розмір вихідної карти ознак був таким самим, як і вхідного зображення."
      ],
      "metadata": {
        "id": "c4cXikAMYioN"
      }
    },
    {
      "cell_type": "markdown",
      "source": [
        "No padding (padding='valid'):\n",
        "\n",
        "<img src=\"https://animatedai.github.io/media/convolution-animation-3x3-kernel.gif\" width=\"700\">"
      ],
      "metadata": {
        "id": "DNIjSWonZXRq"
      }
    },
    {
      "cell_type": "markdown",
      "source": [
        "Padding (padding='same'):\n",
        "\n",
        "<img src=\"https://animatedai.github.io/media/convolution-animation-3x3-kernel-same-padding.gif\" width=\"700\">"
      ],
      "metadata": {
        "id": "Q1ExbawcZxp_"
      }
    },
    {
      "cell_type": "markdown",
      "source": [
        "* **Функція активації (activation):**\n",
        "    * Застосовується до результату згортки для введення нелінійності в мережу.\n",
        "    * Популярні функції активації: `relu`, `sigmoid`, `tanh`."
      ],
      "metadata": {
        "id": "n_NDde37Ykve"
      }
    },
    {
      "cell_type": "markdown",
      "source": [
        "#### Карти ознак (Feature maps)"
      ],
      "metadata": {
        "id": "lBbvYjXnaXbI"
      }
    },
    {
      "cell_type": "markdown",
      "source": [
        "https://medium.com/@chriskevin_80184/feature-maps-ee8e11a71f9e"
      ],
      "metadata": {
        "id": "1mZnZYljj1XJ"
      }
    },
    {
      "cell_type": "markdown",
      "source": [
        "**Карта ознак (feature map)** - це результат роботи згорткового шару."
      ],
      "metadata": {
        "id": "p3LRKLkGaZwr"
      }
    },
    {
      "cell_type": "markdown",
      "source": [
        "<img src=\"https://miro.medium.com/v2/resize:fit:960/format:webp/1*Y0tvNnH7sXHw2zP7TrCKgA.gif\" width=\"700\">"
      ],
      "metadata": {
        "id": "pu0SATrpa2bL"
      }
    },
    {
      "cell_type": "markdown",
      "source": [
        "**Інтерпретація:** Кожна карта ознак відповідає одному фільтру та показує, наскільки сильно активована певна ознака в різних частинах зображення.\n",
        "\n",
        "**Глибина:** Кількість карт ознак визначається параметром filters згорткового шару.\n",
        "\n",
        "**Розмір:** Розмір карт ознак залежить від розміру вхідного зображення, розміру ядра, кроку та доповнення."
      ],
      "metadata": {
        "id": "_gsaJsfsabLU"
      }
    },
    {
      "cell_type": "markdown",
      "source": [
        "### Макс пулінг (MaxPooling2D)"
      ],
      "metadata": {
        "id": "BMWxkzSPbFt9"
      }
    },
    {
      "cell_type": "markdown",
      "source": [
        "**Принцип роботи макс пулінгу:**\n",
        "- **Вікно (пул):**  вікно певного розміру (наприклад, 2x2) \"ковзає\" по карті ознак.\n",
        "- **Максимальне значення:** для кожного положення вікна вибирається максимальне значення.\n",
        "- **Зменшення розмірності:** результат записується у відповідну позицію на вихідній карті ознак зменшеного розміру."
      ],
      "metadata": {
        "id": "BSIbKygtbRmB"
      }
    },
    {
      "cell_type": "markdown",
      "source": [
        "<img src=\"https://production-media.paperswithcode.com/methods/MaxpoolSample2.png\" width=\"700\">"
      ],
      "metadata": {
        "id": "4i69yeO4cXn7"
      }
    },
    {
      "cell_type": "markdown",
      "source": [
        "**Приклад:** Розглянемо карту ознак 4x4 та вікно пулінгу 2x2:\n",
        "\n",
        "```\n",
        "Карта ознак:\n",
        "1  2  3  4\n",
        "5  6  7  8\n",
        "9  10 11 12\n",
        "13 14 15 16\n",
        "```\n",
        "\n",
        "* Перше вікно пулінгу охоплює пікселі [1, 2, 5, 6]. Максимальне значення - 6.\n",
        "* Друге вікно пулінгу охоплює пікселі [3, 4, 7, 8]. Максимальне значення - 8.\n",
        "* І так далі.\n",
        "* Вихідна карта ознак буде мати розмір 2x2:\n",
        "\n",
        "```\n",
        "6  8\n",
        "11 16\n",
        "```"
      ],
      "metadata": {
        "id": "kscXd0GBbHg3"
      }
    },
    {
      "cell_type": "markdown",
      "source": [
        "**Переваги макс пулінгу:**\n",
        "\n",
        "* **Зменшення розмірності:**\n",
        "    * Зменшує кількість параметрів мережі, що призводить до зменшення обчислювальної складності та прискорення навчання.\n",
        "    * Запобігає перенавчанню, оскільки зменшує кількість вільних параметрів, які мережа може налаштувати.\n",
        "* **Інваріантність до невеликих зсувів:**\n",
        "    * Зменшує чутливість мережі до невеликих змін положення об'єктів на зображенні.\n",
        "    * Навіть якщо об'єкт зсунеться на кілька пікселів, макс пулінг все одно вибере максимальне значення, яке, ймовірно, буде відповідати тій самій ознаці."
      ],
      "metadata": {
        "id": "JeYHepl-cqV3"
      }
    },
    {
      "cell_type": "markdown",
      "source": [
        "**Параметри макс пулінгу:**\n",
        "\n",
        "* **Розмір вікна (pool_size):**\n",
        "    * Визначає розмір вікна пулінгу (наприклад, 2x2).\n",
        "    * Більший розмір вікна призводить до більшого зменшення розмірності, але може втратити деяку важливу інформацію.\n",
        "* **Крок (strides):**\n",
        "    * Визначає, на скільки пікселів зміщується вікно пулінгу після кожного кроку.\n",
        "    * За замовчуванням `strides` дорівнює `pool_size`, тобто вікна не перекриваються.\n",
        "    * Зменшення `strides` призводить до перекриття вікон, що може зберегти більше інформації, але збільшує обчислювальну складність.\n",
        "* **Доповнення (padding):**\n",
        "    * Визначає, чи додавати \"рамку\" з нулів навколо карти ознак перед пулінгом.\n",
        "    * `padding='valid'`: не додавати рамку.\n",
        "    * `padding='same'`: додати рамку так, щоб розмір вихідної карти ознак був таким самим, як і вхідної карти ознак (з урахуванням `strides`)."
      ],
      "metadata": {
        "id": "xTiExgNmcxhh"
      }
    },
    {
      "cell_type": "markdown",
      "source": [
        "<img src=\"https://camo.githubusercontent.com/26ca4901a9a9fdbaf0002562222d7f3ae263fe51db1c6dfc4942601b8d0f3798/68747470733a2f2f6d6c6e6f7465626f6f6b2e6769746875622e696f2f696d672f434e4e2f706f6f6c6669672e676966\" width=\"700\">"
      ],
      "metadata": {
        "id": "Drb81dv_dKC6"
      }
    },
    {
      "cell_type": "markdown",
      "source": [
        "#### Keras Example"
      ],
      "metadata": {
        "id": "a58mpDmjeNRi"
      }
    },
    {
      "cell_type": "code",
      "source": [
        "# Create a convolutional layer with the edge detection kernel\n",
        "max_pool_layer = layers.MaxPooling2D(pool_size=(2, 2))"
      ],
      "metadata": {
        "id": "XuCClWMMdesK"
      },
      "execution_count": null,
      "outputs": []
    },
    {
      "cell_type": "code",
      "source": [
        "# Apply the convolution to the image\n",
        "image = x_train[0].reshape(1, 28, 28, 1)\n",
        "output = max_pool_layer(image)\n",
        "\n",
        "# Display the original and the convolved image\n",
        "plt.figure(figsize=(10, 5))\n",
        "plt.subplot(1, 2, 1)\n",
        "plt.imshow(x_train[0], cmap='gray')\n",
        "plt.title('Original Image')\n",
        "\n",
        "plt.subplot(1, 2, 2)\n",
        "plt.imshow(output[0, :, :, 0], cmap='gray')\n",
        "plt.title('Max Pool 2x2')\n",
        "plt.show()"
      ],
      "metadata": {
        "colab": {
          "base_uri": "https://localhost:8080/",
          "height": 435
        },
        "id": "JFOpcftDdaRb",
        "outputId": "dfc50f67-fc73-46b0-cd79-398a157d96a3"
      },
      "execution_count": null,
      "outputs": [
        {
          "output_type": "display_data",
          "data": {
            "text/plain": [
              "<Figure size 1000x500 with 2 Axes>"
            ],
            "image/png": "[encoded data removed]"
          },
          "metadata": {}
        }
      ]
    },
    {
      "cell_type": "code",
      "source": [],
      "metadata": {
        "id": "7od1lOJfeFy6"
      },
      "execution_count": null,
      "outputs": []
    },
    {
      "cell_type": "markdown",
      "source": [
        "### Властивості ЗНМ"
      ],
      "metadata": {
        "id": "qyZIWgIveRHA"
      }
    },
    {
      "cell_type": "markdown",
      "source": [
        "Інваріантність до переносу:\n",
        "\n",
        "* **Визначення:** ЗНМ здатні розпізнавати шаблони на зображенні незалежно від їх положення.\n",
        "* **Приклад:**\n",
        "    * Розпізнавання обличчя на фотографії, незалежно від того, чи знаходиться воно в центрі кадру чи збоку."
      ],
      "metadata": {
        "id": "YRso331meXEP"
      }
    },
    {
      "cell_type": "markdown",
      "source": [
        "Виявлення просторових ієрархій:\n",
        "\n",
        "* **Визначення:** ЗНМ здатні виявляти складні шаблони, що складаються з простих.\n",
        "* **Приклад:**\n",
        "    * Перші шари ЗНМ виявляють краї, кути, текстури.\n",
        "    * Наступні шари комбінують ці ознаки для формування більш абстрактних уявлень про об'єкти (наприклад, очі, ніс, рот -> обличчя)."
      ],
      "metadata": {
        "id": "MG470zTvebda"
      }
    },
    {
      "cell_type": "markdown",
      "source": [
        "<img src=\"https://miro.medium.com/v2/resize:fit:1400/format:webp/1*LlRAQHT0ktl_33VUnDhoIg.png\" width=\"700\">"
      ],
      "metadata": {
        "id": "3qovmyvwgKlR"
      }
    },
    {
      "cell_type": "markdown",
      "source": [
        "## Навчання ЗНМ"
      ],
      "metadata": {
        "id": "tmS__heJgMZh"
      }
    },
    {
      "cell_type": "markdown",
      "source": [
        "Архітектура нейронної мережі для класифікації зображень з використанням згорткових шарів для ексткракції показників, та нейронних шарів для класифікації.\n",
        "\n",
        "<img src=\"https://miro.medium.com/v2/resize:fit:3744/format:webp/1*SGPGG7oeSvVlV5sOSQ2iZw.png\" width=\"1000\">"
      ],
      "metadata": {
        "id": "hU6SOKivhFJH"
      }
    },
    {
      "cell_type": "markdown",
      "source": [
        "Графічні представлення ознак у 3 шарах CNN. Зверніть увагу на зростаючу складність функцій, хоча функції першого рівня ті самі.\n",
        "\n",
        "<img src=\"https://www.researchgate.net/profile/Abhinav-Vishnu/publication/308883811/figure/fig2/AS:413666332692485@1475637148009/Pictorial-representation-of-features-in-3-layers-of-a-CNN-34-Notice-the-increasing.png\" width=\"700\">"
      ],
      "metadata": {
        "id": "NAkxxFxwi83A"
      }
    },
    {
      "cell_type": "markdown",
      "source": [
        "<img src=\"http://playagricola.com/Kaggle/extract.png\" width=\"1000\">"
      ],
      "metadata": {
        "id": "37tjmr2cgzgh"
      }
    },
    {
      "cell_type": "markdown",
      "source": [
        "**Процес навчання**\n",
        "\n",
        "* **Зворотне поширення помилки (backpropagation):**\n",
        "    * Алгоритм, який використовується для навчання ЗНМ.\n",
        "    * Обчислює помилку мережі та поширює її назад по шарах, оновлюючи ваги нейронів.\n",
        "* **Оновлення ваг:**\n",
        "    * Ваги нейронів оновлюються таким чином, щоб зменшити помилку мережі.\n"
      ],
      "metadata": {
        "id": "BO3H6c2YeFKb"
      }
    },
    {
      "cell_type": "code",
      "source": [
        "import tensorflow as tf\n",
        "(x_train, y_train), (x_test, y_test) = tf.keras.datasets.mnist.load_data()\n",
        "\n",
        "# Normalize pixel values to be between 0 and 1\n",
        "x_train = x_train.astype('float32') / 255.0\n",
        "x_test = x_test.astype('float32') / 255.0\n",
        "\n",
        "# Convert labels to one-hot encoding\n",
        "y_train = tf.keras.utils.to_categorical(y_train, num_classes=10)\n",
        "y_test = tf.keras.utils.to_categorical(y_test, num_classes=10)"
      ],
      "metadata": {
        "id": "TisIW_GWjc-o"
      },
      "execution_count": null,
      "outputs": []
    },
    {
      "cell_type": "code",
      "source": [
        "from tensorflow import keras\n",
        "from tensorflow.keras import layers\n",
        "\n",
        "model = keras.Sequential([\n",
        "    layers.Conv2D(filters=32, kernel_size=(5,5), padding='same', activation='relu', input_shape=(28, 28, 1)),\n",
        "    layers.MaxPool2D(strides=2),\n",
        "    layers.Conv2D(filters=48, kernel_size=(5,5), padding='valid', activation='relu'),\n",
        "    layers.MaxPool2D(strides=2),\n",
        "    layers.Flatten(),\n",
        "    layers.Dense(256, activation='relu'),\n",
        "    layers.Dense(84, activation='relu'),\n",
        "    layers.Dense(10, activation='softmax')\n",
        "])\n",
        "\n",
        "# Compile the model\n",
        "model.compile(\n",
        "    optimizer='adam',\n",
        "    loss='categorical_crossentropy',\n",
        "    metrics=['accuracy']\n",
        ")"
      ],
      "metadata": {
        "id": "X9XQOMd6jc-s"
      },
      "execution_count": null,
      "outputs": []
    },
    {
      "cell_type": "code",
      "source": [
        "model.summary()"
      ],
      "metadata": {
        "colab": {
          "base_uri": "https://localhost:8080/",
          "height": 385
        },
        "outputId": "7a8b7b61-5527-4aad-e977-a2c2d8328610",
        "id": "T2G9Sb8Qjc-s"
      },
      "execution_count": null,
      "outputs": [
        {
          "output_type": "display_data",
          "data": {
            "text/plain": [
              "\u001b[1mModel: \"sequential_3\"\u001b[0m\n"
            ],
            "text/html": [
              "<pre style=\"white-space:pre;overflow-x:auto;line-height:normal;font-family:Menlo,'DejaVu Sans Mono',consolas,'Courier New',monospace\"><span style=\"font-weight: bold\">Model: \"sequential_3\"</span>\n",
              "</pre>\n"
            ]
          },
          "metadata": {}
        },
        {
          "output_type": "display_data",
          "data": {
            "text/plain": [
              "┏━━━━━━━━━━━━━━━━━━━━━━━━━━━━━━━━━━━━━━┳━━━━━━━━━━━━━━━━━━━━━━━━━━━━━┳━━━━━━━━━━━━━━━━━┓\n",
              "┃\u001b[1m \u001b[0m\u001b[1mLayer (type)                        \u001b[0m\u001b[1m \u001b[0m┃\u001b[1m \u001b[0m\u001b[1mOutput Shape               \u001b[0m\u001b[1m \u001b[0m┃\u001b[1m \u001b[0m\u001b[1m        Param #\u001b[0m\u001b[1m \u001b[0m┃\n",
              "┡━━━━━━━━━━━━━━━━━━━━━━━━━━━━━━━━━━━━━━╇━━━━━━━━━━━━━━━━━━━━━━━━━━━━━╇━━━━━━━━━━━━━━━━━┩\n",
              "│ conv2d_7 (\u001b[38;5;33mConv2D\u001b[0m)                    │ (\u001b[38;5;45mNone\u001b[0m, \u001b[38;5;34m28\u001b[0m, \u001b[38;5;34m28\u001b[0m, \u001b[38;5;34m32\u001b[0m)          │             \u001b[38;5;34m832\u001b[0m │\n",
              "├──────────────────────────────────────┼─────────────────────────────┼─────────────────┤\n",
              "│ max_pooling2d_3 (\u001b[38;5;33mMaxPooling2D\u001b[0m)       │ (\u001b[38;5;45mNone\u001b[0m, \u001b[38;5;34m14\u001b[0m, \u001b[38;5;34m14\u001b[0m, \u001b[38;5;34m32\u001b[0m)          │               \u001b[38;5;34m0\u001b[0m │\n",
              "├──────────────────────────────────────┼─────────────────────────────┼─────────────────┤\n",
              "│ conv2d_8 (\u001b[38;5;33mConv2D\u001b[0m)                    │ (\u001b[38;5;45mNone\u001b[0m, \u001b[38;5;34m10\u001b[0m, \u001b[38;5;34m10\u001b[0m, \u001b[38;5;34m48\u001b[0m)          │          \u001b[38;5;34m38,448\u001b[0m │\n",
              "├──────────────────────────────────────┼─────────────────────────────┼─────────────────┤\n",
              "│ max_pooling2d_4 (\u001b[38;5;33mMaxPooling2D\u001b[0m)       │ (\u001b[38;5;45mNone\u001b[0m, \u001b[38;5;34m5\u001b[0m, \u001b[38;5;34m5\u001b[0m, \u001b[38;5;34m48\u001b[0m)            │               \u001b[38;5;34m0\u001b[0m │\n",
              "├──────────────────────────────────────┼─────────────────────────────┼─────────────────┤\n",
              "│ flatten_1 (\u001b[38;5;33mFlatten\u001b[0m)                  │ (\u001b[38;5;45mNone\u001b[0m, \u001b[38;5;34m1200\u001b[0m)                │               \u001b[38;5;34m0\u001b[0m │\n",
              "├──────────────────────────────────────┼─────────────────────────────┼─────────────────┤\n",
              "│ dense_7 (\u001b[38;5;33mDense\u001b[0m)                      │ (\u001b[38;5;45mNone\u001b[0m, \u001b[38;5;34m256\u001b[0m)                 │         \u001b[38;5;34m307,456\u001b[0m │\n",
              "├──────────────────────────────────────┼─────────────────────────────┼─────────────────┤\n",
              "│ dense_8 (\u001b[38;5;33mDense\u001b[0m)                      │ (\u001b[38;5;45mNone\u001b[0m, \u001b[38;5;34m84\u001b[0m)                  │          \u001b[38;5;34m21,588\u001b[0m │\n",
              "├──────────────────────────────────────┼─────────────────────────────┼─────────────────┤\n",
              "│ dense_9 (\u001b[38;5;33mDense\u001b[0m)                      │ (\u001b[38;5;45mNone\u001b[0m, \u001b[38;5;34m10\u001b[0m)                  │             \u001b[38;5;34m850\u001b[0m │\n",
              "└──────────────────────────────────────┴─────────────────────────────┴─────────────────┘\n"
            ],
            "text/html": [
              "<pre style=\"white-space:pre;overflow-x:auto;line-height:normal;font-family:Menlo,'DejaVu Sans Mono',consolas,'Courier New',monospace\">┏━━━━━━━━━━━━━━━━━━━━━━━━━━━━━━━━━━━━━━┳━━━━━━━━━━━━━━━━━━━━━━━━━━━━━┳━━━━━━━━━━━━━━━━━┓\n",
              "┃<span style=\"font-weight: bold\"> Layer (type)                         </span>┃<span style=\"font-weight: bold\"> Output Shape                </span>┃<span style=\"font-weight: bold\">         Param # </span>┃\n",
              "┡━━━━━━━━━━━━━━━━━━━━━━━━━━━━━━━━━━━━━━╇━━━━━━━━━━━━━━━━━━━━━━━━━━━━━╇━━━━━━━━━━━━━━━━━┩\n",
              "│ conv2d_7 (<span style=\"color: #0087ff; text-decoration-color: #0087ff\">Conv2D</span>)                    │ (<span style=\"color: #00d7ff; text-decoration-color: #00d7ff\">None</span>, <span style=\"color: #00af00; text-decoration-color: #00af00\">28</span>, <span style=\"color: #00af00; text-decoration-color: #00af00\">28</span>, <span style=\"color: #00af00; text-decoration-color: #00af00\">32</span>)          │             <span style=\"color: #00af00; text-decoration-color: #00af00\">832</span> │\n",
              "├──────────────────────────────────────┼─────────────────────────────┼─────────────────┤\n",
              "│ max_pooling2d_3 (<span style=\"color: #0087ff; text-decoration-color: #0087ff\">MaxPooling2D</span>)       │ (<span style=\"color: #00d7ff; text-decoration-color: #00d7ff\">None</span>, <span style=\"color: #00af00; text-decoration-color: #00af00\">14</span>, <span style=\"color: #00af00; text-decoration-color: #00af00\">14</span>, <span style=\"color: #00af00; text-decoration-color: #00af00\">32</span>)          │               <span style=\"color: #00af00; text-decoration-color: #00af00\">0</span> │\n",
              "├──────────────────────────────────────┼─────────────────────────────┼─────────────────┤\n",
              "│ conv2d_8 (<span style=\"color: #0087ff; text-decoration-color: #0087ff\">Conv2D</span>)                    │ (<span style=\"color: #00d7ff; text-decoration-color: #00d7ff\">None</span>, <span style=\"color: #00af00; text-decoration-color: #00af00\">10</span>, <span style=\"color: #00af00; text-decoration-color: #00af00\">10</span>, <span style=\"color: #00af00; text-decoration-color: #00af00\">48</span>)          │          <span style=\"color: #00af00; text-decoration-color: #00af00\">38,448</span> │\n",
              "├──────────────────────────────────────┼─────────────────────────────┼─────────────────┤\n",
              "│ max_pooling2d_4 (<span style=\"color: #0087ff; text-decoration-color: #0087ff\">MaxPooling2D</span>)       │ (<span style=\"color: #00d7ff; text-decoration-color: #00d7ff\">None</span>, <span style=\"color: #00af00; text-decoration-color: #00af00\">5</span>, <span style=\"color: #00af00; text-decoration-color: #00af00\">5</span>, <span style=\"color: #00af00; text-decoration-color: #00af00\">48</span>)            │               <span style=\"color: #00af00; text-decoration-color: #00af00\">0</span> │\n",
              "├──────────────────────────────────────┼─────────────────────────────┼─────────────────┤\n",
              "│ flatten_1 (<span style=\"color: #0087ff; text-decoration-color: #0087ff\">Flatten</span>)                  │ (<span style=\"color: #00d7ff; text-decoration-color: #00d7ff\">None</span>, <span style=\"color: #00af00; text-decoration-color: #00af00\">1200</span>)                │               <span style=\"color: #00af00; text-decoration-color: #00af00\">0</span> │\n",
              "├──────────────────────────────────────┼─────────────────────────────┼─────────────────┤\n",
              "│ dense_7 (<span style=\"color: #0087ff; text-decoration-color: #0087ff\">Dense</span>)                      │ (<span style=\"color: #00d7ff; text-decoration-color: #00d7ff\">None</span>, <span style=\"color: #00af00; text-decoration-color: #00af00\">256</span>)                 │         <span style=\"color: #00af00; text-decoration-color: #00af00\">307,456</span> │\n",
              "├──────────────────────────────────────┼─────────────────────────────┼─────────────────┤\n",
              "│ dense_8 (<span style=\"color: #0087ff; text-decoration-color: #0087ff\">Dense</span>)                      │ (<span style=\"color: #00d7ff; text-decoration-color: #00d7ff\">None</span>, <span style=\"color: #00af00; text-decoration-color: #00af00\">84</span>)                  │          <span style=\"color: #00af00; text-decoration-color: #00af00\">21,588</span> │\n",
              "├──────────────────────────────────────┼─────────────────────────────┼─────────────────┤\n",
              "│ dense_9 (<span style=\"color: #0087ff; text-decoration-color: #0087ff\">Dense</span>)                      │ (<span style=\"color: #00d7ff; text-decoration-color: #00d7ff\">None</span>, <span style=\"color: #00af00; text-decoration-color: #00af00\">10</span>)                  │             <span style=\"color: #00af00; text-decoration-color: #00af00\">850</span> │\n",
              "└──────────────────────────────────────┴─────────────────────────────┴─────────────────┘\n",
              "</pre>\n"
            ]
          },
          "metadata": {}
        },
        {
          "output_type": "display_data",
          "data": {
            "text/plain": [
              "\u001b[1m Total params: \u001b[0m\u001b[38;5;34m369,174\u001b[0m (1.41 MB)\n"
            ],
            "text/html": [
              "<pre style=\"white-space:pre;overflow-x:auto;line-height:normal;font-family:Menlo,'DejaVu Sans Mono',consolas,'Courier New',monospace\"><span style=\"font-weight: bold\"> Total params: </span><span style=\"color: #00af00; text-decoration-color: #00af00\">369,174</span> (1.41 MB)\n",
              "</pre>\n"
            ]
          },
          "metadata": {}
        },
        {
          "output_type": "display_data",
          "data": {
            "text/plain": [
              "\u001b[1m Trainable params: \u001b[0m\u001b[38;5;34m369,174\u001b[0m (1.41 MB)\n"
            ],
            "text/html": [
              "<pre style=\"white-space:pre;overflow-x:auto;line-height:normal;font-family:Menlo,'DejaVu Sans Mono',consolas,'Courier New',monospace\"><span style=\"font-weight: bold\"> Trainable params: </span><span style=\"color: #00af00; text-decoration-color: #00af00\">369,174</span> (1.41 MB)\n",
              "</pre>\n"
            ]
          },
          "metadata": {}
        },
        {
          "output_type": "display_data",
          "data": {
            "text/plain": [
              "\u001b[1m Non-trainable params: \u001b[0m\u001b[38;5;34m0\u001b[0m (0.00 B)\n"
            ],
            "text/html": [
              "<pre style=\"white-space:pre;overflow-x:auto;line-height:normal;font-family:Menlo,'DejaVu Sans Mono',consolas,'Courier New',monospace\"><span style=\"font-weight: bold\"> Non-trainable params: </span><span style=\"color: #00af00; text-decoration-color: #00af00\">0</span> (0.00 B)\n",
              "</pre>\n"
            ]
          },
          "metadata": {}
        }
      ]
    },
    {
      "cell_type": "markdown",
      "source": [
        "**Пояснення:**\n",
        "- layers.Conv2D: згортковий шар, виявляє ознаки за допомогою фільтрів.\n",
        "- layers.MaxPooling2D: шар макс пулінгу, зменшує розмірність даних.\n",
        "- layers.Flatten: шар сплющення, перетворює дані в одновимірний вектор.\n",
        "- layers.Dense: вихідний шар, виконує класифікацію на 10 класів."
      ],
      "metadata": {
        "id": "u9Qf7M92jc-s"
      }
    },
    {
      "cell_type": "code",
      "source": [
        "# Train the model\n",
        "history = model.fit(x_train, y_train, epochs=10, batch_size=512, validation_data=(x_test, y_test))\n",
        "\n",
        "# Evaluate the model\n",
        "loss, accuracy = model.evaluate(x_test, y_test, verbose=0)\n",
        "print('Test loss:', loss)\n",
        "print('Test accuracy:', accuracy)"
      ],
      "metadata": {
        "colab": {
          "base_uri": "https://localhost:8080/"
        },
        "outputId": "d5abef33-f34d-43ba-fda2-01630f0e0058",
        "id": "MUMW0Msijc-t"
      },
      "execution_count": null,
      "outputs": [
        {
          "output_type": "stream",
          "name": "stdout",
          "text": [
            "Epoch 1/10\n",
            "\u001b[1m118/118\u001b[0m \u001b[32m━━━━━━━━━━━━━━━━━━━━\u001b[0m\u001b[37m\u001b[0m \u001b[1m6s\u001b[0m 27ms/step - accuracy: 0.7661 - loss: 0.8094 - val_accuracy: 0.9723 - val_loss: 0.0899\n",
            "Epoch 2/10\n",
            "\u001b[1m118/118\u001b[0m \u001b[32m━━━━━━━━━━━━━━━━━━━━\u001b[0m\u001b[37m\u001b[0m \u001b[1m2s\u001b[0m 12ms/step - accuracy: 0.9718 - loss: 0.0941 - val_accuracy: 0.9752 - val_loss: 0.0749\n",
            "Epoch 3/10\n",
            "\u001b[1m118/118\u001b[0m \u001b[32m━━━━━━━━━━━━━━━━━━━━\u001b[0m\u001b[37m\u001b[0m \u001b[1m1s\u001b[0m 10ms/step - accuracy: 0.9812 - loss: 0.0631 - val_accuracy: 0.9846 - val_loss: 0.0460\n",
            "Epoch 4/10\n",
            "\u001b[1m118/118\u001b[0m \u001b[32m━━━━━━━━━━━━━━━━━━━━\u001b[0m\u001b[37m\u001b[0m \u001b[1m1s\u001b[0m 10ms/step - accuracy: 0.9851 - loss: 0.0473 - val_accuracy: 0.9880 - val_loss: 0.0377\n",
            "Epoch 5/10\n",
            "\u001b[1m118/118\u001b[0m \u001b[32m━━━━━━━━━━━━━━━━━━━━\u001b[0m\u001b[37m\u001b[0m \u001b[1m1s\u001b[0m 10ms/step - accuracy: 0.9883 - loss: 0.0386 - val_accuracy: 0.9897 - val_loss: 0.0331\n",
            "Epoch 6/10\n",
            "\u001b[1m118/118\u001b[0m \u001b[32m━━━━━━━━━━━━━━━━━━━━\u001b[0m\u001b[37m\u001b[0m \u001b[1m1s\u001b[0m 11ms/step - accuracy: 0.9910 - loss: 0.0291 - val_accuracy: 0.9883 - val_loss: 0.0344\n",
            "Epoch 7/10\n",
            "\u001b[1m118/118\u001b[0m \u001b[32m━━━━━━━━━━━━━━━━━━━━\u001b[0m\u001b[37m\u001b[0m \u001b[1m1s\u001b[0m 10ms/step - accuracy: 0.9918 - loss: 0.0267 - val_accuracy: 0.9904 - val_loss: 0.0301\n",
            "Epoch 8/10\n",
            "\u001b[1m118/118\u001b[0m \u001b[32m━━━━━━━━━━━━━━━━━━━━\u001b[0m\u001b[37m\u001b[0m \u001b[1m1s\u001b[0m 10ms/step - accuracy: 0.9930 - loss: 0.0222 - val_accuracy: 0.9878 - val_loss: 0.0347\n",
            "Epoch 9/10\n",
            "\u001b[1m118/118\u001b[0m \u001b[32m━━━━━━━━━━━━━━━━━━━━\u001b[0m\u001b[37m\u001b[0m \u001b[1m1s\u001b[0m 10ms/step - accuracy: 0.9944 - loss: 0.0165 - val_accuracy: 0.9913 - val_loss: 0.0289\n",
            "Epoch 10/10\n",
            "\u001b[1m118/118\u001b[0m \u001b[32m━━━━━━━━━━━━━━━━━━━━\u001b[0m\u001b[37m\u001b[0m \u001b[1m1s\u001b[0m 11ms/step - accuracy: 0.9944 - loss: 0.0163 - val_accuracy: 0.9917 - val_loss: 0.0272\n",
            "Test loss: 0.02717473730444908\n",
            "Test accuracy: 0.9916999936103821\n"
          ]
        }
      ]
    },
    {
      "cell_type": "code",
      "source": [],
      "metadata": {
        "id": "t6MmsrLIYhPn"
      },
      "execution_count": null,
      "outputs": []
    },
    {
      "cell_type": "code",
      "source": [],
      "metadata": {
        "id": "3ke7ERaPYhNf"
      },
      "execution_count": null,
      "outputs": []
    },
    {
      "cell_type": "code",
      "source": [],
      "metadata": {
        "id": "2qWuyBjzYhKd"
      },
      "execution_count": null,
      "outputs": []
    },
    {
      "cell_type": "code",
      "source": [],
      "metadata": {
        "id": "95LmWqIfMC25"
      },
      "execution_count": null,
      "outputs": []
    }
  ]
}