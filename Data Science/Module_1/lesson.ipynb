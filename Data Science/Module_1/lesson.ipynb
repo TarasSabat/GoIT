{
 "cells": [
  {
   "cell_type": "markdown",
   "id": "d4b9f02b",
   "metadata": {},
   "source": [
    "Створення вектора"
   ]
  },
  {
   "cell_type": "code",
   "execution_count": 3,
   "id": "b2018fdc",
   "metadata": {},
   "outputs": [
    {
     "data": {
      "text/plain": [
       "array([1, 2, 3])"
      ]
     },
     "execution_count": 3,
     "metadata": {},
     "output_type": "execute_result"
    }
   ],
   "source": [
    "import numpy as np\n",
    "\n",
    "vector = np.array([1, 2, 3])\n",
    "\n",
    "vector"
   ]
  },
  {
   "cell_type": "code",
   "execution_count": 10,
   "id": "609e2a11",
   "metadata": {},
   "outputs": [
    {
     "data": {
      "text/plain": [
       "(2,)"
      ]
     },
     "execution_count": 10,
     "metadata": {},
     "output_type": "execute_result"
    }
   ],
   "source": [
    "vector.shape"
   ]
  },
  {
   "cell_type": "markdown",
   "id": "232ef262",
   "metadata": {},
   "source": [
    "Додавання/віднімання скаляра (бідь яке число) та вектора"
   ]
  },
  {
   "cell_type": "code",
   "execution_count": 2,
   "id": "bdded706",
   "metadata": {},
   "outputs": [
    {
     "name": "stdout",
     "output_type": "stream",
     "text": [
      "[3 4 5]\n",
      "[0 1 2]\n"
     ]
    }
   ],
   "source": [
    "import numpy as np\n",
    "a = np.array([1, 2, 3])\n",
    "b = np.array([4, 5, 6])\n",
    "print(a+2)\n",
    "print(a-1)"
   ]
  },
  {
   "cell_type": "markdown",
   "id": "25a0b2e6",
   "metadata": {},
   "source": [
    "Додавання та віднімання двох векторів"
   ]
  },
  {
   "cell_type": "code",
   "execution_count": 3,
   "id": "8fc6d195",
   "metadata": {},
   "outputs": [
    {
     "name": "stdout",
     "output_type": "stream",
     "text": [
      "[5 7]\n",
      "[-3 -3]\n"
     ]
    }
   ],
   "source": [
    "import numpy as np\n",
    "a = np.array([1, 2])\n",
    "b = np.array([4, 5])\n",
    "print(a+b)\n",
    "print(a-b)"
   ]
  },
  {
   "cell_type": "markdown",
   "id": "18751553",
   "metadata": {},
   "source": [
    "Скалярний добуток (Dot product) - для отримання інформації стосовно однонаправленості (добток позитивний значить однонаправлені, якщо негативний то різнонаправлені)"
   ]
  },
  {
   "cell_type": "code",
   "execution_count": 9,
   "id": "35abb936",
   "metadata": {},
   "outputs": [
    {
     "name": "stdout",
     "output_type": "stream",
     "text": [
      "[ 4 10 18]\n",
      "32\n",
      "32\n",
      "32\n"
     ]
    }
   ],
   "source": [
    "import numpy as np\n",
    "a = np.array([1, 2, 3])\n",
    "b = np.array([4, 5, 6])\n",
    "print(a * b)  # відбудеться опреація поелементного множення і ми отримаємо новий векто\n",
    "print(np.dot(a,b)) # отримання скалярного добутку\n",
    "print(a.dot(b))    # отримання скалярного добутку\n",
    "print(a @ b)       # отримання скалярного добутку "
   ]
  },
  {
   "cell_type": "markdown",
   "id": "164d9020",
   "metadata": {},
   "source": [
    "Множення вектора на скаляра (звичайне число)"
   ]
  },
  {
   "cell_type": "code",
   "execution_count": 13,
   "id": "88b9ffab",
   "metadata": {},
   "outputs": [
    {
     "name": "stdout",
     "output_type": "stream",
     "text": [
      "[ 5. 10. 15. 20. 25.]\n"
     ]
    }
   ],
   "source": [
    "import numpy as np\n",
    "a = np.array([1, 2, 3, 4, 5], dtype=float)\n",
    "b = a * 5 # 5 це скаляр\n",
    "print(b)"
   ]
  },
  {
   "cell_type": "markdown",
   "id": "5d26818b",
   "metadata": {},
   "source": [
    "Створення матриці"
   ]
  },
  {
   "cell_type": "code",
   "execution_count": 10,
   "id": "d5f72585",
   "metadata": {},
   "outputs": [
    {
     "name": "stdout",
     "output_type": "stream",
     "text": [
      "[[1 2 3]\n",
      " [4 5 6]]\n"
     ]
    }
   ],
   "source": [
    "import numpy as np\n",
    "\n",
    "m = np.array([\n",
    "    [1, 2, 3], \n",
    "    [4, 5, 6]\n",
    "])\n",
    "\n",
    "print(m)"
   ]
  },
  {
   "cell_type": "code",
   "execution_count": 11,
   "id": "7302c775",
   "metadata": {},
   "outputs": [
    {
     "data": {
      "text/plain": [
       "(2, 3)"
      ]
     },
     "execution_count": 11,
     "metadata": {},
     "output_type": "execute_result"
    }
   ],
   "source": [
    "m.shape # розмірність матриці (2 рядки, 3 стовпці)"
   ]
  },
  {
   "cell_type": "markdown",
   "id": "3c5ea240",
   "metadata": {},
   "source": [
    "Множення матриць"
   ]
  },
  {
   "cell_type": "code",
   "execution_count": 17,
   "id": "42f7446f",
   "metadata": {},
   "outputs": [
    {
     "name": "stdout",
     "output_type": "stream",
     "text": [
      "[[-2 10]\n",
      " [-2  4]]\n"
     ]
    }
   ],
   "source": [
    "import numpy as np\n",
    "\n",
    "a = np.array([[1, 2, 3], \n",
    "              [0, 1, 2]])\n",
    "\n",
    "b = np.array([[1, 2],\n",
    "              [0, 4],\n",
    "              [-1, 0]])\n",
    "\n",
    "c = np.dot(a, b) # множення матриць\n",
    "c = a.dot(b)     # множення матриць\n",
    "c = a @ b        # множення матриць\n",
    "\n",
    "print(c)"
   ]
  },
  {
   "cell_type": "markdown",
   "id": "e1bf2667",
   "metadata": {},
   "source": [
    "Транспонування матриці (обертання, зміна зі стовпців по колонках, діагональ незмінна)"
   ]
  },
  {
   "cell_type": "code",
   "execution_count": 19,
   "id": "7a17390c",
   "metadata": {},
   "outputs": [
    {
     "name": "stdout",
     "output_type": "stream",
     "text": [
      "[[1 2 3]\n",
      " [4 5 6]\n",
      " [7 8 9]]\n",
      "\n",
      "[[1 4 7]\n",
      " [2 5 8]\n",
      " [3 6 9]]\n"
     ]
    }
   ],
   "source": [
    "import numpy as np\n",
    "\n",
    "a = np.array([[1, 2, 3], \n",
    "              [4, 5, 6],\n",
    "              [7, 8, 9]])\n",
    "\n",
    "print(a)\n",
    "b = a.T\n",
    "print()\n",
    "print(b)"
   ]
  },
  {
   "cell_type": "code",
   "execution_count": 25,
   "id": "1eb0f8f0",
   "metadata": {},
   "outputs": [
    {
     "name": "stdout",
     "output_type": "stream",
     "text": [
      "[[1 2]\n",
      " [3 4]\n",
      " [5 6]] (3, 2)\n",
      "----------\n",
      "[[1 2 3 4 5 6]] (1, 6)\n",
      "----------\n",
      "[[1]\n",
      " [2]\n",
      " [3]\n",
      " [4]\n",
      " [5]\n",
      " [6]] (6, 1)\n"
     ]
    }
   ],
   "source": [
    "import numpy as np\n",
    "\n",
    "a = np.array([\n",
    "    [1, 2, 3], \n",
    "    [4, 5, 6]])\n",
    "\n",
    "b = a.reshape(3, 2) # зміна на 3 рядки і дві колонки\n",
    "c = a.reshape(1, -1) # виведення в один рядок\n",
    "d = a.reshape(-1, 1) # виведення в один стовпець\n",
    "\n",
    "print(b, b.shape)\n",
    "print(\"----------\")\n",
    "print(c, c.shape)\n",
    "print(\"----------\")\n",
    "print(d, d.shape)"
   ]
  },
  {
   "cell_type": "code",
   "execution_count": 26,
   "id": "57542334",
   "metadata": {},
   "outputs": [
    {
     "name": "stdout",
     "output_type": "stream",
     "text": [
      "[1 2 3 4 5 6]\n"
     ]
    }
   ],
   "source": [
    "import numpy as np\n",
    "\n",
    "a = np.array([[1, 2, 3], [4, 5, 6]])\n",
    "b = a.flatten() # переводить матрицю у векторний вигляд\n",
    "\n",
    "print(b)"
   ]
  },
  {
   "cell_type": "markdown",
   "id": "ad669684",
   "metadata": {},
   "source": [
    "Одинична матриця (квадратна матриця на головній діагоналі стоять 1)"
   ]
  },
  {
   "cell_type": "code",
   "execution_count": 33,
   "id": "01e64adb",
   "metadata": {},
   "outputs": [
    {
     "name": "stdout",
     "output_type": "stream",
     "text": [
      "[[0. 0. 0. 0.]\n",
      " [1. 0. 0. 0.]\n",
      " [0. 1. 0. 0.]\n",
      " [0. 0. 1. 0.]]\n"
     ]
    }
   ],
   "source": [
    "import numpy as np\n",
    "\n",
    "a = np.eye(4, k=-1, dtype=float)\n",
    "print(a)"
   ]
  },
  {
   "cell_type": "markdown",
   "id": "d75d27fc",
   "metadata": {},
   "source": [
    "Обернена матриця"
   ]
  },
  {
   "cell_type": "code",
   "execution_count": 36,
   "id": "6d214849",
   "metadata": {},
   "outputs": [
    {
     "name": "stdout",
     "output_type": "stream",
     "text": [
      "[[ 0.64 -0.84 -0.12]\n",
      " [-0.4   0.4   0.2 ]\n",
      " [ 0.12  0.28  0.04]]\n"
     ]
    }
   ],
   "source": [
    "import numpy as np\n",
    "\n",
    "a = np.array([[ 1, 0, 3],\n",
    "              [-1,-1, 2],\n",
    "              [ 4, 7, 2]])\n",
    "\n",
    "a_inv = np.linalg.inv(a)\n",
    "print(a_inv)\n"
   ]
  },
  {
   "cell_type": "code",
   "execution_count": 39,
   "id": "7a349e2e",
   "metadata": {},
   "outputs": [
    {
     "data": {
      "text/plain": [
       "array([[ 1.00000000e+00,  3.33066907e-16, -3.88578059e-16],\n",
       "       [-1.11022302e-16,  1.00000000e+00,  5.55111512e-17],\n",
       "       [-2.77555756e-17,  0.00000000e+00,  1.00000000e+00]])"
      ]
     },
     "execution_count": 39,
     "metadata": {},
     "output_type": "execute_result"
    }
   ],
   "source": [
    "a_inv @ a"
   ]
  },
  {
   "cell_type": "markdown",
   "id": "b0935b66",
   "metadata": {},
   "source": [
    "Інші можливості в NumPy"
   ]
  },
  {
   "cell_type": "code",
   "execution_count": 55,
   "id": "7a5d3ae8",
   "metadata": {},
   "outputs": [],
   "source": [
    "import numpy as np\n",
    "\n",
    "a = np.array([[ 1, 0, 3],\n",
    "              [-1,-1, 2],\n",
    "              [ 4, 7, 2] \n",
    "            ])"
   ]
  },
  {
   "cell_type": "code",
   "execution_count": 52,
   "metadata": {},
   "outputs": [
    {
     "data": {
      "text/plain": [
       "(6, 3)"
      ]
     },
     "execution_count": 52,
     "metadata": {},
     "output_type": "execute_result"
    }
   ],
   "source": [
    "a.shape # розмір масиву (кількість рядків та стовпців)"
   ]
  },
  {
   "cell_type": "code",
   "execution_count": 53,
   "id": "ed7c51c9",
   "metadata": {},
   "outputs": [
    {
     "data": {
      "text/plain": [
       "2"
      ]
     },
     "execution_count": 53,
     "metadata": {},
     "output_type": "execute_result"
    }
   ],
   "source": [
    "a.ndim # кількість осей (вимірностей) ndim == len(shape)"
   ]
  },
  {
   "cell_type": "code",
   "execution_count": 56,
   "id": "c8bad0c7",
   "metadata": {},
   "outputs": [
    {
     "data": {
      "text/plain": [
       "9"
      ]
     },
     "execution_count": 56,
     "metadata": {},
     "output_type": "execute_result"
    }
   ],
   "source": [
    "a.size # кількість елементів у масиві"
   ]
  },
  {
   "cell_type": "code",
   "execution_count": 57,
   "id": "515eef65",
   "metadata": {},
   "outputs": [
    {
     "data": {
      "text/plain": [
       "dtype('int64')"
      ]
     },
     "execution_count": 57,
     "metadata": {},
     "output_type": "execute_result"
    }
   ],
   "source": [
    "a.dtype # тип елементів у масиві"
   ]
  },
  {
   "cell_type": "code",
   "execution_count": 58,
   "id": "b13749e2",
   "metadata": {},
   "outputs": [
    {
     "data": {
      "text/plain": [
       "8"
      ]
     },
     "execution_count": 58,
     "metadata": {},
     "output_type": "execute_result"
    }
   ],
   "source": [
    "a.itemsize # розмір елемента у байтах"
   ]
  },
  {
   "cell_type": "markdown",
   "id": "7de9cfcd",
   "metadata": {},
   "source": [
    "Створення масивів (матриці чи вектра) з одиницями"
   ]
  },
  {
   "cell_type": "code",
   "execution_count": 59,
   "id": "5827532b",
   "metadata": {},
   "outputs": [
    {
     "name": "stdout",
     "output_type": "stream",
     "text": [
      "[1. 1. 1. 1. 1.]\n",
      "[[1 1 1]\n",
      " [1 1 1]]\n"
     ]
    }
   ],
   "source": [
    "import numpy as np\n",
    "\n",
    "a = np.ones(5, dtype=float)\n",
    "print(a)\n",
    "\n",
    "m = np.ones((2, 3), dtype=int)\n",
    "print(m)"
   ]
  },
  {
   "cell_type": "markdown",
   "id": "914279f2",
   "metadata": {},
   "source": [
    "Створення масивів (матриці чи вектра) з нулями"
   ]
  },
  {
   "cell_type": "code",
   "execution_count": 60,
   "id": "da49506b",
   "metadata": {},
   "outputs": [
    {
     "name": "stdout",
     "output_type": "stream",
     "text": [
      "[0. 0. 0. 0. 0.]\n",
      "[[0 0 0]\n",
      " [0 0 0]]\n"
     ]
    }
   ],
   "source": [
    "import numpy as np\n",
    "\n",
    "a = np.zeros(5, dtype=float)\n",
    "print(a)\n",
    "\n",
    "m = np.zeros((2, 3), dtype=int)\n",
    "print(m)"
   ]
  },
  {
   "cell_type": "markdown",
   "id": "ef78e624",
   "metadata": {},
   "source": [
    "Створення масивів (матриці чи вектра) яка буде послідовністю чисел "
   ]
  },
  {
   "cell_type": "code",
   "execution_count": 1,
   "id": "a697476a",
   "metadata": {},
   "outputs": [
    {
     "name": "stdout",
     "output_type": "stream",
     "text": [
      "[0 1 2 3 4]\n",
      "[1.  1.5 2.  2.5]\n"
     ]
    }
   ],
   "source": [
    "import numpy as np\n",
    "\n",
    "a = np.arange(5)\n",
    "b = np.arange(1, 3, 0.5)\n",
    "print(a)\n",
    "print(b)"
   ]
  },
  {
   "cell_type": "markdown",
   "id": "a4c2b3a9",
   "metadata": {},
   "source": [
    "Як і в range, масиви, згенеровані в цих прикладах, не включають останні елементи 5 та 3\n",
    "Щоб включити останній елемент визначеної послідовності, можна використовувати метод np.linspace"
   ]
  },
  {
   "cell_type": "code",
   "execution_count": 3,
   "id": "907e4f3f",
   "metadata": {},
   "outputs": [
    {
     "name": "stdout",
     "output_type": "stream",
     "text": [
      "[1.         1.44444444 1.88888889 2.33333333 2.77777778 3.22222222\n",
      " 3.66666667 4.11111111 4.55555556 5.        ]\n",
      "[1. 2. 3.]\n"
     ]
    }
   ],
   "source": [
    "import numpy as np\n",
    "\n",
    "a = np.linspace(1, 5, num=5)\n",
    "b = np.linspace(1, 3, num=3)\n",
    "print(a)\n",
    "print(b)"
   ]
  },
  {
   "cell_type": "markdown",
   "id": "f933765b",
   "metadata": {},
   "source": [
    "Створення масивів з рандомними даними"
   ]
  },
  {
   "cell_type": "code",
   "execution_count": 4,
   "id": "db4d0135",
   "metadata": {},
   "outputs": [
    {
     "name": "stdout",
     "output_type": "stream",
     "text": [
      "[0.66324583 0.2180014  0.97960528]\n",
      "[[0.89824069 0.2043591  0.40844533]\n",
      " [0.23476501 0.24802955 0.23600204]\n",
      " [0.30739438 0.37754201 0.04574258]]\n"
     ]
    }
   ],
   "source": [
    "import numpy as np\n",
    "\n",
    "a = np.random.random(3)\n",
    "b = np.random.random((3, 3))\n",
    "print(a)\n",
    "print(b)"
   ]
  },
  {
   "cell_type": "markdown",
   "id": "7359ee23",
   "metadata": {},
   "source": [
    "Індексація"
   ]
  },
  {
   "cell_type": "code",
   "execution_count": 5,
   "id": "3f52766f",
   "metadata": {},
   "outputs": [
    {
     "name": "stdout",
     "output_type": "stream",
     "text": [
      "1\n",
      "[2 3 4 5]\n",
      "[1 2]\n"
     ]
    }
   ],
   "source": [
    "import numpy as np\n",
    "\n",
    "a = np.array([1, 2, 3, 4, 5])\n",
    "print(a[0])\n",
    "print(a[1:])\n",
    "print(a[:2])"
   ]
  },
  {
   "cell_type": "code",
   "execution_count": 6,
   "id": "12394dc6",
   "metadata": {},
   "outputs": [
    {
     "name": "stdout",
     "output_type": "stream",
     "text": [
      "5\n",
      "[5 8]\n",
      "[1 2]\n"
     ]
    }
   ],
   "source": [
    "import numpy as np\n",
    "\n",
    "a = np.array([[1, 2, 3], [4, 5, 6], [7, 8, 9]])\n",
    "print(a[1, 1])\n",
    "print(a[1:, 1])\n",
    "print(a[0, :2])"
   ]
  },
  {
   "cell_type": "markdown",
   "id": "b36662ad",
   "metadata": {},
   "source": [
    "Основні типи даних (dtype) NumPy"
   ]
  },
  {
   "cell_type": "code",
   "execution_count": 7,
   "id": "8655f29d",
   "metadata": {},
   "outputs": [
    {
     "name": "stdout",
     "output_type": "stream",
     "text": [
      "[[0 0 0]\n",
      " [0 0 0]\n",
      " [0 0 0]]\n"
     ]
    }
   ],
   "source": [
    "b = np.zeros((3, 3), dtype=\"u4\")\n",
    "print(b)"
   ]
  },
  {
   "cell_type": "code",
   "execution_count": 8,
   "id": "05d2988c",
   "metadata": {},
   "outputs": [
    {
     "name": "stdout",
     "output_type": "stream",
     "text": [
      "['∑' '∏']\n"
     ]
    }
   ],
   "source": [
    "import numpy as np\n",
    "\n",
    "a = np.array([u\"\\u2211\", u\"\\u220F\"], dtype=\"U\")\n",
    "print(a)  # ['∑' '∏']"
   ]
  },
  {
   "cell_type": "markdown",
   "id": "7a7bf2fb",
   "metadata": {},
   "source": [
    "Агрегування в NumPy"
   ]
  },
  {
   "cell_type": "code",
   "execution_count": null,
   "id": "701e9d69",
   "metadata": {},
   "outputs": [],
   "source": [
    "import numpy as np\n",
    "\n",
    "a = np.array([1, 2, 3, 4, 5])\n",
    "print(a.min())  # min — мінімальне значення\n",
    "print(a.max())  # max — максимальне значення\n",
    "print(a.sum())  # sum — сума всіх елементів\n",
    "print(a.mean()) # mean — середнє арифметичне\n",
    "print(a.prod()) # prod — перемножити всі елементи"
   ]
  },
  {
   "cell_type": "code",
   "execution_count": null,
   "id": "99b6199f",
   "metadata": {},
   "outputs": [],
   "source": [
    "import numpy as np\n",
    "\n",
    "a = np.array([[1, 2, 3], [4, 5, 6], [7, 8, 9]])\n",
    "print(a.min())  # min — мінімальне значення\n",
    "print(a.max())  # max — максимальне значення\n",
    "print(a.sum())  # sum — сума всіх елементів\n",
    "print(a.mean()) # mean — середнє арифметичне\n",
    "print(a.prod()) # prod — перемножити всі елементи"
   ]
  }
 ],
 "metadata": {
  "kernelspec": {
   "display_name": "Python 3",
   "language": "python",
   "name": "python3"
  },
  "language_info": {
   "codemirror_mode": {
    "name": "ipython",
    "version": 3
   },
   "file_extension": ".py",
   "mimetype": "text/x-python",
   "name": "python",
   "nbconvert_exporter": "python",
   "pygments_lexer": "ipython3",
   "version": "3.11.4"
  }
 },
 "nbformat": 4,
 "nbformat_minor": 5
}
