{
 "cells": [
  {
   "cell_type": "markdown",
   "id": "d4b9f02b",
   "metadata": {},
   "source": [
    "Створення вектора"
   ]
  },
  {
   "cell_type": "code",
   "execution_count": 3,
   "id": "b2018fdc",
   "metadata": {},
   "outputs": [
    {
     "data": {
      "text/plain": [
       "array([1, 2, 3])"
      ]
     },
     "execution_count": 3,
     "metadata": {},
     "output_type": "execute_result"
    }
   ],
   "source": [
    "import numpy as np\n",
    "\n",
    "vector = np.array([1, 2, 3])\n",
    "\n",
    "vector"
   ]
  },
  {
   "cell_type": "code",
   "execution_count": 10,
   "id": "609e2a11",
   "metadata": {},
   "outputs": [
    {
     "data": {
      "text/plain": [
       "(2,)"
      ]
     },
     "execution_count": 10,
     "metadata": {},
     "output_type": "execute_result"
    }
   ],
   "source": [
    "vector.shape"
   ]
  },
  {
   "cell_type": "markdown",
   "id": "232ef262",
   "metadata": {},
   "source": [
    "Додавання/віднімання скаляра (бідь яке число) та вектора"
   ]
  },
  {
   "cell_type": "code",
   "execution_count": 2,
   "id": "bdded706",
   "metadata": {},
   "outputs": [
    {
     "name": "stdout",
     "output_type": "stream",
     "text": [
      "[3 4 5]\n",
      "[0 1 2]\n"
     ]
    }
   ],
   "source": [
    "import numpy as np\n",
    "a = np.array([1, 2, 3])\n",
    "b = np.array([4, 5, 6])\n",
    "print(a+2)\n",
    "print(a-1)"
   ]
  },
  {
   "cell_type": "markdown",
   "id": "25a0b2e6",
   "metadata": {},
   "source": [
    "Додавання та віднімання двох векторів"
   ]
  },
  {
   "cell_type": "code",
   "execution_count": 3,
   "id": "8fc6d195",
   "metadata": {},
   "outputs": [
    {
     "name": "stdout",
     "output_type": "stream",
     "text": [
      "[5 7]\n",
      "[-3 -3]\n"
     ]
    }
   ],
   "source": [
    "import numpy as np\n",
    "a = np.array([1, 2])\n",
    "b = np.array([4, 5])\n",
    "print(a+b)\n",
    "print(a-b)"
   ]
  },
  {
   "cell_type": "markdown",
   "id": "18751553",
   "metadata": {},
   "source": [
    "Скалярний добуток (Dot product) - для отримання інформації стосовно однонаправленості (добток позитивний значить однонаправлені, якщо негативний то різнонаправлені)"
   ]
  },
  {
   "cell_type": "code",
   "execution_count": 9,
   "id": "35abb936",
   "metadata": {},
   "outputs": [
    {
     "name": "stdout",
     "output_type": "stream",
     "text": [
      "[ 4 10 18]\n",
      "32\n",
      "32\n",
      "32\n"
     ]
    }
   ],
   "source": [
    "import numpy as np\n",
    "a = np.array([1, 2, 3])\n",
    "b = np.array([4, 5, 6])\n",
    "print(a * b)  # відбудеться опреація поелементного множення і ми отримаємо новий векто\n",
    "print(np.dot(a,b)) # отримання скалярного добутку\n",
    "print(a.dot(b))    # отримання скалярного добутку\n",
    "print(a @ b)       # отримання скалярного добутку "
   ]
  },
  {
   "cell_type": "markdown",
   "id": "164d9020",
   "metadata": {},
   "source": [
    "Множення вектора на скаляра (звичайне число)"
   ]
  },
  {
   "cell_type": "code",
   "execution_count": 13,
   "id": "88b9ffab",
   "metadata": {},
   "outputs": [
    {
     "name": "stdout",
     "output_type": "stream",
     "text": [
      "[ 5. 10. 15. 20. 25.]\n"
     ]
    }
   ],
   "source": [
    "import numpy as np\n",
    "a = np.array([1, 2, 3, 4, 5], dtype=float)\n",
    "b = a * 5 # 5 це скаляр\n",
    "print(b)"
   ]
  },
  {
   "cell_type": "markdown",
   "id": "5d26818b",
   "metadata": {},
   "source": [
    "Створення матриці"
   ]
  },
  {
   "cell_type": "code",
   "execution_count": 10,
   "id": "d5f72585",
   "metadata": {},
   "outputs": [
    {
     "name": "stdout",
     "output_type": "stream",
     "text": [
      "[[1 2 3]\n",
      " [4 5 6]]\n"
     ]
    }
   ],
   "source": [
    "import numpy as np\n",
    "\n",
    "m = np.array([\n",
    "    [1, 2, 3], \n",
    "    [4, 5, 6]\n",
    "])\n",
    "\n",
    "print(m)"
   ]
  },
  {
   "cell_type": "code",
   "execution_count": 11,
   "id": "7302c775",
   "metadata": {},
   "outputs": [
    {
     "data": {
      "text/plain": [
       "(2, 3)"
      ]
     },
     "execution_count": 11,
     "metadata": {},
     "output_type": "execute_result"
    }
   ],
   "source": [
    "m.shape # розмірність матриці (2 рядки, 3 стовпці)"
   ]
  },
  {
   "cell_type": "markdown",
   "id": "3c5ea240",
   "metadata": {},
   "source": [
    "Множення матриць"
   ]
  },
  {
   "cell_type": "code",
   "execution_count": 17,
   "id": "42f7446f",
   "metadata": {},
   "outputs": [
    {
     "name": "stdout",
     "output_type": "stream",
     "text": [
      "[[-2 10]\n",
      " [-2  4]]\n"
     ]
    }
   ],
   "source": [
    "import numpy as np\n",
    "\n",
    "a = np.array([[1, 2, 3], \n",
    "              [0, 1, 2]])\n",
    "\n",
    "b = np.array([[1, 2],\n",
    "              [0, 4],\n",
    "              [-1, 0]])\n",
    "\n",
    "c = np.dot(a, b) # множення матриць\n",
    "c = a.dot(b)     # множення матриць\n",
    "c = a @ b        # множення матриць\n",
    "\n",
    "print(c)"
   ]
  },
  {
   "cell_type": "markdown",
   "id": "e1bf2667",
   "metadata": {},
   "source": [
    "Транспонування матриці (обертання, зміна зі стовпців по колонках, діагональ незмінна)"
   ]
  },
  {
   "cell_type": "code",
   "execution_count": 19,
   "id": "7a17390c",
   "metadata": {},
   "outputs": [
    {
     "name": "stdout",
     "output_type": "stream",
     "text": [
      "[[1 2 3]\n",
      " [4 5 6]\n",
      " [7 8 9]]\n",
      "\n",
      "[[1 4 7]\n",
      " [2 5 8]\n",
      " [3 6 9]]\n"
     ]
    }
   ],
   "source": [
    "import numpy as np\n",
    "\n",
    "a = np.array([[1, 2, 3], \n",
    "              [4, 5, 6],\n",
    "              [7, 8, 9]])\n",
    "\n",
    "print(a)\n",
    "b = a.T\n",
    "print()\n",
    "print(b)"
   ]
  },
  {
   "cell_type": "code",
   "execution_count": 25,
   "id": "1eb0f8f0",
   "metadata": {},
   "outputs": [
    {
     "name": "stdout",
     "output_type": "stream",
     "text": [
      "[[1 2]\n",
      " [3 4]\n",
      " [5 6]] (3, 2)\n",
      "----------\n",
      "[[1 2 3 4 5 6]] (1, 6)\n",
      "----------\n",
      "[[1]\n",
      " [2]\n",
      " [3]\n",
      " [4]\n",
      " [5]\n",
      " [6]] (6, 1)\n"
     ]
    }
   ],
   "source": [
    "import numpy as np\n",
    "\n",
    "a = np.array([\n",
    "    [1, 2, 3], \n",
    "    [4, 5, 6]])\n",
    "\n",
    "b = a.reshape(3, 2) # зміна на 3 рядки і дві колонки\n",
    "c = a.reshape(1, -1) # виведення в один рядок\n",
    "d = a.reshape(-1, 1) # виведення в один стовпець\n",
    "\n",
    "print(b, b.shape)\n",
    "print(\"----------\")\n",
    "print(c, c.shape)\n",
    "print(\"----------\")\n",
    "print(d, d.shape)"
   ]
  },
  {
   "cell_type": "code",
   "execution_count": 26,
   "id": "57542334",
   "metadata": {},
   "outputs": [
    {
     "name": "stdout",
     "output_type": "stream",
     "text": [
      "[1 2 3 4 5 6]\n"
     ]
    }
   ],
   "source": [
    "import numpy as np\n",
    "\n",
    "a = np.array([[1, 2, 3], [4, 5, 6]])\n",
    "b = a.flatten() # переводить матрицю у векторний вигляд\n",
    "\n",
    "print(b)"
   ]
  },
  {
   "cell_type": "markdown",
   "id": "ad669684",
   "metadata": {},
   "source": [
    "Одинична матриця (квадратна матриця на головній діагоналі стоять 1)"
   ]
  },
  {
   "cell_type": "code",
   "execution_count": 33,
   "id": "01e64adb",
   "metadata": {},
   "outputs": [
    {
     "name": "stdout",
     "output_type": "stream",
     "text": [
      "[[0. 0. 0. 0.]\n",
      " [1. 0. 0. 0.]\n",
      " [0. 1. 0. 0.]\n",
      " [0. 0. 1. 0.]]\n"
     ]
    }
   ],
   "source": [
    "import numpy as np\n",
    "\n",
    "a = np.eye(4, k=-1, dtype=float)\n",
    "print(a)"
   ]
  },
  {
   "cell_type": "markdown",
   "id": "d75d27fc",
   "metadata": {},
   "source": [
    "Обернена матриця"
   ]
  },
  {
   "cell_type": "code",
   "execution_count": 36,
   "id": "6d214849",
   "metadata": {},
   "outputs": [
    {
     "name": "stdout",
     "output_type": "stream",
     "text": [
      "[[ 0.64 -0.84 -0.12]\n",
      " [-0.4   0.4   0.2 ]\n",
      " [ 0.12  0.28  0.04]]\n"
     ]
    }
   ],
   "source": [
    "import numpy as np\n",
    "\n",
    "a = np.array([[ 1, 0, 3],\n",
    "              [-1,-1, 2],\n",
    "              [ 4, 7, 2]])\n",
    "\n",
    "a_inv = np.linalg.inv(a)\n",
    "print(a_inv)\n"
   ]
  },
  {
   "cell_type": "code",
   "execution_count": 39,
   "id": "7a349e2e",
   "metadata": {},
   "outputs": [
    {
     "data": {
      "text/plain": [
       "array([[ 1.00000000e+00,  3.33066907e-16, -3.88578059e-16],\n",
       "       [-1.11022302e-16,  1.00000000e+00,  5.55111512e-17],\n",
       "       [-2.77555756e-17,  0.00000000e+00,  1.00000000e+00]])"
      ]
     },
     "execution_count": 39,
     "metadata": {},
     "output_type": "execute_result"
    }
   ],
   "source": [
    "a_inv @ a"
   ]
  }
 ],
 "metadata": {
  "kernelspec": {
   "display_name": "Python 3",
   "language": "python",
   "name": "python3"
  },
  "language_info": {
   "codemirror_mode": {
    "name": "ipython",
    "version": 3
   },
   "file_extension": ".py",
   "mimetype": "text/x-python",
   "name": "python",
   "nbconvert_exporter": "python",
   "pygments_lexer": "ipython3",
   "version": "3.11.4"
  }
 },
 "nbformat": 4,
 "nbformat_minor": 5
}
