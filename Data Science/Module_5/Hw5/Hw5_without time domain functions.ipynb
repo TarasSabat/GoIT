{
 "cells": [
  {
   "cell_type": "code",
   "execution_count": 4,
   "metadata": {},
   "outputs": [],
   "source": [
    "# Імпорт необхідних бібліотек\n",
    "import pandas as pd\n",
    "import numpy as np\n",
    "import os\n",
    "from scipy.stats import entropy, iqr, skew\n",
    "from scipy.fft import fft\n",
    "from sklearn.model_selection import train_test_split\n",
    "from sklearn.svm import SVC\n",
    "from sklearn.ensemble import RandomForestClassifier\n",
    "from sklearn.metrics import classification_report"
   ]
  },
  {
   "cell_type": "code",
   "execution_count": 5,
   "metadata": {},
   "outputs": [],
   "source": [
    "# Завантаження та попереднє опрацювання даних\n",
    "data_path = 'data/'\n",
    "folders = ['idle', 'running', 'stairs', 'walking']\n",
    "\n",
    "# Ініціалізація порожнього DataFrame\n",
    "data = pd.DataFrame()\n",
    "\n",
    "# Перегляд кожної папки та завантаження файлів CSV\n",
    "for folder in folders:\n",
    "    folder_path = os.path.join(data_path, folder)\n",
    "    for file in os.listdir(folder_path):\n",
    "        if file.endswith('.csv'):\n",
    "            file_path = os.path.join(folder_path, file)\n",
    "            df = pd.read_csv(file_path)\n",
    "            df['label'] = folder  # Додавання міток для діяльності\n",
    "            data = pd.concat([data, df], ignore_index=True)\n",
    "\n",
    "\n",
    "# Початкове виділення ознак (дані акселерометра x, y, z)\n",
    "features = ['accelerometer_X','accelerometer_Y','accelerometer_Z']\n",
    "X = data[features]\n",
    "y = data['label']"
   ]
  },
  {
   "cell_type": "code",
   "execution_count": 6,
   "metadata": {},
   "outputs": [
    {
     "name": "stdout",
     "output_type": "stream",
     "text": [
      "SVM without time domain features:\n",
      "              precision    recall  f1-score   support\n",
      "\n",
      "        idle       0.95      0.99      0.97      6203\n",
      "     running       0.93      0.90      0.92     20485\n",
      "      stairs       1.00      0.00      0.00      1022\n",
      "     walking       0.80      0.90      0.85     11062\n",
      "\n",
      "    accuracy                           0.89     38772\n",
      "   macro avg       0.92      0.70      0.68     38772\n",
      "weighted avg       0.90      0.89      0.88     38772\n",
      "\n",
      "Random Forest without time domain features:\n",
      "              precision    recall  f1-score   support\n",
      "\n",
      "        idle       1.00      1.00      1.00      6203\n",
      "     running       1.00      1.00      1.00     20485\n",
      "      stairs       1.00      0.99      0.99      1022\n",
      "     walking       1.00      1.00      1.00     11062\n",
      "\n",
      "    accuracy                           1.00     38772\n",
      "   macro avg       1.00      1.00      1.00     38772\n",
      "weighted avg       1.00      1.00      1.00     38772\n",
      "\n"
     ]
    }
   ],
   "source": [
    "# Навчання моделі без функцій часової області\n",
    "X_train, X_test, y_train, y_test = train_test_split(X, y, test_size=0.2, random_state=42)\n",
    "\n",
    "# Навчання SVM\n",
    "svm_model = SVC()\n",
    "svm_model.fit(X_train, y_train)\n",
    "svm_predictions = svm_model.predict(X_test)\n",
    "\n",
    "# Навчання випадкового лісу\n",
    "rf_model = RandomForestClassifier()\n",
    "rf_model.fit(X_train, y_train)\n",
    "rf_predictions = rf_model.predict(X_test)\n",
    "\n",
    "# Оцінка моделей\n",
    "print(\"SVM without time domain features:\")\n",
    "print(classification_report(y_test, svm_predictions))\n",
    "print(\"Random Forest without time domain features:\")\n",
    "print(classification_report(y_test, rf_predictions))"
   ]
  }
 ],
 "metadata": {
  "kernelspec": {
   "display_name": "venv",
   "language": "python",
   "name": "python3"
  },
  "language_info": {
   "codemirror_mode": {
    "name": "ipython",
    "version": 3
   },
   "file_extension": ".py",
   "mimetype": "text/x-python",
   "name": "python",
   "nbconvert_exporter": "python",
   "pygments_lexer": "ipython3",
   "version": "3.11.4"
  }
 },
 "nbformat": 4,
 "nbformat_minor": 2
}
